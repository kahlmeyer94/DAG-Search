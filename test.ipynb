{
 "cells": [
  {
   "cell_type": "markdown",
   "id": "97b91456",
   "metadata": {},
   "source": [
    "# Testing DAG search"
   ]
  },
  {
   "cell_type": "code",
   "execution_count": 2,
   "id": "0bbfef62",
   "metadata": {},
   "outputs": [],
   "source": [
    "import numpy as np\n",
    "import matplotlib.pyplot as plt\n",
    "from tqdm.notebook import tqdm\n",
    "import os\n",
    "import sympy\n",
    "import pickle\n",
    "\n",
    "\n",
    "from DAG_search import utils\n",
    "from DAG_search import config\n",
    "from DAG_search import dag_search\n",
    "from DAG_search import comp_graph"
   ]
  },
  {
   "cell_type": "code",
   "execution_count": 397,
   "id": "68f44dcd",
   "metadata": {},
   "outputs": [
    {
     "data": {
      "text/plain": [
       "<module 'DAG_search.utils' from 'C:\\\\Users\\\\Paul Kahlmeyer\\\\OneDrive\\\\PhD\\\\DAG_search\\\\DAG_search\\\\utils.py'>"
      ]
     },
     "execution_count": 397,
     "metadata": {},
     "output_type": "execute_result"
    }
   ],
   "source": [
    "import importlib\n",
    "importlib.reload(config)\n",
    "importlib.reload(dag_search)\n",
    "importlib.reload(comp_graph)\n",
    "importlib.reload(utils)"
   ]
  },
  {
   "cell_type": "markdown",
   "id": "1fbe710b",
   "metadata": {},
   "source": [
    "## Experiment: Symbolic Distance vs. Numeric Distance"
   ]
  },
  {
   "cell_type": "code",
   "execution_count": 405,
   "id": "42008969",
   "metadata": {
    "scrolled": true
   },
   "outputs": [
    {
     "data": {
      "image/png": "[encoded data removed]",
      "text/plain": [
       "<Figure size 432x288 with 2 Axes>"
      ]
     },
     "metadata": {
      "needs_background": "light"
     },
     "output_type": "display_data"
    }
   ],
   "source": [
    "corr_matrix = np.load('results/corr_matrix.npy')\n",
    "with open(f'results/distance_dict.p', 'rb') as handle:\n",
    "    dist_dict = pickle.load(handle)\n",
    "methods = list(dist_dict.keys())\n",
    "\n",
    "\n",
    "plt.imshow(np.abs(corr_matrix), vmin = 0, vmax = 1, cmap = 'gray')\n",
    "plt.colorbar()\n",
    "plt.xticks(range(corr_matrix.shape[0]), methods, rotation = 90)\n",
    "plt.yticks(range(corr_matrix.shape[0]), methods)\n",
    "plt.title('absolute correlation')\n",
    "plt.show()"
   ]
  },
  {
   "cell_type": "markdown",
   "id": "60e40dc5",
   "metadata": {},
   "source": [
    "## Experiment: Recovery"
   ]
  },
  {
   "cell_type": "code",
   "execution_count": 362,
   "id": "3b2cd6a4",
   "metadata": {},
   "outputs": [],
   "source": [
    "import pickle\n",
    "ds_name = 'Feynman' # Strogatz, Feynman, Nguyen\n",
    "mode = 'exhaustive' # exhaustive, sampling\n",
    "\n",
    "with open(f'results/{ds_name}/{mode}_results.p', 'rb') as handle:\n",
    "    results_dict = pickle.load(handle)\n",
    "    \n",
    "load_path = f'datasets/{ds_name}/tasks.p'\n",
    "with open(load_path, 'rb') as handle:\n",
    "    task_dict = pickle.load(handle)"
   ]
  },
  {
   "cell_type": "code",
   "execution_count": 363,
   "id": "abdf24e9",
   "metadata": {
    "scrolled": true
   },
   "outputs": [
    {
     "name": "stdout",
     "output_type": "stream",
     "text": [
      "I.10.7 [False]\n",
      "I.11.19 [False]\n",
      "I.12.1 [True]\n",
      "I.12.11 [False]\n",
      "I.12.2 [True]\n",
      "I.12.4 [True]\n",
      "I.12.5 [True]\n",
      "I.13.12 [False]\n",
      "I.13.4 [False]\n",
      "I.14.3 [True]\n",
      "I.14.4 [True]\n",
      "I.15.3t [False]\n",
      "I.15.3x [False]\n",
      "I.16.6 [False]\n",
      "I.18.12 [False]\n",
      "I.18.14 [False]\n",
      "I.18.4 [False]\n",
      "I.24.6 [False]\n",
      "I.25.13 [True]\n",
      "I.27.6 [True]\n",
      "I.29.16 [False]\n",
      "I.29.4 [True]\n",
      "I.30.3 [False]\n",
      "I.32.17 [False]\n",
      "I.32.5 [False]\n",
      "I.34.1 [True]\n",
      "I.34.14 [False]\n",
      "I.34.27 [True]\n",
      "I.34.8 [True]\n",
      "I.37.4 [False]\n",
      "I.38.12 [False]\n",
      "I.39.1 [True]\n",
      "I.39.11 [True]\n",
      "I.39.22 [True]\n",
      "I.40.1 [False]\n",
      "I.41.16 [False]\n",
      "I.43.16 [True]\n",
      "I.43.31 [True]\n",
      "I.43.43 [True]\n",
      "I.44.4 [False]\n",
      "I.47.23 [True]\n",
      "I.50.26 [False]\n",
      "I.6.2 [False]\n",
      "I.6.2a [True]\n",
      "I.6.2b [False]\n",
      "I.8.14 [False]\n",
      "I.9.18 [False]\n",
      "II.10.9 [True]\n",
      "II.11.20 [False]\n",
      "II.11.27 [False]\n",
      "II.11.28 [False]\n",
      "II.11.3 [False]\n",
      "II.13.17 [False]\n",
      "II.13.23 [False]\n",
      "II.13.34 [False]\n",
      "II.15.4 [True]\n",
      "II.15.5 [True]\n",
      "II.2.42 [False]\n",
      "II.21.32 [False]\n",
      "II.24.17 [False]\n",
      "II.27.16 [True]\n",
      "II.27.18 [True]\n",
      "II.3.24 [True]\n",
      "II.34.11 [True]\n",
      "II.34.2 [True]\n",
      "II.34.29a [True]\n",
      "II.34.29b [False]\n",
      "II.34.2a [True]\n",
      "II.35.18 [False]\n",
      "II.35.21 [False]\n",
      "II.36.38 [False]\n",
      "II.37.1 [True]\n",
      "II.38.14 [True]\n",
      "II.38.3 [True]\n",
      "II.4.23 [True]\n",
      "II.6.11 [False]\n",
      "II.6.15a [False]\n",
      "II.6.15b [False]\n",
      "II.8.31 [True]\n",
      "II.8.7 [True]\n",
      "III.10.19 [False]\n",
      "III.12.43 [True]\n",
      "III.13.18 [False]\n",
      "III.14.14 [False]\n",
      "III.15.12 [False]\n",
      "III.15.14 [True]\n",
      "III.15.27 [True]\n",
      "III.17.37 [True]\n",
      "III.19.51 [False]\n",
      "III.21.20 [True]\n",
      "III.4.32 [False]\n",
      "III.4.33 [False]\n",
      "III.7.38 [True]\n",
      "III.8.54 [False]\n",
      "III.9.52 [False]\n",
      "Recovery: 0.4421052631578947\n"
     ]
    }
   ],
   "source": [
    "# absolute recovery\n",
    "total_rec = 0.0\n",
    "for problem in results_dict:\n",
    "    rec = results_dict[problem]['recovery']\n",
    "    print(problem, rec)\n",
    "    total_rec += np.mean(rec)\n",
    "total_rec /= len(results_dict)\n",
    "print(f'Recovery: {total_rec}')"
   ]
  },
  {
   "cell_type": "code",
   "execution_count": 356,
   "id": "b312fca3",
   "metadata": {},
   "outputs": [],
   "source": [
    "problem = 'I.24.6'\n",
    "\n",
    "idx = 0\n",
    "X, y, expr_true = task_dict[problem]['X'], task_dict[problem]['y'], task_dict[problem]['expr']\n",
    "graph = results_dict[problem]['graphs'][idx]\n",
    "consts = results_dict[problem]['consts'][idx]"
   ]
  },
  {
   "cell_type": "code",
   "execution_count": 334,
   "id": "5989d33c",
   "metadata": {
    "scrolled": true
   },
   "outputs": [
    {
     "name": "stdout",
     "output_type": "stream",
     "text": [
      "MSE: 4.417842973694348\n"
     ]
    },
    {
     "data": {
      "text/plain": [
       "<matplotlib.collections.PathCollection at 0x1e4f19e8640>"
      ]
     },
     "execution_count": 334,
     "metadata": {},
     "output_type": "execute_result"
    },
    {
     "data": {
      "image/png": "[encoded data removed]",
      "text/plain": [
       "<Figure size 432x288 with 1 Axes>"
      ]
     },
     "metadata": {
      "needs_background": "light"
     },
     "output_type": "display_data"
    }
   ],
   "source": [
    "pred = graph.evaluate(X, c = consts)\n",
    "mse = np.mean((pred[:, 0] - y[:, idx])**2)\n",
    "print(f'MSE: {mse}')\n",
    "\n",
    "plt.scatter(X[:, 0], y[:, idx])\n",
    "plt.scatter(X[:, 0], pred[:, 0], marker = 'x', color = 'red')"
   ]
  },
  {
   "cell_type": "code",
   "execution_count": 335,
   "id": "7b10c269",
   "metadata": {},
   "outputs": [
    {
     "data": {
      "text/plain": [
       "[c_0*x_0*x_1*x_2*x_3**2]"
      ]
     },
     "execution_count": 335,
     "metadata": {},
     "output_type": "execute_result"
    }
   ],
   "source": [
    "graph.evaluate_symbolic()"
   ]
  },
  {
   "cell_type": "code",
   "execution_count": 336,
   "id": "fcccf31b",
   "metadata": {},
   "outputs": [
    {
     "data": {
      "text/plain": [
       "array([0.53])"
      ]
     },
     "execution_count": 336,
     "metadata": {},
     "output_type": "execute_result"
    }
   ],
   "source": [
    "consts"
   ]
  }
 ],
 "metadata": {
  "kernelspec": {
   "display_name": "Python 3 (ipykernel)",
   "language": "python",
   "name": "python3"
  },
  "language_info": {
   "codemirror_mode": {
    "name": "ipython",
    "version": 3
   },
   "file_extension": ".py",
   "mimetype": "text/x-python",
   "name": "python",
   "nbconvert_exporter": "python",
   "pygments_lexer": "ipython3",
   "version": "3.9.12"
  }
 },
 "nbformat": 4,
 "nbformat_minor": 5
}
