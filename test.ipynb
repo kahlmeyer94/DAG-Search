{
 "cells": [
  {
   "cell_type": "markdown",
   "id": "97b91456",
   "metadata": {},
   "source": [
    "# Testing DAG search"
   ]
  },
  {
   "cell_type": "code",
   "execution_count": 1,
   "id": "0bbfef62",
   "metadata": {},
   "outputs": [],
   "source": [
    "import numpy as np\n",
    "import matplotlib.pyplot as plt\n",
    "from tqdm.notebook import tqdm\n",
    "import os\n",
    "import utils\n",
    "import sympy\n",
    "import config\n",
    "import dag_search\n",
    "import pickle"
   ]
  },
  {
   "cell_type": "code",
   "execution_count": 34,
   "id": "68f44dcd",
   "metadata": {},
   "outputs": [
    {
     "data": {
      "text/plain": [
       "<module 'utils' from 'C:\\\\Users\\\\Paul Kahlmeyer\\\\OneDrive\\\\PhD\\\\DAG_search\\\\utils.py'>"
      ]
     },
     "execution_count": 34,
     "metadata": {},
     "output_type": "execute_result"
    }
   ],
   "source": [
    "import importlib\n",
    "importlib.reload(config)\n",
    "importlib.reload(dag_search)\n",
    "importlib.reload(utils)"
   ]
  },
  {
   "cell_type": "markdown",
   "id": "1c2a04e4",
   "metadata": {},
   "source": [
    "## Multiprocessing + Early Stopping"
   ]
  },
  {
   "cell_type": "code",
   "execution_count": 13,
   "id": "cb8e3892",
   "metadata": {},
   "outputs": [],
   "source": [
    "ds_name = 'Nguyen'\n",
    "load_path = f'datasets/{ds_name}/tasks.p'\n",
    "\n",
    "with open(load_path, 'rb') as handle:\n",
    "    task_dict = pickle.load(handle)\n",
    "problems = list(task_dict.keys())\n",
    "problem = problems[0]\n",
    "\n",
    "X, y, exprs_true = task_dict[problem]['X'], task_dict[problem]['y'], task_dict[problem]['expr']"
   ]
  },
  {
   "cell_type": "code",
   "execution_count": 16,
   "id": "af38c175",
   "metadata": {
    "scrolled": true
   },
   "outputs": [
    {
     "name": "stdout",
     "output_type": "stream",
     "text": [
      "Generating graphs\n"
     ]
    },
    {
     "name": "stderr",
     "output_type": "stream",
     "text": [
      "100%|████████████████████████████████████████████████████████████████████████████| 1000/1000 [00:00<00:00, 1425.15it/s]\n"
     ]
    },
    {
     "name": "stdout",
     "output_type": "stream",
     "text": [
      "Evaluating graphs\n"
     ]
    },
    {
     "name": "stderr",
     "output_type": "stream",
     "text": [
      "100%|█████████████████████████████████████████████████████████████████████████████| 1000/1000 [00:06<00:00, 161.43it/s]\n"
     ]
    }
   ],
   "source": [
    "loss_fkt = dag_search.MSE_loss_fkt(y)\n",
    "params = {\n",
    "    'X' : X,\n",
    "    'n_outps' : y.shape[1],\n",
    "    'loss_fkt' : loss_fkt,\n",
    "    'k' : 1,\n",
    "    'n_calc_nodes' : 5,\n",
    "    'n_processes' : 2,\n",
    "    'topk' : 5,\n",
    "    'opt_mode' : 'grid_zoom',\n",
    "    'verbose' : 2,\n",
    "    'n_samples' : 1000,\n",
    "    'stop_thresh' : 0.1\n",
    "\n",
    "}\n",
    "res = dag_search.sample_search(**params)"
   ]
  },
  {
   "cell_type": "code",
   "execution_count": 17,
   "id": "c1a3583d",
   "metadata": {},
   "outputs": [
    {
     "data": {
      "text/plain": [
       "[0.054071606992498945,\n",
       " 0.13492392820934337,\n",
       " 0.18450594469973863,\n",
       " 0.18450594469973866,\n",
       " 0.18451075623071925]"
      ]
     },
     "execution_count": 17,
     "metadata": {},
     "output_type": "execute_result"
    }
   ],
   "source": [
    "res['losses']"
   ]
  },
  {
   "cell_type": "code",
   "execution_count": 41,
   "id": "894e2e76",
   "metadata": {},
   "outputs": [
    {
     "name": "stdout",
     "output_type": "stream",
     "text": [
      "Creating evaluation orders\n"
     ]
    },
    {
     "name": "stderr",
     "output_type": "stream",
     "text": [
      "  2%|█▋                                                                       | 1000/43200 [00:00<00:00, 167097.09it/s]\n"
     ]
    },
    {
     "name": "stdout",
     "output_type": "stream",
     "text": [
      "Total orders: 114\n",
      "Evaluating orders\n"
     ]
    },
    {
     "name": "stderr",
     "output_type": "stream",
     "text": [
      "100%|████████████████████████████████████████████████████████████████████████████████| 114/114 [00:05<00:00, 19.09it/s]\n"
     ]
    }
   ],
   "source": [
    "loss_fkt = dag_search.MSE_loss_fkt(y)\n",
    "params = {\n",
    "    'X' : X,\n",
    "    'n_outps' : y.shape[1],\n",
    "    'loss_fkt' : loss_fkt,\n",
    "    'k' : 1,\n",
    "    'n_calc_nodes' : 3,\n",
    "    'n_processes' : 2,\n",
    "    'topk' : 5,\n",
    "    'opt_mode' : 'grid_zoom',\n",
    "    'verbose' : 2,\n",
    "    'max_orders' : 1000, \n",
    "    'stop_thresh' : 0.1\n",
    "}\n",
    "res = dag_search.exhaustive_search(**params)"
   ]
  },
  {
   "cell_type": "code",
   "execution_count": 42,
   "id": "4bea7237",
   "metadata": {},
   "outputs": [
    {
     "data": {
      "text/plain": [
       "[0.016976529478039126,\n",
       " 0.017138397889818816,\n",
       " 0.11436630666254352,\n",
       " 0.15112813657224833,\n",
       " 0.18450414451763059]"
      ]
     },
     "execution_count": 42,
     "metadata": {},
     "output_type": "execute_result"
    }
   ],
   "source": [
    "res['losses']"
   ]
  },
  {
   "cell_type": "markdown",
   "id": "2ab9bc9a",
   "metadata": {},
   "source": [
    "## Evaluating results"
   ]
  },
  {
   "cell_type": "code",
   "execution_count": 297,
   "id": "3b2cd6a4",
   "metadata": {},
   "outputs": [],
   "source": [
    "ds_name = 'Feynman' # Strogatz, Feynman, Nguyen\n",
    "mode = 'exhaustive' # exhaustive, sampling\n",
    "\n",
    "with open(f'datasets/{ds_name}/{mode}_results.p', 'rb') as handle:\n",
    "    results_dict = pickle.load(handle)\n",
    "    \n",
    "load_path = f'datasets/{ds_name}/tasks.p'\n",
    "with open(load_path, 'rb') as handle:\n",
    "    task_dict = pickle.load(handle)"
   ]
  },
  {
   "cell_type": "code",
   "execution_count": 298,
   "id": "abdf24e9",
   "metadata": {
    "scrolled": true
   },
   "outputs": [
    {
     "name": "stdout",
     "output_type": "stream",
     "text": [
      "I.10.7 [False]\n",
      "I.11.19 [False]\n",
      "I.12.1 [True]\n",
      "I.12.11 [False]\n",
      "I.12.2 [True]\n",
      "I.12.4 [True]\n",
      "I.12.5 [True]\n",
      "I.13.12 [False]\n",
      "I.13.4 [False]\n",
      "I.14.3 [True]\n",
      "I.14.4 [True]\n",
      "I.15.3t [False]\n",
      "I.15.3x [False]\n",
      "I.16.6 [False]\n",
      "I.18.12 [False]\n",
      "I.18.14 [False]\n",
      "I.18.4 [False]\n",
      "I.24.6 [False]\n",
      "I.25.13 [True]\n",
      "I.27.6 [True]\n",
      "I.29.16 [False]\n",
      "I.29.4 [True]\n",
      "I.30.3 [False]\n",
      "I.32.17 [False]\n",
      "I.32.5 [False]\n",
      "I.34.1 [True]\n",
      "I.34.14 [False]\n",
      "I.34.27 [True]\n",
      "I.34.8 [True]\n",
      "I.37.4 [False]\n",
      "I.38.12 [False]\n",
      "I.39.1 [True]\n",
      "I.39.11 [True]\n",
      "I.39.22 [True]\n",
      "I.40.1 [False]\n",
      "I.41.16 [False]\n",
      "I.43.16 [True]\n",
      "I.43.31 [True]\n",
      "I.43.43 [True]\n",
      "I.44.4 [False]\n",
      "I.47.23 [True]\n",
      "I.50.26 [False]\n",
      "I.6.2 [False]\n",
      "I.6.2a [True]\n",
      "I.6.2b [False]\n",
      "I.8.14 [False]\n",
      "I.9.18 [False]\n",
      "II.10.9 [True]\n",
      "II.11.20 [False]\n",
      "II.11.27 [False]\n",
      "II.11.28 [False]\n",
      "II.11.3 [False]\n",
      "II.13.17 [True]\n",
      "II.13.23 [False]\n",
      "II.13.34 [False]\n",
      "II.15.4 [True]\n",
      "II.15.5 [True]\n",
      "II.2.42 [True]\n",
      "II.21.32 [False]\n",
      "II.24.17 [False]\n",
      "II.27.16 [True]\n",
      "II.27.18 [True]\n",
      "II.3.24 [True]\n",
      "II.34.11 [True]\n",
      "II.34.2 [True]\n",
      "Recovery: 0.46153846153846156\n"
     ]
    }
   ],
   "source": [
    "# absolute recovery\n",
    "\n",
    "total_rec = 0.0\n",
    "for problem in results_dict:\n",
    "    rec = results_dict[problem]['recovery']\n",
    "    print(problem, rec)\n",
    "    total_rec += np.mean(rec)\n",
    "total_rec /= len(results_dict)\n",
    "print(f'Recovery: {total_rec}')"
   ]
  },
  {
   "cell_type": "code",
   "execution_count": 299,
   "id": "9fde82e4",
   "metadata": {},
   "outputs": [],
   "source": [
    "with open(f'datasets/{ds_name}/{mode}_results_old.p', 'rb') as handle:\n",
    "    results_old_dict = pickle.load(handle)"
   ]
  },
  {
   "cell_type": "code",
   "execution_count": 300,
   "id": "13bf3972",
   "metadata": {},
   "outputs": [
    {
     "data": {
      "text/plain": [
       "(95, 65, 95)"
      ]
     },
     "execution_count": 300,
     "metadata": {},
     "output_type": "execute_result"
    }
   ],
   "source": [
    "len(task_dict), len(results_dict), len(results_old_dict)"
   ]
  },
  {
   "cell_type": "code",
   "execution_count": 301,
   "id": "222ea65f",
   "metadata": {},
   "outputs": [
    {
     "name": "stdout",
     "output_type": "stream",
     "text": [
      "Problem: I.12.2, Old: False, New: True\n",
      "Problem: I.43.43, Old: False, New: True\n",
      "Problem: II.13.17, Old: False, New: True\n",
      "Problem: II.2.42, Old: False, New: True\n"
     ]
    }
   ],
   "source": [
    "for problem in results_dict:\n",
    "    v1 = results_dict[problem]['recovery'][0]\n",
    "    v2 = results_old_dict[problem]['recovery'][0]\n",
    "    if v1 != v2:\n",
    "        print(f'Problem: {problem}, Old: {v2}, New: {v1}')"
   ]
  },
  {
   "cell_type": "code",
   "execution_count": 302,
   "id": "99581553",
   "metadata": {},
   "outputs": [],
   "source": [
    "def r2score(y, pred):\n",
    "    v1 = np.sum((pred - y)**2)\n",
    "    v2 = np.sum((y - np.mean(y))**2)\n",
    "    return 1 - v1/v2\n",
    "    "
   ]
  },
  {
   "cell_type": "code",
   "execution_count": 303,
   "id": "b135c5f4",
   "metadata": {},
   "outputs": [
    {
     "name": "stdout",
     "output_type": "stream",
     "text": [
      "I.10.7 [0.9999508837667627]\n",
      "I.11.19 [0.6479236725870701]\n",
      "I.12.1 [1.0]\n",
      "I.12.11 [0.7430501590201715]\n",
      "I.12.2 [0.9999605636894895]\n",
      "I.12.4 [0.9999578196263461]\n",
      "I.12.5 [1.0]\n",
      "I.13.12 [0.8225405469124929]\n",
      "I.13.4 [0.9410362980658785]\n",
      "I.14.3 [1.0]\n",
      "I.14.4 [1.0]\n",
      "I.15.3t [0.9956593294532932]\n",
      "I.15.3x [0.9944882158664714]\n",
      "I.16.6 [0.9513972889320094]\n",
      "I.18.12 [1.0]\n",
      "I.18.14 [1.0]\n",
      "I.18.4 [0.9255431446452905]\n",
      "I.24.6 [0.9766358495233701]\n",
      "I.25.13 [1.0]\n",
      "I.27.6 [1.0]\n",
      "I.29.16 [0.4710079531942384]\n",
      "I.29.4 [1.0]\n",
      "I.30.3 [0.48873885306487563]\n",
      "I.32.17 [0.7336383361828771]\n",
      "I.32.5 [0.8857831202167123]\n",
      "I.34.1 [1.0]\n",
      "I.34.14 [0.9998225780988027]\n",
      "I.34.27 [0.9999999424261107]\n",
      "I.34.8 [1.0]\n",
      "I.37.4 [0.9946777639898998]\n",
      "I.38.12 [0.9164223933547623]\n",
      "I.39.1 [1.0]\n",
      "I.39.11 [1.0]\n",
      "I.39.22 [1.0]\n",
      "I.40.1 [0.737292984603048]\n",
      "I.41.16 [0.8622663234770133]\n",
      "I.43.16 [1.0]\n",
      "I.43.31 [1.0]\n",
      "I.43.43 [1.0]\n",
      "I.44.4 [0.94709468659005]\n",
      "I.47.23 [1.0]\n",
      "I.50.26 [0.5548397416982958]\n",
      "I.6.2 [0.9660436805255608]\n",
      "I.6.2a [0.9999840564898157]\n",
      "I.6.2b [0.8425537485207797]\n",
      "I.8.14 [0.4788598121383363]\n",
      "I.9.18 [0.7521216079449998]\n",
      "II.10.9 [1.0]\n",
      "II.11.20 [0.9201838886273135]\n",
      "II.11.27 [0.9937645372957536]\n",
      "II.11.28 [0.9999619130977045]\n",
      "II.11.3 [0.9700663088775763]\n",
      "II.13.17 [0.9999614478467168]\n",
      "II.13.23 [0.9999230522651921]\n",
      "II.13.34 [0.9997318412460509]\n",
      "II.15.4 [1.0]\n",
      "II.15.5 [1.0]\n",
      "II.2.42 [1.0]\n",
      "II.21.32 [0.9530740634461542]\n",
      "II.24.17 [0.9988449137703715]\n",
      "II.27.16 [1.0]\n",
      "II.27.18 [1.0]\n",
      "II.3.24 [0.9999986276879108]\n",
      "II.34.11 [1.0]\n",
      "II.34.2 [1.0]\n",
      "Recovery: 0.5692307692307692\n"
     ]
    }
   ],
   "source": [
    "total_rec = 0.0\n",
    "for problem in results_dict:\n",
    "    X, y, expr_true = task_dict[problem]['X'], task_dict[problem]['y'], task_dict[problem]['expr']\n",
    "    graphs = results_dict[problem]['graphs']\n",
    "    consts = results_dict[problem]['consts']\n",
    "\n",
    "    \n",
    "    rec = []\n",
    "    r2s = []\n",
    "    for i in range(len(graphs)):\n",
    "        graph = graphs[i]\n",
    "        c = consts[i]\n",
    "        pred = graph.evaluate(X, c = c)[:, 0]\n",
    "        y_part = y[:, i]\n",
    "        r2 = r2score(y_part, pred)\n",
    "        r2s.append(r2)\n",
    "        rec.append(r2 > 0.999)\n",
    "        \n",
    "    print(problem, r2s)\n",
    "    total_rec += np.mean(rec)\n",
    "        \n",
    "total_rec /= len(results_dict)\n",
    "print(f'Recovery: {total_rec}')"
   ]
  },
  {
   "cell_type": "code",
   "execution_count": null,
   "id": "7ae10c8c",
   "metadata": {},
   "outputs": [],
   "source": []
  },
  {
   "cell_type": "code",
   "execution_count": 266,
   "id": "32ab66f4",
   "metadata": {},
   "outputs": [],
   "source": [
    "problem = 'I.40.1'\n",
    "\n",
    "idx = 0\n",
    "X, y, expr_true = task_dict[problem]['X'], task_dict[problem]['y'], task_dict[problem]['expr']\n",
    "graph = results_dict[problem]['graphs'][idx]\n",
    "consts = results_dict[problem]['consts'][idx]"
   ]
  },
  {
   "cell_type": "code",
   "execution_count": 267,
   "id": "27d4cf5a",
   "metadata": {},
   "outputs": [
    {
     "name": "stdout",
     "output_type": "stream",
     "text": [
      "MSE: 0.09561265084539312\n"
     ]
    },
    {
     "data": {
      "text/plain": [
       "<matplotlib.collections.PathCollection at 0x233d0567ca0>"
      ]
     },
     "execution_count": 267,
     "metadata": {},
     "output_type": "execute_result"
    },
    {
     "data": {
      "image/png": "[encoded data removed]",
      "text/plain": [
       "<Figure size 432x288 with 1 Axes>"
      ]
     },
     "metadata": {
      "needs_background": "light"
     },
     "output_type": "display_data"
    }
   ],
   "source": [
    "pred = graph.evaluate(X, c = consts)\n",
    "mse = np.mean((pred[:, 0] - y[:, idx])**2)\n",
    "print(f'MSE: {mse}')\n",
    "\n",
    "plt.scatter(X[:, 0], y[:, idx])\n",
    "plt.scatter(X[:, 0], pred[:, 0], marker = 'x', color = 'red')"
   ]
  }
 ],
 "metadata": {
  "kernelspec": {
   "display_name": "Python 3 (ipykernel)",
   "language": "python",
   "name": "python3"
  },
  "language_info": {
   "codemirror_mode": {
    "name": "ipython",
    "version": 3
   },
   "file_extension": ".py",
   "mimetype": "text/x-python",
   "name": "python",
   "nbconvert_exporter": "python",
   "pygments_lexer": "ipython3",
   "version": "3.9.12"
  }
 },
 "nbformat": 4,
 "nbformat_minor": 5
}
