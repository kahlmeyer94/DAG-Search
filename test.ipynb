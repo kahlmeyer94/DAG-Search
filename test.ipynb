{
 "cells": [
  {
   "cell_type": "markdown",
   "id": "9f3fe23b",
   "metadata": {},
   "source": [
    "# Testing DAG search"
   ]
  },
  {
   "cell_type": "code",
   "execution_count": 2,
   "id": "5498b87a",
   "metadata": {},
   "outputs": [],
   "source": [
    "import numpy as np\n",
    "import matplotlib.pyplot as plt\n",
    "import config\n",
    "import dag_search"
   ]
  },
  {
   "cell_type": "code",
   "execution_count": 33,
   "id": "a0285eec",
   "metadata": {},
   "outputs": [
    {
     "data": {
      "text/plain": [
       "<module 'dag_search' from 'C:\\\\Users\\\\Paul Kahlmeyer\\\\OneDrive\\\\PhD\\\\DAG_search\\\\dag_search.py'>"
      ]
     },
     "execution_count": 33,
     "metadata": {},
     "output_type": "execute_result"
    }
   ],
   "source": [
    "import importlib\n",
    "importlib.reload(config)\n",
    "importlib.reload(dag_search)"
   ]
  },
  {
   "cell_type": "code",
   "execution_count": 4,
   "id": "d40c7832",
   "metadata": {},
   "outputs": [],
   "source": [
    "# Symbolic Regression: f(x) = 0.5x, x -0.5\n",
    "X = np.random.rand(100, 1)\n",
    "c = 0.5\n",
    "y = np.column_stack([c*X[:,0], X[:,0] - c])\n",
    "\n",
    "m = X.shape[1]\n",
    "n = y.shape[1]\n",
    "k = 1\n",
    "\n",
    "loss_fkt = dag_search.MSE_loss_fkt(y)"
   ]
  },
  {
   "cell_type": "code",
   "execution_count": null,
   "id": "68635ae8",
   "metadata": {},
   "outputs": [
    {
     "name": "stderr",
     "output_type": "stream",
     "text": [
      "100%|████████████████████████████████████████████████████████████████████████████| 864/864 [00:00<00:00, 118458.38it/s]\n"
     ]
    },
    {
     "name": "stdout",
     "output_type": "stream",
     "text": [
      "Total orders: 305\n",
      "Evaluating orders\n"
     ]
    },
    {
     "name": "stderr",
     "output_type": "stream",
     "text": [
      " 20%|████████████████▏                                                                | 61/305 [00:12<01:18,  3.11it/s]"
     ]
    }
   ],
   "source": [
    "params = {\n",
    "    'X' : X,\n",
    "    'n_outps' : n,\n",
    "    'loss_fkt' : loss_fkt,\n",
    "    'k' : k,\n",
    "    'n_calc_nodes' : 1,\n",
    "    'n_processes' : 1,\n",
    "    'loss_thresh' : 1e-1,\n",
    "    'opt_mode' : 'grid',\n",
    "    'verbose' : 2,\n",
    "    'max_orders' : 10000, \n",
    "    'max_size' : 10\n",
    "    \n",
    "}\n",
    "\n",
    "res = dag_search.exhaustive_search(**params)\n",
    "\n",
    "plt.plot(res['losses'])"
   ]
  },
  {
   "cell_type": "code",
   "execution_count": 20,
   "id": "332bb63e",
   "metadata": {},
   "outputs": [
    {
     "data": {
      "text/plain": [
       "({0: ([], 'inp'),\n",
       "  1: ([], 'const'),\n",
       "  2: ([1, 0], 'div_r'),\n",
       "  3: ([4, 0], 'sub_r'),\n",
       "  4: ([1], 'sin')},\n",
       " array([2.65306122]))"
      ]
     },
     "execution_count": 20,
     "metadata": {},
     "output_type": "execute_result"
    }
   ],
   "source": [
    "i = 7\n",
    "graph = res['graphs'][i]\n",
    "consts = res['consts'][i]\n",
    "graph.node_dict, consts"
   ]
  },
  {
   "cell_type": "code",
   "execution_count": 21,
   "id": "f3b5af12",
   "metadata": {},
   "outputs": [
    {
     "name": "stdout",
     "output_type": "stream",
     "text": [
      "[0.376923076923077*x_0, x_0 - 0.4693296127772]\n"
     ]
    }
   ],
   "source": [
    "graph.evaluate_symbolic(c = consts)"
   ]
  },
  {
   "cell_type": "code",
   "execution_count": 34,
   "id": "2afd67ec",
   "metadata": {},
   "outputs": [
    {
     "name": "stdout",
     "output_type": "stream",
     "text": [
      "Generating graphs\n"
     ]
    },
    {
     "name": "stderr",
     "output_type": "stream",
     "text": [
      "100%|███████████████████████████████████████████████████████████████████████████| 10000/10000 [00:10<00:00, 967.79it/s]\n"
     ]
    },
    {
     "name": "stdout",
     "output_type": "stream",
     "text": [
      "Evaluating graphs\n"
     ]
    },
    {
     "name": "stderr",
     "output_type": "stream",
     "text": [
      "100%|███████████████████████████████████████████████████████████████████████████| 10000/10000 [00:19<00:00, 512.45it/s]\n"
     ]
    },
    {
     "data": {
      "text/plain": [
       "[<matplotlib.lines.Line2D at 0x1285f72f8e0>]"
      ]
     },
     "execution_count": 34,
     "metadata": {},
     "output_type": "execute_result"
    },
    {
     "data": {
      "image/png": "[encoded data removed]",
      "text/plain": [
       "<Figure size 432x288 with 1 Axes>"
      ]
     },
     "metadata": {
      "needs_background": "light"
     },
     "output_type": "display_data"
    }
   ],
   "source": [
    "np.random.seed(0)\n",
    "params = {\n",
    "    'X' : X,\n",
    "    'n_outps' : n,\n",
    "    'loss_fkt' : loss_fkt,\n",
    "    'k' : k,\n",
    "    'n_calc_nodes' : 5,\n",
    "    'n_processes' : 1,\n",
    "    'loss_thresh' : 1e-1,\n",
    "    'opt_mode' : 'grid',\n",
    "    'verbose' : 2,\n",
    "    'n_samples' : 10000\n",
    "    \n",
    "}\n",
    "res = dag_search.sample_search(**params)\n",
    "\n",
    "plt.plot(res['losses'])"
   ]
  },
  {
   "cell_type": "code",
   "execution_count": 41,
   "id": "998e42df",
   "metadata": {},
   "outputs": [
    {
     "data": {
      "text/plain": [
       "({0: ([], 'inp'),\n",
       "  1: ([], 'const'),\n",
       "  2: ([5], 'sin'),\n",
       "  3: ([1, 0], 'sub_r'),\n",
       "  4: ([1, 0], '*'),\n",
       "  5: ([4, 0], 'sub_r')},\n",
       " array([0.50505051]),\n",
       " 5.667295264434164e-05)"
      ]
     },
     "execution_count": 41,
     "metadata": {},
     "output_type": "execute_result"
    }
   ],
   "source": [
    "i = 3\n",
    "graph = res['graphs'][i]\n",
    "consts = res['consts'][i]\n",
    "loss = res['losses'][i]\n",
    "graph.node_dict, consts, loss"
   ]
  },
  {
   "cell_type": "code",
   "execution_count": null,
   "id": "a9a13bcc",
   "metadata": {},
   "outputs": [],
   "source": []
  }
 ],
 "metadata": {
  "kernelspec": {
   "display_name": "Python 3 (ipykernel)",
   "language": "python",
   "name": "python3"
  },
  "language_info": {
   "codemirror_mode": {
    "name": "ipython",
    "version": 3
   },
   "file_extension": ".py",
   "mimetype": "text/x-python",
   "name": "python",
   "nbconvert_exporter": "python",
   "pygments_lexer": "ipython3",
   "version": "3.9.12"
  }
 },
 "nbformat": 4,
 "nbformat_minor": 5
}
