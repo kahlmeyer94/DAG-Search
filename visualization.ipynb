{
 "cells": [
  {
   "cell_type": "markdown",
   "id": "97b91456",
   "metadata": {},
   "source": [
    "# Visualization of Results"
   ]
  },
  {
   "cell_type": "code",
   "execution_count": 1,
   "id": "0bbfef62",
   "metadata": {},
   "outputs": [],
   "source": [
    "import numpy as np\n",
    "import matplotlib.pyplot as plt\n",
    "from tqdm.notebook import tqdm\n",
    "import os\n",
    "import sympy\n",
    "import pickle\n",
    "\n",
    "\n",
    "from DAG_search import utils\n",
    "from DAG_search import config\n",
    "from DAG_search import dag_search\n",
    "from DAG_search import comp_graph"
   ]
  },
  {
   "cell_type": "code",
   "execution_count": 2,
   "id": "68f44dcd",
   "metadata": {
    "scrolled": true
   },
   "outputs": [
    {
     "data": {
      "text/plain": [
       "<module 'DAG_search.utils' from 'C:\\\\Users\\\\Paul Kahlmeyer\\\\OneDrive\\\\PhD\\\\DAG_search\\\\DAG_search\\\\utils.py'>"
      ]
     },
     "execution_count": 2,
     "metadata": {},
     "output_type": "execute_result"
    }
   ],
   "source": [
    "import importlib\n",
    "importlib.reload(config)\n",
    "importlib.reload(dag_search)\n",
    "importlib.reload(comp_graph)\n",
    "importlib.reload(utils)"
   ]
  },
  {
   "cell_type": "code",
   "execution_count": 3,
   "id": "14515921",
   "metadata": {},
   "outputs": [],
   "source": [
    "from experiments import regressors"
   ]
  },
  {
   "cell_type": "code",
   "execution_count": 4,
   "id": "03a60abe",
   "metadata": {},
   "outputs": [],
   "source": [
    "import pickle\n",
    "ds_name = 'Nguyen' # Strogatz, Feynman, Nguyen\n",
    "   \n",
    "load_path = f'datasets/{ds_name}/tasks.p'\n",
    "with open(load_path, 'rb') as handle:\n",
    "    task_dict = pickle.load(handle)"
   ]
  },
  {
   "cell_type": "code",
   "execution_count": 5,
   "id": "7653b844",
   "metadata": {
    "scrolled": true
   },
   "outputs": [
    {
     "name": "stdout",
     "output_type": "stream",
     "text": [
      "Nguyen-1\n",
      "Nguyen-2\n",
      "Nguyen-3\n",
      "Nguyen-4\n",
      "Nguyen-5\n",
      "Nguyen-6\n",
      "Nguyen-7\n",
      "Nguyen-8\n"
     ]
    }
   ],
   "source": [
    "for problem_name in task_dict:\n",
    "    X = task_dict[problem_name]['X']\n",
    "    if X.shape[1] == 1:\n",
    "        print(problem_name)"
   ]
  },
  {
   "cell_type": "code",
   "execution_count": 28,
   "id": "4bb413a9",
   "metadata": {},
   "outputs": [
    {
     "data": {
      "text/plain": [
       "dict_keys(['X', 'y', 'expr'])"
      ]
     },
     "execution_count": 28,
     "metadata": {},
     "output_type": "execute_result"
    }
   ],
   "source": [
    "task_dict[problem_name].keys()"
   ]
  },
  {
   "cell_type": "code",
   "execution_count": 32,
   "id": "f7eb258f",
   "metadata": {},
   "outputs": [],
   "source": [
    "problem_name = 'Nguyen-6'\n",
    "X, y, expr_true = task_dict[problem_name]['X'], task_dict[problem_name]['y'], task_dict[problem_name]['expr'][0]"
   ]
  },
  {
   "cell_type": "code",
   "execution_count": 33,
   "id": "c850f14e",
   "metadata": {},
   "outputs": [
    {
     "data": {
      "image/png": "[encoded data removed]",
      "text/latex": [
       "$\\displaystyle \\sin{\\left(x_{0} \\right)} + \\sin{\\left(x_{0}^{2} + x_{0} \\right)}$"
      ],
      "text/plain": [
       "             ⎛  2     ⎞\n",
       "sin(x₀) + sin⎝x₀  + x₀⎠"
      ]
     },
     "execution_count": 33,
     "metadata": {},
     "output_type": "execute_result"
    }
   ],
   "source": [
    "expr_true"
   ]
  },
  {
   "cell_type": "code",
   "execution_count": 34,
   "id": "a99bade0",
   "metadata": {},
   "outputs": [
    {
     "data": {
      "text/plain": [
       "<module 'experiments.regressors' from 'C:\\\\Users\\\\Paul Kahlmeyer\\\\OneDrive\\\\PhD\\\\DAG_search\\\\experiments\\\\regressors.py'>"
      ]
     },
     "execution_count": 34,
     "metadata": {},
     "output_type": "execute_result"
    }
   ],
   "source": [
    "importlib.reload(regressors)"
   ]
  },
  {
   "cell_type": "code",
   "execution_count": 18,
   "id": "7a11d7a5",
   "metadata": {},
   "outputs": [],
   "source": [
    "regressor = regressors.ESR(path_to_eqs = 'experiments/core_maths', max_complexity = 7, verbose = 1)"
   ]
  },
  {
   "cell_type": "code",
   "execution_count": 19,
   "id": "1602c465",
   "metadata": {
    "scrolled": true
   },
   "outputs": [
    {
     "name": "stdout",
     "output_type": "stream",
     "text": [
      "Complexity 1\n",
      "Best expression: -0.7819853178735565\tLoss: 0.02717961164692661\n",
      "Complexity 2\n",
      "Best expression: -0.7819853005738573\tLoss: 0.02717961164692686\n",
      "Complexity 3\n",
      "Best expression: -0.7819853163406122\tLoss: 0.027179611646926605\n",
      "Complexity 4\n",
      "Best expression: -0.7819853140527886\tLoss: 0.027179611646926616\n",
      "Complexity 5\n",
      "Best expression: 0.8625848043263097**x_0 - 1.812450443412732\tLoss: 0.02113093607844786\n",
      "Complexity 6\n",
      "Best expression: inv(x_0 + 2.5313817567056995) - 1.2320855374383886\tLoss: 0.017575914959568895\n",
      "Complexity 7\n",
      "ufunc 'isnan' not supported for the input types, and the inputs could not be safely coerced to any supported types according to the casting rule ''safe''\n",
      "Best expression: -0.505725415407891*0.07467703732218375**(x_0**2) - 0.505725415407891\tLoss: 0.00013553963599464077\n",
      "Error at expression\n"
     ]
    }
   ],
   "source": [
    "regressor.fit(X, y[:, 0])"
   ]
  },
  {
   "cell_type": "code",
   "execution_count": 25,
   "id": "330eac91",
   "metadata": {},
   "outputs": [],
   "source": [
    "pred = regressor.predict(X)"
   ]
  },
  {
   "cell_type": "code",
   "execution_count": 26,
   "id": "006997ea",
   "metadata": {},
   "outputs": [
    {
     "data": {
      "text/plain": [
       "<matplotlib.collections.PathCollection at 0x2039d69b280>"
      ]
     },
     "execution_count": 26,
     "metadata": {},
     "output_type": "execute_result"
    },
    {
     "data": {
      "image/png": "[encoded data removed]",
      "text/plain": [
       "<Figure size 432x288 with 1 Axes>"
      ]
     },
     "metadata": {
      "needs_background": "light"
     },
     "output_type": "display_data"
    }
   ],
   "source": [
    "plt.scatter(X[:, 0], y[:, 0])\n",
    "plt.scatter(X[:, 0], pred, color = 'red', marker = 'x')"
   ]
  },
  {
   "cell_type": "code",
   "execution_count": 27,
   "id": "6ad3bc4d",
   "metadata": {},
   "outputs": [
    {
     "data": {
      "image/png": "[encoded data removed]",
      "text/latex": [
       "$\\displaystyle - 0.505725415407891 \\cdot 0.07467703732218375^{x_{0}^{2}} - 0.505725415407891$"
      ],
      "text/plain": [
       "                                       ⎛  2⎞                    \n",
       "                                       ⎝x₀ ⎠                    \n",
       "- 0.505725415407891⋅0.07467703732218375      - 0.505725415407891"
      ]
     },
     "execution_count": 27,
     "metadata": {},
     "output_type": "execute_result"
    }
   ],
   "source": [
    "regressor.model()"
   ]
  },
  {
   "cell_type": "markdown",
   "id": "eead39a4",
   "metadata": {},
   "source": [
    "## Experiment: local minima\n",
    "\n",
    "Takeaway: We have lots of local minima that are symbolically different from each other"
   ]
  },
  {
   "cell_type": "code",
   "execution_count": 6,
   "id": "c7c2b5fc",
   "metadata": {},
   "outputs": [],
   "source": [
    "load_path = 'results/local_minima_exp.p'\n",
    "with open(load_path, 'rb') as handle:\n",
    "    results = pickle.load(handle)"
   ]
  },
  {
   "cell_type": "code",
   "execution_count": 10,
   "id": "8dbde135",
   "metadata": {},
   "outputs": [
    {
     "data": {
      "text/plain": [
       "Text(0, 0.5, 'Different expressions among top 100')"
      ]
     },
     "execution_count": 10,
     "metadata": {},
     "output_type": "execute_result"
    },
    {
     "data": {
      "image/png": "[encoded data removed]",
      "text/plain": [
       "<Figure size 432x288 with 1 Axes>"
      ]
     },
     "metadata": {
      "needs_background": "light"
     },
     "output_type": "display_data"
    }
   ],
   "source": [
    "names = list(results.keys())\n",
    "values = [results[n]['groups'] for n in names]\n",
    "plt.bar(range(len(names)), values)\n",
    "plt.xticks(range(len(names)), names, rotation = 90)\n",
    "plt.ylabel(f'Different expressions among top {results[names[0]][\"topk\"]}')"
   ]
  },
  {
   "cell_type": "markdown",
   "id": "95da1ca6",
   "metadata": {},
   "source": [
    "## Experiment: Black Box vs. Symbolic\n",
    "\n",
    "Takeaway: If you care about model fit, use Black Box. "
   ]
  },
  {
   "cell_type": "code",
   "execution_count": 12,
   "id": "c298956a",
   "metadata": {},
   "outputs": [],
   "source": [
    "import pickle\n",
    "regs = ['linreg', 'polyreg2', 'polyreg3', 'operon', 'gplearn', 'DAGSearch', 'MLP']\n",
    "ds_name = 'Feynman' # Strogatz, Feynman, Nguyen  "
   ]
  },
  {
   "cell_type": "markdown",
   "id": "b6d7ef69",
   "metadata": {},
   "source": [
    "Read Results"
   ]
  },
  {
   "cell_type": "code",
   "execution_count": 13,
   "id": "9eed8ae1",
   "metadata": {
    "scrolled": true
   },
   "outputs": [],
   "source": [
    "from sklearn.metrics import r2_score\n",
    "# read results\n",
    "res = {}\n",
    "for regressor_name in regs:\n",
    "    load_path = f'results/{ds_name}/{regressor_name}_results.p'\n",
    "    if os.path.exists(load_path):\n",
    "        res[regressor_name] = {}\n",
    "        with open(load_path, 'rb') as handle:\n",
    "            results_dict = pickle.load(handle)\n",
    "\n",
    "        # avg. recovery\n",
    "        recoveries = []\n",
    "        for problem in results_dict.keys():\n",
    "            for rec in results_dict[problem]['recovery']:\n",
    "                recoveries.append(rec)\n",
    "        res[regressor_name]['recovery'] = np.mean(recoveries)\n",
    "\n",
    "\n",
    "        # avg. RMSE\n",
    "        rmses_train = []\n",
    "        rmses_test = []\n",
    "        for problem in results_dict.keys():\n",
    "            for y, pred in zip(results_dict[problem]['y_train'], results_dict[problem]['pred_train']):\n",
    "                rmse = np.sqrt(np.mean((y - pred)**2))\n",
    "                rmses_train.append(rmse)\n",
    "            for y, pred in zip(results_dict[problem]['y_test'], results_dict[problem]['pred_test']):\n",
    "                rmse = np.sqrt(np.mean((y - pred)**2))\n",
    "                rmses_test.append(rmse)\n",
    "        res[regressor_name]['rmse_train'] = np.mean(rmses_train)\n",
    "        res[regressor_name]['rmse_test'] = np.mean(rmses_test)\n",
    "\n",
    "        # median R2\n",
    "        r2s_train = []\n",
    "        r2s_test = []\n",
    "        for problem in results_dict.keys():\n",
    "            for y, pred in zip(results_dict[problem]['y_train'], results_dict[problem]['pred_train']):\n",
    "                r2 = r2_score(y, pred)\n",
    "                r2s_train.append(r2)\n",
    "            for y, pred in zip(results_dict[problem]['y_test'], results_dict[problem]['pred_test']):\n",
    "                r2 = r2_score(y, pred)\n",
    "                r2s_test.append(r2)\n",
    "        res[regressor_name]['r2_train'] = np.median(r2s_train)\n",
    "        res[regressor_name]['r2_test'] = np.median(r2s_test)\n",
    "            \n",
    "        # expression size\n",
    "        expr_sizes = []\n",
    "        for problem in results_dict.keys():\n",
    "            for expr in results_dict[problem]['exprs']:\n",
    "                expr_sizes.append(utils.tree_size(expr))\n",
    "        if len(expr_sizes) > 0:\n",
    "            res[regressor_name]['complexity'] = np.median(expr_sizes)"
   ]
  },
  {
   "cell_type": "markdown",
   "id": "ab432261",
   "metadata": {},
   "source": [
    "Make Scatter Plot"
   ]
  },
  {
   "cell_type": "code",
   "execution_count": 372,
   "id": "bc6062f6",
   "metadata": {},
   "outputs": [],
   "source": [
    "def get_pareto_idxs(obj1, obj2):\n",
    "    M = np.column_stack([obj1, obj2])\n",
    "    ret = []\n",
    "    for i, p in enumerate(M):\n",
    "        is_dominated = np.any(np.all(M < p, axis = 1))\n",
    "        if not is_dominated:\n",
    "            ret.append(i)\n",
    "    return np.array(ret)"
   ]
  },
  {
   "cell_type": "code",
   "execution_count": 373,
   "id": "64c81fa1",
   "metadata": {},
   "outputs": [
    {
     "data": {
      "image/png": "[encoded data removed]",
      "text/plain": [
       "<Figure size 432x288 with 1 Axes>"
      ]
     },
     "metadata": {
      "needs_background": "light"
     },
     "output_type": "display_data"
    }
   ],
   "source": [
    "cat_x, name_x = 'r2_test', 'R2 Test'\n",
    "#cat_x, name_x = 'recovery', 'Recovery'\n",
    "def_value_x = 0.0\n",
    "cat_y, name_y = 'complexity', 'Complexity'\n",
    "def_value_y = np.inf\n",
    "\n",
    "# assume lower is better (negate R2, recovery)\n",
    "v1 = -np.array([res[regressor_name][cat_x] if cat_x in res[regressor_name] else def_value_x for regressor_name in regs])\n",
    "v2 = np.array([res[regressor_name][cat_y] if cat_y in res[regressor_name] else def_value_y for regressor_name in regs])\n",
    "\n",
    "ranks_x = np.argsort(np.argsort(v1))\n",
    "ranks_y = np.argsort(np.argsort(v2))\n",
    "\n",
    "\n",
    "pareto_idxs = get_pareto_idxs(ranks_x, ranks_y)\n",
    "pareto_idxs = pareto_idxs[np.argsort([ranks_x[i] for i in pareto_idxs])] # sort by x rank (for plotting)\n",
    "\n",
    "plt.scatter(ranks_x, ranks_y, zorder = 1)\n",
    "plt.plot([ranks_x[i] for i in pareto_idxs], [ranks_y[i] for i in pareto_idxs], color = 'gray', linestyle = '--', zorder = 0)\n",
    "\n",
    "\n",
    "# add labels\n",
    "offset_x = 0.5\n",
    "offset_y = 0.8\n",
    "for i in range(len(regs)):\n",
    "    s = regs[i]\n",
    "    x = ranks_x[i]\n",
    "    y = ranks_y[i] + .3\n",
    "    ha = 'center'\n",
    "    va = 'bottom'\n",
    "    plt.text(s = s, x = x, y = y, ha = ha, va = va, bbox=dict(facecolor='w', edgecolor='black', boxstyle='round', alpha=0.3))\n",
    "plt.xlim(0-offset_x, len(regs)-1+offset_x)\n",
    "plt.ylim(0-offset_y, len(regs)-1+offset_y)\n",
    "plt.xticks(range(len(regs)))\n",
    "plt.yticks(range(len(regs)))\n",
    "\n",
    "plt.xlabel(f'Rank {name_x}')\n",
    "plt.ylabel(f'Rank {name_y}')\n",
    "plt.title(f'{ds_name} Problems')\n",
    "\n",
    "\n",
    "if not os.path.exists('results/figures'):\n",
    "    os.mkdirs('results/figures')\n",
    "plt.savefig(f'results/figures/scatterplot_{ds_name}.pdf', bbox_inches = 'tight')"
   ]
  },
  {
   "cell_type": "markdown",
   "id": "1fbe710b",
   "metadata": {},
   "source": [
    "## Experiment: Symbolic vs. Numeric Proximity\n",
    "Takeaway: Symbolic Measures do not correlate with Numeric Measures"
   ]
  },
  {
   "cell_type": "code",
   "execution_count": 381,
   "id": "42008969",
   "metadata": {
    "scrolled": true
   },
   "outputs": [
    {
     "data": {
      "image/png": "[encoded data removed]",
      "text/plain": [
       "<Figure size 432x288 with 2 Axes>"
      ]
     },
     "metadata": {
      "needs_background": "light"
     },
     "output_type": "display_data"
    }
   ],
   "source": [
    "corr_matrix = np.load('results/corr_matrix.npy')\n",
    "with open(f'results/distance_dict.p', 'rb') as handle:\n",
    "    dist_dict = pickle.load(handle)\n",
    "methods = list(dist_dict.keys())\n",
    "\n",
    "\n",
    "plt.imshow(np.abs(corr_matrix), vmin = 0, vmax = 1, cmap = 'gray')\n",
    "plt.colorbar()\n",
    "plt.xticks(range(corr_matrix.shape[0]), methods, rotation = 90)\n",
    "plt.yticks(range(corr_matrix.shape[0]), methods)\n",
    "plt.title('absolute correlation')\n",
    "\n",
    "if not os.path.exists('results/figures'):\n",
    "    os.mkdirs('results/figures')\n",
    "plt.savefig('results/figures/corr_plot.pdf', bbox_inches = 'tight')"
   ]
  },
  {
   "cell_type": "markdown",
   "id": "60e40dc5",
   "metadata": {},
   "source": [
    "## Experiment: Recovery\n",
    "\n",
    "Takeaways:\n",
    "\n",
    "- More nodes $\\rightarrow$ better results, worse computation time"
   ]
  },
  {
   "cell_type": "code",
   "execution_count": 5,
   "id": "3b2cd6a4",
   "metadata": {},
   "outputs": [],
   "source": [
    "import pickle\n",
    "ds_name = 'Feynman' # Strogatz, Feynman, Nguyen\n",
    "mode = 'sampling' # exhaustive, sampling\n",
    "\n",
    "with open(f'results/{ds_name}/{mode}_results.p', 'rb') as handle:\n",
    "    results_dict = pickle.load(handle)\n",
    "    \n",
    "load_path = f'datasets/{ds_name}/tasks.p'\n",
    "with open(load_path, 'rb') as handle:\n",
    "    task_dict = pickle.load(handle)"
   ]
  },
  {
   "cell_type": "code",
   "execution_count": 6,
   "id": "abdf24e9",
   "metadata": {
    "scrolled": true
   },
   "outputs": [
    {
     "name": "stdout",
     "output_type": "stream",
     "text": [
      "I.10.7 [False]\n",
      "I.11.19 [False]\n",
      "I.12.1 [True]\n",
      "I.12.11 [False]\n",
      "I.12.2 [False]\n",
      "I.12.4 [True]\n",
      "I.12.5 [True]\n",
      "I.13.12 [False]\n",
      "I.13.4 [False]\n",
      "I.14.3 [True]\n",
      "I.14.4 [True]\n",
      "I.15.3t [False]\n",
      "I.15.3x [False]\n",
      "I.16.6 [False]\n",
      "I.18.12 [False]\n",
      "I.18.14 [False]\n",
      "I.18.4 [False]\n",
      "I.24.6 [False]\n",
      "I.25.13 [True]\n",
      "I.27.6 [False]\n",
      "I.29.16 [False]\n",
      "I.29.4 [True]\n",
      "I.30.3 [False]\n",
      "I.32.17 [False]\n",
      "I.32.5 [False]\n",
      "I.34.1 [False]\n",
      "I.34.14 [False]\n",
      "I.34.27 [True]\n",
      "I.34.8 [True]\n",
      "I.37.4 [False]\n",
      "I.38.12 [False]\n",
      "I.39.1 [True]\n",
      "I.39.11 [True]\n",
      "I.39.22 [True]\n",
      "I.40.1 [False]\n",
      "I.41.16 [False]\n",
      "I.43.16 [True]\n",
      "I.43.31 [True]\n",
      "I.43.43 [False]\n",
      "I.44.4 [False]\n",
      "I.47.23 [False]\n",
      "I.50.26 [False]\n",
      "I.6.2 [False]\n",
      "I.6.2a [False]\n",
      "I.6.2b [False]\n",
      "I.8.14 [False]\n",
      "I.9.18 [False]\n",
      "II.10.9 [False]\n",
      "II.11.20 [False]\n",
      "II.11.27 [False]\n",
      "II.11.28 [False]\n",
      "II.11.3 [False]\n",
      "II.13.17 [False]\n",
      "II.13.23 [False]\n",
      "II.13.34 [False]\n",
      "II.15.4 [False]\n",
      "II.15.5 [False]\n",
      "II.2.42 [False]\n",
      "II.21.32 [False]\n",
      "II.24.17 [False]\n",
      "II.27.16 [True]\n",
      "II.27.18 [True]\n",
      "II.3.24 [True]\n",
      "II.34.11 [False]\n",
      "II.34.2 [True]\n",
      "II.34.29a [True]\n",
      "II.34.29b [False]\n",
      "II.34.2a [True]\n",
      "II.35.18 [False]\n",
      "II.35.21 [False]\n",
      "II.36.38 [False]\n",
      "II.37.1 [True]\n",
      "II.38.14 [False]\n",
      "II.38.3 [True]\n",
      "II.4.23 [True]\n",
      "II.6.11 [False]\n",
      "II.6.15a [False]\n",
      "II.6.15b [False]\n",
      "II.8.31 [True]\n",
      "II.8.7 [False]\n",
      "III.10.19 [False]\n",
      "III.12.43 [True]\n",
      "III.13.18 [False]\n",
      "III.14.14 [False]\n",
      "III.15.12 [False]\n",
      "III.15.14 [False]\n",
      "III.15.27 [True]\n",
      "III.17.37 [False]\n",
      "III.19.51 [False]\n",
      "III.21.20 [False]\n",
      "III.4.32 [False]\n",
      "III.4.33 [False]\n",
      "III.7.38 [True]\n",
      "III.8.54 [False]\n",
      "III.9.52 [False]\n",
      "Recovery: 0.28421052631578947\n"
     ]
    }
   ],
   "source": [
    "# absolute recovery\n",
    "total_rec = 0.0\n",
    "for problem in results_dict:\n",
    "    rec = results_dict[problem]['recovery']\n",
    "    print(problem, rec)\n",
    "    total_rec += np.mean(rec)\n",
    "total_rec /= len(results_dict)\n",
    "print(f'Recovery: {total_rec}')"
   ]
  },
  {
   "cell_type": "code",
   "execution_count": 356,
   "id": "b312fca3",
   "metadata": {},
   "outputs": [],
   "source": [
    "problem = 'I.24.6'\n",
    "\n",
    "idx = 0\n",
    "X, y, expr_true = task_dict[problem]['X'], task_dict[problem]['y'], task_dict[problem]['expr']\n",
    "graph = results_dict[problem]['graphs'][idx]\n",
    "consts = results_dict[problem]['consts'][idx]"
   ]
  },
  {
   "cell_type": "code",
   "execution_count": 334,
   "id": "5989d33c",
   "metadata": {
    "scrolled": true
   },
   "outputs": [
    {
     "name": "stdout",
     "output_type": "stream",
     "text": [
      "MSE: 4.417842973694348\n"
     ]
    },
    {
     "data": {
      "text/plain": [
       "<matplotlib.collections.PathCollection at 0x1e4f19e8640>"
      ]
     },
     "execution_count": 334,
     "metadata": {},
     "output_type": "execute_result"
    },
    {
     "data": {
      "image/png": "[encoded data removed]",
      "text/plain": [
       "<Figure size 432x288 with 1 Axes>"
      ]
     },
     "metadata": {
      "needs_background": "light"
     },
     "output_type": "display_data"
    }
   ],
   "source": [
    "pred = graph.evaluate(X, c = consts)\n",
    "mse = np.mean((pred[:, 0] - y[:, idx])**2)\n",
    "print(f'MSE: {mse}')\n",
    "\n",
    "plt.scatter(X[:, 0], y[:, idx])\n",
    "plt.scatter(X[:, 0], pred[:, 0], marker = 'x', color = 'red')"
   ]
  },
  {
   "cell_type": "code",
   "execution_count": 335,
   "id": "7b10c269",
   "metadata": {},
   "outputs": [
    {
     "data": {
      "text/plain": [
       "[c_0*x_0*x_1*x_2*x_3**2]"
      ]
     },
     "execution_count": 335,
     "metadata": {},
     "output_type": "execute_result"
    }
   ],
   "source": [
    "graph.evaluate_symbolic()"
   ]
  },
  {
   "cell_type": "code",
   "execution_count": 336,
   "id": "fcccf31b",
   "metadata": {},
   "outputs": [
    {
     "data": {
      "text/plain": [
       "array([0.53])"
      ]
     },
     "execution_count": 336,
     "metadata": {},
     "output_type": "execute_result"
    }
   ],
   "source": [
    "consts"
   ]
  }
 ],
 "metadata": {
  "kernelspec": {
   "display_name": "Python 3 (ipykernel)",
   "language": "python",
   "name": "python3"
  },
  "language_info": {
   "codemirror_mode": {
    "name": "ipython",
    "version": 3
   },
   "file_extension": ".py",
   "mimetype": "text/x-python",
   "name": "python",
   "nbconvert_exporter": "python",
   "pygments_lexer": "ipython3",
   "version": "3.9.12"
  }
 },
 "nbformat": 4,
 "nbformat_minor": 5
}
