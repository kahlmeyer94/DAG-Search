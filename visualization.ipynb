{
 "cells": [
  {
   "cell_type": "code",
   "execution_count": 1,
   "id": "633fc641",
   "metadata": {},
   "outputs": [],
   "source": [
    "import numpy as np\n",
    "import matplotlib.pyplot as plt\n",
    "from tqdm.notebook import tqdm\n",
    "import os\n",
    "import sympy\n",
    "import pickle\n",
    "from sklearn.metrics import r2_score\n",
    "import importlib\n",
    "\n",
    "\n",
    "from DAG_search import utils\n",
    "from DAG_search import dag_search\n",
    "from DAG_search import comp_graph"
   ]
  },
  {
   "cell_type": "markdown",
   "id": "c349ca69-025b-4647-ac89-25416c06e7cb",
   "metadata": {},
   "source": [
    "## Bug: Gradients of Multivariate Functions"
   ]
  },
  {
   "cell_type": "code",
   "execution_count": null,
   "id": "59be0aba-ce85-4320-b915-226a69f36a92",
   "metadata": {},
   "outputs": [],
   "source": [
    "# TODO"
   ]
  },
  {
   "cell_type": "markdown",
   "id": "5c12ec3a",
   "metadata": {},
   "source": [
    "## Speedup"
   ]
  },
  {
   "cell_type": "code",
   "execution_count": 41,
   "id": "3a34bfbe",
   "metadata": {},
   "outputs": [],
   "source": [
    "%load_ext pyinstrument"
   ]
  },
  {
   "cell_type": "code",
   "execution_count": 167,
   "id": "0b1cc4b2",
   "metadata": {},
   "outputs": [],
   "source": [
    "X = np.random.rand(1000, 1)\n",
    "y = np.random.rand(1000)\n",
    "\n",
    "est = dag_search.DAGRegressor(k = 1, n_calc_nodes = 2, max_orders = int(1e3))"
   ]
  },
  {
   "cell_type": "code",
   "execution_count": 12,
   "id": "49c33b7b",
   "metadata": {
    "scrolled": true
   },
   "outputs": [
    {
     "data": {
      "text/html": [
       "<style>#sk-container-id-1 {color: black;}#sk-container-id-1 pre{padding: 0;}#sk-container-id-1 div.sk-toggleable {background-color: white;}#sk-container-id-1 label.sk-toggleable__label {cursor: pointer;display: block;width: 100%;margin-bottom: 0;padding: 0.3em;box-sizing: border-box;text-align: center;}#sk-container-id-1 label.sk-toggleable__label-arrow:before {content: \"▸\";float: left;margin-right: 0.25em;color: #696969;}#sk-container-id-1 label.sk-toggleable__label-arrow:hover:before {color: black;}#sk-container-id-1 div.sk-estimator:hover label.sk-toggleable__label-arrow:before {color: black;}#sk-container-id-1 div.sk-toggleable__content {max-height: 0;max-width: 0;overflow: hidden;text-align: left;background-color: #f0f8ff;}#sk-container-id-1 div.sk-toggleable__content pre {margin: 0.2em;color: black;border-radius: 0.25em;background-color: #f0f8ff;}#sk-container-id-1 input.sk-toggleable__control:checked~div.sk-toggleable__content {max-height: 200px;max-width: 100%;overflow: auto;}#sk-container-id-1 input.sk-toggleable__control:checked~label.sk-toggleable__label-arrow:before {content: \"▾\";}#sk-container-id-1 div.sk-estimator input.sk-toggleable__control:checked~label.sk-toggleable__label {background-color: #d4ebff;}#sk-container-id-1 div.sk-label input.sk-toggleable__control:checked~label.sk-toggleable__label {background-color: #d4ebff;}#sk-container-id-1 input.sk-hidden--visually {border: 0;clip: rect(1px 1px 1px 1px);clip: rect(1px, 1px, 1px, 1px);height: 1px;margin: -1px;overflow: hidden;padding: 0;position: absolute;width: 1px;}#sk-container-id-1 div.sk-estimator {font-family: monospace;background-color: #f0f8ff;border: 1px dotted black;border-radius: 0.25em;box-sizing: border-box;margin-bottom: 0.5em;}#sk-container-id-1 div.sk-estimator:hover {background-color: #d4ebff;}#sk-container-id-1 div.sk-parallel-item::after {content: \"\";width: 100%;border-bottom: 1px solid gray;flex-grow: 1;}#sk-container-id-1 div.sk-label:hover label.sk-toggleable__label {background-color: #d4ebff;}#sk-container-id-1 div.sk-serial::before {content: \"\";position: absolute;border-left: 1px solid gray;box-sizing: border-box;top: 0;bottom: 0;left: 50%;z-index: 0;}#sk-container-id-1 div.sk-serial {display: flex;flex-direction: column;align-items: center;background-color: white;padding-right: 0.2em;padding-left: 0.2em;position: relative;}#sk-container-id-1 div.sk-item {position: relative;z-index: 1;}#sk-container-id-1 div.sk-parallel {display: flex;align-items: stretch;justify-content: center;background-color: white;position: relative;}#sk-container-id-1 div.sk-item::before, #sk-container-id-1 div.sk-parallel-item::before {content: \"\";position: absolute;border-left: 1px solid gray;box-sizing: border-box;top: 0;bottom: 0;left: 50%;z-index: -1;}#sk-container-id-1 div.sk-parallel-item {display: flex;flex-direction: column;z-index: 1;position: relative;background-color: white;}#sk-container-id-1 div.sk-parallel-item:first-child::after {align-self: flex-end;width: 50%;}#sk-container-id-1 div.sk-parallel-item:last-child::after {align-self: flex-start;width: 50%;}#sk-container-id-1 div.sk-parallel-item:only-child::after {width: 0;}#sk-container-id-1 div.sk-dashed-wrapped {border: 1px dashed gray;margin: 0 0.4em 0.5em 0.4em;box-sizing: border-box;padding-bottom: 0.4em;background-color: white;}#sk-container-id-1 div.sk-label label {font-family: monospace;font-weight: bold;display: inline-block;line-height: 1.2em;}#sk-container-id-1 div.sk-label-container {text-align: center;}#sk-container-id-1 div.sk-container {/* jupyter's `normalize.less` sets `[hidden] { display: none; }` but bootstrap.min.css set `[hidden] { display: none !important; }` so we also need the `!important` here to be able to override the default hidden behavior on the sphinx rendered scikit-learn.org. See: https://github.com/scikit-learn/scikit-learn/issues/21755 */display: inline-block !important;position: relative;}#sk-container-id-1 div.sk-text-repr-fallback {display: none;}</style><div id=\"sk-container-id-1\" class=\"sk-top-container\"><div class=\"sk-text-repr-fallback\"><pre>DAGRegressor(max_orders=1000, n_calc_nodes=2, positives=array([ True]))</pre><b>In a Jupyter environment, please rerun this cell to show the HTML representation or trust the notebook. <br />On GitHub, the HTML representation is unable to render, please try loading this page with nbviewer.org.</b></div><div class=\"sk-container\" hidden><div class=\"sk-item\"><div class=\"sk-estimator sk-toggleable\"><input class=\"sk-toggleable__control sk-hidden--visually\" id=\"sk-estimator-id-1\" type=\"checkbox\" checked><label for=\"sk-estimator-id-1\" class=\"sk-toggleable__label sk-toggleable__label-arrow\">DAGRegressor</label><div class=\"sk-toggleable__content\"><pre>DAGRegressor(max_orders=1000, n_calc_nodes=2, positives=array([ True]))</pre></div></div></div></div></div>"
      ],
      "text/plain": [
       "DAGRegressor(max_orders=1000, n_calc_nodes=2, positives=array([ True]))"
      ]
     },
     "execution_count": 12,
     "metadata": {},
     "output_type": "execute_result"
    },
    {
     "data": {
      "text/html": [
       "\n",
       "        <iframe\n",
       "            width=\"100%\"\n",
       "            height=\"400\"\n",
       "            src=\"data:text/html, %3C%21DOCTYPE%20html%3E%0A%20%20%20%20%20%20%20%20%20%20%20%20%3Chtml%3E%0A%20%20%20%20%20%20%20%20%20%20%20%20%3Chead%3E%0A%20%20%20%20%20%20%20%20%20%20%20%20%20%20%20%20%3Cmeta%20charset%3D%22utf-8%22%3E%0A%20%20%20%20%20%20%20%20%20%20%20%20%3C/head%3E%0A%20%20%20%20%20%20%20%20%20%20%20%20%3Cbody%3E%0A%20%20%20%20%20%20%20%20%20%20%20%20%20%20%20%20%3Cdiv%20id%3D%22app%22%3E%3C/div%3E%0A%0A%20%20%20%20%20%20%20%20%20%20%20%20%20%20%20%20%3Cscript%3Evar%20pyinstrumentHTMLRenderer%3Dfunction%28%29%7B%22use%20strict%22%3Bvar%20ct%3DObject.defineProperty%3Bvar%20dt%3D%28R%2CC%2CH%29%3D%3EC%20in%20R%3Fct%28R%2CC%2C%7Benumerable%3A%210%2Cconfigurable%3A%210%2Cwritable%3A%210%2Cvalue%3AH%7D%29%3AR%5BC%5D%3DH%3Bvar%20k%3D%28R%2CC%2CH%29%3D%3E%28dt%28R%2Ctypeof%20C%21%3D%22symbol%22%3FC%2B%22%22%3AC%2CH%29%2CH%29%3Bconst%20R%3D%22%22%3Bfunction%20C%28%29%7B%7Dfunction%20H%28t%29%7Breturn%20t%28%29%7Dfunction%20we%28%29%7Breturn%20Object.create%28null%29%7Dfunction%20O%28t%29%7Bt.forEach%28H%29%7Dfunction%20be%28t%29%7Breturn%20typeof%20t%3D%3D%22function%22%7Dfunction%20K%28t%2Ce%29%7Breturn%20t%21%3Dt%3Fe%3D%3De%3At%21%3D%3De%7C%7Ct%26%26typeof%20t%3D%3D%22object%22%7C%7Ctypeof%20t%3D%3D%22function%22%7Dfunction%20Ie%28t%29%7Breturn%20Object.keys%28t%29.length%3D%3D%3D0%7Dfunction%20Re%28t%2C...e%29%7Bif%28t%3D%3Dnull%29return%20C%3Bconst%20i%3Dt.subscribe%28...e%29%3Breturn%20i.unsubscribe%3F%28%29%3D%3Ei.unsubscribe%28%29%3Ai%7Dfunction%20se%28t%2Ce%2Ci%29%7Bt.%24%24.on_destroy.push%28Re%28e%2Ci%29%29%7Dfunction%20f%28t%2Ce%29%7Bt.appendChild%28e%29%7Dfunction%20X%28t%2Ce%2Ci%29%7Bt.insertBefore%28e%2Ci%7C%7Cnull%29%7Dfunction%20N%28t%29%7Bt.parentNode%26%26t.parentNode.removeChild%28t%29%7Dfunction%20_%28t%29%7Breturn%20document.createElement%28t%29%7Dfunction%20ke%28t%29%7Breturn%20document.createElementNS%28%22http%3A//www.w3.org/2000/svg%22%2Ct%29%7Dfunction%20L%28t%29%7Breturn%20document.createTextNode%28t%29%7Dfunction%20w%28%29%7Breturn%20L%28%22%20%22%29%7Dfunction%20ye%28%29%7Breturn%20L%28%22%22%29%7Dfunction%20W%28t%2Ce%2Ci%2Cn%29%7Breturn%20t.addEventListener%28e%2Ci%2Cn%29%2C%28%29%3D%3Et.removeEventListener%28e%2Ci%2Cn%29%7Dfunction%20Ce%28t%29%7Breturn%20function%28e%29%7Breturn%20e.preventDefault%28%29%2Ct.call%28this%2Ce%29%7D%7Dfunction%20Ee%28t%29%7Breturn%20function%28e%29%7Breturn%20e.stopPropagation%28%29%2Ct.call%28this%2Ce%29%7D%7Dfunction%20m%28t%2Ce%2Ci%29%7Bi%3D%3Dnull%3Ft.removeAttribute%28e%29%3At.getAttribute%28e%29%21%3D%3Di%26%26t.setAttribute%28e%2Ci%29%7Dfunction%20Oe%28t%29%7Breturn%20Array.from%28t.childNodes%29%7Dfunction%20q%28t%2Ce%29%7Be%3D%22%22%2Be%2Ct.wholeText%21%3D%3De%26%26%28t.data%3De%29%7Dfunction%20T%28t%2Ce%2Ci%2Cn%29%7Bi%3D%3D%3Dnull%3Ft.style.removeProperty%28e%29%3At.style.setProperty%28e%2Ci%2Cn%3F%22important%22%3A%22%22%29%7Dfunction%20Q%28t%2Ce%2Ci%29%7Bt.classList%5Bi%3F%22add%22%3A%22remove%22%5D%28e%29%7Dlet%20V%3Bfunction%20Z%28t%29%7BV%3Dt%7Dfunction%20Te%28%29%7Bif%28%21V%29throw%20new%20Error%28%22Function%20called%20outside%20component%20initialization%22%29%3Breturn%20V%7Dfunction%20qe%28t%29%7BTe%28%29.%24%24.on_mount.push%28t%29%7Dfunction%20Ue%28t%29%7BTe%28%29.%24%24.on_destroy.push%28t%29%7Dconst%20Y%3D%5B%5D%2CFe%3D%5B%5D%2Cj%3D%5B%5D%2CSe%3D%5B%5D%2CVe%3DPromise.resolve%28%29%3Blet%20ae%3D%211%3Bfunction%20Ze%28%29%7Bae%7C%7C%28ae%3D%210%2CVe.then%28%24e%29%29%7Dfunction%20ue%28t%29%7Bj.push%28t%29%7Dconst%20fe%3Dnew%20Set%3Blet%20x%3D0%3Bfunction%20%24e%28%29%7Bconst%20t%3DV%3Bdo%7Bfor%28%3Bx%3CY.length%3B%29%7Bconst%20e%3DY%5Bx%5D%3Bx%2B%2B%2CZ%28e%29%2CYe%28e.%24%24%29%7Dfor%28Z%28null%29%2CY.length%3D0%2Cx%3D0%3BFe.length%3B%29Fe.pop%28%29%28%29%3Bfor%28let%20e%3D0%3Be%3Cj.length%3Be%2B%3D1%29%7Bconst%20i%3Dj%5Be%5D%3Bfe.has%28i%29%7C%7C%28fe.add%28i%29%2Ci%28%29%29%7Dj.length%3D0%7Dwhile%28Y.length%29%3Bfor%28%3BSe.length%3B%29Se.pop%28%29%28%29%3Bae%3D%211%2Cfe.clear%28%29%2CZ%28t%29%7Dfunction%20Ye%28t%29%7Bif%28t.fragment%21%3D%3Dnull%29%7Bt.update%28%29%2CO%28t.before_update%29%3Bconst%20e%3Dt.dirty%3Bt.dirty%3D%5B-1%5D%2Ct.fragment%26%26t.fragment.p%28t.ctx%2Ce%29%2Ct.after_update.forEach%28ue%29%7D%7Dconst%20ee%3Dnew%20Set%3Blet%20G%3Bfunction%20ce%28%29%7BG%3D%7Br%3A0%2Cc%3A%5B%5D%2Cp%3AG%7D%7Dfunction%20de%28%29%7BG.r%7C%7CO%28G.c%29%2CG%3DG.p%7Dfunction%20D%28t%2Ce%29%7Bt%26%26t.i%26%26%28ee.delete%28t%29%2Ct.i%28e%29%29%7Dfunction%20z%28t%2Ce%2Ci%2Cn%29%7Bif%28t%26%26t.o%29%7Bif%28ee.has%28t%29%29return%3Bee.add%28t%29%2CG.c.push%28%28%29%3D%3E%7Bee.delete%28t%29%2Cn%26%26%28i%26%26t.d%281%29%2Cn%28%29%29%7D%29%2Ct.o%28e%29%7Delse%20n%26%26n%28%29%7Dfunction%20Je%28t%2Ce%29%7Bz%28t%2C1%2C1%2C%28%29%3D%3E%7Be.delete%28t.key%29%7D%29%7Dfunction%20Ke%28t%2Ce%2Ci%2Cn%2Cs%2Cu%2Cr%2Co%2Ca%2Cl%2Ch%2Cp%29%7Blet%20d%3Dt.length%2Cg%3Du.length%2CA%3Dd%3Bconst%20b%3D%7B%7D%3Bfor%28%3BA--%3B%29b%5Bt%5BA%5D.key%5D%3DA%3Bconst%20F%3D%5B%5D%2Cc%3Dnew%20Map%2Cv%3Dnew%20Map%3Bfor%28A%3Dg%3BA--%3B%29%7Bconst%20y%3Dp%28s%2Cu%2CA%29%2CS%3Di%28y%29%3Blet%20P%3Dr.get%28S%29%3BP%3Fn%26%26P.p%28y%2Ce%29%3A%28P%3Dl%28S%2Cy%29%2CP.c%28%29%29%2Cc.set%28S%2CF%5BA%5D%3DP%29%2CS%20in%20b%26%26v.set%28S%2CMath.abs%28A-b%5BS%5D%29%29%7Dconst%20%24%3Dnew%20Set%2CM%3Dnew%20Set%3Bfunction%20E%28y%29%7BD%28y%2C1%29%2Cy.m%28o%2Ch%29%2Cr.set%28y.key%2Cy%29%2Ch%3Dy.first%2Cg--%7Dfor%28%3Bd%26%26g%3B%29%7Bconst%20y%3DF%5Bg-1%5D%2CS%3Dt%5Bd-1%5D%2CP%3Dy.key%2CB%3DS.key%3By%3D%3D%3DS%3F%28h%3Dy.first%2Cd--%2Cg--%29%3Ac.has%28B%29%3F%21r.has%28P%29%7C%7C%24.has%28P%29%3FE%28y%29%3AM.has%28B%29%3Fd--%3Av.get%28P%29%3Ev.get%28B%29%3F%28M.add%28P%29%2CE%28y%29%29%3A%28%24.add%28B%29%2Cd--%29%3A%28a%28S%2Cr%29%2Cd--%29%7Dfor%28%3Bd--%3B%29%7Bconst%20y%3Dt%5Bd%5D%3Bc.has%28y.key%29%7C%7Ca%28y%2Cr%29%7Dfor%28%3Bg%3B%29E%28F%5Bg-1%5D%29%3Breturn%20F%7Dfunction%20pe%28t%29%7Bt%26%26t.c%28%29%7Dfunction%20te%28t%2Ce%2Ci%2Cn%29%7Bconst%7Bfragment%3As%2Cafter_update%3Au%7D%3Dt.%24%24%3Bs%26%26s.m%28e%2Ci%29%2Cn%7C%7Cue%28%28%29%3D%3E%7Bconst%20r%3Dt.%24%24.on_mount.map%28H%29.filter%28be%29%3Bt.%24%24.on_destroy%3Ft.%24%24.on_destroy.push%28...r%29%3AO%28r%29%2Ct.%24%24.on_mount%3D%5B%5D%7D%29%2Cu.forEach%28ue%29%7Dfunction%20ie%28t%2Ce%29%7Bconst%20i%3Dt.%24%24%3Bi.fragment%21%3D%3Dnull%26%26%28O%28i.on_destroy%29%2Ci.fragment%26%26i.fragment.d%28e%29%2Ci.on_destroy%3Di.fragment%3Dnull%2Ci.ctx%3D%5B%5D%29%7Dfunction%20We%28t%2Ce%29%7Bt.%24%24.dirty%5B0%5D%3D%3D%3D-1%26%26%28Y.push%28t%29%2CZe%28%29%2Ct.%24%24.dirty.fill%280%29%29%2Ct.%24%24.dirty%5Be/31%7C0%5D%7C%3D1%3C%3Ce%2531%7Dfunction%20me%28t%2Ce%2Ci%2Cn%2Cs%2Cu%2Cr%2Co%3D%5B-1%5D%29%7Bconst%20a%3DV%3BZ%28t%29%3Bconst%20l%3Dt.%24%24%3D%7Bfragment%3Anull%2Cctx%3A%5B%5D%2Cprops%3Au%2Cupdate%3AC%2Cnot_equal%3As%2Cbound%3Awe%28%29%2Con_mount%3A%5B%5D%2Con_destroy%3A%5B%5D%2Con_disconnect%3A%5B%5D%2Cbefore_update%3A%5B%5D%2Cafter_update%3A%5B%5D%2Ccontext%3Anew%20Map%28e.context%7C%7C%28a%3Fa.%24%24.context%3A%5B%5D%29%29%2Ccallbacks%3Awe%28%29%2Cdirty%3Ao%2Cskip_bound%3A%211%2Croot%3Ae.target%7C%7Ca.%24%24.root%7D%3Br%26%26r%28l.root%29%3Blet%20h%3D%211%3Bif%28l.ctx%3Di%3Fi%28t%2Ce.props%7C%7C%7B%7D%2C%28p%2Cd%2C...g%29%3D%3E%7Bconst%20A%3Dg.length%3Fg%5B0%5D%3Ad%3Breturn%20l.ctx%26%26s%28l.ctx%5Bp%5D%2Cl.ctx%5Bp%5D%3DA%29%26%26%28%21l.skip_bound%26%26l.bound%5Bp%5D%26%26l.bound%5Bp%5D%28A%29%2Ch%26%26We%28t%2Cp%29%29%2Cd%7D%29%3A%5B%5D%2Cl.update%28%29%2Ch%3D%210%2CO%28l.before_update%29%2Cl.fragment%3Dn%3Fn%28l.ctx%29%3A%211%2Ce.target%29%7Bif%28e.hydrate%29%7Bconst%20p%3DOe%28e.target%29%3Bl.fragment%26%26l.fragment.l%28p%29%2Cp.forEach%28N%29%7Delse%20l.fragment%26%26l.fragment.c%28%29%3Be.intro%26%26D%28t.%24%24.fragment%29%2Cte%28t%2Ce.target%2Ce.anchor%2Ce.customElement%29%2C%24e%28%29%7DZ%28a%29%7Dclass%20he%7B%24destroy%28%29%7Bie%28this%2C1%29%2Cthis.%24destroy%3DC%7D%24on%28e%2Ci%29%7Bif%28%21be%28i%29%29return%20C%3Bconst%20n%3Dthis.%24%24.callbacks%5Be%5D%7C%7C%28this.%24%24.callbacks%5Be%5D%3D%5B%5D%29%3Breturn%20n.push%28i%29%2C%28%29%3D%3E%7Bconst%20s%3Dn.indexOf%28i%29%3Bs%21%3D%3D-1%26%26n.splice%28s%2C1%29%7D%7D%24set%28e%29%7Bthis.%24%24set%26%26%21Ie%28e%29%26%26%28this.%24%24.skip_bound%3D%210%2Cthis.%24%24set%28e%29%2Cthis.%24%24.skip_bound%3D%211%29%7D%7Dconst%20U%3D%5B%5D%3Bfunction%20Pe%28t%2Ce%3DC%29%7Blet%20i%3Bconst%20n%3Dnew%20Set%3Bfunction%20s%28o%29%7Bif%28K%28t%2Co%29%26%26%28t%3Do%2Ci%29%29%7Bconst%20a%3D%21U.length%3Bfor%28const%20l%20of%20n%29l%5B1%5D%28%29%2CU.push%28l%2Ct%29%3Bif%28a%29%7Bfor%28let%20l%3D0%3Bl%3CU.length%3Bl%2B%3D2%29U%5Bl%5D%5B0%5D%28U%5Bl%2B1%5D%29%3BU.length%3D0%7D%7D%7Dfunction%20u%28o%29%7Bs%28o%28t%29%29%7Dfunction%20r%28o%2Ca%3DC%29%7Bconst%20l%3D%5Bo%2Ca%5D%3Breturn%20n.add%28l%29%2Cn.size%3D%3D%3D1%26%26%28i%3De%28s%29%7C%7CC%29%2Co%28t%29%2C%28%29%3D%3E%7Bn.delete%28l%29%2Cn.size%3D%3D%3D0%26%26%28i%28%29%2Ci%3Dnull%29%7D%7Dreturn%7Bset%3As%2Cupdate%3Au%2Csubscribe%3Ar%7D%7Dconst%20De%3DPe%28%7B%7D%29%2Cne%3DPe%28%22absolute%22%29%2Cpt%3D%22%22%3Bfunction%20je%28t%29%7Blet%20e%2Ci%2Cn%2Cs%2Cu%2Cr%2Co%2Ca%2Cl%2Ch%2Cp%2Cd%2Cg%2CA%2Cb%2CF%2Cc%2Cv%2C%24%2CM%2CE%2Cy%2CS%2CP%2CB%2Cre%3Dt%5B0%5D.sampleCount%2B%22%22%2Cve%2CXe%2Cle%2CQe%2Coe%2CAe%2CGe%3Breturn%7Bc%28%29%7Be%3D_%28%22div%22%29%2Ci%3D_%28%22div%22%29%2Cn%3D_%28%22div%22%29%2Cs%3D_%28%22div%22%29%2Cs.textContent%3D%22pyinstrument%22%2Cu%3Dw%28%29%2Cr%3D_%28%22div%22%29%2Co%3D_%28%22label%22%29%2Co.textContent%3D%22Absolute%20time%22%2Ca%3Dw%28%29%2Cl%3D_%28%22input%22%29%2Ch%3Dw%28%29%2Cp%3D_%28%22div%22%29%2Cp.textContent%3D%22Recorded%3A%22%2Cd%3Dw%28%29%2Cg%3D_%28%22div%22%29%2Cg.textContent%3D%60%24%7Bt%5B2%5D%7D%60%2CA%3Dw%28%29%2Cb%3D_%28%22div%22%29%2Cb.textContent%3D%22Duration%3A%22%2CF%3Dw%28%29%2Cc%3D_%28%22div%22%29%2Cc.textContent%3D%60%24%7Bt%5B4%5D%7D%20seconds%60%2Cv%3Dw%28%29%2C%24%3D_%28%22label%22%29%2C%24.textContent%3D%22Proportional%20time%22%2CM%3Dw%28%29%2CE%3D_%28%22input%22%29%2Cy%3Dw%28%29%2CS%3D_%28%22div%22%29%2CS.textContent%3D%22Samples%3A%22%2CP%3Dw%28%29%2CB%3D_%28%22div%22%29%2Cve%3DL%28re%29%2CXe%3Dw%28%29%2Cle%3D_%28%22div%22%29%2Cle.textContent%3D%22CPU%20time%3A%22%2CQe%3Dw%28%29%2Coe%3D_%28%22div%22%29%2Coe.textContent%3D%60%24%7Bt%5B3%5D%7D%20seconds%60%2Cm%28s%2C%22class%22%2C%22title%20svelte-tewt95%22%29%2Cm%28o%2C%22class%22%2C%22metric-label%20svelte-tewt95%22%29%2Cm%28o%2C%22for%22%2C%22absolute%22%29%2Cm%28l%2C%22type%22%2C%22radio%22%29%2Cl.__value%3D%22absolute%22%2Cl.value%3Dl.__value%2Cm%28l%2C%22id%22%2C%22absolute%22%29%2Cm%28l%2C%22name%22%2C%22time-format%22%29%2Cl.checked%3D%210%2Ct%5B6%5D%5B0%5D.push%28l%29%2Cm%28p%2C%22class%22%2C%22metric-label%20svelte-tewt95%22%29%2Cm%28g%2C%22class%22%2C%22metric-value%20svelte-tewt95%22%29%2Cm%28b%2C%22class%22%2C%22metric-label%20svelte-tewt95%22%29%2Cm%28c%2C%22class%22%2C%22metric-value%20svelte-tewt95%22%29%2Cm%28%24%2C%22class%22%2C%22metric-label%20svelte-tewt95%22%29%2Cm%28%24%2C%22for%22%2C%22proportion%22%29%2Cm%28E%2C%22type%22%2C%22radio%22%29%2CE.__value%3D%22proportion%22%2CE.value%3DE.__value%2Cm%28E%2C%22id%22%2C%22proportion%22%29%2Cm%28E%2C%22name%22%2C%22time-format%22%29%2Ct%5B6%5D%5B0%5D.push%28E%29%2Cm%28S%2C%22class%22%2C%22metric-label%20svelte-tewt95%22%29%2Cm%28B%2C%22class%22%2C%22metric-value%20svelte-tewt95%22%29%2Cm%28le%2C%22class%22%2C%22metric-label%20svelte-tewt95%22%29%2Cm%28oe%2C%22class%22%2C%22metric-value%20svelte-tewt95%22%29%2Cm%28r%2C%22class%22%2C%22metrics%20svelte-tewt95%22%29%2Cm%28n%2C%22class%22%2C%22row%20svelte-tewt95%22%29%2Cm%28i%2C%22class%22%2C%22margins%22%29%2Cm%28e%2C%22class%22%2C%22header%20svelte-tewt95%22%29%7D%2Cm%28I%2CJ%29%7BX%28I%2Ce%2CJ%29%2Cf%28e%2Ci%29%2Cf%28i%2Cn%29%2Cf%28n%2Cs%29%2Cf%28n%2Cu%29%2Cf%28n%2Cr%29%2Cf%28r%2Co%29%2Cf%28r%2Ca%29%2Cf%28r%2Cl%29%2Cl.checked%3Dl.__value%3D%3D%3Dt%5B1%5D%2Cf%28r%2Ch%29%2Cf%28r%2Cp%29%2Cf%28r%2Cd%29%2Cf%28r%2Cg%29%2Cf%28r%2CA%29%2Cf%28r%2Cb%29%2Cf%28r%2CF%29%2Cf%28r%2Cc%29%2Cf%28r%2Cv%29%2Cf%28r%2C%24%29%2Cf%28r%2CM%29%2Cf%28r%2CE%29%2CE.checked%3DE.__value%3D%3D%3Dt%5B1%5D%2Cf%28r%2Cy%29%2Cf%28r%2CS%29%2Cf%28r%2CP%29%2Cf%28r%2CB%29%2Cf%28B%2Cve%29%2Cf%28r%2CXe%29%2Cf%28r%2Cle%29%2Cf%28r%2CQe%29%2Cf%28r%2Coe%29%2CAe%7C%7C%28Ge%3D%5BW%28l%2C%22change%22%2Ct%5B5%5D%29%2CW%28E%2C%22change%22%2Ct%5B7%5D%29%5D%2CAe%3D%210%29%7D%2Cp%28I%2C%5BJ%5D%29%7BJ%262%26%26%28l.checked%3Dl.__value%3D%3D%3DI%5B1%5D%29%2CJ%262%26%26%28E.checked%3DE.__value%3D%3D%3DI%5B1%5D%29%2CJ%261%26%26re%21%3D%3D%28re%3DI%5B0%5D.sampleCount%2B%22%22%29%26%26q%28ve%2Cre%29%7D%2Ci%3AC%2Co%3AC%2Cd%28I%29%7BI%26%26N%28e%29%2Ct%5B6%5D%5B0%5D.splice%28t%5B6%5D%5B0%5D.indexOf%28l%29%2C1%29%2Ct%5B6%5D%5B0%5D.splice%28t%5B6%5D%5B0%5D.indexOf%28E%29%2C1%29%2CAe%3D%211%2CO%28Ge%29%7D%7D%7Dfunction%20xe%28t%2Ce%2Ci%29%7Bvar%20p%3Blet%20n%3Bse%28t%2Cne%2Cd%3D%3Ei%281%2Cn%3Dd%29%29%3Blet%7Bsession%3As%7D%3De%3Bconst%20u%3Dnew%20Date%28s.startTime%2A1e3%29.toLocaleString%28%29%2Cr%3D%28p%3Ds.cpuTime%29%3D%3Dnull%3Fvoid%200%3Ap.toLocaleString%28void%200%2C%7BmaximumSignificantDigits%3A3%7D%29%2Co%3Ds.duration.toLocaleString%28void%200%2C%7BmaximumSignificantDigits%3A3%7D%29%2Ca%3D%5B%5B%5D%5D%3Bfunction%20l%28%29%7Bn%3Dthis.__value%2Cne.set%28n%29%7Dfunction%20h%28%29%7Bn%3Dthis.__value%2Cne.set%28n%29%7Dreturn%20t.%24%24set%3Dd%3D%3E%7B%22session%22in%20d%26%26i%280%2Cs%3Dd.session%29%7D%2C%5Bs%2Cn%2Cu%2Cr%2Co%2Cl%2Ca%2Ch%5D%7Dclass%20et%20extends%20he%7Bconstructor%28e%29%7Bsuper%28%29%2Cme%28this%2Ce%2Cxe%2Cje%2CK%2C%7Bsession%3A0%7D%29%7D%7Dconst%20mt%3D%22%22%3Bfunction%20Me%28t%2Ce%2Ci%29%7Bconst%20n%3Dt.slice%28%29%3Breturn%20n%5B14%5D%3De%5Bi%5D%2Cn%7Dfunction%20Le%28t%29%7Blet%20e%2Ci%2Cn%2Cs%2Cu%2Cr%2Co%2Ca%2Cl%2Ch%2Cp%2Cd%2Cg%2CA%2Cb%2CF%3Breturn%7Bc%28%29%7Be%3D_%28%22div%22%29%2Ci%3D_%28%22div%22%29%2Cn%3Dke%28%22svg%22%29%2Cs%3Dke%28%22path%22%29%2Cu%3Dw%28%29%2Cr%3D_%28%22div%22%29%2Co%3DL%28t%5B5%5D%29%2Ca%3Dw%28%29%2Cl%3D_%28%22div%22%29%2Ch%3DL%28t%5B4%5D%29%2Cp%3Dw%28%29%2Cd%3D_%28%22div%22%29%2Cg%3Dw%28%29%2CA%3D_%28%22div%22%29%2CA.textContent%3D%60%24%7Bt%5B9%5D%7D%60%2Cm%28s%2C%22d%22%2C%22M.937-.016L5.793%204.84.937%209.696z%22%29%2Cm%28s%2C%22fill%22%2Ct%5B7%5D%29%2Cm%28s%2C%22fill-rule%22%2C%22evenodd%22%29%2Cm%28s%2C%22fill-opacity%22%2C%22.582%22%29%2Cm%28n%2C%22width%22%2C%226%22%29%2Cm%28n%2C%22height%22%2C%2210%22%29%2Cm%28i%2C%22class%22%2C%22frame-triangle%20svelte-1aphj50%22%29%2CQ%28i%2C%22rotate%22%2Ct%5B2%5D%29%2CT%28i%2C%22visibility%22%2Ct%5B0%5D.children.length%3E0%3F%22visible%22%3A%22hidden%22%29%2Cm%28r%2C%22class%22%2C%22time%20svelte-1aphj50%22%29%2CT%28r%2C%22color%22%2Ct%5B7%5D%29%2CT%28r%2C%22font-weight%22%2Ct%5B0%5D.proportionOfTotal%3C.2%3F500%3A600%29%2Cm%28l%2C%22class%22%2C%22name%20svelte-1aphj50%22%29%2Cm%28d%2C%22class%22%2C%22spacer%22%29%2CT%28d%2C%22flex%22%2C%221%22%29%2Cm%28A%2C%22class%22%2C%22code-position%20svelte-1aphj50%22%29%2Cm%28e%2C%22class%22%2C%22frame-description%20svelte-1aphj50%22%29%2CQ%28e%2C%22application-code%22%2Ct%5B0%5D.isApplicationCode%29%2CQ%28e%2C%22children-visible%22%2Ct%5B2%5D%29%2CT%28e%2C%22padding-left%22%2C%60%24%7Bt%5B1%5D%2A35%7Dpx%60%29%7D%2Cm%28c%2Cv%29%7BX%28c%2Ce%2Cv%29%2Cf%28e%2Ci%29%2Cf%28i%2Cn%29%2Cf%28n%2Cs%29%2Cf%28e%2Cu%29%2Cf%28e%2Cr%29%2Cf%28r%2Co%29%2Cf%28e%2Ca%29%2Cf%28e%2Cl%29%2Cf%28l%2Ch%29%2Cf%28e%2Cp%29%2Cf%28e%2Cd%29%2Cf%28e%2Cg%29%2Cf%28e%2CA%29%2Cb%7C%7C%28F%3DW%28e%2C%22click%22%2CEe%28Ce%28t%5B10%5D%29%29%29%2Cb%3D%210%29%7D%2Cp%28c%2Cv%29%7Bv%26128%26%26m%28s%2C%22fill%22%2Cc%5B7%5D%29%2Cv%264%26%26Q%28i%2C%22rotate%22%2Cc%5B2%5D%29%2Cv%261%26%26T%28i%2C%22visibility%22%2Cc%5B0%5D.children.length%3E0%3F%22visible%22%3A%22hidden%22%29%2Cv%2632%26%26q%28o%2Cc%5B5%5D%29%2Cv%26128%26%26T%28r%2C%22color%22%2Cc%5B7%5D%29%2Cv%261%26%26T%28r%2C%22font-weight%22%2Cc%5B0%5D.proportionOfTotal%3C.2%3F500%3A600%29%2Cv%2616%26%26q%28h%2Cc%5B4%5D%29%2Cv%261%26%26Q%28e%2C%22application-code%22%2Cc%5B0%5D.isApplicationCode%29%2Cv%264%26%26Q%28e%2C%22children-visible%22%2Cc%5B2%5D%29%2Cv%262%26%26T%28e%2C%22padding-left%22%2C%60%24%7Bc%5B1%5D%2A35%7Dpx%60%29%7D%2Cd%28c%29%7Bc%26%26N%28e%29%2Cb%3D%211%2CF%28%29%7D%7D%7Dfunction%20Ne%28t%29%7Blet%20e%2Ci%2Cn%2Cs%2Cu%3Dt%5B0%5D.group.frames.length%2B%22%22%2Cr%2Co%2Ca%2Cl%2Ch%2Cp%3Breturn%7Bc%28%29%7Be%3D_%28%22div%22%29%2Ci%3D_%28%22div%22%29%2Cn%3D_%28%22div%22%29%2Cn.innerHTML%3D%27%3Csvg%20width%3D%226%22%20height%3D%2210%22%3E%3Cpath%20d%3D%22M.937-.016L5.793%204.84.937%209.696z%22%20fill%3D%22%23FFF%22%20fill-rule%3D%22evenodd%22%20fill-opacity%3D%22.582%22%3E%3C/path%3E%3C/svg%3E%27%2Cs%3Dw%28%29%2Cr%3DL%28u%29%2Co%3DL%28%60%20frames%20hidden%0A%20%20%20%20%20%20%20%20%28%60%29%2Ca%3DL%28t%5B6%5D%29%2Cl%3DL%28%22%29%22%29%2Cm%28n%2C%22class%22%2C%22group-triangle%20svelte-1aphj50%22%29%2CQ%28n%2C%22rotate%22%2Ct%5B8%5D%29%2Cm%28i%2C%22class%22%2C%22group-header-button%20svelte-1aphj50%22%29%2Cm%28e%2C%22class%22%2C%22group-header%20svelte-1aphj50%22%29%2CT%28e%2C%22padding-left%22%2C%60%24%7Bt%5B1%5D%2A35%7Dpx%60%29%7D%2Cm%28d%2Cg%29%7BX%28d%2Ce%2Cg%29%2Cf%28e%2Ci%29%2Cf%28i%2Cn%29%2Cf%28i%2Cs%29%2Cf%28i%2Cr%29%2Cf%28i%2Co%29%2Cf%28i%2Ca%29%2Cf%28i%2Cl%29%2Ch%7C%7C%28p%3DW%28e%2C%22click%22%2CEe%28Ce%28t%5B11%5D%29%29%29%2Ch%3D%210%29%7D%2Cp%28d%2Cg%29%7Bg%26256%26%26Q%28n%2C%22rotate%22%2Cd%5B8%5D%29%2Cg%261%26%26u%21%3D%3D%28u%3Dd%5B0%5D.group.frames.length%2B%22%22%29%26%26q%28r%2Cu%29%2Cg%2664%26%26q%28a%2Cd%5B6%5D%29%2Cg%262%26%26T%28e%2C%22padding-left%22%2C%60%24%7Bd%5B1%5D%2A35%7Dpx%60%29%7D%2Cd%28d%29%7Bd%26%26N%28e%29%2Ch%3D%211%2Cp%28%29%7D%7D%7Dfunction%20ze%28t%29%7Blet%20e%3D%5B%5D%2Ci%3Dnew%20Map%2Cn%2Cs%2Cu%3Dt%5B0%5D.children%3Bconst%20r%3Do%3D%3Eo%5B14%5D.identifier%3Bfor%28let%20o%3D0%3Bo%3Cu.length%3Bo%2B%3D1%29%7Blet%20a%3DMe%28t%2Cu%2Co%29%2Cl%3Dr%28a%29%3Bi.set%28l%2Ce%5Bo%5D%3DBe%28l%2Ca%29%29%7Dreturn%7Bc%28%29%7Bfor%28let%20o%3D0%3Bo%3Ce.length%3Bo%2B%3D1%29e%5Bo%5D.c%28%29%3Bn%3Dye%28%29%7D%2Cm%28o%2Ca%29%7Bfor%28let%20l%3D0%3Bl%3Ce.length%3Bl%2B%3D1%29e%5Bl%5D.m%28o%2Ca%29%3BX%28o%2Cn%2Ca%29%2Cs%3D%210%7D%2Cp%28o%2Ca%29%7Ba%2611%26%26%28u%3Do%5B0%5D.children%2Cce%28%29%2Ce%3DKe%28e%2Ca%2Cr%2C1%2Co%2Cu%2Ci%2Cn.parentNode%2CJe%2CBe%2Cn%2CMe%29%2Cde%28%29%29%7D%2Ci%28o%29%7Bif%28%21s%29%7Bfor%28let%20a%3D0%3Ba%3Cu.length%3Ba%2B%3D1%29D%28e%5Ba%5D%29%3Bs%3D%210%7D%7D%2Co%28o%29%7Bfor%28let%20a%3D0%3Ba%3Ce.length%3Ba%2B%3D1%29z%28e%5Ba%5D%29%3Bs%3D%211%7D%2Cd%28o%29%7Bfor%28let%20a%3D0%3Ba%3Ce.length%3Ba%2B%3D1%29e%5Ba%5D.d%28o%29%3Bo%26%26N%28n%29%7D%7D%7Dfunction%20Be%28t%2Ce%29%7Blet%20i%2Cn%2Cs%3Breturn%20n%3Dnew%20He%28%7Bprops%3A%7Bframe%3Ae%5B14%5D%2Cindent%3Ae%5B1%5D%2B%28e%5B3%5D%3F1%3A0%29%7D%7D%29%2C%7Bkey%3At%2Cfirst%3Anull%2Cc%28%29%7Bi%3Dye%28%29%2Cpe%28n.%24%24.fragment%29%2Cthis.first%3Di%7D%2Cm%28u%2Cr%29%7BX%28u%2Ci%2Cr%29%2Cte%28n%2Cu%2Cr%29%2Cs%3D%210%7D%2Cp%28u%2Cr%29%7Be%3Du%3Bconst%20o%3D%7B%7D%3Br%261%26%26%28o.frame%3De%5B14%5D%29%2Cr%2610%26%26%28o.indent%3De%5B1%5D%2B%28e%5B3%5D%3F1%3A0%29%29%2Cn.%24set%28o%29%7D%2Ci%28u%29%7Bs%7C%7C%28D%28n.%24%24.fragment%2Cu%29%2Cs%3D%210%29%7D%2Co%28u%29%7Bz%28n.%24%24.fragment%2Cu%29%2Cs%3D%211%7D%2Cd%28u%29%7Bu%26%26N%28i%29%2Cie%28n%2Cu%29%7D%7D%7Dfunction%20tt%28t%29%7Blet%20e%2Ci%2Cn%2Cs%2Cu%2Cr%2Co%3Dt%5B3%5D%26%26Le%28t%29%2Ca%3Dt%5B0%5D.group%26%26t%5B0%5D.group.rootFrame%3D%3Dt%5B0%5D%26%26t%5B2%5D%26%26Ne%28t%29%2Cl%3Dt%5B2%5D%26%26ze%28t%29%3Breturn%7Bc%28%29%7Be%3D_%28%22div%22%29%2Co%26%26o.c%28%29%2Ci%3Dw%28%29%2Ca%26%26a.c%28%29%2Cn%3Dw%28%29%2Cl%26%26l.c%28%29%2Cs%3Dw%28%29%2Cu%3D_%28%22div%22%29%2Cm%28u%2C%22class%22%2C%22visual-guide%22%29%2CT%28u%2C%22left%22%2C%60%24%7Bt%5B1%5D%2A35%2B21%7Dpx%60%29%2CT%28u%2C%22backgroundColor%22%2Ct%5B7%5D%29%2Cm%28e%2C%22class%22%2C%22frame%20svelte-1aphj50%22%29%7D%2Cm%28h%2Cp%29%7BX%28h%2Ce%2Cp%29%2Co%26%26o.m%28e%2Cnull%29%2Cf%28e%2Ci%29%2Ca%26%26a.m%28e%2Cnull%29%2Cf%28e%2Cn%29%2Cl%26%26l.m%28e%2Cnull%29%2Cf%28e%2Cs%29%2Cf%28e%2Cu%29%2Cr%3D%210%7D%2Cp%28h%2C%5Bp%5D%29%7Bh%5B3%5D%3Fo%3Fo.p%28h%2Cp%29%3A%28o%3DLe%28h%29%2Co.c%28%29%2Co.m%28e%2Ci%29%29%3Ao%26%26%28o.d%281%29%2Co%3Dnull%29%2Ch%5B0%5D.group%26%26h%5B0%5D.group.rootFrame%3D%3Dh%5B0%5D%26%26h%5B2%5D%3Fa%3Fa.p%28h%2Cp%29%3A%28a%3DNe%28h%29%2Ca.c%28%29%2Ca.m%28e%2Cn%29%29%3Aa%26%26%28a.d%281%29%2Ca%3Dnull%29%2Ch%5B2%5D%3Fl%3F%28l.p%28h%2Cp%29%2Cp%264%26%26D%28l%2C1%29%29%3A%28l%3Dze%28h%29%2Cl.c%28%29%2CD%28l%2C1%29%2Cl.m%28e%2Cs%29%29%3Al%26%26%28ce%28%29%2Cz%28l%2C1%2C1%2C%28%29%3D%3E%7Bl%3Dnull%7D%29%2Cde%28%29%29%2Cp%262%26%26T%28u%2C%22left%22%2C%60%24%7Bh%5B1%5D%2A35%2B21%7Dpx%60%29%2Cp%26128%26%26T%28u%2C%22backgroundColor%22%2Ch%5B7%5D%29%7D%2Ci%28h%29%7Br%7C%7C%28D%28l%29%2Cr%3D%210%29%7D%2Co%28h%29%7Bz%28l%29%2Cr%3D%211%7D%2Cd%28h%29%7Bh%26%26N%28e%29%2Co%26%26o.d%28%29%2Ca%26%26a.d%28%29%2Cl%26%26l.d%28%29%7D%7D%7Dfunction%20it%28t%2Ce%2Ci%29%7Blet%20n%2Cs%2Cu%3Bse%28t%2CDe%2Cc%3D%3Ei%2812%2Cs%3Dc%29%29%2Cse%28t%2Cne%2Cc%3D%3Ei%2813%2Cu%3Dc%29%29%3Blet%7Bframe%3Ar%7D%3De%2C%7Bindent%3Ao%3D0%7D%3De%2Ca%3D%210%2Cl%2Ch%3Br.className%3Fh%3D%60%24%7Br.className%7D.%24%7Br.function%7D%60%3Ah%3Dr.function%3Bconst%20p%3D%60%24%7Br.filePathShort%7D%3A%24%7Br.lineNo.toString%28%29.padEnd%284%2C%22%5CxA0%22%29%7D%60%3Blet%20d%2Cg%3Dnull%3Bif%28r.group%29%7Bconst%20c%3Dr.group.libraries%3Bc.length%3C4%3Fg%3Dc.join%28%22%2C%20%22%29%3Ag%3D%60%24%7Bc%5B0%5D%7D%2C%20%24%7Bc%5B1%5D%7D%2C%20%24%7Bc%5B2%5D%7D...%60%7Dlet%20A%3Br.proportionOfTotal%3E.6%3FA%3D%22%23FF4159%22%3Ar.proportionOfTotal%3E.3%3FA%3D%22%23F5A623%22%3Ar.proportionOfTotal%3E.2%3FA%3D%22%23D8CB2A%22%3AA%3D%22%237ED321%22%3Bfunction%20b%28%29%7Bi%282%2Ca%3D%21a%29%7Dfunction%20F%28%29%7BDe.update%28c%3D%3E%7Bvar%20v%3Breturn%7B...c%2C%5B%28v%3Dr.groupId%29%21%3Dnull%3Fv%3A%22%22%5D%3A%21n%7D%7D%29%7Dreturn%20t.%24%24set%3Dc%3D%3E%7B%22frame%22in%20c%26%26i%280%2Cr%3Dc.frame%29%2C%22indent%22in%20c%26%26i%281%2Co%3Dc.indent%29%7D%2Ct.%24%24.update%3D%28%29%3D%3E%7Bvar%20c%2Cv%2C%24%3Bif%28t.%24%24.dirty%264097%26%26%28r.group%3Fs%5B%28c%3Dr.groupId%29%21%3Dnull%3Fc%3A%22%22%5D%7C%7C%28%28v%3Dr.group%29%3D%3Dnull%3Fvoid%200%3Av.rootFrame%29%3D%3D%3Dr%7C%7Cr.children.filter%28M%3D%3E%21M.group%29.length%3E1%3Fi%283%2Cl%3D%210%29%3Ai%283%2Cl%3D%211%29%3Ai%283%2Cl%3D%210%29%29%2Ct.%24%24.dirty%268193%29if%28u%3D%3D%3D%22absolute%22%29i%285%2Cd%3Dr.time.toLocaleString%28void%200%2C%7BminimumFractionDigits%3A3%2CmaximumFractionDigits%3A3%7D%29%29%3Belse%20if%28u%3D%3D%3D%22proportion%22%29i%285%2Cd%3D%60%24%7B%28r.proportionOfTotal%2A100%29.toLocaleString%28void%200%2C%7BminimumFractionDigits%3A1%2CmaximumFractionDigits%3A1%7D%29%7D%25%60%29%3Belse%20throw%20new%20Error%28%22unknown%20timeFormat%22%29%3Bt.%24%24.dirty%264097%26%26i%288%2Cn%3Ds%5B%28%24%3Dr.groupId%29%21%3Dnull%3F%24%3A%22%22%5D%3D%3D%3D%210%29%7D%2C%5Br%2Co%2Ca%2Cl%2Ch%2Cd%2Cg%2CA%2Cn%2Cp%2Cb%2CF%2Cs%2Cu%5D%7Dclass%20He%20extends%20he%7Bconstructor%28e%29%7Bsuper%28%29%2Cme%28this%2Ce%2Cit%2Ctt%2CK%2C%7Bframe%3A0%2Cindent%3A1%7D%29%7D%7Dconst%20nt%3D%22data%3Aimage/png%3Bbase64%2CiVBORw0KGgoAAAANSUhEUgAAACAAAAAgCAYAAABzenr0AAAABGdBTUEAALGPC/xhBQAAADhlWElmTU0AKgAAAAgAAYdpAAQAAAABAAAAGgAAAAAAAqACAAQAAAABAAAAIKADAAQAAAABAAAAIAAAAACPTkDJAAAFPklEQVRYCdWXu4skVRSHb3VXP2bcXUVMBkRMTVww2XQDExEEH4iKiUYGhuJEPgJhUSMzQQSDRVzETNDMTTfUwL/ARUwM1t3pV1WX33eqbnfP9MxOu5kHTt9T93F%2Bv3vOubeqi7QhT1%2B58vhiVn1G19WiaQ6KIqVQOmyT%2Bh9kuUxp2bAAtQkpij9pbw5G5fu/3br1x8ql4NW0%2BrVJzaN29nop9VUeCtoerXpMTj53g%2BAGcINR1YB3RIJMN6dIxd/luLxcZoftzltwAct%2BSiNGh2jJ84BnSQWJTeBNW2C0ZrvufrZA5y2JmuemWkfCjYq5IsC6q2iE2V0LuDdMaYxKZDxo%2ByS3JZkEY%2B5SsAU7P5q1qZNEAxnXGo0NubomQM4dWPnCMAU/fUCnoA7kFjPEPohuqfO6uc%2B%2B0xKSVHUcHDbNwZpAeFyHyMcg408G16mSnwW3b5OEz3rtCAyJnHUQUSEFmMdki0CMmsNOX/gkpf1RSpf223Q43jC2MMw4tFWsjwHzBngsIOT6CaEf7wGKrTo/agFbH8oWAQdkWTF5htGntSDn2h2YBTal/9603Z2%2B%2BswZ0%2B5BZIjdQwfUz5DcGwHVotSfdpYtAg7oUKzaycyo6PjmkA4cRmgBuf5zSj/80kbAuToaYHz9afdgCiCxJF3gpudfZampOyGnEwAwIkEbuROBXEauXZGdYzrEtFTTpx3zHGeewGoFcFxk2Cdlxempy8/oZyXm1KO3R14fIraPXEzpAnXgyVBmRMdjNgdVsqZgxLw9cl4C7m7N%2Bd17pOqIuaj2LKetQzs1Ai3E%2BreRJip4CSnz2wPYHC9wFL66MYko9k8pwgmAU4hqbxZhO6tNXba321V8Uvruc4ZzGgQxErnFNszqItqC0DdpTtzfeqWJ21DwpRp5WkOdHwFJqM4UMLcdeB2AADPUkigSm00VOZixsOL8WfUB3oWd4ZWcT8CpgLz2XkoPX%2BIgEIU%2Bq6K6QZqzqxoAr15vupqC8Air0wm7JwUL2AWJByIAuDXQEGZ1aegRASY4Ppq0AOZZIoZYsLh4zDsa4PSfeA%2BEn/tGQMI5ZTe%2BxClhN%2BQ5z4b67TfZJeATiAQw4J4KwTzCOfT2nSb3JRALAJTEfKPQcrGBG5GwwCLMRCRAXcgiQY1IYD8ogbzuDd5qF7gL%2Bp4ESM05Z//coWXH1oEE5oQkQPOi3EroDDk/Ai40Cp3SRE2AG%2B8MWyOk5h1j7ixnEogPD0dVcv/FVwXXLceKs20K5rCaFk06fKmOD424akkTXUFkVwanEtBZfH7hMK5eCEwBl0DNYHvJ0Idd4MHXr7djkGDtWQV3GqlTCRhybzqv1R4zbA/fXabRfhFAHkvflJO77XivuyElbRHG%2Bh3yL6EtAu4iPkoF5q4veRn1ecEUAwYg0pSyQwAoRk3qz4p4DS%2BwawpxSVHoY9cobBHQtxBBBMBrN/rkvOEC6lF0hF/nKvaS31yE155btLVAFKIidbSDbBMI9HaluzjC4ZKQWHieBIcVPqvbyg/b503Dh91kTcB/LH4Z6wmNI8X2PnyxTkPSUI7JP7MjvE5hTrwDuO%2BrLvT2uXxnAXNNgL9LLHxdB16jOi24XgOEK68EyMKMb/uYRERol1w%2BFmRN67XrWonsKDdzRNPmXzPjbEXHxwWttsCcwpXki8cte91afP7zkdQuYch/zSizVv66ffvOwZNPfLus/YNSPMYuLkZIda66yw3NzwHMeCOBXcBNdVH8OBiXLx/7c5qJrFrK/GOYfETH97Sr/jOM38FnvodDGv8f%2BRcj1XBLIcDKAQAAAABJRU5ErkJggg%3D%3D%22%2Cht%3D%22%22%3Bfunction%20rt%28t%29%7Blet%20e%3Breturn%7Bc%28%29%7Be%3D_%28%22div%22%29%2Ce.textContent%3D%22No%20samples%20recorded.%22%2Cm%28e%2C%22class%22%2C%22error%22%29%7D%2Cm%28i%2Cn%29%7BX%28i%2Ce%2Cn%29%7D%2Cp%3AC%2Ci%3AC%2Co%3AC%2Cd%28i%29%7Bi%26%26N%28e%29%7D%7D%7Dfunction%20lt%28t%29%7Blet%20e%2Ci%3Breturn%20e%3Dnew%20He%28%7Bprops%3A%7Bframe%3At%5B0%5D.rootFrame%7D%7D%29%2C%7Bc%28%29%7Bpe%28e.%24%24.fragment%29%7D%2Cm%28n%2Cs%29%7Bte%28e%2Cn%2Cs%29%2Ci%3D%210%7D%2Cp%28n%2Cs%29%7Bconst%20u%3D%7B%7D%3Bs%261%26%26%28u.frame%3Dn%5B0%5D.rootFrame%29%2Ce.%24set%28u%29%7D%2Ci%28n%29%7Bi%7C%7C%28D%28e.%24%24.fragment%2Cn%29%2Ci%3D%210%29%7D%2Co%28n%29%7Bz%28e.%24%24.fragment%2Cn%29%2Ci%3D%211%7D%2Cd%28n%29%7Bie%28e%2Cn%29%7D%7D%7Dfunction%20ot%28t%29%7Blet%20e%2Ci%2Cn%2Cs%2Cu%2Cr%2Co%2Ca%2Cl%2Ch%2Cp%2Cd%2Cg%3Bi%3Dnew%20et%28%7Bprops%3A%7Bsession%3At%5B0%5D%7D%7D%29%3Bconst%20A%3D%5Blt%2Crt%5D%2Cb%3D%5B%5D%3Bfunction%20F%28c%2Cv%29%7Breturn%20c%5B0%5D.rootFrame%3F0%3A1%7Dreturn%20p%3DF%28t%29%2Cd%3Db%5Bp%5D%3DA%5Bp%5D%28t%29%2C%7Bc%28%29%7Be%3D_%28%22div%22%29%2Cpe%28i.%24%24.fragment%29%2Cn%3Dw%28%29%2Cs%3D_%28%22div%22%29%2Cu%3Dw%28%29%2Cr%3D_%28%22div%22%29%2Co%3D_%28%22div%22%29%2Ca%3D_%28%22span%22%29%2Ca.textContent%3D%22Program%3A%5CxA0%22%2Cl%3DL%28t%5B1%5D%29%2Ch%3Dw%28%29%2Cd.c%28%29%2Cm%28s%2C%22class%22%2C%22spacer%22%29%2CT%28s%2C%22height%22%2C%2220px%22%29%2Cm%28a%2C%22class%22%2C%22label%20svelte-1gm5pcf%22%29%2Cm%28o%2C%22class%22%2C%22program%20svelte-1gm5pcf%22%29%2Cm%28r%2C%22class%22%2C%22margins%22%29%2Cm%28e%2C%22class%22%2C%22app%20svelte-1gm5pcf%22%29%7D%2Cm%28c%2Cv%29%7BX%28c%2Ce%2Cv%29%2Cte%28i%2Ce%2Cnull%29%2Cf%28e%2Cn%29%2Cf%28e%2Cs%29%2Cf%28e%2Cu%29%2Cf%28e%2Cr%29%2Cf%28r%2Co%29%2Cf%28o%2Ca%29%2Cf%28o%2Cl%29%2Cf%28r%2Ch%29%2Cb%5Bp%5D.m%28r%2Cnull%29%2Cg%3D%210%7D%2Cp%28c%2C%5Bv%5D%29%7Bconst%20%24%3D%7B%7D%3Bv%261%26%26%28%24.session%3Dc%5B0%5D%29%2Ci.%24set%28%24%29%2C%28%21g%7C%7Cv%262%29%26%26q%28l%2Cc%5B1%5D%29%3Blet%20M%3Dp%3Bp%3DF%28c%29%2Cp%3D%3D%3DM%3Fb%5Bp%5D.p%28c%2Cv%29%3A%28ce%28%29%2Cz%28b%5BM%5D%2C1%2C1%2C%28%29%3D%3E%7Bb%5BM%5D%3Dnull%7D%29%2Cde%28%29%2Cd%3Db%5Bp%5D%2Cd%3Fd.p%28c%2Cv%29%3A%28d%3Db%5Bp%5D%3DA%5Bp%5D%28c%29%2Cd.c%28%29%29%2CD%28d%2C1%29%2Cd.m%28r%2Cnull%29%29%7D%2Ci%28c%29%7Bg%7C%7C%28D%28i.%24%24.fragment%2Cc%29%2CD%28d%29%2Cg%3D%210%29%7D%2Co%28c%29%7Bz%28i.%24%24.fragment%2Cc%29%2Cz%28d%29%2Cg%3D%211%7D%2Cd%28c%29%7Bc%26%26N%28e%29%2Cie%28i%29%2Cb%5Bp%5D.d%28%29%7D%7D%7Dfunction%20ge%28%29%7Bdocument.body.style.minHeight%3D%60%24%7Bwindow.scrollY%2Bwindow.innerHeight%7Dpx%60%7Dfunction%20st%28t%2Ce%2Ci%29%7Blet%7Bsession%3An%7D%3De%3Bconst%20s%3Ddocument.createElement%28%22link%22%29%3Bs.rel%3D%22shortut%20icon%22%2Cs.href%3Dnt%2Cdocument.head.appendChild%28s%29%2Cqe%28%28%29%3D%3E%7Bwindow.addEventListener%28%22scroll%22%2Cge%29%2Cge%28%29%7D%29%2CUe%28%28%29%3D%3E%7Bwindow.removeEventListener%28%22scroll%22%2Cge%29%7D%29%3Bconst%20u%3Dn.rootFrame%2Cr%3Du%3D%3Dnull%3Fvoid%200%3Au.time.toLocaleString%28void%200%2C%7BmaximumSignificantDigits%3A3%7D%29%3Blet%20o%3Du%3D%3Dnull%3Fvoid%200%3Au.function%3Breturn%20o%3D%3D%22%3Cmodule%3E%22%26%26%28o%3Dn.program%29%2Cdocument.title%3D%60%24%7Br%7Ds%20-%20%24%7Bo%7D%20-%20pyinstrument%60%2Ct.%24%24set%3Da%3D%3E%7B%22session%22in%20a%26%26i%280%2Cn%3Da.session%29%7D%2C%5Bn%2Co%5D%7Dclass%20at%20extends%20he%7Bconstructor%28e%29%7Bsuper%28%29%2Cme%28this%2Ce%2Cst%2Cot%2CK%2C%7Bsession%3A0%7D%29%7D%7Dclass%20ut%7Bconstructor%28e%2Ci%29%7Bk%28this%2C%22id%22%29%3Bk%28this%2C%22rootFrame%22%29%3Bk%28this%2C%22frames%22%2C%5B%5D%29%3Bthis.id%3De%2Cthis.rootFrame%3Di%7DaddFrame%28e%29%7Bthis.frames.push%28e%29%7Dget%20exitFrames%28%29%7Bconst%20e%3D%5B%5D%3Bfor%28const%20i%20of%20this.frames%29%7Blet%20n%3D%211%3Bfor%28const%20s%20of%20i.children%29if%28s.group%21%3Dthis%29%7Bn%3D%210%3Bbreak%7Dn%26%26e.push%28i%29%7Dreturn%20e%7Dget%20libraries%28%29%7Bconst%20e%3D%5B%5D%3Bfor%28const%20i%20of%20this.frames%29%7Bconst%20n%3D/%5E%5B%5E%5C%5C/.%5D%2A/.exec%28i.filePathShort%29%5B0%5D%3Be.includes%28n%29%7C%7Ce.push%28n%29%7Dreturn%20e%7D%7Dclass%20_e%7Bconstructor%28e%2Ci%3Dnull%2Cn%3D%7Bgroups%3A%7B%7D%7D%29%7Bk%28this%2C%22function%22%29%3Bk%28this%2C%22filePath%22%29%3Bk%28this%2C%22filePathShort%22%29%3Bk%28this%2C%22lineNo%22%29%3Bk%28this%2C%22time%22%29%3Bk%28this%2C%22totalTime%22%29%3Bk%28this%2C%22awaitTime%22%29%3Bk%28this%2C%22isApplicationCode%22%29%3Bk%28this%2C%22groupId%22%29%3Bk%28this%2C%22className%22%29%3Bk%28this%2C%22parent%22%29%3Bk%28this%2C%22children%22%29%3Bk%28this%2C%22group%22%29%3Bvar%20s%2Cu%3Bif%28this.parent%3Di%2Cthis.function%3De.function%2Cthis.filePath%3De.file_path%2Cthis.filePathShort%3De.file_path_short%2Cthis.lineNo%3De.line_no%2Cthis.time%3De.time%2Cthis.totalTime%3Dthis.parent%3Fthis.parent.totalTime%3Athis.time%2Cthis.awaitTime%3De.await_time%2Cthis.isApplicationCode%3De.is_application_code%2Cthis.groupId%3D%28s%3De.group_id%29%21%3Dnull%3Fs%3Anull%2Cthis.className%3D%28u%3De.class_name%29%21%3Dnull%3Fu%3Anull%2Ce.group_id%29%7Bconst%20r%3De.group_id%3Blet%20o%3Dn.groups%5Br%5D%3Bo%7C%7C%28o%3Dn.groups%5Br%5D%3Dnew%20ut%28r%2Cthis%29%29%2Co.addFrame%28this%29%2Cthis.group%3Dn.groups%5Br%5D%7Delse%20this.group%3Dnull%3Bthis.children%3De.children.map%28r%3D%3Enew%20_e%28r%2Cthis%2Cn%29%29%7Dget%20identifier%28%29%7Breturn%60%24%7Bthis.function%7D%3A%24%7Bthis.filePath%7D%3A%24%7Bthis.lineNo%7D%60%7Dget%20proportionOfTotal%28%29%7Breturn%20this.time/this.totalTime%7D%7Dclass%20ft%7Bconstructor%28e%29%7Bk%28this%2C%22startTime%22%29%3Bk%28this%2C%22duration%22%29%3Bk%28this%2C%22sampleCount%22%29%3Bk%28this%2C%22program%22%29%3Bk%28this%2C%22cpuTime%22%29%3Bk%28this%2C%22rootFrame%22%29%3Bthis.startTime%3De.start_time%2Cthis.duration%3De.duration%2Cthis.sampleCount%3De.sample_count%2Cthis.program%3De.program%2Cthis.cpuTime%3De.cpu_time%2Cthis.rootFrame%3De.root_frame%3Fnew%20_e%28e.root_frame%29%3Anull%7D%7Dreturn%7Brender%28t%2Ce%29%7Bconst%20i%3Dnew%20ft%28e%29%3Breturn%20new%20at%28%7Btarget%3At%2Cprops%3A%7Bsession%3Ai%7D%7D%29%7D%7D%7D%28%29%3B%0A%3C/script%3E%0A%20%20%20%20%20%20%20%20%20%20%20%20%20%20%20%20%3Cstyle%3E%40import%22https%3A//fonts.googleapis.com/css%3Ffamily%3DSource%2BCode%2BPro%3A400%2C600%7CSource%2BSans%2BPro%3A400%2C600%22%3Bhtml%2Cbody%7Bbackground-color%3A%23303538%3Bcolor%3A%23fff%3Bpadding%3A0%3Bmargin%3A0%7D.margins%7Bpadding%3A0%2030px%7D.header.svelte-tewt95%7Bbackground%3A%23292f32%7D.row.svelte-tewt95%7Bdisplay%3Aflex%3Balign-items%3Acenter%7D.title.svelte-tewt95%7Bfont-size%3A34px%3Bpadding-top%3A20px%3Bpadding-bottom%3A16px%3Bwhite-space%3Anowrap%3Boverflow%3Ahidden%3Btext-overflow%3Aellipsis%3Bmargin-right%3A10px%3Bflex%3A1%7D.metrics.svelte-tewt95%7Bdisplay%3Agrid%3Bgrid-template-columns%3Aauto%20auto%20auto%20auto%20auto%20auto%3Bfont-size%3A14px%3Btext-transform%3Auppercase%3Bgrid-gap%3A1px%208px%7D.metric-label.svelte-tewt95%7Bfont-weight%3A600%3Bcolor%3A%23a9abad%7D.metric-value.svelte-tewt95%7Bcolor%3A%23737779%3Bmargin-right%3A.5em%7D.frame.svelte-1aphj50.svelte-1aphj50%7Bfont-family%3ASource%20Code%20Pro%2CRoboto%20Mono%2CConsolas%2CMonaco%2Cmonospace%3Bfont-size%3A15px%3Bz-index%3A0%3Bposition%3Arelative%3Buser-select%3Anone%7D.group-header.svelte-1aphj50.svelte-1aphj50%7Bmargin-left%3A35px%7D.group-header-button.svelte-1aphj50.svelte-1aphj50%7Bdisplay%3Ainline-block%3Bcolor%3A%23ffffff94%3Buser-select%3Anone%3Bcursor%3Adefault%3Bposition%3Arelative%7D.group-header-button.svelte-1aphj50.svelte-1aphj50%3Abefore%7Bposition%3Aabsolute%3Bleft%3A-3px%3Bright%3A-3px%3Btop%3A0px%3Bbottom%3A-1px%3Bcontent%3A%22%22%3Bz-index%3A-1%3Bbackground-color%3A%233b4043%7D.group-header-button.svelte-1aphj50.svelte-1aphj50%3Ahover%3Abefore%7Bbackground-color%3A%234a4f54%7D.group-triangle.svelte-1aphj50.svelte-1aphj50%2C.frame-triangle.svelte-1aphj50.svelte-1aphj50%7Bwidth%3A6px%3Bheight%3A10px%3Bpadding-left%3A6px%3Bpadding-right%3A5px%3Bdisplay%3Ainline-block%7D.group-triangle.rotate.svelte-1aphj50.svelte-1aphj50%2C.frame-triangle.rotate.svelte-1aphj50.svelte-1aphj50%7Btransform%3Atranslate%286px%2C4px%29%20rotate%2890deg%29%7D.frame-description.svelte-1aphj50.svelte-1aphj50%7Bdisplay%3Aflex%7D.frame-description.svelte-1aphj50.svelte-1aphj50%3Ahover%3Abefore%7Bposition%3Aabsolute%3Bleft%3A-3px%3Bright%3A-3px%3Btop%3A-1px%3Bheight%3A22px%3Bcontent%3A%22%22%3Bz-index%3A-1%3Bbackground-color%3A%23354759%3Bopacity%3A.5%7D.frame-triangle.svelte-1aphj50.svelte-1aphj50%7Bopacity%3A1%7D.frame-description.children-visible.svelte-1aphj50%20.frame-triangle.svelte-1aphj50%7Bopacity%3A0%7D.frame-description.children-visible.svelte-1aphj50%3Ahover%20.frame-triangle.svelte-1aphj50%7Bopacity%3A1%7D.name.svelte-1aphj50.svelte-1aphj50%2C.time.svelte-1aphj50.svelte-1aphj50%2C.code-position.svelte-1aphj50.svelte-1aphj50%7Buser-select%3Atext%3Bcursor%3Adefault%7D.application-code.svelte-1aphj50%20.name.svelte-1aphj50%7Bcolor%3A%235db3ff%7D.time.svelte-1aphj50.svelte-1aphj50%7Bmargin-right%3A.55em%3Bcolor%3A%23b8e98685%7D.code-position.svelte-1aphj50.svelte-1aphj50%7Bcolor%3A%23ffffff80%3Btext-align%3Aright%3Bmargin-left%3A1em%7D.visual-guide%7Btop%3A21px%3Bbottom%3A0%3Bleft%3A0%3Bwidth%3A2px%3Bbackground-color%3A%23fff%3Bposition%3Aabsolute%3Bopacity%3A.08%7D.frame-description%3Ahover~.visual-guide%7Bopacity%3A.4%7D.frame-description%3Ahover~.children%20.visual-guide%7Bopacity%3A.1%7D.app.svelte-1gm5pcf.svelte-1gm5pcf%7Bfont-family%3ASource%20Sans%20Pro%2CHelvetica%2CArial%2Csans-serif%3B-webkit-font-smoothing%3Aantialiased%3B-moz-osx-font-smoothing%3Agrayscale%7D.program.svelte-1gm5pcf.svelte-1gm5pcf%7Bfont-size%3A14px%3Bfont-weight%3A600%3Bmargin-bottom%3A16px%3Bcolor%3A%23b4b4b4%7D.program.svelte-1gm5pcf%20.label.svelte-1gm5pcf%7Bcolor%3A%23eaeaea%3Btext-transform%3Auppercase%7D%0A%3C/style%3E%0A%0A%20%20%20%20%20%20%20%20%20%20%20%20%20%20%20%20%3Cscript%3E%0A%20%20%20%20%20%20%20%20%20%20%20%20%20%20%20%20%20%20%20%20const%20sessionData%20%3D%20%7B%22start_time%22%3A%201717691686.098800%2C%22duration%22%3A%2033.332720%2C%22sample_count%22%3A%2032175%2C%22program%22%3A%20%22C%3A%5C%5CUsers%5C%5CPaul%20Kahlmeyer%5C%5Canaconda3%5C%5Cenvs%5C%5CSymbReg%5C%5Clib%5C%5Csite-packages%5C%5Cipykernel_launcher.py%20-f%20C%3A%5C%5CUsers%5C%5CPaul%20Kahlmeyer%5C%5CAppData%5C%5CRoaming%5C%5Cjupyter%5C%5Cruntime%5C%5Ckernel-a0361ae3-c4e6-48ef-973c-81f1b6793963.json%22%2C%22cpu_time%22%3A%2031.046875%2C%22root_frame%22%3A%20%7B%22function%22%3A%20%22%3Ccell%20line%3A%202%3E%22%2C%22file_path_short%22%3A%20%22..%5C%5C..%5C%5C..%5C%5CAppData%5C%5CLocal%5C%5CTemp%5C%5Cipykernel_24216%5C%5C2300451065.py%22%2C%22file_path%22%3A%20%22C%3A%5C%5CUsers%5C%5CPaul%20Kahlmeyer%5C%5CAppData%5C%5CLocal%5C%5CTemp%5C%5Cipykernel_24216%5C%5C2300451065.py%22%2C%22line_no%22%3A%202%2C%22time%22%3A%2033.343889%2C%22await_time%22%3A%200.000000%2C%22is_application_code%22%3A%20true%2C%22children%22%3A%20%5B%7B%22function%22%3A%20%22fit%22%2C%22file_path_short%22%3A%20%22dag_search.py%22%2C%22file_path%22%3A%20%22C%3A%5C%5CUsers%5C%5CPaul%20Kahlmeyer%5C%5COneDrive%5C%5CPhD%5C%5CDAG_search%5C%5CDAG_search%5C%5Cdag_search.py%22%2C%22line_no%22%3A%201711%2C%22time%22%3A%2033.343889%2C%22await_time%22%3A%200.000000%2C%22is_application_code%22%3A%20true%2C%22children%22%3A%20%5B%7B%22function%22%3A%20%22exhaustive_search%22%2C%22file_path_short%22%3A%20%22dag_search.py%22%2C%22file_path%22%3A%20%22C%3A%5C%5CUsers%5C%5CPaul%20Kahlmeyer%5C%5COneDrive%5C%5CPhD%5C%5CDAG_search%5C%5CDAG_search%5C%5Cdag_search.py%22%2C%22line_no%22%3A%201046%2C%22time%22%3A%2033.334881%2C%22await_time%22%3A%200.000000%2C%22is_application_code%22%3A%20true%2C%22children%22%3A%20%5B%7B%22function%22%3A%20%22evaluate_build_order%22%2C%22file_path_short%22%3A%20%22dag_search.py%22%2C%22file_path%22%3A%20%22C%3A%5C%5CUsers%5C%5CPaul%20Kahlmeyer%5C%5COneDrive%5C%5CPhD%5C%5CDAG_search%5C%5CDAG_search%5C%5Cdag_search.py%22%2C%22line_no%22%3A%20768%2C%22time%22%3A%2033.318759%2C%22await_time%22%3A%200.000000%2C%22is_application_code%22%3A%20true%2C%22children%22%3A%20%5B%7B%22function%22%3A%20%22evaluate_cgraph%22%2C%22file_path_short%22%3A%20%22dag_search.py%22%2C%22file_path%22%3A%20%22C%3A%5C%5CUsers%5C%5CPaul%20Kahlmeyer%5C%5COneDrive%5C%5CPhD%5C%5CDAG_search%5C%5CDAG_search%5C%5Cdag_search.py%22%2C%22line_no%22%3A%20717%2C%22time%22%3A%2032.932562%2C%22await_time%22%3A%200.000000%2C%22is_application_code%22%3A%20true%2C%22children%22%3A%20%5B%7B%22function%22%3A%20%22get_consts_grid_zoom%22%2C%22file_path_short%22%3A%20%22dag_search.py%22%2C%22file_path%22%3A%20%22C%3A%5C%5CUsers%5C%5CPaul%20Kahlmeyer%5C%5COneDrive%5C%5CPhD%5C%5CDAG_search%5C%5CDAG_search%5C%5Cdag_search.py%22%2C%22line_no%22%3A%20384%2C%22time%22%3A%2032.907527%2C%22await_time%22%3A%200.000000%2C%22is_application_code%22%3A%20true%2C%22children%22%3A%20%5B%7B%22function%22%3A%20%22get_consts_grid%22%2C%22file_path_short%22%3A%20%22dag_search.py%22%2C%22file_path%22%3A%20%22C%3A%5C%5CUsers%5C%5CPaul%20Kahlmeyer%5C%5COneDrive%5C%5CPhD%5C%5CDAG_search%5C%5CDAG_search%5C%5Cdag_search.py%22%2C%22line_no%22%3A%20346%2C%22time%22%3A%2032.611360%2C%22await_time%22%3A%200.000000%2C%22is_application_code%22%3A%20true%2C%22children%22%3A%20%5B%7B%22function%22%3A%20%22__call__%22%2C%22file_path_short%22%3A%20%22dag_search.py%22%2C%22file_path%22%3A%20%22C%3A%5C%5CUsers%5C%5CPaul%20Kahlmeyer%5C%5COneDrive%5C%5CPhD%5C%5CDAG_search%5C%5CDAG_search%5C%5Cdag_search.py%22%2C%22line_no%22%3A%2068%2C%22time%22%3A%2021.981233%2C%22await_time%22%3A%200.000000%2C%22is_application_code%22%3A%20true%2C%22children%22%3A%20%5B%7B%22function%22%3A%20%22evaluate%22%2C%22file_path_short%22%3A%20%22comp_graph.py%22%2C%22file_path%22%3A%20%22C%3A%5C%5CUsers%5C%5CPaul%20Kahlmeyer%5C%5COneDrive%5C%5CPhD%5C%5CDAG_search%5C%5CDAG_search%5C%5Ccomp_graph.py%22%2C%22line_no%22%3A%20471%2C%22time%22%3A%2015.791291%2C%22await_time%22%3A%200.000000%2C%22is_application_code%22%3A%20true%2C%22children%22%3A%20%5B%7B%22function%22%3A%20%22%5Bself%5D%22%2C%22file_path_short%22%3A%20%22comp_graph.py%22%2C%22file_path%22%3A%20%22%22%2C%22line_no%22%3A%200%2C%22time%22%3A%208.705144%2C%22await_time%22%3A%200.000000%2C%22is_application_code%22%3A%20false%2C%22children%22%3A%20%5B%5D%7D%2C%7B%22function%22%3A%20%22repeat%22%2C%22file_path_short%22%3A%20%22numpy%5C%5Ccore%5C%5Cfromnumeric.py%22%2C%22file_path%22%3A%20%22C%3A%5C%5CUsers%5C%5CPaul%20Kahlmeyer%5C%5Canaconda3%5C%5Cenvs%5C%5CSymbReg%5C%5Clib%5C%5Csite-packages%5C%5Cnumpy%5C%5Ccore%5C%5Cfromnumeric.py%22%2C%22line_no%22%3A%20423%2C%22time%22%3A%203.236649%2C%22await_time%22%3A%200.000000%2C%22is_application_code%22%3A%20false%2C%22children%22%3A%20%5B%7B%22function%22%3A%20%22_wrapfunc%22%2C%22file_path_short%22%3A%20%22numpy%5C%5Ccore%5C%5Cfromnumeric.py%22%2C%22file_path%22%3A%20%22C%3A%5C%5CUsers%5C%5CPaul%20Kahlmeyer%5C%5Canaconda3%5C%5Cenvs%5C%5CSymbReg%5C%5Clib%5C%5Csite-packages%5C%5Cnumpy%5C%5Ccore%5C%5Cfromnumeric.py%22%2C%22line_no%22%3A%2053%2C%22time%22%3A%203.110613%2C%22await_time%22%3A%200.000000%2C%22is_application_code%22%3A%20false%2C%22children%22%3A%20%5B%7B%22function%22%3A%20%22ndarray.repeat%22%2C%22file_path_short%22%3A%20%22%3Cbuilt-in%3E%22%2C%22file_path%22%3A%20%22%3Cbuilt-in%3E%22%2C%22line_no%22%3A%200%2C%22time%22%3A%202.955556%2C%22await_time%22%3A%200.000000%2C%22is_application_code%22%3A%20false%2C%22children%22%3A%20%5B%5D%2C%22group_id%22%3A%20%2226dc328f-73b0-4c05-99df-5cafa2f6602b%22%7D%5D%2C%22group_id%22%3A%20%2226dc328f-73b0-4c05-99df-5cafa2f6602b%22%7D%5D%2C%22group_id%22%3A%20%2226dc328f-73b0-4c05-99df-5cafa2f6602b%22%7D%2C%7B%22function%22%3A%20%22stack%22%2C%22file_path_short%22%3A%20%22numpy%5C%5Ccore%5C%5Cshape_base.py%22%2C%22file_path%22%3A%20%22C%3A%5C%5CUsers%5C%5CPaul%20Kahlmeyer%5C%5Canaconda3%5C%5Cenvs%5C%5CSymbReg%5C%5Clib%5C%5Csite-packages%5C%5Cnumpy%5C%5Ccore%5C%5Cshape_base.py%22%2C%22line_no%22%3A%20372%2C%22time%22%3A%200.994222%2C%22await_time%22%3A%200.000000%2C%22is_application_code%22%3A%20false%2C%22children%22%3A%20%5B%7B%22function%22%3A%20%22%5Bself%5D%22%2C%22file_path_short%22%3A%20%22numpy%5C%5Ccore%5C%5Cshape_base.py%22%2C%22file_path%22%3A%20%22%22%2C%22line_no%22%3A%200%2C%22time%22%3A%200.787222%2C%22await_time%22%3A%200.000000%2C%22is_application_code%22%3A%20false%2C%22children%22%3A%20%5B%5D%2C%22group_id%22%3A%20%225abe7347-7fb5-46db-98a5-47ac62d163b8%22%7D%5D%2C%22group_id%22%3A%20%225abe7347-7fb5-46db-98a5-47ac62d163b8%22%7D%2C%7B%22function%22%3A%20%22simplefilter%22%2C%22file_path_short%22%3A%20%22warnings.py%22%2C%22file_path%22%3A%20%22C%3A%5C%5CUsers%5C%5CPaul%20Kahlmeyer%5C%5Canaconda3%5C%5Cenvs%5C%5CSymbReg%5C%5Clib%5C%5Cwarnings.py%22%2C%22line_no%22%3A%20165%2C%22time%22%3A%200.519249%2C%22await_time%22%3A%200.000000%2C%22is_application_code%22%3A%20false%2C%22children%22%3A%20%5B%5D%7D%2C%7B%22function%22%3A%20%22%3Clambda%3E%22%2C%22file_path_short%22%3A%20%22config.py%22%2C%22file_path%22%3A%20%22C%3A%5C%5CUsers%5C%5CPaul%20Kahlmeyer%5C%5COneDrive%5C%5CPhD%5C%5CDAG_search%5C%5CDAG_search%5C%5Cconfig.py%22%2C%22line_no%22%3A%2017%2C%22time%22%3A%200.350171%2C%22await_time%22%3A%200.000000%2C%22is_application_code%22%3A%20true%2C%22children%22%3A%20%5B%5D%7D%5D%2C%22class_name%22%3A%20%22CompGraph%22%7D%2C%7B%22function%22%3A%20%22mean%22%2C%22file_path_short%22%3A%20%22numpy%5C%5Ccore%5C%5Cfromnumeric.py%22%2C%22file_path%22%3A%20%22C%3A%5C%5CUsers%5C%5CPaul%20Kahlmeyer%5C%5Canaconda3%5C%5Cenvs%5C%5CSymbReg%5C%5Clib%5C%5Csite-packages%5C%5Cnumpy%5C%5Ccore%5C%5Cfromnumeric.py%22%2C%22line_no%22%3A%203385%2C%22time%22%3A%202.721138%2C%22await_time%22%3A%200.000000%2C%22is_application_code%22%3A%20false%2C%22children%22%3A%20%5B%7B%22function%22%3A%20%22_mean%22%2C%22file_path_short%22%3A%20%22numpy%5C%5Ccore%5C%5C_methods.py%22%2C%22file_path%22%3A%20%22C%3A%5C%5CUsers%5C%5CPaul%20Kahlmeyer%5C%5Canaconda3%5C%5Cenvs%5C%5CSymbReg%5C%5Clib%5C%5Csite-packages%5C%5Cnumpy%5C%5Ccore%5C%5C_methods.py%22%2C%22line_no%22%3A%20101%2C%22time%22%3A%202.537631%2C%22await_time%22%3A%200.000000%2C%22is_application_code%22%3A%20false%2C%22children%22%3A%20%5B%7B%22function%22%3A%20%22ufunc.reduce%22%2C%22file_path_short%22%3A%20%22%3Cbuilt-in%3E%22%2C%22file_path%22%3A%20%22%3Cbuilt-in%3E%22%2C%22line_no%22%3A%200%2C%22time%22%3A%200.779032%2C%22await_time%22%3A%200.000000%2C%22is_application_code%22%3A%20false%2C%22children%22%3A%20%5B%5D%2C%22group_id%22%3A%20%22743201da-fc89-4443-998a-be9d38048676%22%7D%2C%7B%22function%22%3A%20%22%5Bself%5D%22%2C%22file_path_short%22%3A%20%22numpy%5C%5Ccore%5C%5C_methods.py%22%2C%22file_path%22%3A%20%22%22%2C%22line_no%22%3A%200%2C%22time%22%3A%200.765987%2C%22await_time%22%3A%200.000000%2C%22is_application_code%22%3A%20false%2C%22children%22%3A%20%5B%5D%2C%22group_id%22%3A%20%22743201da-fc89-4443-998a-be9d38048676%22%7D%5D%2C%22group_id%22%3A%20%22743201da-fc89-4443-998a-be9d38048676%22%7D%5D%2C%22group_id%22%3A%20%22743201da-fc89-4443-998a-be9d38048676%22%7D%2C%7B%22function%22%3A%20%22%5Bself%5D%22%2C%22file_path_short%22%3A%20%22dag_search.py%22%2C%22file_path%22%3A%20%22%22%2C%22line_no%22%3A%200%2C%22time%22%3A%202.631818%2C%22await_time%22%3A%200.000000%2C%22is_application_code%22%3A%20false%2C%22children%22%3A%20%5B%5D%7D%5D%2C%22class_name%22%3A%20%22MSE_loss_fkt%22%7D%2C%7B%22function%22%3A%20%22stack%22%2C%22file_path_short%22%3A%20%22numpy%5C%5Ccore%5C%5Cshape_base.py%22%2C%22file_path%22%3A%20%22C%3A%5C%5CUsers%5C%5CPaul%20Kahlmeyer%5C%5Canaconda3%5C%5Cenvs%5C%5CSymbReg%5C%5Clib%5C%5Csite-packages%5C%5Cnumpy%5C%5Ccore%5C%5Cshape_base.py%22%2C%22line_no%22%3A%20372%2C%22time%22%3A%206.053696%2C%22await_time%22%3A%200.000000%2C%22is_application_code%22%3A%20false%2C%22children%22%3A%20%5B%7B%22function%22%3A%20%22%5Bself%5D%22%2C%22file_path_short%22%3A%20%22numpy%5C%5Ccore%5C%5Cshape_base.py%22%2C%22file_path%22%3A%20%22%22%2C%22line_no%22%3A%200%2C%22time%22%3A%202.638600%2C%22await_time%22%3A%200.000000%2C%22is_application_code%22%3A%20false%2C%22children%22%3A%20%5B%5D%2C%22group_id%22%3A%20%22c83cd30b-2756-4204-8a56-1d1b883ce705%22%7D%2C%7B%22function%22%3A%20%22%3Clistcomp%3E%22%2C%22file_path_short%22%3A%20%22numpy%5C%5Ccore%5C%5Cshape_base.py%22%2C%22file_path%22%3A%20%22C%3A%5C%5CUsers%5C%5CPaul%20Kahlmeyer%5C%5Canaconda3%5C%5Cenvs%5C%5CSymbReg%5C%5Clib%5C%5Csite-packages%5C%5Cnumpy%5C%5Ccore%5C%5Cshape_base.py%22%2C%22line_no%22%3A%20443%2C%22time%22%3A%201.428641%2C%22await_time%22%3A%200.000000%2C%22is_application_code%22%3A%20false%2C%22children%22%3A%20%5B%7B%22function%22%3A%20%22%5Bself%5D%22%2C%22file_path_short%22%3A%20%22numpy%5C%5Ccore%5C%5Cshape_base.py%22%2C%22file_path%22%3A%20%22%22%2C%22line_no%22%3A%200%2C%22time%22%3A%200.837944%2C%22await_time%22%3A%200.000000%2C%22is_application_code%22%3A%20false%2C%22children%22%3A%20%5B%5D%2C%22group_id%22%3A%20%22c83cd30b-2756-4204-8a56-1d1b883ce705%22%7D%2C%7B%22function%22%3A%20%22asanyarray%22%2C%22file_path_short%22%3A%20%22%3Cbuilt-in%3E%22%2C%22file_path%22%3A%20%22%3Cbuilt-in%3E%22%2C%22line_no%22%3A%200%2C%22time%22%3A%200.590698%2C%22await_time%22%3A%200.000000%2C%22is_application_code%22%3A%20false%2C%22children%22%3A%20%5B%5D%2C%22group_id%22%3A%20%22c83cd30b-2756-4204-8a56-1d1b883ce705%22%7D%5D%2C%22group_id%22%3A%20%22c83cd30b-2756-4204-8a56-1d1b883ce705%22%7D%2C%7B%22function%22%3A%20%22%3Clistcomp%3E%22%2C%22file_path_short%22%3A%20%22numpy%5C%5Ccore%5C%5Cshape_base.py%22%2C%22file_path%22%3A%20%22C%3A%5C%5CUsers%5C%5CPaul%20Kahlmeyer%5C%5Canaconda3%5C%5Cenvs%5C%5CSymbReg%5C%5Clib%5C%5Csite-packages%5C%5Cnumpy%5C%5Ccore%5C%5Cshape_base.py%22%2C%22line_no%22%3A%20455%2C%22time%22%3A%201.341890%2C%22await_time%22%3A%200.000000%2C%22is_application_code%22%3A%20false%2C%22children%22%3A%20%5B%5D%2C%22group_id%22%3A%20%22c83cd30b-2756-4204-8a56-1d1b883ce705%22%7D%2C%7B%22function%22%3A%20%22%3Csetcomp%3E%22%2C%22file_path_short%22%3A%20%22numpy%5C%5Ccore%5C%5Cshape_base.py%22%2C%22file_path%22%3A%20%22C%3A%5C%5CUsers%5C%5CPaul%20Kahlmeyer%5C%5Canaconda3%5C%5Cenvs%5C%5CSymbReg%5C%5Clib%5C%5Csite-packages%5C%5Cnumpy%5C%5Ccore%5C%5Cshape_base.py%22%2C%22line_no%22%3A%20447%2C%22time%22%3A%200.604491%2C%22await_time%22%3A%200.000000%2C%22is_application_code%22%3A%20false%2C%22children%22%3A%20%5B%5D%2C%22group_id%22%3A%20%22c83cd30b-2756-4204-8a56-1d1b883ce705%22%7D%5D%2C%22group_id%22%3A%20%22c83cd30b-2756-4204-8a56-1d1b883ce705%22%7D%2C%7B%22function%22%3A%20%22linspace%22%2C%22file_path_short%22%3A%20%22numpy%5C%5Ccore%5C%5Cfunction_base.py%22%2C%22file_path%22%3A%20%22C%3A%5C%5CUsers%5C%5CPaul%20Kahlmeyer%5C%5Canaconda3%5C%5Cenvs%5C%5CSymbReg%5C%5Clib%5C%5Csite-packages%5C%5Cnumpy%5C%5Ccore%5C%5Cfunction_base.py%22%2C%22line_no%22%3A%2024%2C%22time%22%3A%201.570427%2C%22await_time%22%3A%200.000000%2C%22is_application_code%22%3A%20false%2C%22children%22%3A%20%5B%7B%22function%22%3A%20%22%5Bself%5D%22%2C%22file_path_short%22%3A%20%22numpy%5C%5Ccore%5C%5Cfunction_base.py%22%2C%22file_path%22%3A%20%22%22%2C%22line_no%22%3A%200%2C%22time%22%3A%201.183283%2C%22await_time%22%3A%200.000000%2C%22is_application_code%22%3A%20false%2C%22children%22%3A%20%5B%5D%2C%22group_id%22%3A%20%22ae3053c2-7da1-408d-a1e8-0ac7aee404f5%22%7D%5D%2C%22group_id%22%3A%20%22ae3053c2-7da1-408d-a1e8-0ac7aee404f5%22%7D%2C%7B%22function%22%3A%20%22%5Bself%5D%22%2C%22file_path_short%22%3A%20%22dag_search.py%22%2C%22file_path%22%3A%20%22%22%2C%22line_no%22%3A%200%2C%22time%22%3A%201.068429%2C%22await_time%22%3A%200.000000%2C%22is_application_code%22%3A%20false%2C%22children%22%3A%20%5B%5D%7D%2C%7B%22function%22%3A%20%22meshgrid%22%2C%22file_path_short%22%3A%20%22numpy%5C%5Clib%5C%5Cfunction_base.py%22%2C%22file_path%22%3A%20%22C%3A%5C%5CUsers%5C%5CPaul%20Kahlmeyer%5C%5Canaconda3%5C%5Cenvs%5C%5CSymbReg%5C%5Clib%5C%5Csite-packages%5C%5Cnumpy%5C%5Clib%5C%5Cfunction_base.py%22%2C%22line_no%22%3A%205011%2C%22time%22%3A%201.026221%2C%22await_time%22%3A%200.000000%2C%22is_application_code%22%3A%20false%2C%22children%22%3A%20%5B%7B%22function%22%3A%20%22broadcast_arrays%22%2C%22file_path_short%22%3A%20%22numpy%5C%5Clib%5C%5Cstride_tricks.py%22%2C%22file_path%22%3A%20%22C%3A%5C%5CUsers%5C%5CPaul%20Kahlmeyer%5C%5Canaconda3%5C%5Cenvs%5C%5CSymbReg%5C%5Clib%5C%5Csite-packages%5C%5Cnumpy%5C%5Clib%5C%5Cstride_tricks.py%22%2C%22line_no%22%3A%20480%2C%22time%22%3A%200.432159%2C%22await_time%22%3A%200.000000%2C%22is_application_code%22%3A%20false%2C%22children%22%3A%20%5B%5D%2C%22group_id%22%3A%20%22a07e6add-5416-490e-aed9-fadd2d52c7bb%22%7D%5D%2C%22group_id%22%3A%20%22a07e6add-5416-490e-aed9-fadd2d52c7bb%22%7D%2C%7B%22function%22%3A%20%22column_stack%22%2C%22file_path_short%22%3A%20%22numpy%5C%5Clib%5C%5Cshape_base.py%22%2C%22file_path%22%3A%20%22C%3A%5C%5CUsers%5C%5CPaul%20Kahlmeyer%5C%5Canaconda3%5C%5Cenvs%5C%5CSymbReg%5C%5Clib%5C%5Csite-packages%5C%5Cnumpy%5C%5Clib%5C%5Cshape_base.py%22%2C%22line_no%22%3A%20612%2C%22time%22%3A%200.389285%2C%22await_time%22%3A%200.000000%2C%22is_application_code%22%3A%20false%2C%22children%22%3A%20%5B%5D%7D%5D%7D%5D%7D%5D%7D%5D%7D%5D%7D%5D%2C%22class_name%22%3A%20%22DAGRegressor%22%7D%5D%7D%7D%0A%3B%0A%20%20%20%20%20%20%20%20%20%20%20%20%20%20%20%20%20%20%20%20pyinstrumentHTMLRenderer.render%28document.getElementById%28%27app%27%29%2C%20sessionData%29%3B%0A%20%20%20%20%20%20%20%20%20%20%20%20%20%20%20%20%3C/script%3E%0A%20%20%20%20%20%20%20%20%20%20%20%20%3C/body%3E%0A%20%20%20%20%20%20%20%20%20%20%20%20%3C/html%3E%0A%20%20%20%20%20%20%20%20\"\n",
       "            frameborder=\"0\"\n",
       "            allowfullscreen\n",
       "            style=\"resize: vertical\"\n",
       "        ></iframe>\n",
       "        "
      ],
      "text/plain": [
       "\n",
       "  _     ._   __/__   _ _  _  _ _/_   Recorded: 18:34:46  Samples:  32175\n",
       " /_//_/// /_\\ / //_// / //_'/ //     Duration: 33.333    CPU time: 31.047\n",
       "/   _/                      v4.6.2\n",
       "\n",
       "Program: C:\\Users\\Paul Kahlmeyer\\anaconda3\\envs\\SymbReg\\lib\\site-packages\\ipykernel_launcher.py -f C:\\Users\\Paul Kahlmeyer\\AppData\\Roaming\\jupyter\\runtime\\kernel-a0361ae3-c4e6-48ef-973c-81f1b6793963.json\n",
       "\n",
       "33.344 <cell line: 2>  ..\\..\\..\\AppData\\Local\\Temp\\ipykernel_24216\\2300451065.py:2\n",
       "`- 33.344 DAGRegressor.fit  dag_search.py:1711\n",
       "   `- 33.335 exhaustive_search  dag_search.py:1046\n",
       "      `- 33.319 evaluate_build_order  dag_search.py:768\n",
       "         `- 32.933 evaluate_cgraph  dag_search.py:717\n",
       "            `- 32.908 get_consts_grid_zoom  dag_search.py:384\n",
       "               `- 32.611 get_consts_grid  dag_search.py:346\n",
       "                  |- 21.981 MSE_loss_fkt.__call__  dag_search.py:68\n",
       "                  |  |- 15.791 CompGraph.evaluate  comp_graph.py:471\n",
       "                  |  |  |- 8.705 [self]  comp_graph.py\n",
       "                  |  |  |- 3.237 repeat  numpy\\core\\fromnumeric.py:423\n",
       "                  |  |  |     [3 frames hidden]  numpy, <built-in>\n",
       "                  |  |  |- 0.994 stack  numpy\\core\\shape_base.py:372\n",
       "                  |  |  |     [2 frames hidden]  numpy\n",
       "                  |  |  |- 0.519 simplefilter  warnings.py:165\n",
       "                  |  |  `- 0.350 <lambda>  config.py:17\n",
       "                  |  |- 2.721 mean  numpy\\core\\fromnumeric.py:3385\n",
       "                  |  |     [4 frames hidden]  numpy, <built-in>\n",
       "                  |  `- 2.632 [self]  dag_search.py\n",
       "                  |- 6.054 stack  numpy\\core\\shape_base.py:372\n",
       "                  |     [7 frames hidden]  numpy, <built-in>\n",
       "                  |- 1.570 linspace  numpy\\core\\function_base.py:24\n",
       "                  |     [2 frames hidden]  numpy\n",
       "                  |- 1.068 [self]  dag_search.py\n",
       "                  |- 1.026 meshgrid  numpy\\lib\\function_base.py:5011\n",
       "                  |     [2 frames hidden]  numpy\n",
       "                  `- 0.389 column_stack  numpy\\lib\\shape_base.py:612\n",
       "\n"
      ]
     },
     "metadata": {},
     "output_type": "display_data"
    }
   ],
   "source": [
    "%%pyinstrument\n",
    "est.fit(X, y, verbose = 0)"
   ]
  },
  {
   "cell_type": "markdown",
   "id": "cd3cdeab",
   "metadata": {},
   "source": [
    "## Bottleneck: Evaluation"
   ]
  },
  {
   "cell_type": "code",
   "execution_count": 118,
   "id": "4b33624c",
   "metadata": {},
   "outputs": [
    {
     "data": {
      "text/plain": [
       "<module 'DAG_search.comp_graph' from 'C:\\\\Users\\\\Paul Kahlmeyer\\\\OneDrive\\\\PhD\\\\DAG_search\\\\DAG_search\\\\comp_graph.py'>"
      ]
     },
     "execution_count": 118,
     "metadata": {},
     "output_type": "execute_result"
    }
   ],
   "source": [
    "import importlib\n",
    "importlib.reload(comp_graph)"
   ]
  },
  {
   "cell_type": "code",
   "execution_count": 119,
   "id": "7dd80c1d",
   "metadata": {},
   "outputs": [
    {
     "data": {
      "text/latex": [
       "$\\displaystyle \\left(x_{0} + x_{1}\\right)^{2}$"
      ],
      "text/plain": [
       "(x_0 + x_1)**2"
      ]
     },
     "execution_count": 119,
     "metadata": {},
     "output_type": "execute_result"
    }
   ],
   "source": [
    "# (x_0 + x1)**2\n",
    "\n",
    "\n",
    "node_dict = {\n",
    "    0 : ([], 'inp'),\n",
    "    1 : ([], 'inp'),\n",
    "    2 : ([], 'const'),\n",
    "    3 : ([4, 4], '*'),\n",
    "    4 : ([0, 1], '+')\n",
    "}\n",
    "\n",
    "graph = comp_graph.CompGraph(m = 2, n = 1, k = 1, node_dict = node_dict)\n",
    "graph.evaluate_symbolic()[0]"
   ]
  },
  {
   "cell_type": "code",
   "execution_count": 122,
   "id": "58035c79",
   "metadata": {},
   "outputs": [],
   "source": [
    "X = np.random.rand(10000, 2)\n",
    "c = np.random.rand(50, 1)"
   ]
  },
  {
   "cell_type": "code",
   "execution_count": 123,
   "id": "62b0b8f7",
   "metadata": {},
   "outputs": [
    {
     "data": {
      "text/plain": [
       "((50, 10000, 1), (50, 1, 10000, 2))"
      ]
     },
     "execution_count": 123,
     "metadata": {},
     "output_type": "execute_result"
    }
   ],
   "source": [
    "pred1 = graph.evaluate(X, c)\n",
    "pred11, grad1 = graph.evaluate(X, c, return_grad = True)\n",
    "assert np.allclose(pred1, pred11)\n",
    "pred1.shape, grad1.shape"
   ]
  },
  {
   "cell_type": "code",
   "execution_count": 124,
   "id": "79ec89f1",
   "metadata": {
    "scrolled": true
   },
   "outputs": [
    {
     "name": "stdout",
     "output_type": "stream",
     "text": [
      "2.84 ms ± 94.6 µs per loop (mean ± std. dev. of 7 runs, 100 loops each)\n",
      "39.1 ms ± 152 µs per loop (mean ± std. dev. of 7 runs, 10 loops each)\n"
     ]
    }
   ],
   "source": [
    "%timeit pred1 = graph.evaluate(X, c)\n",
    "%timeit pred11, grad1 = graph.evaluate(X, c, return_grad = True)"
   ]
  },
  {
   "cell_type": "code",
   "execution_count": 125,
   "id": "e444e0c4",
   "metadata": {},
   "outputs": [
    {
     "data": {
      "text/plain": [
       "((50, 10000, 1), (50, 1, 10000, 2))"
      ]
     },
     "execution_count": 125,
     "metadata": {},
     "output_type": "execute_result"
    }
   ],
   "source": [
    "pred2 = graph.evaluate_old3(X, c)\n",
    "pred21, grad2 = graph.evaluate_old3(X, c, return_grad = True)\n",
    "assert np.allclose(pred2, pred21)\n",
    "pred2.shape, grad2.shape"
   ]
  },
  {
   "cell_type": "code",
   "execution_count": 126,
   "id": "38ebdaa4",
   "metadata": {},
   "outputs": [
    {
     "name": "stdout",
     "output_type": "stream",
     "text": [
      "9.97 ms ± 129 µs per loop (mean ± std. dev. of 7 runs, 100 loops each)\n",
      "52.5 ms ± 1.08 ms per loop (mean ± std. dev. of 7 runs, 10 loops each)\n"
     ]
    }
   ],
   "source": [
    "%timeit pred2 = graph.evaluate_old3(X, c)\n",
    "%timeit pred21, grad2 = graph.evaluate_old3(X, c, return_grad = True)"
   ]
  },
  {
   "cell_type": "code",
   "execution_count": 128,
   "id": "5dcc66dd",
   "metadata": {},
   "outputs": [
    {
     "data": {
      "text/plain": [
       "(True, True)"
      ]
     },
     "execution_count": 128,
     "metadata": {},
     "output_type": "execute_result"
    }
   ],
   "source": [
    "np.allclose(pred1, pred2), np.allclose(grad1, grad2)"
   ]
  },
  {
   "cell_type": "code",
   "execution_count": 129,
   "id": "6d1cf7bf",
   "metadata": {
    "scrolled": true
   },
   "outputs": [
    {
     "name": "stdout",
     "output_type": "stream",
     "text": [
      "2.93 ms ± 44.6 µs per loop (mean ± std. dev. of 7 runs, 100 loops each)\n"
     ]
    }
   ],
   "source": [
    "def eval1(X, c):\n",
    "    eval_str = '(X_full[:, :, 0] + X_full[:, :, 1])**2'\n",
    "    X_full = np.broadcast_to(X, (c.shape[0], X.shape[0], X.shape[1])) # r x N x m\n",
    "    c_full = np.broadcast_to(c[:, None, :], (c.shape[0], X.shape[0], c.shape[1])) # r x N x k\n",
    "    res = eval(eval_str)\n",
    "    return res[:, :, np.newaxis]\n",
    "\n",
    "%timeit pred_np = eval1(X, c)"
   ]
  },
  {
   "cell_type": "code",
   "execution_count": 130,
   "id": "328af3c0",
   "metadata": {},
   "outputs": [
    {
     "name": "stdout",
     "output_type": "stream",
     "text": [
      "2.82 ms ± 47.9 µs per loop (mean ± std. dev. of 7 runs, 100 loops each)\n"
     ]
    }
   ],
   "source": [
    "eval_str = '(X[:, :, 0] + X[:, :, 1])**2'\n",
    "exp_as_func = eval('lambda X, c: ' + eval_str)\n",
    "\n",
    "def eval2(X, c):\n",
    "    \n",
    "    X_full = np.broadcast_to(X, (c.shape[0], X.shape[0], X.shape[1])) # r x N x m\n",
    "    c_full = np.broadcast_to(c[:, None, :], (c.shape[0], X.shape[0], c.shape[1])) # r x N x k\n",
    "    res = exp_as_func(X_full, c_full)\n",
    "    return res[:, :, np.newaxis]\n",
    "\n",
    "%timeit pred_np = eval2(X, c)"
   ]
  },
  {
   "cell_type": "code",
   "execution_count": 131,
   "id": "d8994372",
   "metadata": {},
   "outputs": [
    {
     "name": "stdout",
     "output_type": "stream",
     "text": [
      "2.84 ms ± 76.7 µs per loop (mean ± std. dev. of 7 runs, 100 loops each)\n"
     ]
    }
   ],
   "source": [
    "# optimal\n",
    "def eval3(X, c):\n",
    "    X_full = np.broadcast_to(X, (c.shape[0], X.shape[0], X.shape[1])) # r x N x m\n",
    "    c_full = np.broadcast_to(c[:, None, :], (c.shape[0], X.shape[0], c.shape[1])) # r x N x k\n",
    "    res = (X_full[:, :, 0] + X_full[:, :, 1])**2\n",
    "    return res[:, :, np.newaxis]\n",
    "\n",
    "%timeit pred_np = eval3(X, c)"
   ]
  },
  {
   "cell_type": "code",
   "execution_count": 132,
   "id": "8d009863",
   "metadata": {},
   "outputs": [],
   "source": [
    "eval_str = compile('(X_full[:, :, 0] + X_full[:, :, 1])**2', '<string>', 'eval')\n",
    "\n",
    "def eval4(X, c):\n",
    "    \n",
    "    X_full = np.broadcast_to(X, (c.shape[0], X.shape[0], X.shape[1])) # r x N x m\n",
    "    c_full = np.broadcast_to(c[:, None, :], (c.shape[0], X.shape[0], c.shape[1])) # r x N x k\n",
    "    res = eval(eval_str)\n",
    "    return res[:, :, np.newaxis]\n",
    "\n",
    "pred_np = eval4(X, c)"
   ]
  },
  {
   "cell_type": "code",
   "execution_count": 133,
   "id": "1a639fbf",
   "metadata": {},
   "outputs": [
    {
     "name": "stdout",
     "output_type": "stream",
     "text": [
      "2.85 ms ± 84.5 µs per loop (mean ± std. dev. of 7 runs, 100 loops each)\n"
     ]
    }
   ],
   "source": [
    "%timeit pred_np = eval4(X, c)"
   ]
  },
  {
   "cell_type": "code",
   "execution_count": 134,
   "id": "70d70a33",
   "metadata": {},
   "outputs": [
    {
     "data": {
      "text/html": [
       "\n",
       "        <iframe\n",
       "            width=\"100%\"\n",
       "            height=\"400\"\n",
       "            src=\"data:text/html, %3C%21DOCTYPE%20html%3E%0A%20%20%20%20%20%20%20%20%20%20%20%20%3Chtml%3E%0A%20%20%20%20%20%20%20%20%20%20%20%20%3Chead%3E%0A%20%20%20%20%20%20%20%20%20%20%20%20%20%20%20%20%3Cmeta%20charset%3D%22utf-8%22%3E%0A%20%20%20%20%20%20%20%20%20%20%20%20%3C/head%3E%0A%20%20%20%20%20%20%20%20%20%20%20%20%3Cbody%3E%0A%20%20%20%20%20%20%20%20%20%20%20%20%20%20%20%20%3Cdiv%20id%3D%22app%22%3E%3C/div%3E%0A%0A%20%20%20%20%20%20%20%20%20%20%20%20%20%20%20%20%3Cscript%3Evar%20pyinstrumentHTMLRenderer%3Dfunction%28%29%7B%22use%20strict%22%3Bvar%20ct%3DObject.defineProperty%3Bvar%20dt%3D%28R%2CC%2CH%29%3D%3EC%20in%20R%3Fct%28R%2CC%2C%7Benumerable%3A%210%2Cconfigurable%3A%210%2Cwritable%3A%210%2Cvalue%3AH%7D%29%3AR%5BC%5D%3DH%3Bvar%20k%3D%28R%2CC%2CH%29%3D%3E%28dt%28R%2Ctypeof%20C%21%3D%22symbol%22%3FC%2B%22%22%3AC%2CH%29%2CH%29%3Bconst%20R%3D%22%22%3Bfunction%20C%28%29%7B%7Dfunction%20H%28t%29%7Breturn%20t%28%29%7Dfunction%20we%28%29%7Breturn%20Object.create%28null%29%7Dfunction%20O%28t%29%7Bt.forEach%28H%29%7Dfunction%20be%28t%29%7Breturn%20typeof%20t%3D%3D%22function%22%7Dfunction%20K%28t%2Ce%29%7Breturn%20t%21%3Dt%3Fe%3D%3De%3At%21%3D%3De%7C%7Ct%26%26typeof%20t%3D%3D%22object%22%7C%7Ctypeof%20t%3D%3D%22function%22%7Dfunction%20Ie%28t%29%7Breturn%20Object.keys%28t%29.length%3D%3D%3D0%7Dfunction%20Re%28t%2C...e%29%7Bif%28t%3D%3Dnull%29return%20C%3Bconst%20i%3Dt.subscribe%28...e%29%3Breturn%20i.unsubscribe%3F%28%29%3D%3Ei.unsubscribe%28%29%3Ai%7Dfunction%20se%28t%2Ce%2Ci%29%7Bt.%24%24.on_destroy.push%28Re%28e%2Ci%29%29%7Dfunction%20f%28t%2Ce%29%7Bt.appendChild%28e%29%7Dfunction%20X%28t%2Ce%2Ci%29%7Bt.insertBefore%28e%2Ci%7C%7Cnull%29%7Dfunction%20N%28t%29%7Bt.parentNode%26%26t.parentNode.removeChild%28t%29%7Dfunction%20_%28t%29%7Breturn%20document.createElement%28t%29%7Dfunction%20ke%28t%29%7Breturn%20document.createElementNS%28%22http%3A//www.w3.org/2000/svg%22%2Ct%29%7Dfunction%20L%28t%29%7Breturn%20document.createTextNode%28t%29%7Dfunction%20w%28%29%7Breturn%20L%28%22%20%22%29%7Dfunction%20ye%28%29%7Breturn%20L%28%22%22%29%7Dfunction%20W%28t%2Ce%2Ci%2Cn%29%7Breturn%20t.addEventListener%28e%2Ci%2Cn%29%2C%28%29%3D%3Et.removeEventListener%28e%2Ci%2Cn%29%7Dfunction%20Ce%28t%29%7Breturn%20function%28e%29%7Breturn%20e.preventDefault%28%29%2Ct.call%28this%2Ce%29%7D%7Dfunction%20Ee%28t%29%7Breturn%20function%28e%29%7Breturn%20e.stopPropagation%28%29%2Ct.call%28this%2Ce%29%7D%7Dfunction%20m%28t%2Ce%2Ci%29%7Bi%3D%3Dnull%3Ft.removeAttribute%28e%29%3At.getAttribute%28e%29%21%3D%3Di%26%26t.setAttribute%28e%2Ci%29%7Dfunction%20Oe%28t%29%7Breturn%20Array.from%28t.childNodes%29%7Dfunction%20q%28t%2Ce%29%7Be%3D%22%22%2Be%2Ct.wholeText%21%3D%3De%26%26%28t.data%3De%29%7Dfunction%20T%28t%2Ce%2Ci%2Cn%29%7Bi%3D%3D%3Dnull%3Ft.style.removeProperty%28e%29%3At.style.setProperty%28e%2Ci%2Cn%3F%22important%22%3A%22%22%29%7Dfunction%20Q%28t%2Ce%2Ci%29%7Bt.classList%5Bi%3F%22add%22%3A%22remove%22%5D%28e%29%7Dlet%20V%3Bfunction%20Z%28t%29%7BV%3Dt%7Dfunction%20Te%28%29%7Bif%28%21V%29throw%20new%20Error%28%22Function%20called%20outside%20component%20initialization%22%29%3Breturn%20V%7Dfunction%20qe%28t%29%7BTe%28%29.%24%24.on_mount.push%28t%29%7Dfunction%20Ue%28t%29%7BTe%28%29.%24%24.on_destroy.push%28t%29%7Dconst%20Y%3D%5B%5D%2CFe%3D%5B%5D%2Cj%3D%5B%5D%2CSe%3D%5B%5D%2CVe%3DPromise.resolve%28%29%3Blet%20ae%3D%211%3Bfunction%20Ze%28%29%7Bae%7C%7C%28ae%3D%210%2CVe.then%28%24e%29%29%7Dfunction%20ue%28t%29%7Bj.push%28t%29%7Dconst%20fe%3Dnew%20Set%3Blet%20x%3D0%3Bfunction%20%24e%28%29%7Bconst%20t%3DV%3Bdo%7Bfor%28%3Bx%3CY.length%3B%29%7Bconst%20e%3DY%5Bx%5D%3Bx%2B%2B%2CZ%28e%29%2CYe%28e.%24%24%29%7Dfor%28Z%28null%29%2CY.length%3D0%2Cx%3D0%3BFe.length%3B%29Fe.pop%28%29%28%29%3Bfor%28let%20e%3D0%3Be%3Cj.length%3Be%2B%3D1%29%7Bconst%20i%3Dj%5Be%5D%3Bfe.has%28i%29%7C%7C%28fe.add%28i%29%2Ci%28%29%29%7Dj.length%3D0%7Dwhile%28Y.length%29%3Bfor%28%3BSe.length%3B%29Se.pop%28%29%28%29%3Bae%3D%211%2Cfe.clear%28%29%2CZ%28t%29%7Dfunction%20Ye%28t%29%7Bif%28t.fragment%21%3D%3Dnull%29%7Bt.update%28%29%2CO%28t.before_update%29%3Bconst%20e%3Dt.dirty%3Bt.dirty%3D%5B-1%5D%2Ct.fragment%26%26t.fragment.p%28t.ctx%2Ce%29%2Ct.after_update.forEach%28ue%29%7D%7Dconst%20ee%3Dnew%20Set%3Blet%20G%3Bfunction%20ce%28%29%7BG%3D%7Br%3A0%2Cc%3A%5B%5D%2Cp%3AG%7D%7Dfunction%20de%28%29%7BG.r%7C%7CO%28G.c%29%2CG%3DG.p%7Dfunction%20D%28t%2Ce%29%7Bt%26%26t.i%26%26%28ee.delete%28t%29%2Ct.i%28e%29%29%7Dfunction%20z%28t%2Ce%2Ci%2Cn%29%7Bif%28t%26%26t.o%29%7Bif%28ee.has%28t%29%29return%3Bee.add%28t%29%2CG.c.push%28%28%29%3D%3E%7Bee.delete%28t%29%2Cn%26%26%28i%26%26t.d%281%29%2Cn%28%29%29%7D%29%2Ct.o%28e%29%7Delse%20n%26%26n%28%29%7Dfunction%20Je%28t%2Ce%29%7Bz%28t%2C1%2C1%2C%28%29%3D%3E%7Be.delete%28t.key%29%7D%29%7Dfunction%20Ke%28t%2Ce%2Ci%2Cn%2Cs%2Cu%2Cr%2Co%2Ca%2Cl%2Ch%2Cp%29%7Blet%20d%3Dt.length%2Cg%3Du.length%2CA%3Dd%3Bconst%20b%3D%7B%7D%3Bfor%28%3BA--%3B%29b%5Bt%5BA%5D.key%5D%3DA%3Bconst%20F%3D%5B%5D%2Cc%3Dnew%20Map%2Cv%3Dnew%20Map%3Bfor%28A%3Dg%3BA--%3B%29%7Bconst%20y%3Dp%28s%2Cu%2CA%29%2CS%3Di%28y%29%3Blet%20P%3Dr.get%28S%29%3BP%3Fn%26%26P.p%28y%2Ce%29%3A%28P%3Dl%28S%2Cy%29%2CP.c%28%29%29%2Cc.set%28S%2CF%5BA%5D%3DP%29%2CS%20in%20b%26%26v.set%28S%2CMath.abs%28A-b%5BS%5D%29%29%7Dconst%20%24%3Dnew%20Set%2CM%3Dnew%20Set%3Bfunction%20E%28y%29%7BD%28y%2C1%29%2Cy.m%28o%2Ch%29%2Cr.set%28y.key%2Cy%29%2Ch%3Dy.first%2Cg--%7Dfor%28%3Bd%26%26g%3B%29%7Bconst%20y%3DF%5Bg-1%5D%2CS%3Dt%5Bd-1%5D%2CP%3Dy.key%2CB%3DS.key%3By%3D%3D%3DS%3F%28h%3Dy.first%2Cd--%2Cg--%29%3Ac.has%28B%29%3F%21r.has%28P%29%7C%7C%24.has%28P%29%3FE%28y%29%3AM.has%28B%29%3Fd--%3Av.get%28P%29%3Ev.get%28B%29%3F%28M.add%28P%29%2CE%28y%29%29%3A%28%24.add%28B%29%2Cd--%29%3A%28a%28S%2Cr%29%2Cd--%29%7Dfor%28%3Bd--%3B%29%7Bconst%20y%3Dt%5Bd%5D%3Bc.has%28y.key%29%7C%7Ca%28y%2Cr%29%7Dfor%28%3Bg%3B%29E%28F%5Bg-1%5D%29%3Breturn%20F%7Dfunction%20pe%28t%29%7Bt%26%26t.c%28%29%7Dfunction%20te%28t%2Ce%2Ci%2Cn%29%7Bconst%7Bfragment%3As%2Cafter_update%3Au%7D%3Dt.%24%24%3Bs%26%26s.m%28e%2Ci%29%2Cn%7C%7Cue%28%28%29%3D%3E%7Bconst%20r%3Dt.%24%24.on_mount.map%28H%29.filter%28be%29%3Bt.%24%24.on_destroy%3Ft.%24%24.on_destroy.push%28...r%29%3AO%28r%29%2Ct.%24%24.on_mount%3D%5B%5D%7D%29%2Cu.forEach%28ue%29%7Dfunction%20ie%28t%2Ce%29%7Bconst%20i%3Dt.%24%24%3Bi.fragment%21%3D%3Dnull%26%26%28O%28i.on_destroy%29%2Ci.fragment%26%26i.fragment.d%28e%29%2Ci.on_destroy%3Di.fragment%3Dnull%2Ci.ctx%3D%5B%5D%29%7Dfunction%20We%28t%2Ce%29%7Bt.%24%24.dirty%5B0%5D%3D%3D%3D-1%26%26%28Y.push%28t%29%2CZe%28%29%2Ct.%24%24.dirty.fill%280%29%29%2Ct.%24%24.dirty%5Be/31%7C0%5D%7C%3D1%3C%3Ce%2531%7Dfunction%20me%28t%2Ce%2Ci%2Cn%2Cs%2Cu%2Cr%2Co%3D%5B-1%5D%29%7Bconst%20a%3DV%3BZ%28t%29%3Bconst%20l%3Dt.%24%24%3D%7Bfragment%3Anull%2Cctx%3A%5B%5D%2Cprops%3Au%2Cupdate%3AC%2Cnot_equal%3As%2Cbound%3Awe%28%29%2Con_mount%3A%5B%5D%2Con_destroy%3A%5B%5D%2Con_disconnect%3A%5B%5D%2Cbefore_update%3A%5B%5D%2Cafter_update%3A%5B%5D%2Ccontext%3Anew%20Map%28e.context%7C%7C%28a%3Fa.%24%24.context%3A%5B%5D%29%29%2Ccallbacks%3Awe%28%29%2Cdirty%3Ao%2Cskip_bound%3A%211%2Croot%3Ae.target%7C%7Ca.%24%24.root%7D%3Br%26%26r%28l.root%29%3Blet%20h%3D%211%3Bif%28l.ctx%3Di%3Fi%28t%2Ce.props%7C%7C%7B%7D%2C%28p%2Cd%2C...g%29%3D%3E%7Bconst%20A%3Dg.length%3Fg%5B0%5D%3Ad%3Breturn%20l.ctx%26%26s%28l.ctx%5Bp%5D%2Cl.ctx%5Bp%5D%3DA%29%26%26%28%21l.skip_bound%26%26l.bound%5Bp%5D%26%26l.bound%5Bp%5D%28A%29%2Ch%26%26We%28t%2Cp%29%29%2Cd%7D%29%3A%5B%5D%2Cl.update%28%29%2Ch%3D%210%2CO%28l.before_update%29%2Cl.fragment%3Dn%3Fn%28l.ctx%29%3A%211%2Ce.target%29%7Bif%28e.hydrate%29%7Bconst%20p%3DOe%28e.target%29%3Bl.fragment%26%26l.fragment.l%28p%29%2Cp.forEach%28N%29%7Delse%20l.fragment%26%26l.fragment.c%28%29%3Be.intro%26%26D%28t.%24%24.fragment%29%2Cte%28t%2Ce.target%2Ce.anchor%2Ce.customElement%29%2C%24e%28%29%7DZ%28a%29%7Dclass%20he%7B%24destroy%28%29%7Bie%28this%2C1%29%2Cthis.%24destroy%3DC%7D%24on%28e%2Ci%29%7Bif%28%21be%28i%29%29return%20C%3Bconst%20n%3Dthis.%24%24.callbacks%5Be%5D%7C%7C%28this.%24%24.callbacks%5Be%5D%3D%5B%5D%29%3Breturn%20n.push%28i%29%2C%28%29%3D%3E%7Bconst%20s%3Dn.indexOf%28i%29%3Bs%21%3D%3D-1%26%26n.splice%28s%2C1%29%7D%7D%24set%28e%29%7Bthis.%24%24set%26%26%21Ie%28e%29%26%26%28this.%24%24.skip_bound%3D%210%2Cthis.%24%24set%28e%29%2Cthis.%24%24.skip_bound%3D%211%29%7D%7Dconst%20U%3D%5B%5D%3Bfunction%20Pe%28t%2Ce%3DC%29%7Blet%20i%3Bconst%20n%3Dnew%20Set%3Bfunction%20s%28o%29%7Bif%28K%28t%2Co%29%26%26%28t%3Do%2Ci%29%29%7Bconst%20a%3D%21U.length%3Bfor%28const%20l%20of%20n%29l%5B1%5D%28%29%2CU.push%28l%2Ct%29%3Bif%28a%29%7Bfor%28let%20l%3D0%3Bl%3CU.length%3Bl%2B%3D2%29U%5Bl%5D%5B0%5D%28U%5Bl%2B1%5D%29%3BU.length%3D0%7D%7D%7Dfunction%20u%28o%29%7Bs%28o%28t%29%29%7Dfunction%20r%28o%2Ca%3DC%29%7Bconst%20l%3D%5Bo%2Ca%5D%3Breturn%20n.add%28l%29%2Cn.size%3D%3D%3D1%26%26%28i%3De%28s%29%7C%7CC%29%2Co%28t%29%2C%28%29%3D%3E%7Bn.delete%28l%29%2Cn.size%3D%3D%3D0%26%26%28i%28%29%2Ci%3Dnull%29%7D%7Dreturn%7Bset%3As%2Cupdate%3Au%2Csubscribe%3Ar%7D%7Dconst%20De%3DPe%28%7B%7D%29%2Cne%3DPe%28%22absolute%22%29%2Cpt%3D%22%22%3Bfunction%20je%28t%29%7Blet%20e%2Ci%2Cn%2Cs%2Cu%2Cr%2Co%2Ca%2Cl%2Ch%2Cp%2Cd%2Cg%2CA%2Cb%2CF%2Cc%2Cv%2C%24%2CM%2CE%2Cy%2CS%2CP%2CB%2Cre%3Dt%5B0%5D.sampleCount%2B%22%22%2Cve%2CXe%2Cle%2CQe%2Coe%2CAe%2CGe%3Breturn%7Bc%28%29%7Be%3D_%28%22div%22%29%2Ci%3D_%28%22div%22%29%2Cn%3D_%28%22div%22%29%2Cs%3D_%28%22div%22%29%2Cs.textContent%3D%22pyinstrument%22%2Cu%3Dw%28%29%2Cr%3D_%28%22div%22%29%2Co%3D_%28%22label%22%29%2Co.textContent%3D%22Absolute%20time%22%2Ca%3Dw%28%29%2Cl%3D_%28%22input%22%29%2Ch%3Dw%28%29%2Cp%3D_%28%22div%22%29%2Cp.textContent%3D%22Recorded%3A%22%2Cd%3Dw%28%29%2Cg%3D_%28%22div%22%29%2Cg.textContent%3D%60%24%7Bt%5B2%5D%7D%60%2CA%3Dw%28%29%2Cb%3D_%28%22div%22%29%2Cb.textContent%3D%22Duration%3A%22%2CF%3Dw%28%29%2Cc%3D_%28%22div%22%29%2Cc.textContent%3D%60%24%7Bt%5B4%5D%7D%20seconds%60%2Cv%3Dw%28%29%2C%24%3D_%28%22label%22%29%2C%24.textContent%3D%22Proportional%20time%22%2CM%3Dw%28%29%2CE%3D_%28%22input%22%29%2Cy%3Dw%28%29%2CS%3D_%28%22div%22%29%2CS.textContent%3D%22Samples%3A%22%2CP%3Dw%28%29%2CB%3D_%28%22div%22%29%2Cve%3DL%28re%29%2CXe%3Dw%28%29%2Cle%3D_%28%22div%22%29%2Cle.textContent%3D%22CPU%20time%3A%22%2CQe%3Dw%28%29%2Coe%3D_%28%22div%22%29%2Coe.textContent%3D%60%24%7Bt%5B3%5D%7D%20seconds%60%2Cm%28s%2C%22class%22%2C%22title%20svelte-tewt95%22%29%2Cm%28o%2C%22class%22%2C%22metric-label%20svelte-tewt95%22%29%2Cm%28o%2C%22for%22%2C%22absolute%22%29%2Cm%28l%2C%22type%22%2C%22radio%22%29%2Cl.__value%3D%22absolute%22%2Cl.value%3Dl.__value%2Cm%28l%2C%22id%22%2C%22absolute%22%29%2Cm%28l%2C%22name%22%2C%22time-format%22%29%2Cl.checked%3D%210%2Ct%5B6%5D%5B0%5D.push%28l%29%2Cm%28p%2C%22class%22%2C%22metric-label%20svelte-tewt95%22%29%2Cm%28g%2C%22class%22%2C%22metric-value%20svelte-tewt95%22%29%2Cm%28b%2C%22class%22%2C%22metric-label%20svelte-tewt95%22%29%2Cm%28c%2C%22class%22%2C%22metric-value%20svelte-tewt95%22%29%2Cm%28%24%2C%22class%22%2C%22metric-label%20svelte-tewt95%22%29%2Cm%28%24%2C%22for%22%2C%22proportion%22%29%2Cm%28E%2C%22type%22%2C%22radio%22%29%2CE.__value%3D%22proportion%22%2CE.value%3DE.__value%2Cm%28E%2C%22id%22%2C%22proportion%22%29%2Cm%28E%2C%22name%22%2C%22time-format%22%29%2Ct%5B6%5D%5B0%5D.push%28E%29%2Cm%28S%2C%22class%22%2C%22metric-label%20svelte-tewt95%22%29%2Cm%28B%2C%22class%22%2C%22metric-value%20svelte-tewt95%22%29%2Cm%28le%2C%22class%22%2C%22metric-label%20svelte-tewt95%22%29%2Cm%28oe%2C%22class%22%2C%22metric-value%20svelte-tewt95%22%29%2Cm%28r%2C%22class%22%2C%22metrics%20svelte-tewt95%22%29%2Cm%28n%2C%22class%22%2C%22row%20svelte-tewt95%22%29%2Cm%28i%2C%22class%22%2C%22margins%22%29%2Cm%28e%2C%22class%22%2C%22header%20svelte-tewt95%22%29%7D%2Cm%28I%2CJ%29%7BX%28I%2Ce%2CJ%29%2Cf%28e%2Ci%29%2Cf%28i%2Cn%29%2Cf%28n%2Cs%29%2Cf%28n%2Cu%29%2Cf%28n%2Cr%29%2Cf%28r%2Co%29%2Cf%28r%2Ca%29%2Cf%28r%2Cl%29%2Cl.checked%3Dl.__value%3D%3D%3Dt%5B1%5D%2Cf%28r%2Ch%29%2Cf%28r%2Cp%29%2Cf%28r%2Cd%29%2Cf%28r%2Cg%29%2Cf%28r%2CA%29%2Cf%28r%2Cb%29%2Cf%28r%2CF%29%2Cf%28r%2Cc%29%2Cf%28r%2Cv%29%2Cf%28r%2C%24%29%2Cf%28r%2CM%29%2Cf%28r%2CE%29%2CE.checked%3DE.__value%3D%3D%3Dt%5B1%5D%2Cf%28r%2Cy%29%2Cf%28r%2CS%29%2Cf%28r%2CP%29%2Cf%28r%2CB%29%2Cf%28B%2Cve%29%2Cf%28r%2CXe%29%2Cf%28r%2Cle%29%2Cf%28r%2CQe%29%2Cf%28r%2Coe%29%2CAe%7C%7C%28Ge%3D%5BW%28l%2C%22change%22%2Ct%5B5%5D%29%2CW%28E%2C%22change%22%2Ct%5B7%5D%29%5D%2CAe%3D%210%29%7D%2Cp%28I%2C%5BJ%5D%29%7BJ%262%26%26%28l.checked%3Dl.__value%3D%3D%3DI%5B1%5D%29%2CJ%262%26%26%28E.checked%3DE.__value%3D%3D%3DI%5B1%5D%29%2CJ%261%26%26re%21%3D%3D%28re%3DI%5B0%5D.sampleCount%2B%22%22%29%26%26q%28ve%2Cre%29%7D%2Ci%3AC%2Co%3AC%2Cd%28I%29%7BI%26%26N%28e%29%2Ct%5B6%5D%5B0%5D.splice%28t%5B6%5D%5B0%5D.indexOf%28l%29%2C1%29%2Ct%5B6%5D%5B0%5D.splice%28t%5B6%5D%5B0%5D.indexOf%28E%29%2C1%29%2CAe%3D%211%2CO%28Ge%29%7D%7D%7Dfunction%20xe%28t%2Ce%2Ci%29%7Bvar%20p%3Blet%20n%3Bse%28t%2Cne%2Cd%3D%3Ei%281%2Cn%3Dd%29%29%3Blet%7Bsession%3As%7D%3De%3Bconst%20u%3Dnew%20Date%28s.startTime%2A1e3%29.toLocaleString%28%29%2Cr%3D%28p%3Ds.cpuTime%29%3D%3Dnull%3Fvoid%200%3Ap.toLocaleString%28void%200%2C%7BmaximumSignificantDigits%3A3%7D%29%2Co%3Ds.duration.toLocaleString%28void%200%2C%7BmaximumSignificantDigits%3A3%7D%29%2Ca%3D%5B%5B%5D%5D%3Bfunction%20l%28%29%7Bn%3Dthis.__value%2Cne.set%28n%29%7Dfunction%20h%28%29%7Bn%3Dthis.__value%2Cne.set%28n%29%7Dreturn%20t.%24%24set%3Dd%3D%3E%7B%22session%22in%20d%26%26i%280%2Cs%3Dd.session%29%7D%2C%5Bs%2Cn%2Cu%2Cr%2Co%2Cl%2Ca%2Ch%5D%7Dclass%20et%20extends%20he%7Bconstructor%28e%29%7Bsuper%28%29%2Cme%28this%2Ce%2Cxe%2Cje%2CK%2C%7Bsession%3A0%7D%29%7D%7Dconst%20mt%3D%22%22%3Bfunction%20Me%28t%2Ce%2Ci%29%7Bconst%20n%3Dt.slice%28%29%3Breturn%20n%5B14%5D%3De%5Bi%5D%2Cn%7Dfunction%20Le%28t%29%7Blet%20e%2Ci%2Cn%2Cs%2Cu%2Cr%2Co%2Ca%2Cl%2Ch%2Cp%2Cd%2Cg%2CA%2Cb%2CF%3Breturn%7Bc%28%29%7Be%3D_%28%22div%22%29%2Ci%3D_%28%22div%22%29%2Cn%3Dke%28%22svg%22%29%2Cs%3Dke%28%22path%22%29%2Cu%3Dw%28%29%2Cr%3D_%28%22div%22%29%2Co%3DL%28t%5B5%5D%29%2Ca%3Dw%28%29%2Cl%3D_%28%22div%22%29%2Ch%3DL%28t%5B4%5D%29%2Cp%3Dw%28%29%2Cd%3D_%28%22div%22%29%2Cg%3Dw%28%29%2CA%3D_%28%22div%22%29%2CA.textContent%3D%60%24%7Bt%5B9%5D%7D%60%2Cm%28s%2C%22d%22%2C%22M.937-.016L5.793%204.84.937%209.696z%22%29%2Cm%28s%2C%22fill%22%2Ct%5B7%5D%29%2Cm%28s%2C%22fill-rule%22%2C%22evenodd%22%29%2Cm%28s%2C%22fill-opacity%22%2C%22.582%22%29%2Cm%28n%2C%22width%22%2C%226%22%29%2Cm%28n%2C%22height%22%2C%2210%22%29%2Cm%28i%2C%22class%22%2C%22frame-triangle%20svelte-1aphj50%22%29%2CQ%28i%2C%22rotate%22%2Ct%5B2%5D%29%2CT%28i%2C%22visibility%22%2Ct%5B0%5D.children.length%3E0%3F%22visible%22%3A%22hidden%22%29%2Cm%28r%2C%22class%22%2C%22time%20svelte-1aphj50%22%29%2CT%28r%2C%22color%22%2Ct%5B7%5D%29%2CT%28r%2C%22font-weight%22%2Ct%5B0%5D.proportionOfTotal%3C.2%3F500%3A600%29%2Cm%28l%2C%22class%22%2C%22name%20svelte-1aphj50%22%29%2Cm%28d%2C%22class%22%2C%22spacer%22%29%2CT%28d%2C%22flex%22%2C%221%22%29%2Cm%28A%2C%22class%22%2C%22code-position%20svelte-1aphj50%22%29%2Cm%28e%2C%22class%22%2C%22frame-description%20svelte-1aphj50%22%29%2CQ%28e%2C%22application-code%22%2Ct%5B0%5D.isApplicationCode%29%2CQ%28e%2C%22children-visible%22%2Ct%5B2%5D%29%2CT%28e%2C%22padding-left%22%2C%60%24%7Bt%5B1%5D%2A35%7Dpx%60%29%7D%2Cm%28c%2Cv%29%7BX%28c%2Ce%2Cv%29%2Cf%28e%2Ci%29%2Cf%28i%2Cn%29%2Cf%28n%2Cs%29%2Cf%28e%2Cu%29%2Cf%28e%2Cr%29%2Cf%28r%2Co%29%2Cf%28e%2Ca%29%2Cf%28e%2Cl%29%2Cf%28l%2Ch%29%2Cf%28e%2Cp%29%2Cf%28e%2Cd%29%2Cf%28e%2Cg%29%2Cf%28e%2CA%29%2Cb%7C%7C%28F%3DW%28e%2C%22click%22%2CEe%28Ce%28t%5B10%5D%29%29%29%2Cb%3D%210%29%7D%2Cp%28c%2Cv%29%7Bv%26128%26%26m%28s%2C%22fill%22%2Cc%5B7%5D%29%2Cv%264%26%26Q%28i%2C%22rotate%22%2Cc%5B2%5D%29%2Cv%261%26%26T%28i%2C%22visibility%22%2Cc%5B0%5D.children.length%3E0%3F%22visible%22%3A%22hidden%22%29%2Cv%2632%26%26q%28o%2Cc%5B5%5D%29%2Cv%26128%26%26T%28r%2C%22color%22%2Cc%5B7%5D%29%2Cv%261%26%26T%28r%2C%22font-weight%22%2Cc%5B0%5D.proportionOfTotal%3C.2%3F500%3A600%29%2Cv%2616%26%26q%28h%2Cc%5B4%5D%29%2Cv%261%26%26Q%28e%2C%22application-code%22%2Cc%5B0%5D.isApplicationCode%29%2Cv%264%26%26Q%28e%2C%22children-visible%22%2Cc%5B2%5D%29%2Cv%262%26%26T%28e%2C%22padding-left%22%2C%60%24%7Bc%5B1%5D%2A35%7Dpx%60%29%7D%2Cd%28c%29%7Bc%26%26N%28e%29%2Cb%3D%211%2CF%28%29%7D%7D%7Dfunction%20Ne%28t%29%7Blet%20e%2Ci%2Cn%2Cs%2Cu%3Dt%5B0%5D.group.frames.length%2B%22%22%2Cr%2Co%2Ca%2Cl%2Ch%2Cp%3Breturn%7Bc%28%29%7Be%3D_%28%22div%22%29%2Ci%3D_%28%22div%22%29%2Cn%3D_%28%22div%22%29%2Cn.innerHTML%3D%27%3Csvg%20width%3D%226%22%20height%3D%2210%22%3E%3Cpath%20d%3D%22M.937-.016L5.793%204.84.937%209.696z%22%20fill%3D%22%23FFF%22%20fill-rule%3D%22evenodd%22%20fill-opacity%3D%22.582%22%3E%3C/path%3E%3C/svg%3E%27%2Cs%3Dw%28%29%2Cr%3DL%28u%29%2Co%3DL%28%60%20frames%20hidden%0A%20%20%20%20%20%20%20%20%28%60%29%2Ca%3DL%28t%5B6%5D%29%2Cl%3DL%28%22%29%22%29%2Cm%28n%2C%22class%22%2C%22group-triangle%20svelte-1aphj50%22%29%2CQ%28n%2C%22rotate%22%2Ct%5B8%5D%29%2Cm%28i%2C%22class%22%2C%22group-header-button%20svelte-1aphj50%22%29%2Cm%28e%2C%22class%22%2C%22group-header%20svelte-1aphj50%22%29%2CT%28e%2C%22padding-left%22%2C%60%24%7Bt%5B1%5D%2A35%7Dpx%60%29%7D%2Cm%28d%2Cg%29%7BX%28d%2Ce%2Cg%29%2Cf%28e%2Ci%29%2Cf%28i%2Cn%29%2Cf%28i%2Cs%29%2Cf%28i%2Cr%29%2Cf%28i%2Co%29%2Cf%28i%2Ca%29%2Cf%28i%2Cl%29%2Ch%7C%7C%28p%3DW%28e%2C%22click%22%2CEe%28Ce%28t%5B11%5D%29%29%29%2Ch%3D%210%29%7D%2Cp%28d%2Cg%29%7Bg%26256%26%26Q%28n%2C%22rotate%22%2Cd%5B8%5D%29%2Cg%261%26%26u%21%3D%3D%28u%3Dd%5B0%5D.group.frames.length%2B%22%22%29%26%26q%28r%2Cu%29%2Cg%2664%26%26q%28a%2Cd%5B6%5D%29%2Cg%262%26%26T%28e%2C%22padding-left%22%2C%60%24%7Bd%5B1%5D%2A35%7Dpx%60%29%7D%2Cd%28d%29%7Bd%26%26N%28e%29%2Ch%3D%211%2Cp%28%29%7D%7D%7Dfunction%20ze%28t%29%7Blet%20e%3D%5B%5D%2Ci%3Dnew%20Map%2Cn%2Cs%2Cu%3Dt%5B0%5D.children%3Bconst%20r%3Do%3D%3Eo%5B14%5D.identifier%3Bfor%28let%20o%3D0%3Bo%3Cu.length%3Bo%2B%3D1%29%7Blet%20a%3DMe%28t%2Cu%2Co%29%2Cl%3Dr%28a%29%3Bi.set%28l%2Ce%5Bo%5D%3DBe%28l%2Ca%29%29%7Dreturn%7Bc%28%29%7Bfor%28let%20o%3D0%3Bo%3Ce.length%3Bo%2B%3D1%29e%5Bo%5D.c%28%29%3Bn%3Dye%28%29%7D%2Cm%28o%2Ca%29%7Bfor%28let%20l%3D0%3Bl%3Ce.length%3Bl%2B%3D1%29e%5Bl%5D.m%28o%2Ca%29%3BX%28o%2Cn%2Ca%29%2Cs%3D%210%7D%2Cp%28o%2Ca%29%7Ba%2611%26%26%28u%3Do%5B0%5D.children%2Cce%28%29%2Ce%3DKe%28e%2Ca%2Cr%2C1%2Co%2Cu%2Ci%2Cn.parentNode%2CJe%2CBe%2Cn%2CMe%29%2Cde%28%29%29%7D%2Ci%28o%29%7Bif%28%21s%29%7Bfor%28let%20a%3D0%3Ba%3Cu.length%3Ba%2B%3D1%29D%28e%5Ba%5D%29%3Bs%3D%210%7D%7D%2Co%28o%29%7Bfor%28let%20a%3D0%3Ba%3Ce.length%3Ba%2B%3D1%29z%28e%5Ba%5D%29%3Bs%3D%211%7D%2Cd%28o%29%7Bfor%28let%20a%3D0%3Ba%3Ce.length%3Ba%2B%3D1%29e%5Ba%5D.d%28o%29%3Bo%26%26N%28n%29%7D%7D%7Dfunction%20Be%28t%2Ce%29%7Blet%20i%2Cn%2Cs%3Breturn%20n%3Dnew%20He%28%7Bprops%3A%7Bframe%3Ae%5B14%5D%2Cindent%3Ae%5B1%5D%2B%28e%5B3%5D%3F1%3A0%29%7D%7D%29%2C%7Bkey%3At%2Cfirst%3Anull%2Cc%28%29%7Bi%3Dye%28%29%2Cpe%28n.%24%24.fragment%29%2Cthis.first%3Di%7D%2Cm%28u%2Cr%29%7BX%28u%2Ci%2Cr%29%2Cte%28n%2Cu%2Cr%29%2Cs%3D%210%7D%2Cp%28u%2Cr%29%7Be%3Du%3Bconst%20o%3D%7B%7D%3Br%261%26%26%28o.frame%3De%5B14%5D%29%2Cr%2610%26%26%28o.indent%3De%5B1%5D%2B%28e%5B3%5D%3F1%3A0%29%29%2Cn.%24set%28o%29%7D%2Ci%28u%29%7Bs%7C%7C%28D%28n.%24%24.fragment%2Cu%29%2Cs%3D%210%29%7D%2Co%28u%29%7Bz%28n.%24%24.fragment%2Cu%29%2Cs%3D%211%7D%2Cd%28u%29%7Bu%26%26N%28i%29%2Cie%28n%2Cu%29%7D%7D%7Dfunction%20tt%28t%29%7Blet%20e%2Ci%2Cn%2Cs%2Cu%2Cr%2Co%3Dt%5B3%5D%26%26Le%28t%29%2Ca%3Dt%5B0%5D.group%26%26t%5B0%5D.group.rootFrame%3D%3Dt%5B0%5D%26%26t%5B2%5D%26%26Ne%28t%29%2Cl%3Dt%5B2%5D%26%26ze%28t%29%3Breturn%7Bc%28%29%7Be%3D_%28%22div%22%29%2Co%26%26o.c%28%29%2Ci%3Dw%28%29%2Ca%26%26a.c%28%29%2Cn%3Dw%28%29%2Cl%26%26l.c%28%29%2Cs%3Dw%28%29%2Cu%3D_%28%22div%22%29%2Cm%28u%2C%22class%22%2C%22visual-guide%22%29%2CT%28u%2C%22left%22%2C%60%24%7Bt%5B1%5D%2A35%2B21%7Dpx%60%29%2CT%28u%2C%22backgroundColor%22%2Ct%5B7%5D%29%2Cm%28e%2C%22class%22%2C%22frame%20svelte-1aphj50%22%29%7D%2Cm%28h%2Cp%29%7BX%28h%2Ce%2Cp%29%2Co%26%26o.m%28e%2Cnull%29%2Cf%28e%2Ci%29%2Ca%26%26a.m%28e%2Cnull%29%2Cf%28e%2Cn%29%2Cl%26%26l.m%28e%2Cnull%29%2Cf%28e%2Cs%29%2Cf%28e%2Cu%29%2Cr%3D%210%7D%2Cp%28h%2C%5Bp%5D%29%7Bh%5B3%5D%3Fo%3Fo.p%28h%2Cp%29%3A%28o%3DLe%28h%29%2Co.c%28%29%2Co.m%28e%2Ci%29%29%3Ao%26%26%28o.d%281%29%2Co%3Dnull%29%2Ch%5B0%5D.group%26%26h%5B0%5D.group.rootFrame%3D%3Dh%5B0%5D%26%26h%5B2%5D%3Fa%3Fa.p%28h%2Cp%29%3A%28a%3DNe%28h%29%2Ca.c%28%29%2Ca.m%28e%2Cn%29%29%3Aa%26%26%28a.d%281%29%2Ca%3Dnull%29%2Ch%5B2%5D%3Fl%3F%28l.p%28h%2Cp%29%2Cp%264%26%26D%28l%2C1%29%29%3A%28l%3Dze%28h%29%2Cl.c%28%29%2CD%28l%2C1%29%2Cl.m%28e%2Cs%29%29%3Al%26%26%28ce%28%29%2Cz%28l%2C1%2C1%2C%28%29%3D%3E%7Bl%3Dnull%7D%29%2Cde%28%29%29%2Cp%262%26%26T%28u%2C%22left%22%2C%60%24%7Bh%5B1%5D%2A35%2B21%7Dpx%60%29%2Cp%26128%26%26T%28u%2C%22backgroundColor%22%2Ch%5B7%5D%29%7D%2Ci%28h%29%7Br%7C%7C%28D%28l%29%2Cr%3D%210%29%7D%2Co%28h%29%7Bz%28l%29%2Cr%3D%211%7D%2Cd%28h%29%7Bh%26%26N%28e%29%2Co%26%26o.d%28%29%2Ca%26%26a.d%28%29%2Cl%26%26l.d%28%29%7D%7D%7Dfunction%20it%28t%2Ce%2Ci%29%7Blet%20n%2Cs%2Cu%3Bse%28t%2CDe%2Cc%3D%3Ei%2812%2Cs%3Dc%29%29%2Cse%28t%2Cne%2Cc%3D%3Ei%2813%2Cu%3Dc%29%29%3Blet%7Bframe%3Ar%7D%3De%2C%7Bindent%3Ao%3D0%7D%3De%2Ca%3D%210%2Cl%2Ch%3Br.className%3Fh%3D%60%24%7Br.className%7D.%24%7Br.function%7D%60%3Ah%3Dr.function%3Bconst%20p%3D%60%24%7Br.filePathShort%7D%3A%24%7Br.lineNo.toString%28%29.padEnd%284%2C%22%5CxA0%22%29%7D%60%3Blet%20d%2Cg%3Dnull%3Bif%28r.group%29%7Bconst%20c%3Dr.group.libraries%3Bc.length%3C4%3Fg%3Dc.join%28%22%2C%20%22%29%3Ag%3D%60%24%7Bc%5B0%5D%7D%2C%20%24%7Bc%5B1%5D%7D%2C%20%24%7Bc%5B2%5D%7D...%60%7Dlet%20A%3Br.proportionOfTotal%3E.6%3FA%3D%22%23FF4159%22%3Ar.proportionOfTotal%3E.3%3FA%3D%22%23F5A623%22%3Ar.proportionOfTotal%3E.2%3FA%3D%22%23D8CB2A%22%3AA%3D%22%237ED321%22%3Bfunction%20b%28%29%7Bi%282%2Ca%3D%21a%29%7Dfunction%20F%28%29%7BDe.update%28c%3D%3E%7Bvar%20v%3Breturn%7B...c%2C%5B%28v%3Dr.groupId%29%21%3Dnull%3Fv%3A%22%22%5D%3A%21n%7D%7D%29%7Dreturn%20t.%24%24set%3Dc%3D%3E%7B%22frame%22in%20c%26%26i%280%2Cr%3Dc.frame%29%2C%22indent%22in%20c%26%26i%281%2Co%3Dc.indent%29%7D%2Ct.%24%24.update%3D%28%29%3D%3E%7Bvar%20c%2Cv%2C%24%3Bif%28t.%24%24.dirty%264097%26%26%28r.group%3Fs%5B%28c%3Dr.groupId%29%21%3Dnull%3Fc%3A%22%22%5D%7C%7C%28%28v%3Dr.group%29%3D%3Dnull%3Fvoid%200%3Av.rootFrame%29%3D%3D%3Dr%7C%7Cr.children.filter%28M%3D%3E%21M.group%29.length%3E1%3Fi%283%2Cl%3D%210%29%3Ai%283%2Cl%3D%211%29%3Ai%283%2Cl%3D%210%29%29%2Ct.%24%24.dirty%268193%29if%28u%3D%3D%3D%22absolute%22%29i%285%2Cd%3Dr.time.toLocaleString%28void%200%2C%7BminimumFractionDigits%3A3%2CmaximumFractionDigits%3A3%7D%29%29%3Belse%20if%28u%3D%3D%3D%22proportion%22%29i%285%2Cd%3D%60%24%7B%28r.proportionOfTotal%2A100%29.toLocaleString%28void%200%2C%7BminimumFractionDigits%3A1%2CmaximumFractionDigits%3A1%7D%29%7D%25%60%29%3Belse%20throw%20new%20Error%28%22unknown%20timeFormat%22%29%3Bt.%24%24.dirty%264097%26%26i%288%2Cn%3Ds%5B%28%24%3Dr.groupId%29%21%3Dnull%3F%24%3A%22%22%5D%3D%3D%3D%210%29%7D%2C%5Br%2Co%2Ca%2Cl%2Ch%2Cd%2Cg%2CA%2Cn%2Cp%2Cb%2CF%2Cs%2Cu%5D%7Dclass%20He%20extends%20he%7Bconstructor%28e%29%7Bsuper%28%29%2Cme%28this%2Ce%2Cit%2Ctt%2CK%2C%7Bframe%3A0%2Cindent%3A1%7D%29%7D%7Dconst%20nt%3D%22data%3Aimage/png%3Bbase64%2CiVBORw0KGgoAAAANSUhEUgAAACAAAAAgCAYAAABzenr0AAAABGdBTUEAALGPC/xhBQAAADhlWElmTU0AKgAAAAgAAYdpAAQAAAABAAAAGgAAAAAAAqACAAQAAAABAAAAIKADAAQAAAABAAAAIAAAAACPTkDJAAAFPklEQVRYCdWXu4skVRSHb3VXP2bcXUVMBkRMTVww2XQDExEEH4iKiUYGhuJEPgJhUSMzQQSDRVzETNDMTTfUwL/ARUwM1t3pV1WX33eqbnfP9MxOu5kHTt9T93F%2Bv3vOubeqi7QhT1%2B58vhiVn1G19WiaQ6KIqVQOmyT%2Bh9kuUxp2bAAtQkpij9pbw5G5fu/3br1x8ql4NW0%2BrVJzaN29nop9VUeCtoerXpMTj53g%2BAGcINR1YB3RIJMN6dIxd/luLxcZoftzltwAct%2BSiNGh2jJ84BnSQWJTeBNW2C0ZrvufrZA5y2JmuemWkfCjYq5IsC6q2iE2V0LuDdMaYxKZDxo%2ByS3JZkEY%2B5SsAU7P5q1qZNEAxnXGo0NubomQM4dWPnCMAU/fUCnoA7kFjPEPohuqfO6uc%2B%2B0xKSVHUcHDbNwZpAeFyHyMcg408G16mSnwW3b5OEz3rtCAyJnHUQUSEFmMdki0CMmsNOX/gkpf1RSpf223Q43jC2MMw4tFWsjwHzBngsIOT6CaEf7wGKrTo/agFbH8oWAQdkWTF5htGntSDn2h2YBTal/9603Z2%2B%2BswZ0%2B5BZIjdQwfUz5DcGwHVotSfdpYtAg7oUKzaycyo6PjmkA4cRmgBuf5zSj/80kbAuToaYHz9afdgCiCxJF3gpudfZampOyGnEwAwIkEbuROBXEauXZGdYzrEtFTTpx3zHGeewGoFcFxk2Cdlxempy8/oZyXm1KO3R14fIraPXEzpAnXgyVBmRMdjNgdVsqZgxLw9cl4C7m7N%2Bd17pOqIuaj2LKetQzs1Ai3E%2BreRJip4CSnz2wPYHC9wFL66MYko9k8pwgmAU4hqbxZhO6tNXba321V8Uvruc4ZzGgQxErnFNszqItqC0DdpTtzfeqWJ21DwpRp5WkOdHwFJqM4UMLcdeB2AADPUkigSm00VOZixsOL8WfUB3oWd4ZWcT8CpgLz2XkoPX%2BIgEIU%2Bq6K6QZqzqxoAr15vupqC8Air0wm7JwUL2AWJByIAuDXQEGZ1aegRASY4Ppq0AOZZIoZYsLh4zDsa4PSfeA%2BEn/tGQMI5ZTe%2BxClhN%2BQ5z4b67TfZJeATiAQw4J4KwTzCOfT2nSb3JRALAJTEfKPQcrGBG5GwwCLMRCRAXcgiQY1IYD8ogbzuDd5qF7gL%2Bp4ESM05Z//coWXH1oEE5oQkQPOi3EroDDk/Ai40Cp3SRE2AG%2B8MWyOk5h1j7ixnEogPD0dVcv/FVwXXLceKs20K5rCaFk06fKmOD424akkTXUFkVwanEtBZfH7hMK5eCEwBl0DNYHvJ0Idd4MHXr7djkGDtWQV3GqlTCRhybzqv1R4zbA/fXabRfhFAHkvflJO77XivuyElbRHG%2Bh3yL6EtAu4iPkoF5q4veRn1ecEUAwYg0pSyQwAoRk3qz4p4DS%2BwawpxSVHoY9cobBHQtxBBBMBrN/rkvOEC6lF0hF/nKvaS31yE155btLVAFKIidbSDbBMI9HaluzjC4ZKQWHieBIcVPqvbyg/b503Dh91kTcB/LH4Z6wmNI8X2PnyxTkPSUI7JP7MjvE5hTrwDuO%2BrLvT2uXxnAXNNgL9LLHxdB16jOi24XgOEK68EyMKMb/uYRERol1w%2BFmRN67XrWonsKDdzRNPmXzPjbEXHxwWttsCcwpXki8cte91afP7zkdQuYch/zSizVv66ffvOwZNPfLus/YNSPMYuLkZIda66yw3NzwHMeCOBXcBNdVH8OBiXLx/7c5qJrFrK/GOYfETH97Sr/jOM38FnvodDGv8f%2BRcj1XBLIcDKAQAAAABJRU5ErkJggg%3D%3D%22%2Cht%3D%22%22%3Bfunction%20rt%28t%29%7Blet%20e%3Breturn%7Bc%28%29%7Be%3D_%28%22div%22%29%2Ce.textContent%3D%22No%20samples%20recorded.%22%2Cm%28e%2C%22class%22%2C%22error%22%29%7D%2Cm%28i%2Cn%29%7BX%28i%2Ce%2Cn%29%7D%2Cp%3AC%2Ci%3AC%2Co%3AC%2Cd%28i%29%7Bi%26%26N%28e%29%7D%7D%7Dfunction%20lt%28t%29%7Blet%20e%2Ci%3Breturn%20e%3Dnew%20He%28%7Bprops%3A%7Bframe%3At%5B0%5D.rootFrame%7D%7D%29%2C%7Bc%28%29%7Bpe%28e.%24%24.fragment%29%7D%2Cm%28n%2Cs%29%7Bte%28e%2Cn%2Cs%29%2Ci%3D%210%7D%2Cp%28n%2Cs%29%7Bconst%20u%3D%7B%7D%3Bs%261%26%26%28u.frame%3Dn%5B0%5D.rootFrame%29%2Ce.%24set%28u%29%7D%2Ci%28n%29%7Bi%7C%7C%28D%28e.%24%24.fragment%2Cn%29%2Ci%3D%210%29%7D%2Co%28n%29%7Bz%28e.%24%24.fragment%2Cn%29%2Ci%3D%211%7D%2Cd%28n%29%7Bie%28e%2Cn%29%7D%7D%7Dfunction%20ot%28t%29%7Blet%20e%2Ci%2Cn%2Cs%2Cu%2Cr%2Co%2Ca%2Cl%2Ch%2Cp%2Cd%2Cg%3Bi%3Dnew%20et%28%7Bprops%3A%7Bsession%3At%5B0%5D%7D%7D%29%3Bconst%20A%3D%5Blt%2Crt%5D%2Cb%3D%5B%5D%3Bfunction%20F%28c%2Cv%29%7Breturn%20c%5B0%5D.rootFrame%3F0%3A1%7Dreturn%20p%3DF%28t%29%2Cd%3Db%5Bp%5D%3DA%5Bp%5D%28t%29%2C%7Bc%28%29%7Be%3D_%28%22div%22%29%2Cpe%28i.%24%24.fragment%29%2Cn%3Dw%28%29%2Cs%3D_%28%22div%22%29%2Cu%3Dw%28%29%2Cr%3D_%28%22div%22%29%2Co%3D_%28%22div%22%29%2Ca%3D_%28%22span%22%29%2Ca.textContent%3D%22Program%3A%5CxA0%22%2Cl%3DL%28t%5B1%5D%29%2Ch%3Dw%28%29%2Cd.c%28%29%2Cm%28s%2C%22class%22%2C%22spacer%22%29%2CT%28s%2C%22height%22%2C%2220px%22%29%2Cm%28a%2C%22class%22%2C%22label%20svelte-1gm5pcf%22%29%2Cm%28o%2C%22class%22%2C%22program%20svelte-1gm5pcf%22%29%2Cm%28r%2C%22class%22%2C%22margins%22%29%2Cm%28e%2C%22class%22%2C%22app%20svelte-1gm5pcf%22%29%7D%2Cm%28c%2Cv%29%7BX%28c%2Ce%2Cv%29%2Cte%28i%2Ce%2Cnull%29%2Cf%28e%2Cn%29%2Cf%28e%2Cs%29%2Cf%28e%2Cu%29%2Cf%28e%2Cr%29%2Cf%28r%2Co%29%2Cf%28o%2Ca%29%2Cf%28o%2Cl%29%2Cf%28r%2Ch%29%2Cb%5Bp%5D.m%28r%2Cnull%29%2Cg%3D%210%7D%2Cp%28c%2C%5Bv%5D%29%7Bconst%20%24%3D%7B%7D%3Bv%261%26%26%28%24.session%3Dc%5B0%5D%29%2Ci.%24set%28%24%29%2C%28%21g%7C%7Cv%262%29%26%26q%28l%2Cc%5B1%5D%29%3Blet%20M%3Dp%3Bp%3DF%28c%29%2Cp%3D%3D%3DM%3Fb%5Bp%5D.p%28c%2Cv%29%3A%28ce%28%29%2Cz%28b%5BM%5D%2C1%2C1%2C%28%29%3D%3E%7Bb%5BM%5D%3Dnull%7D%29%2Cde%28%29%2Cd%3Db%5Bp%5D%2Cd%3Fd.p%28c%2Cv%29%3A%28d%3Db%5Bp%5D%3DA%5Bp%5D%28c%29%2Cd.c%28%29%29%2CD%28d%2C1%29%2Cd.m%28r%2Cnull%29%29%7D%2Ci%28c%29%7Bg%7C%7C%28D%28i.%24%24.fragment%2Cc%29%2CD%28d%29%2Cg%3D%210%29%7D%2Co%28c%29%7Bz%28i.%24%24.fragment%2Cc%29%2Cz%28d%29%2Cg%3D%211%7D%2Cd%28c%29%7Bc%26%26N%28e%29%2Cie%28i%29%2Cb%5Bp%5D.d%28%29%7D%7D%7Dfunction%20ge%28%29%7Bdocument.body.style.minHeight%3D%60%24%7Bwindow.scrollY%2Bwindow.innerHeight%7Dpx%60%7Dfunction%20st%28t%2Ce%2Ci%29%7Blet%7Bsession%3An%7D%3De%3Bconst%20s%3Ddocument.createElement%28%22link%22%29%3Bs.rel%3D%22shortut%20icon%22%2Cs.href%3Dnt%2Cdocument.head.appendChild%28s%29%2Cqe%28%28%29%3D%3E%7Bwindow.addEventListener%28%22scroll%22%2Cge%29%2Cge%28%29%7D%29%2CUe%28%28%29%3D%3E%7Bwindow.removeEventListener%28%22scroll%22%2Cge%29%7D%29%3Bconst%20u%3Dn.rootFrame%2Cr%3Du%3D%3Dnull%3Fvoid%200%3Au.time.toLocaleString%28void%200%2C%7BmaximumSignificantDigits%3A3%7D%29%3Blet%20o%3Du%3D%3Dnull%3Fvoid%200%3Au.function%3Breturn%20o%3D%3D%22%3Cmodule%3E%22%26%26%28o%3Dn.program%29%2Cdocument.title%3D%60%24%7Br%7Ds%20-%20%24%7Bo%7D%20-%20pyinstrument%60%2Ct.%24%24set%3Da%3D%3E%7B%22session%22in%20a%26%26i%280%2Cn%3Da.session%29%7D%2C%5Bn%2Co%5D%7Dclass%20at%20extends%20he%7Bconstructor%28e%29%7Bsuper%28%29%2Cme%28this%2Ce%2Cst%2Cot%2CK%2C%7Bsession%3A0%7D%29%7D%7Dclass%20ut%7Bconstructor%28e%2Ci%29%7Bk%28this%2C%22id%22%29%3Bk%28this%2C%22rootFrame%22%29%3Bk%28this%2C%22frames%22%2C%5B%5D%29%3Bthis.id%3De%2Cthis.rootFrame%3Di%7DaddFrame%28e%29%7Bthis.frames.push%28e%29%7Dget%20exitFrames%28%29%7Bconst%20e%3D%5B%5D%3Bfor%28const%20i%20of%20this.frames%29%7Blet%20n%3D%211%3Bfor%28const%20s%20of%20i.children%29if%28s.group%21%3Dthis%29%7Bn%3D%210%3Bbreak%7Dn%26%26e.push%28i%29%7Dreturn%20e%7Dget%20libraries%28%29%7Bconst%20e%3D%5B%5D%3Bfor%28const%20i%20of%20this.frames%29%7Bconst%20n%3D/%5E%5B%5E%5C%5C/.%5D%2A/.exec%28i.filePathShort%29%5B0%5D%3Be.includes%28n%29%7C%7Ce.push%28n%29%7Dreturn%20e%7D%7Dclass%20_e%7Bconstructor%28e%2Ci%3Dnull%2Cn%3D%7Bgroups%3A%7B%7D%7D%29%7Bk%28this%2C%22function%22%29%3Bk%28this%2C%22filePath%22%29%3Bk%28this%2C%22filePathShort%22%29%3Bk%28this%2C%22lineNo%22%29%3Bk%28this%2C%22time%22%29%3Bk%28this%2C%22totalTime%22%29%3Bk%28this%2C%22awaitTime%22%29%3Bk%28this%2C%22isApplicationCode%22%29%3Bk%28this%2C%22groupId%22%29%3Bk%28this%2C%22className%22%29%3Bk%28this%2C%22parent%22%29%3Bk%28this%2C%22children%22%29%3Bk%28this%2C%22group%22%29%3Bvar%20s%2Cu%3Bif%28this.parent%3Di%2Cthis.function%3De.function%2Cthis.filePath%3De.file_path%2Cthis.filePathShort%3De.file_path_short%2Cthis.lineNo%3De.line_no%2Cthis.time%3De.time%2Cthis.totalTime%3Dthis.parent%3Fthis.parent.totalTime%3Athis.time%2Cthis.awaitTime%3De.await_time%2Cthis.isApplicationCode%3De.is_application_code%2Cthis.groupId%3D%28s%3De.group_id%29%21%3Dnull%3Fs%3Anull%2Cthis.className%3D%28u%3De.class_name%29%21%3Dnull%3Fu%3Anull%2Ce.group_id%29%7Bconst%20r%3De.group_id%3Blet%20o%3Dn.groups%5Br%5D%3Bo%7C%7C%28o%3Dn.groups%5Br%5D%3Dnew%20ut%28r%2Cthis%29%29%2Co.addFrame%28this%29%2Cthis.group%3Dn.groups%5Br%5D%7Delse%20this.group%3Dnull%3Bthis.children%3De.children.map%28r%3D%3Enew%20_e%28r%2Cthis%2Cn%29%29%7Dget%20identifier%28%29%7Breturn%60%24%7Bthis.function%7D%3A%24%7Bthis.filePath%7D%3A%24%7Bthis.lineNo%7D%60%7Dget%20proportionOfTotal%28%29%7Breturn%20this.time/this.totalTime%7D%7Dclass%20ft%7Bconstructor%28e%29%7Bk%28this%2C%22startTime%22%29%3Bk%28this%2C%22duration%22%29%3Bk%28this%2C%22sampleCount%22%29%3Bk%28this%2C%22program%22%29%3Bk%28this%2C%22cpuTime%22%29%3Bk%28this%2C%22rootFrame%22%29%3Bthis.startTime%3De.start_time%2Cthis.duration%3De.duration%2Cthis.sampleCount%3De.sample_count%2Cthis.program%3De.program%2Cthis.cpuTime%3De.cpu_time%2Cthis.rootFrame%3De.root_frame%3Fnew%20_e%28e.root_frame%29%3Anull%7D%7Dreturn%7Brender%28t%2Ce%29%7Bconst%20i%3Dnew%20ft%28e%29%3Breturn%20new%20at%28%7Btarget%3At%2Cprops%3A%7Bsession%3Ai%7D%7D%29%7D%7D%7D%28%29%3B%0A%3C/script%3E%0A%20%20%20%20%20%20%20%20%20%20%20%20%20%20%20%20%3Cstyle%3E%40import%22https%3A//fonts.googleapis.com/css%3Ffamily%3DSource%2BCode%2BPro%3A400%2C600%7CSource%2BSans%2BPro%3A400%2C600%22%3Bhtml%2Cbody%7Bbackground-color%3A%23303538%3Bcolor%3A%23fff%3Bpadding%3A0%3Bmargin%3A0%7D.margins%7Bpadding%3A0%2030px%7D.header.svelte-tewt95%7Bbackground%3A%23292f32%7D.row.svelte-tewt95%7Bdisplay%3Aflex%3Balign-items%3Acenter%7D.title.svelte-tewt95%7Bfont-size%3A34px%3Bpadding-top%3A20px%3Bpadding-bottom%3A16px%3Bwhite-space%3Anowrap%3Boverflow%3Ahidden%3Btext-overflow%3Aellipsis%3Bmargin-right%3A10px%3Bflex%3A1%7D.metrics.svelte-tewt95%7Bdisplay%3Agrid%3Bgrid-template-columns%3Aauto%20auto%20auto%20auto%20auto%20auto%3Bfont-size%3A14px%3Btext-transform%3Auppercase%3Bgrid-gap%3A1px%208px%7D.metric-label.svelte-tewt95%7Bfont-weight%3A600%3Bcolor%3A%23a9abad%7D.metric-value.svelte-tewt95%7Bcolor%3A%23737779%3Bmargin-right%3A.5em%7D.frame.svelte-1aphj50.svelte-1aphj50%7Bfont-family%3ASource%20Code%20Pro%2CRoboto%20Mono%2CConsolas%2CMonaco%2Cmonospace%3Bfont-size%3A15px%3Bz-index%3A0%3Bposition%3Arelative%3Buser-select%3Anone%7D.group-header.svelte-1aphj50.svelte-1aphj50%7Bmargin-left%3A35px%7D.group-header-button.svelte-1aphj50.svelte-1aphj50%7Bdisplay%3Ainline-block%3Bcolor%3A%23ffffff94%3Buser-select%3Anone%3Bcursor%3Adefault%3Bposition%3Arelative%7D.group-header-button.svelte-1aphj50.svelte-1aphj50%3Abefore%7Bposition%3Aabsolute%3Bleft%3A-3px%3Bright%3A-3px%3Btop%3A0px%3Bbottom%3A-1px%3Bcontent%3A%22%22%3Bz-index%3A-1%3Bbackground-color%3A%233b4043%7D.group-header-button.svelte-1aphj50.svelte-1aphj50%3Ahover%3Abefore%7Bbackground-color%3A%234a4f54%7D.group-triangle.svelte-1aphj50.svelte-1aphj50%2C.frame-triangle.svelte-1aphj50.svelte-1aphj50%7Bwidth%3A6px%3Bheight%3A10px%3Bpadding-left%3A6px%3Bpadding-right%3A5px%3Bdisplay%3Ainline-block%7D.group-triangle.rotate.svelte-1aphj50.svelte-1aphj50%2C.frame-triangle.rotate.svelte-1aphj50.svelte-1aphj50%7Btransform%3Atranslate%286px%2C4px%29%20rotate%2890deg%29%7D.frame-description.svelte-1aphj50.svelte-1aphj50%7Bdisplay%3Aflex%7D.frame-description.svelte-1aphj50.svelte-1aphj50%3Ahover%3Abefore%7Bposition%3Aabsolute%3Bleft%3A-3px%3Bright%3A-3px%3Btop%3A-1px%3Bheight%3A22px%3Bcontent%3A%22%22%3Bz-index%3A-1%3Bbackground-color%3A%23354759%3Bopacity%3A.5%7D.frame-triangle.svelte-1aphj50.svelte-1aphj50%7Bopacity%3A1%7D.frame-description.children-visible.svelte-1aphj50%20.frame-triangle.svelte-1aphj50%7Bopacity%3A0%7D.frame-description.children-visible.svelte-1aphj50%3Ahover%20.frame-triangle.svelte-1aphj50%7Bopacity%3A1%7D.name.svelte-1aphj50.svelte-1aphj50%2C.time.svelte-1aphj50.svelte-1aphj50%2C.code-position.svelte-1aphj50.svelte-1aphj50%7Buser-select%3Atext%3Bcursor%3Adefault%7D.application-code.svelte-1aphj50%20.name.svelte-1aphj50%7Bcolor%3A%235db3ff%7D.time.svelte-1aphj50.svelte-1aphj50%7Bmargin-right%3A.55em%3Bcolor%3A%23b8e98685%7D.code-position.svelte-1aphj50.svelte-1aphj50%7Bcolor%3A%23ffffff80%3Btext-align%3Aright%3Bmargin-left%3A1em%7D.visual-guide%7Btop%3A21px%3Bbottom%3A0%3Bleft%3A0%3Bwidth%3A2px%3Bbackground-color%3A%23fff%3Bposition%3Aabsolute%3Bopacity%3A.08%7D.frame-description%3Ahover~.visual-guide%7Bopacity%3A.4%7D.frame-description%3Ahover~.children%20.visual-guide%7Bopacity%3A.1%7D.app.svelte-1gm5pcf.svelte-1gm5pcf%7Bfont-family%3ASource%20Sans%20Pro%2CHelvetica%2CArial%2Csans-serif%3B-webkit-font-smoothing%3Aantialiased%3B-moz-osx-font-smoothing%3Agrayscale%7D.program.svelte-1gm5pcf.svelte-1gm5pcf%7Bfont-size%3A14px%3Bfont-weight%3A600%3Bmargin-bottom%3A16px%3Bcolor%3A%23b4b4b4%7D.program.svelte-1gm5pcf%20.label.svelte-1gm5pcf%7Bcolor%3A%23eaeaea%3Btext-transform%3Auppercase%7D%0A%3C/style%3E%0A%0A%20%20%20%20%20%20%20%20%20%20%20%20%20%20%20%20%3Cscript%3E%0A%20%20%20%20%20%20%20%20%20%20%20%20%20%20%20%20%20%20%20%20const%20sessionData%20%3D%20%7B%22start_time%22%3A%201717765628.964901%2C%22duration%22%3A%203.249728%2C%22sample_count%22%3A%201004%2C%22program%22%3A%20%22C%3A%5C%5CUsers%5C%5CPaul%20Kahlmeyer%5C%5Canaconda3%5C%5Cenvs%5C%5CSymbReg%5C%5Clib%5C%5Csite-packages%5C%5Cipykernel_launcher.py%20-f%20C%3A%5C%5CUsers%5C%5CPaul%20Kahlmeyer%5C%5CAppData%5C%5CRoaming%5C%5Cjupyter%5C%5Cruntime%5C%5Ckernel-a0361ae3-c4e6-48ef-973c-81f1b6793963.json%22%2C%22cpu_time%22%3A%202.828125%2C%22root_frame%22%3A%20%7B%22function%22%3A%20%22%3Ccell%20line%3A%202%3E%22%2C%22file_path_short%22%3A%20%22..%5C%5C..%5C%5C..%5C%5CAppData%5C%5CLocal%5C%5CTemp%5C%5Cipykernel_22352%5C%5C2566917897.py%22%2C%22file_path%22%3A%20%22C%3A%5C%5CUsers%5C%5CPaul%20Kahlmeyer%5C%5CAppData%5C%5CLocal%5C%5CTemp%5C%5Cipykernel_22352%5C%5C2566917897.py%22%2C%22line_no%22%3A%202%2C%22time%22%3A%203.247486%2C%22await_time%22%3A%200.000000%2C%22is_application_code%22%3A%20true%2C%22children%22%3A%20%5B%7B%22function%22%3A%20%22evaluate%22%2C%22file_path_short%22%3A%20%22comp_graph.py%22%2C%22file_path%22%3A%20%22C%3A%5C%5CUsers%5C%5CPaul%20Kahlmeyer%5C%5COneDrive%5C%5CPhD%5C%5CDAG_search%5C%5CDAG_search%5C%5Ccomp_graph.py%22%2C%22line_no%22%3A%20706%2C%22time%22%3A%203.247486%2C%22await_time%22%3A%200.000000%2C%22is_application_code%22%3A%20true%2C%22children%22%3A%20%5B%7B%22function%22%3A%20%22%3Cmodule%3E%22%2C%22file_path_short%22%3A%20%22%3Cstring%3E%22%2C%22file_path%22%3A%20%22%3Cstring%3E%22%2C%22line_no%22%3A%201%2C%22time%22%3A%203.242684%2C%22await_time%22%3A%200.000000%2C%22is_application_code%22%3A%20false%2C%22children%22%3A%20%5B%5D%7D%5D%2C%22class_name%22%3A%20%22CompGraph%22%7D%5D%7D%7D%0A%3B%0A%20%20%20%20%20%20%20%20%20%20%20%20%20%20%20%20%20%20%20%20pyinstrumentHTMLRenderer.render%28document.getElementById%28%27app%27%29%2C%20sessionData%29%3B%0A%20%20%20%20%20%20%20%20%20%20%20%20%20%20%20%20%3C/script%3E%0A%20%20%20%20%20%20%20%20%20%20%20%20%3C/body%3E%0A%20%20%20%20%20%20%20%20%20%20%20%20%3C/html%3E%0A%20%20%20%20%20%20%20%20\"\n",
       "            frameborder=\"0\"\n",
       "            allowfullscreen\n",
       "            style=\"resize: vertical\"\n",
       "        ></iframe>\n",
       "        "
      ],
      "text/plain": [
       "\n",
       "  _     ._   __/__   _ _  _  _ _/_   Recorded: 15:07:08  Samples:  1004\n",
       " /_//_/// /_\\ / //_// / //_'/ //     Duration: 3.250     CPU time: 2.828\n",
       "/   _/                      v4.6.2\n",
       "\n",
       "Program: C:\\Users\\Paul Kahlmeyer\\anaconda3\\envs\\SymbReg\\lib\\site-packages\\ipykernel_launcher.py -f C:\\Users\\Paul Kahlmeyer\\AppData\\Roaming\\jupyter\\runtime\\kernel-a0361ae3-c4e6-48ef-973c-81f1b6793963.json\n",
       "\n",
       "3.247 <cell line: 2>  ..\\..\\..\\AppData\\Local\\Temp\\ipykernel_22352\\2566917897.py:2\n",
       "`- 3.247 CompGraph.evaluate  comp_graph.py:706\n",
       "   `- 3.243 <module>  <string>:1\n",
       "\n"
      ]
     },
     "metadata": {},
     "output_type": "display_data"
    }
   ],
   "source": [
    "%%pyinstrument\n",
    "for _ in range(1000):\n",
    "    pred2 = graph.evaluate(X, c)"
   ]
  },
  {
   "cell_type": "code",
   "execution_count": 173,
   "id": "544a072b",
   "metadata": {},
   "outputs": [],
   "source": [
    "X.shape # N x m -> r x N x m\n",
    "r = c.shape[0]"
   ]
  },
  {
   "cell_type": "code",
   "execution_count": 174,
   "id": "04d752e2",
   "metadata": {},
   "outputs": [
    {
     "data": {
      "text/plain": [
       "(50, 1000, 1)"
      ]
     },
     "execution_count": 174,
     "metadata": {},
     "output_type": "execute_result"
    }
   ],
   "source": [
    "X_full1 = np.repeat(X[np.newaxis, :, :], r, axis=0) # r x N x m\n",
    "X_full1.shape"
   ]
  },
  {
   "cell_type": "code",
   "execution_count": 178,
   "id": "ec75b9d9",
   "metadata": {},
   "outputs": [
    {
     "name": "stdout",
     "output_type": "stream",
     "text": [
      "14.9 µs ± 518 ns per loop (mean ± std. dev. of 7 runs, 100,000 loops each)\n"
     ]
    }
   ],
   "source": [
    "%timeit X_full1 = np.repeat(X[np.newaxis, :, :], r, axis=0) # r x N x m"
   ]
  },
  {
   "cell_type": "code",
   "execution_count": 177,
   "id": "99104003",
   "metadata": {},
   "outputs": [
    {
     "data": {
      "text/plain": [
       "(50, 1000, 1)"
      ]
     },
     "execution_count": 177,
     "metadata": {},
     "output_type": "execute_result"
    }
   ],
   "source": [
    "X_full2 = np.broadcast_to(X, (r,) + X.shape)\n",
    "X_full2.shape"
   ]
  },
  {
   "cell_type": "code",
   "execution_count": 179,
   "id": "8ecf123c",
   "metadata": {
    "scrolled": true
   },
   "outputs": [
    {
     "name": "stdout",
     "output_type": "stream",
     "text": [
      "5.06 µs ± 122 ns per loop (mean ± std. dev. of 7 runs, 100,000 loops each)\n"
     ]
    }
   ],
   "source": [
    "%timeit X_full2 = np.broadcast_to(X, (r,) + X.shape)"
   ]
  },
  {
   "cell_type": "code",
   "execution_count": 182,
   "id": "2fcd6ddf",
   "metadata": {},
   "outputs": [
    {
     "data": {
      "text/plain": [
       "(50, 2)"
      ]
     },
     "execution_count": 182,
     "metadata": {},
     "output_type": "execute_result"
    }
   ],
   "source": [
    "c.shape"
   ]
  },
  {
   "cell_type": "code",
   "execution_count": 184,
   "id": "3ffd393a",
   "metadata": {},
   "outputs": [
    {
     "data": {
      "text/plain": [
       "(50, 1000, 2)"
      ]
     },
     "execution_count": 184,
     "metadata": {},
     "output_type": "execute_result"
    }
   ],
   "source": [
    "c_full = np.broadcast_to(c[:, None, :], (c.shape[0], X.shape[0], c.shape[1]))\n",
    "c_full.shape"
   ]
  },
  {
   "cell_type": "markdown",
   "id": "4346c201",
   "metadata": {},
   "source": [
    "## Ideas\n",
    "\n",
    "#### Coverage of Search Space\n",
    "Space of small DAGs is enough to approximate smooth functions. \n",
    "Experiment: \n",
    "- choose high order polynomial, try to approximate\n",
    "- we are able to compress difficult functions (e.g. NN? efficient+accurate inference)\n",
    "- **Unbiased**\n",
    "\n",
    "#### Scaling Up Augmentations\n",
    "- If we can predict approximate expression size for regression problem: choose Augmentations that make expression size smaller\n",
    "- AIFeynman Symmetries\n",
    "- Correlation of Oracle vs. actual complexity\n",
    "\n",
    "#### Better Language\n",
    "Maybe vectorized instructions?\n"
   ]
  },
  {
   "cell_type": "markdown",
   "id": "d2c85d14",
   "metadata": {},
   "source": [
    "# Coverage of Search Space\n",
    "\n",
    "**Idea:** Any expression with a lot of nodes is already approximated well by expressions with few nodes"
   ]
  },
  {
   "cell_type": "code",
   "execution_count": 113,
   "id": "5be2414f",
   "metadata": {},
   "outputs": [],
   "source": [
    "m = 2\n",
    "k = 1\n",
    "\n",
    "vs = [np.linspace(-1, 1, 5)]*m\n",
    "eval_points = np.column_stack([x.flatten() for x in np.meshgrid(*vs)])\n",
    "\n",
    "vs = [np.linspace(-1, 1, 5)]*k\n",
    "eval_consts = np.column_stack([x.flatten() for x in np.meshgrid(*vs)])"
   ]
  },
  {
   "cell_type": "code",
   "execution_count": 114,
   "id": "2275cb31",
   "metadata": {},
   "outputs": [],
   "source": [
    "def collect_function_values(l, eval_points, eval_consts, N = 20000):\n",
    "    m = eval_points.shape[1]\n",
    "    k = eval_consts.shape[1]\n",
    "    ret = []\n",
    "    expr_set = set()\n",
    "    for _ in range(N):\n",
    "        graph = dag_search.sample_graph(m = m, n = 1, k = k, n_calc_nodes = l)\n",
    "        expr = str(graph.evaluate_symbolic()[0])\n",
    "        if expr not in expr_set:\n",
    "            expr_set.add(expr)\n",
    "            pred = graph.evaluate(eval_points, c = eval_consts)[:, :, 0]\n",
    "            ret.append(pred)\n",
    "    return np.row_stack(ret)\n",
    "\n",
    "from sklearn.metrics.pairwise import pairwise_distances\n",
    "def get_median_error(base_set, compare_set):\n",
    "    mask1 = np.all(np.isfinite(base_set), axis = 1)\n",
    "    mask2 = np.all(np.isfinite(compare_set), axis = 1)\n",
    "    dist_matrix = pairwise_distances(base_set[mask1], compare_set[mask2])\n",
    "    return np.median(np.min(dist_matrix, axis = 0))\n"
   ]
  },
  {
   "cell_type": "code",
   "execution_count": 115,
   "id": "176d63e0",
   "metadata": {
    "scrolled": true
   },
   "outputs": [
    {
     "name": "stdout",
     "output_type": "stream",
     "text": [
      "0\n",
      "1\n",
      "2\n",
      "3\n",
      "4\n",
      "5\n",
      "6\n",
      "7\n",
      "8\n",
      "9\n",
      "10\n",
      "0 0\n",
      "0 1\n",
      "0 2\n",
      "0 3\n",
      "0 4\n",
      "0 5\n",
      "0 6\n",
      "0 7\n",
      "0 8\n",
      "0 9\n",
      "0 10\n",
      "1 0\n",
      "1 1\n",
      "1 2\n",
      "1 3\n",
      "1 4\n",
      "1 5\n",
      "1 6\n",
      "1 7\n",
      "1 8\n",
      "1 9\n",
      "1 10\n",
      "2 0\n",
      "2 1\n",
      "2 2\n",
      "2 3\n",
      "2 4\n",
      "2 5\n",
      "2 6\n",
      "2 7\n",
      "2 8\n",
      "2 9\n",
      "2 10\n",
      "3 0\n",
      "3 1\n",
      "3 2\n",
      "3 3\n",
      "3 4\n",
      "3 5\n",
      "3 6\n",
      "3 7\n",
      "3 8\n",
      "3 9\n",
      "3 10\n",
      "4 0\n",
      "4 1\n",
      "4 2\n",
      "4 3\n",
      "4 4\n",
      "4 5\n",
      "4 6\n",
      "4 7\n",
      "4 8\n",
      "4 9\n",
      "4 10\n",
      "5 0\n",
      "5 1\n",
      "5 2\n",
      "5 3\n",
      "5 4\n",
      "5 5\n",
      "5 6\n",
      "5 7\n",
      "5 8\n",
      "5 9\n",
      "5 10\n",
      "6 0\n",
      "6 1\n",
      "6 2\n",
      "6 3\n",
      "6 4\n",
      "6 5\n",
      "6 6\n",
      "6 7\n",
      "6 8\n",
      "6 9\n",
      "6 10\n",
      "7 0\n",
      "7 1\n",
      "7 2\n",
      "7 3\n",
      "7 4\n",
      "7 5\n",
      "7 6\n",
      "7 7\n",
      "7 8\n",
      "7 9\n",
      "7 10\n",
      "8 0\n",
      "8 1\n",
      "8 2\n",
      "8 3\n",
      "8 4\n",
      "8 5\n",
      "8 6\n",
      "8 7\n",
      "8 8\n",
      "8 9\n",
      "8 10\n",
      "9 0\n",
      "9 1\n",
      "9 2\n",
      "9 3\n",
      "9 4\n",
      "9 5\n",
      "9 6\n",
      "9 7\n",
      "9 8\n",
      "9 9\n",
      "9 10\n",
      "10 0\n",
      "10 1\n",
      "10 2\n",
      "10 3\n",
      "10 4\n",
      "10 5\n",
      "10 6\n",
      "10 7\n",
      "10 8\n",
      "10 9\n",
      "10 10\n"
     ]
    }
   ],
   "source": [
    "np.random.seed(0)\n",
    "n_calc_nodes = [0, 1, 2, 3, 4, 5, 6, 7, 8, 9, 10]\n",
    "base_sets = []\n",
    "for l in n_calc_nodes:\n",
    "    print(l)\n",
    "    base_set = collect_function_values(l, eval_points, eval_consts)\n",
    "    base_sets.append(base_set)\n",
    "    \n",
    "error_map = np.zeros((len(n_calc_nodes), len(n_calc_nodes)))\n",
    "for i, l1 in enumerate(n_calc_nodes):\n",
    "    for j, l2 in enumerate(n_calc_nodes):\n",
    "        print(i, j)\n",
    "        error = get_median_error(base_sets[i], base_sets[j])\n",
    "        error_map[i, j] = error"
   ]
  },
  {
   "cell_type": "code",
   "execution_count": 116,
   "id": "bc78a8db",
   "metadata": {},
   "outputs": [
    {
     "data": {
      "text/plain": [
       "Text(0.5, 0, '#Nodes at Inference')"
      ]
     },
     "execution_count": 116,
     "metadata": {},
     "output_type": "execute_result"
    },
    {
     "data": {
      "image/png": "[encoded data removed]",
      "text/plain": [
       "<Figure size 432x288 with 2 Axes>"
      ]
     },
     "metadata": {
      "needs_background": "light"
     },
     "output_type": "display_data"
    }
   ],
   "source": [
    "plt.imshow(error_map, cmap = 'gray')\n",
    "plt.xticks(range(error_map.shape[1]), n_calc_nodes)\n",
    "plt.yticks(range(error_map.shape[0]), n_calc_nodes)\n",
    "plt.colorbar()\n",
    "\n",
    "plt.title('Median difference norm')\n",
    "plt.ylabel('#Nodes for Coverage')\n",
    "plt.xlabel('#Nodes at Inference')"
   ]
  },
  {
   "cell_type": "markdown",
   "id": "a716b26c",
   "metadata": {},
   "source": [
    "# Simplifications"
   ]
  },
  {
   "cell_type": "markdown",
   "id": "27cb266d",
   "metadata": {},
   "source": [
    "Our samples cover only a small portion of the true function. This becomes worse in higher dimensions.\n",
    "\n",
    "Hence we should evaluate the heuristics at points with higher density.\n",
    "\n",
    "**Hypothesis**: This is more robust against noise for detecting true simplifications"
   ]
  },
  {
   "cell_type": "code",
   "execution_count": 229,
   "id": "241349c9",
   "metadata": {},
   "outputs": [],
   "source": [
    "def f_true(X):\n",
    "    tmp = np.sin((X[:, 0]*X[:, 1]))\n",
    "    return tmp\n",
    "\n",
    "\n",
    "from sklearn.datasets import make_blobs\n",
    "centers = np.array([[-1.5, 0.5], [1.5, -0.5]])\n",
    "X, _ = make_blobs(n_samples = 500, centers = centers, cluster_std = 0.5)\n",
    "y = f_true(X)"
   ]
  },
  {
   "cell_type": "code",
   "execution_count": 230,
   "id": "b8530627",
   "metadata": {
    "scrolled": true
   },
   "outputs": [
    {
     "data": {
      "text/plain": [
       "<matplotlib.colorbar.Colorbar at 0x2bc5b437100>"
      ]
     },
     "execution_count": 230,
     "metadata": {},
     "output_type": "execute_result"
    },
    {
     "data": {
      "image/png": "[encoded data removed]",
      "text/plain": [
       "<Figure size 432x288 with 2 Axes>"
      ]
     },
     "metadata": {
      "needs_background": "light"
     },
     "output_type": "display_data"
    }
   ],
   "source": [
    "# 1. plot data + true function\n",
    "\n",
    "# Set up a regular grid of interpolation points\n",
    "\n",
    "\n",
    "x1, x2 = np.linspace(np.min(X[:, 0]), np.max(X[:, 0]), 100), np.linspace(np.min(X[:, 1]), np.max(X[:, 1]), 100)\n",
    "x1, x2 = np.meshgrid(x1, x2)\n",
    "\n",
    "X_grid = np.column_stack([x1.flatten(), x2.flatten()])\n",
    "y_grid = f_true(X_grid)\n",
    "y_grid = y_grid.reshape(x1.shape)\n",
    "img = plt.contourf(x1, x2, y_grid, levels = 100)\n",
    "\n",
    "plt.scatter(X[:, 0], X[:, 1], color = 'red', marker = 'x', s = .5)\n",
    "plt.colorbar(img)"
   ]
  },
  {
   "cell_type": "markdown",
   "id": "d75b767d",
   "metadata": {},
   "source": [
    "An approximation of the function based on the samples will only be good in regions with a lot of samples"
   ]
  },
  {
   "cell_type": "code",
   "execution_count": 231,
   "id": "8be1f89d",
   "metadata": {},
   "outputs": [
    {
     "name": "stdout",
     "output_type": "stream",
     "text": [
      "0.00035512162590755264\n"
     ]
    }
   ],
   "source": [
    "f_appr = simplifications.PolyReg(degree = 10)\n",
    "#f_appr = simplifications.MLP(verbose = 2)\n",
    "\n",
    "f_appr.fit(X, y)\n",
    "pred = f_appr.predict(X)\n",
    "rmse = np.sqrt(np.mean((y - pred)**2))\n",
    "print(rmse)"
   ]
  },
  {
   "cell_type": "code",
   "execution_count": 232,
   "id": "6f607946",
   "metadata": {
    "scrolled": true
   },
   "outputs": [
    {
     "data": {
      "text/plain": [
       "<matplotlib.colorbar.Colorbar at 0x2bc5b0ca5e0>"
      ]
     },
     "execution_count": 232,
     "metadata": {},
     "output_type": "execute_result"
    },
    {
     "data": {
      "image/png": "[encoded data removed]",
      "text/plain": [
       "<Figure size 432x288 with 2 Axes>"
      ]
     },
     "metadata": {
      "needs_background": "light"
     },
     "output_type": "display_data"
    }
   ],
   "source": [
    "# absolute difference\n",
    "y_grid_apprx = f_appr.predict(X_grid)\n",
    "y_grid_apprx = y_grid_apprx.reshape(x1.shape)\n",
    "y_grid_diff = np.abs((y_grid - y_grid_apprx))\n",
    "\n",
    "t = 0.1\n",
    "y_grid_diff[y_grid_diff > t] = t\n",
    "img = plt.contourf(x1, x2, y_grid_diff, levels = 100)\n",
    "\n",
    "plt.scatter(X[:, 0], X[:, 1], color = 'red', marker = 'x', s = .2)\n",
    "plt.colorbar(img)"
   ]
  },
  {
   "cell_type": "markdown",
   "id": "27d4b979",
   "metadata": {},
   "source": [
    "We can identify these areas using density estimation"
   ]
  },
  {
   "cell_type": "code",
   "execution_count": 233,
   "id": "29faf815",
   "metadata": {},
   "outputs": [
    {
     "data": {
      "text/plain": [
       "<matplotlib.colorbar.Colorbar at 0x2bc5be0fbe0>"
      ]
     },
     "execution_count": 233,
     "metadata": {},
     "output_type": "execute_result"
    },
    {
     "data": {
      "image/png": "[encoded data removed]",
      "text/plain": [
       "<Figure size 432x288 with 2 Axes>"
      ]
     },
     "metadata": {
      "needs_background": "light"
     },
     "output_type": "display_data"
    }
   ],
   "source": [
    "from sklearn.neighbors import KernelDensity\n",
    "from sklearn.model_selection import GridSearchCV, LeaveOneOut\n",
    "\n",
    "# select bandwith using crossvalidation\n",
    "bandwidths = 10 ** np.linspace(-2, 1, 50) # 0.01 to 10\n",
    "grid = GridSearchCV(KernelDensity(kernel='gaussian'),\n",
    "                    {'bandwidth': bandwidths},\n",
    "                    cv=LeaveOneOut())\n",
    "grid.fit(X)\n",
    "\n",
    "# estimate density\n",
    "kde = KernelDensity(kernel='gaussian', bandwidth = grid.best_params_['bandwidth']).fit(X)\n",
    "logprobs = kde.score_samples(X_grid).reshape(x1.shape)\n",
    "\n",
    "\n",
    "# plot density\n",
    "img = plt.contourf(x1, x2, np.exp(logprobs), levels = 10)\n",
    "plt.scatter(X[:, 0], X[:, 1], color = 'red', marker = 'x', s = .5)\n",
    "plt.colorbar(img)"
   ]
  },
  {
   "cell_type": "code",
   "execution_count": 842,
   "id": "39b78de0",
   "metadata": {},
   "outputs": [],
   "source": [
    "import pickle\n",
    "\n",
    "# problem\n",
    "ds_name = 'Feynman' # Strogatz, Feynman, Nguyen, Univ, Feynman_bonus\n",
    "\n",
    "load_path = f'datasets/{ds_name}/tasks.p'\n",
    "with open(load_path, 'rb') as handle:\n",
    "    task_dict = pickle.load(handle)    "
   ]
  },
  {
   "cell_type": "code",
   "execution_count": 843,
   "id": "65127b55",
   "metadata": {},
   "outputs": [
    {
     "data": {
      "text/plain": [
       "<module 'DAG_search.simplifications' from 'C:\\\\Users\\\\Paul Kahlmeyer\\\\OneDrive\\\\PhD\\\\DAG_search\\\\DAG_search\\\\simplifications.py'>"
      ]
     },
     "execution_count": 843,
     "metadata": {},
     "output_type": "execute_result"
    }
   ],
   "source": [
    "import importlib\n",
    "importlib.reload(dag_search)\n",
    "importlib.reload(utils)\n",
    "importlib.reload(simplifications)"
   ]
  },
  {
   "cell_type": "markdown",
   "id": "b32f61b0",
   "metadata": {},
   "source": [
    "## Investigation\n",
    "\n",
    "Many times we run into false negatives.\n",
    "\n",
    "- check fit of candidates"
   ]
  },
  {
   "cell_type": "code",
   "execution_count": 847,
   "id": "03957424",
   "metadata": {},
   "outputs": [
    {
     "data": {
      "text/plain": [
       "<module 'DAG_search.simplifications' from 'C:\\\\Users\\\\Paul Kahlmeyer\\\\OneDrive\\\\PhD\\\\DAG_search\\\\DAG_search\\\\simplifications.py'>"
      ]
     },
     "execution_count": 847,
     "metadata": {},
     "output_type": "execute_result"
    }
   ],
   "source": [
    "importlib.reload(simplifications)"
   ]
  },
  {
   "cell_type": "code",
   "execution_count": 848,
   "id": "6c931996",
   "metadata": {
    "scrolled": true
   },
   "outputs": [
    {
     "data": {
      "application/vnd.jupyter.widget-view+json": {
       "model_id": "826f7b4c43b74ab5a561e705da4f24a1",
       "version_major": 2,
       "version_minor": 0
      },
      "text/plain": [
       "  0%|          | 0/95 [00:00<?, ?it/s]"
      ]
     },
     "metadata": {},
     "output_type": "display_data"
    }
   ],
   "source": [
    "def get_reduced_sizes(task_dict, noise_level = 0.0, appr = simplifications.approximate_poly):\n",
    "    np.random.seed(0)\n",
    "    \n",
    "    reduced_sizes = []\n",
    "\n",
    "    for problem_name in tqdm(list(task_dict.keys())):\n",
    "        X, y, expr = task_dict[problem_name]['X'], task_dict[problem_name]['y'][:, 0], task_dict[problem_name]['expr'][0]\n",
    "\n",
    "        noise = np.random.normal(scale = noise_level*np.sqrt(np.mean(y**2)), size = len(y))\n",
    "        y_noise = y + noise\n",
    "\n",
    "        res = simplifications.find_simplifications(X, y_noise, appr = appr, verbose = 0)\n",
    "        red_size = simplifications.reduction_size(res, expr)\n",
    "        reduced_sizes.append(red_size)\n",
    "    return np.array(reduced_sizes)\n",
    "    \n",
    "\n",
    "true_sizes = np.array([task_dict[problem_name]['X'].shape[1] for problem_name in list(task_dict.keys())])\n",
    "\n",
    "noise_level = 0.0\n",
    "red_sizes =  get_reduced_sizes(task_dict, noise_level = noise_level)"
   ]
  },
  {
   "cell_type": "code",
   "execution_count": 851,
   "id": "70582f65",
   "metadata": {
    "scrolled": true
   },
   "outputs": [
    {
     "data": {
      "text/plain": [
       "[<matplotlib.lines.Line2D at 0x1973cafa5e0>]"
      ]
     },
     "execution_count": 851,
     "metadata": {},
     "output_type": "execute_result"
    },
    {
     "data": {
      "image/png": "[encoded data removed]",
      "text/plain": [
       "<Figure size 432x288 with 1 Axes>"
      ]
     },
     "metadata": {
      "needs_background": "light"
     },
     "output_type": "display_data"
    }
   ],
   "source": [
    "plt.scatter(true_sizes, red_sizes)\n",
    "max_size = max(true_sizes)\n",
    "plt.xlim(0, max_size+1)\n",
    "plt.ylim(0, max_size+1)\n",
    "plt.plot([0, max_size+1], [0, max_size+1], color = 'tab:gray', alpha = 0.5, linestyle = '--')"
   ]
  },
  {
   "cell_type": "code",
   "execution_count": 852,
   "id": "9928742b",
   "metadata": {},
   "outputs": [
    {
     "data": {
      "text/plain": [
       "Text(0, 0.5, 'Input dimension')"
      ]
     },
     "execution_count": 852,
     "metadata": {},
     "output_type": "execute_result"
    },
    {
     "data": {
      "image/png": "[encoded data removed]",
      "text/plain": [
       "<Figure size 432x288 with 1 Axes>"
      ]
     },
     "metadata": {
      "needs_background": "light"
     },
     "output_type": "display_data"
    }
   ],
   "source": [
    "plt.plot(range(len(true_sizes)), np.sort(true_sizes), label = 'Original')\n",
    "plt.plot(range(len(red_sizes)), np.sort(red_sizes), label = 'Simplified')\n",
    "plt.legend()\n",
    "plt.xlabel('Problem')\n",
    "plt.ylabel('Input dimension')"
   ]
  },
  {
   "cell_type": "code",
   "execution_count": 901,
   "id": "d02eec43",
   "metadata": {},
   "outputs": [
    {
     "name": "stdout",
     "output_type": "stream",
     "text": [
      "Noise: 0.0\n"
     ]
    },
    {
     "data": {
      "application/vnd.jupyter.widget-view+json": {
       "model_id": "7c78533c0a38481ea371f2acade4210e",
       "version_major": 2,
       "version_minor": 0
      },
      "text/plain": [
       "  0%|          | 0/95 [00:00<?, ?it/s]"
      ]
     },
     "metadata": {},
     "output_type": "display_data"
    },
    {
     "name": "stdout",
     "output_type": "stream",
     "text": [
      "Noise: 1e-05\n"
     ]
    },
    {
     "data": {
      "application/vnd.jupyter.widget-view+json": {
       "model_id": "29a0a2c00fc7473492861b108dd45b97",
       "version_major": 2,
       "version_minor": 0
      },
      "text/plain": [
       "  0%|          | 0/95 [00:00<?, ?it/s]"
      ]
     },
     "metadata": {},
     "output_type": "display_data"
    },
    {
     "name": "stdout",
     "output_type": "stream",
     "text": [
      "Noise: 0.0001\n"
     ]
    },
    {
     "data": {
      "application/vnd.jupyter.widget-view+json": {
       "model_id": "664f2fa041054bb486612d70029d3f90",
       "version_major": 2,
       "version_minor": 0
      },
      "text/plain": [
       "  0%|          | 0/95 [00:00<?, ?it/s]"
      ]
     },
     "metadata": {},
     "output_type": "display_data"
    },
    {
     "name": "stdout",
     "output_type": "stream",
     "text": [
      "Noise: 0.001\n"
     ]
    },
    {
     "data": {
      "application/vnd.jupyter.widget-view+json": {
       "model_id": "fd0a799dde064a6f84ee904b0b20a23b",
       "version_major": 2,
       "version_minor": 0
      },
      "text/plain": [
       "  0%|          | 0/95 [00:00<?, ?it/s]"
      ]
     },
     "metadata": {},
     "output_type": "display_data"
    },
    {
     "name": "stdout",
     "output_type": "stream",
     "text": [
      "Noise: 0.01\n"
     ]
    },
    {
     "data": {
      "application/vnd.jupyter.widget-view+json": {
       "model_id": "fe33d67d7e904783bb6f9072aec4672f",
       "version_major": 2,
       "version_minor": 0
      },
      "text/plain": [
       "  0%|          | 0/95 [00:00<?, ?it/s]"
      ]
     },
     "metadata": {},
     "output_type": "display_data"
    },
    {
     "name": "stdout",
     "output_type": "stream",
     "text": [
      "Noise: 0.1\n"
     ]
    },
    {
     "data": {
      "application/vnd.jupyter.widget-view+json": {
       "model_id": "020be25e6caf477783765bb8552414ac",
       "version_major": 2,
       "version_minor": 0
      },
      "text/plain": [
       "  0%|          | 0/95 [00:00<?, ?it/s]"
      ]
     },
     "metadata": {},
     "output_type": "display_data"
    },
    {
     "name": "stdout",
     "output_type": "stream",
     "text": [
      "Noise: 1.0\n"
     ]
    },
    {
     "data": {
      "application/vnd.jupyter.widget-view+json": {
       "model_id": "fbc93d7ccd1147adac2e5dfcca40f2af",
       "version_major": 2,
       "version_minor": 0
      },
      "text/plain": [
       "  0%|          | 0/95 [00:00<?, ?it/s]"
      ]
     },
     "metadata": {},
     "output_type": "display_data"
    },
    {
     "name": "stdout",
     "output_type": "stream",
     "text": [
      "Noise: 10.0\n"
     ]
    },
    {
     "data": {
      "application/vnd.jupyter.widget-view+json": {
       "model_id": "0e8dfbc4160c4bcf87f89912aa4d3f16",
       "version_major": 2,
       "version_minor": 0
      },
      "text/plain": [
       "  0%|          | 0/95 [00:00<?, ?it/s]"
      ]
     },
     "metadata": {},
     "output_type": "display_data"
    }
   ],
   "source": [
    "results = []\n",
    "noise_levels = [0.0, 1e-5, 1e-4, 1e-3, 1e-2, 1e-1, 1.0, 10.0]\n",
    "\n",
    "true_sizes = np.array([task_dict[problem_name]['X'].shape[1] for problem_name in list(task_dict.keys())])\n",
    "for noise_level in noise_levels:\n",
    "    print(f'Noise: {noise_level}')\n",
    "    red_sizes =  get_reduced_sizes(task_dict, noise_level = noise_level)\n",
    "    results.append(red_sizes)\n",
    "results = np.stack(results)"
   ]
  },
  {
   "cell_type": "code",
   "execution_count": 905,
   "id": "e96b01d5",
   "metadata": {},
   "outputs": [
    {
     "data": {
      "image/png": "[encoded data removed]",
      "text/plain": [
       "<Figure size 432x288 with 1 Axes>"
      ]
     },
     "metadata": {
      "needs_background": "light"
     },
     "output_type": "display_data"
    }
   ],
   "source": [
    "values = np.mean(results, axis = 1)\n",
    "plt.plot(range(len(values)), values, label = 'reduced')\n",
    "\n",
    "true_avg = np.mean(true_sizes)\n",
    "plt.plot([0, len(values)-1], [true_avg, true_avg], color = 'gray', linestyle = '--', label = 'original')\n",
    "plt.legend()\n",
    "\n",
    "plt.xticks(range(len(values)), noise_levels)\n",
    "plt.xlabel('Noise level')\n",
    "plt.ylabel('Avg. Problem Size')\n",
    "plt.show()"
   ]
  },
  {
   "cell_type": "markdown",
   "id": "e63feffd",
   "metadata": {},
   "source": [
    "## How it works"
   ]
  },
  {
   "cell_type": "code",
   "execution_count": 906,
   "id": "1e4c6c59",
   "metadata": {
    "scrolled": true
   },
   "outputs": [
    {
     "data": {
      "text/latex": [
       "$\\displaystyle \\frac{x_{0}}{x_{1}} + 0.25 x_{2}$"
      ],
      "text/plain": [
       "x_0/x_1 + 0.25*x_2"
      ]
     },
     "execution_count": 906,
     "metadata": {},
     "output_type": "execute_result"
    }
   ],
   "source": [
    "expr = sympy.sympify('x_0/x_1 + 0.25*x_2')\n",
    "f_true = simplifications.F_true(expr)\n",
    "\n",
    "X = np.random.rand(1000, 3)\n",
    "X[:, 1] += 2\n",
    "y = f_true.predict(X)\n",
    "expr"
   ]
  },
  {
   "cell_type": "code",
   "execution_count": 911,
   "id": "f92578b2",
   "metadata": {
    "scrolled": true
   },
   "outputs": [
    {
     "name": "stdout",
     "output_type": "stream",
     "text": [
      "Loss: 2.04880858019843e-14\n",
      "MultVar: idx=1: 0.21598956571982986\n",
      "DivVar: idx=1: 0.39867290811770956\n",
      "AddVar: idx=1, c=-0.0: 0.08250566849721253\n",
      "MultSym: idxs=[2, 0]: 0.010183575554243623\n",
      "DivSym: idxs=[0, 1]: 1.5078651711269986e-07\n",
      "AddSym: idxs=[0, 2]: 0.022039837876636353\n",
      "SubSym: idxs=[1, 2]: 0.024577195238061178\n",
      "Next Loss: 2.058903369985022e-33\n",
      "Chosen: DivSym: idxs=[0, 1]\n",
      "Loss: 2.058903369985022e-33\n",
      "MultVar: idx=1: 0.41204329449623556\n",
      "DivVar: idx=1: 9.069807693616891\n",
      "AddVar: idx=0, c=1.0: 1.000088900582341e-12\n",
      "MultSym: idxs=[1, 0]: 0.010183554534878972\n",
      "DivSym: idxs=[0, 1]: 0.03323755382774399\n",
      "AddSym: idxs=[0, 1]: 0.04445640572855253\n",
      "SubSym: idxs=[0, 1]: 0.07409400954758755\n",
      "Next Loss: 4.524129809987141e-34\n",
      "Chosen: AddVar: idx=0, c=1.0\n"
     ]
    }
   ],
   "source": [
    "importlib.reload(simplifications)\n",
    "simpl_res = simplifications.find_simplifications(X, y, appr = simplifications.approximate_poly, verbose = 2)"
   ]
  },
  {
   "cell_type": "code",
   "execution_count": 912,
   "id": "a2420041",
   "metadata": {},
   "outputs": [
    {
     "name": "stdout",
     "output_type": "stream",
     "text": [
      "Recursively searching for Eliminations\n",
      "Loss: 2.04880858019843e-14\n",
      "MultVar: idx=1: 0.21598956571982986\n",
      "DivVar: idx=1: 0.39867290811770956\n",
      "AddVar: idx=1, c=-0.0: 0.08250566849721253\n",
      "MultSym: idxs=[2, 0]: 0.010183575554243623\n",
      "DivSym: idxs=[0, 1]: 1.5078651711269986e-07\n",
      "AddSym: idxs=[0, 2]: 0.022039837876636353\n",
      "SubSym: idxs=[1, 2]: 0.024577195238061178\n",
      "Next Loss: 2.058903369985022e-33\n",
      "Chosen: DivSym: idxs=[0, 1]\n",
      "Loss: 2.058903369985022e-33\n",
      "MultVar: idx=1: 0.41204329449623556\n",
      "DivVar: idx=1: 9.069807693616891\n",
      "AddVar: idx=0, c=1.0: 1.000088900582341e-12\n",
      "MultSym: idxs=[1, 0]: 0.010183554534878972\n",
      "DivSym: idxs=[0, 1]: 0.03323755382774399\n",
      "AddSym: idxs=[0, 1]: 0.04445640572855253\n",
      "SubSym: idxs=[0, 1]: 0.07409400954758755\n",
      "Next Loss: 4.524129809987141e-34\n",
      "Chosen: AddVar: idx=0, c=1.0\n",
      "Created 3 regression problems.\n",
      "Size of problem: 1 (original: 3)\n",
      "Creating evaluation orders\n"
     ]
    },
    {
     "name": "stderr",
     "output_type": "stream",
     "text": [
      " 55%|█████████████████████████████████████▍                              | 1000000/1814400 [00:05<00:04, 194063.98it/s]\n"
     ]
    },
    {
     "name": "stdout",
     "output_type": "stream",
     "text": [
      "Total orders: 7228\n",
      "Evaluating orders\n"
     ]
    },
    {
     "name": "stderr",
     "output_type": "stream",
     "text": [
      "  0%|                                                             | 2/7228 [00:00<10:58, 10.97it/s, best_loss=1.03e-32]\n"
     ]
    },
    {
     "name": "stdout",
     "output_type": "stream",
     "text": [
      "Optimizing best constants\n",
      "Found graph with loss 9.789585787179193e-33\n",
      "Score: 1.0\n",
      "Early stopping because solution has been found!\n"
     ]
    },
    {
     "data": {
      "text/latex": [
       "$\\displaystyle \\frac{1.0 x_{0}}{x_{1}} + 0.25 x_{2}$"
      ],
      "text/plain": [
       "1.0*x_0/x_1 + 0.25*x_2"
      ]
     },
     "execution_count": 912,
     "metadata": {},
     "output_type": "execute_result"
    }
   ],
   "source": [
    "symb_regr = dag_search.DAGRegressor(processes = 1, n_calc_nodes = 4, random_state = 0)\n",
    "regr = simplifications.EliminationRegressor(symb_regr)\n",
    "regr.fit(X, y, verbose = 2)\n",
    "regr.model()"
   ]
  },
  {
   "cell_type": "code",
   "execution_count": 913,
   "id": "47e70877",
   "metadata": {},
   "outputs": [
    {
     "data": {
      "text/plain": [
       "True"
      ]
     },
     "execution_count": 913,
     "metadata": {},
     "output_type": "execute_result"
    }
   ],
   "source": [
    "utils.symb_eq(regr.model(), expr)"
   ]
  },
  {
   "cell_type": "markdown",
   "id": "46d78f5d",
   "metadata": {},
   "source": [
    "# Scaling Up with Symmetries from AIFeynman"
   ]
  },
  {
   "cell_type": "code",
   "execution_count": 240,
   "id": "14ba945a",
   "metadata": {},
   "outputs": [],
   "source": [
    "import pickle\n",
    "regs = ['DAGSearchPoly', 'DAGSearch', 'ElimDAGSearch', 'ElimDAGSearchPoly']\n",
    "#regs = regs + ['linreg', 'polyreg2', 'MLP', 'transformer', 'operon', 'gplearn', 'dsr', 'esr']\n",
    "ds_name = 'Feynman' # Strogatz, Feynman, Nguyen, Univ, Feynman_bonus\n",
    "\n",
    "load_path = f'datasets/{ds_name}/tasks.p'\n",
    "with open(load_path, 'rb') as handle:\n",
    "    task_dict = pickle.load(handle)"
   ]
  },
  {
   "cell_type": "code",
   "execution_count": 231,
   "id": "6e0c4a2b",
   "metadata": {},
   "outputs": [
    {
     "name": "stdout",
     "output_type": "stream",
     "text": [
      "DAGSearchPoly\n",
      "DAGSearch\n",
      "ElimDAGSearch\n",
      "ElimDAGSearchPoly\n"
     ]
    }
   ],
   "source": [
    "from sklearn.metrics import r2_score\n",
    "# read results\n",
    "res = {}\n",
    "for regressor_name in regs:\n",
    "    print(regressor_name)\n",
    "#for regressor_name in ['ElimDAGSearch']:\n",
    "    load_path = f'results/{ds_name}/{regressor_name}_results.p'\n",
    "    if os.path.exists(load_path):\n",
    "        res[regressor_name] = {}\n",
    "        with open(load_path, 'rb') as handle:\n",
    "            results_dict = pickle.load(handle)\n",
    "\n",
    "        # avg. recovery\n",
    "        recoveries = []\n",
    "        for problem in results_dict.keys():\n",
    "            #for rec in results_dict[problem]['recovery']:\n",
    "            #    recoveries.append(rec)\n",
    "            for y, pred, rec in zip(results_dict[problem]['y_test'], results_dict[problem]['pred_test'], results_dict[problem]['recovery']):\n",
    "                r2 = r2_score(y, pred)\n",
    "                recoveries.append(rec or r2==1.0)\n",
    "        res[regressor_name]['recovery'] = np.mean(recoveries)\n",
    "        \n",
    "        if False:\n",
    "            #avg. jaccard idxs\n",
    "            jaccard_idxs = []\n",
    "            for problem in results_dict.keys():\n",
    "                for i in range(len(results_dict[problem]['exprs'])):\n",
    "                    expr_est = sympy.sympify(results_dict[problem]['exprs'][i])\n",
    "                    expr_true = task_dict[problem]['expr'][i]\n",
    "                    ji = utils.jaccard_idx(expr_est, expr_true)\n",
    "                    jaccard_idxs.append(ji)\n",
    "            if len(jaccard_idxs) > 0:\n",
    "                res[regressor_name]['jaccard'] = np.mean(jaccard_idxs)\n",
    "        \n",
    "        \n",
    "        # avg. RMSE\n",
    "        rmses_train = []\n",
    "        rmses_test = []\n",
    "        for problem in results_dict.keys():\n",
    "            for y, pred in zip(results_dict[problem]['y_train'], results_dict[problem]['pred_train']):\n",
    "                rmse = np.sqrt(np.mean((y - pred)**2))\n",
    "                rmses_train.append(rmse)\n",
    "            for y, pred in zip(results_dict[problem]['y_test'], results_dict[problem]['pred_test']):\n",
    "                rmse = np.sqrt(np.mean((y - pred)**2))\n",
    "                rmses_test.append(rmse)\n",
    "        res[regressor_name]['rmse_train'] = np.mean(rmses_train)\n",
    "        res[regressor_name]['rmse_test'] = np.mean(rmses_test)\n",
    "\n",
    "        # median R2\n",
    "        r2s_train = []\n",
    "        r2s_test = []\n",
    "        for problem in results_dict.keys():\n",
    "            for y, pred in zip(results_dict[problem]['y_train'], results_dict[problem]['pred_train']):\n",
    "                r2 = r2_score(y, pred)\n",
    "                r2s_train.append(r2)\n",
    "            for y, pred in zip(results_dict[problem]['y_test'], results_dict[problem]['pred_test']):\n",
    "                r2 = r2_score(y, pred)\n",
    "                r2s_test.append(r2)\n",
    "        res[regressor_name]['r2_train'] = np.median(r2s_train)\n",
    "        res[regressor_name]['r2_test'] = np.median(r2s_test)\n",
    "            \n",
    "        # expression size\n",
    "        expr_sizes = []\n",
    "        for problem in results_dict.keys():\n",
    "            for expr in results_dict[problem]['exprs']:\n",
    "                expr_sizes.append(utils.tree_size(sympy.sympify(expr)))\n",
    "        if len(expr_sizes) > 0:\n",
    "            res[regressor_name]['complexity'] = np.mean(expr_sizes)\n",
    "            \n",
    "        # processing times\n",
    "        time = 0.0\n",
    "        counter = 0\n",
    "        for problem in results_dict.keys():\n",
    "            for t in results_dict[problem]['times']:\n",
    "                time += t\n",
    "                counter += 1\n",
    "        time = time/counter\n",
    "        \n",
    "        res[regressor_name]['time'] = time"
   ]
  },
  {
   "cell_type": "code",
   "execution_count": 232,
   "id": "b093db4e",
   "metadata": {},
   "outputs": [
    {
     "data": {
      "text/plain": [
       "{'recovery': 0.0,\n",
       " 'rmse_train': 600.8602653628499,\n",
       " 'rmse_test': 262.3568395316611,\n",
       " 'r2_train': 0.7941792994195602,\n",
       " 'r2_test': 0.7876219383235267,\n",
       " 'complexity': 11.736842105263158,\n",
       " 'time': 82.09398478730337}"
      ]
     },
     "execution_count": 232,
     "metadata": {},
     "output_type": "execute_result"
    }
   ],
   "source": [
    "res['DAGSearch']"
   ]
  },
  {
   "cell_type": "code",
   "execution_count": 233,
   "id": "84757d68",
   "metadata": {},
   "outputs": [
    {
     "data": {
      "text/plain": [
       "{'recovery': 0.10526315789473684,\n",
       " 'rmse_train': 600.6167385290306,\n",
       " 'rmse_test': 261.9068862064003,\n",
       " 'r2_train': 0.8715908814211184,\n",
       " 'r2_test': 0.8986596706932767,\n",
       " 'complexity': 16.57894736842105,\n",
       " 'time': 488.5724835574235}"
      ]
     },
     "execution_count": 233,
     "metadata": {},
     "output_type": "execute_result"
    }
   ],
   "source": [
    "res['ElimDAGSearch']"
   ]
  },
  {
   "cell_type": "code",
   "execution_count": 234,
   "id": "bed30652",
   "metadata": {},
   "outputs": [
    {
     "data": {
      "text/plain": [
       "{'recovery': 0.0,\n",
       " 'rmse_train': 160.65580941164075,\n",
       " 'rmse_test': 155.79783510463065,\n",
       " 'r2_train': 0.879700984035537,\n",
       " 'r2_test': 0.8603159585806501,\n",
       " 'complexity': 15.789473684210526,\n",
       " 'time': 207.78998618210224}"
      ]
     },
     "execution_count": 234,
     "metadata": {},
     "output_type": "execute_result"
    }
   ],
   "source": [
    "res['DAGSearchPoly']"
   ]
  },
  {
   "cell_type": "code",
   "execution_count": 235,
   "id": "83aa9b98",
   "metadata": {},
   "outputs": [
    {
     "data": {
      "text/plain": [
       "{'recovery': 0.15789473684210525,\n",
       " 'rmse_train': 183.53007378390816,\n",
       " 'rmse_test': 180.90656524794795,\n",
       " 'r2_train': 0.919444378676729,\n",
       " 'r2_test': 0.9262199993178345,\n",
       " 'complexity': 18.36842105263158,\n",
       " 'time': 628.9262236691031}"
      ]
     },
     "execution_count": 235,
     "metadata": {},
     "output_type": "execute_result"
    }
   ],
   "source": [
    "res['ElimDAGSearchPoly']"
   ]
  },
  {
   "cell_type": "code",
   "execution_count": 99,
   "id": "583dd840",
   "metadata": {},
   "outputs": [
    {
     "name": "stdout",
     "output_type": "stream",
     "text": [
      "\\begin{tabular}{llllllll}\n",
      "&Recovery&RMSE Train&RMSE Test&$R^2$ Train&$R^2$ Test&Complexity&Processing Time\\\\\n",
      "\\toprule\n",
      "USDF + Elim&0.11&600.62&261.91&0.87&0.9&16.58&488.57\\\\\n",
      "USDF + Aug + Elim&0.11&183.6&181.02&0.92&0.93&18.53&526.79\\\\\n",
      "USDF + Aug&0.0&160.66&155.8&0.88&0.86&15.79&207.79\\\\\n",
      "USDF&0.0&600.86&262.36&0.79&0.79&11.74&82.09\\\\\n",
      "\\end{tabular}\n"
     ]
    }
   ],
   "source": [
    "reg_names = {\n",
    "    'esr' : 'ESR',\n",
    "    'DAGSearch' : 'USDF',\n",
    "    'DAGSearchPoly' : 'USDF + Aug',\n",
    "    'ElimDAGSearch' : 'USDF + Elim',\n",
    "    'ElimDAGSearchPoly' : 'USDF + Aug + Elim',\n",
    "    'linreg' : 'LinReg',\n",
    "    'polyreg2' : 'PolyReg2',\n",
    "    'polyreg3' : 'PolyReg3',\n",
    "    'gplearn' : 'GPlearn',\n",
    "    'dsr' : 'DSR',\n",
    "    'operon' : 'Operon',\n",
    "    'MLP' : 'MLP',\n",
    "    'transformer' : 'Transformer'\n",
    "}\n",
    "\n",
    "crit_names = {\n",
    "    'recovery' : 'Recovery',\n",
    "    'jaccard' : 'Jaccard',\n",
    "    'rmse_train' : 'RMSE Train',\n",
    "    'rmse_test' : 'RMSE Test',\n",
    "    'r2_train' : '$R^2$ Train',\n",
    "    'r2_test' : '$R^2$ Test',\n",
    "    'complexity' : 'Complexity',\n",
    "    'time' : 'Processing Time'\n",
    "}\n",
    "\n",
    "# print a table\n",
    "\n",
    "regs = list(res.keys())\n",
    "crits = list(res[regs[0]].keys())\n",
    "\n",
    "\n",
    "sort_idx = np.argsort([-res[reg]['recovery'] for reg in regs])\n",
    "regs = [regs[i] for i in sort_idx]\n",
    "\n",
    "# header\n",
    "s = '\\\\begin{tabular}{l' + 'l'*len(crits) + '}'\n",
    "print(s)\n",
    "s = ''\n",
    "for crit in crits:\n",
    "    s += f'&{crit_names[crit]}'\n",
    "s += '\\\\\\\\'\n",
    "print(s)\n",
    "print('\\\\toprule')\n",
    "\n",
    "# rows\n",
    "for reg in regs:\n",
    "    s = reg_names[reg]\n",
    "    for crit in crits:\n",
    "        if crit in res[reg]:\n",
    "            v = res[reg][crit]\n",
    "            v = np.round(v, 2)\n",
    "            s += f'&{v}'\n",
    "        else:\n",
    "            s += '&-'\n",
    "    s += '\\\\\\\\'\n",
    "    print(s)\n",
    "s = '\\\\end{tabular}'\n",
    "print(s)"
   ]
  },
  {
   "cell_type": "markdown",
   "id": "97b91456",
   "metadata": {},
   "source": [
    "# Visualization of Results\n",
    "\n",
    "Here we have the code to create all of the plots and tables used in the paper.\n",
    "\n",
    "For the plots of the SRBench Testsuite, please refer to https://github.com/cavalab/srbench with the dataframe stored in `results/ground-truth_results_new.feather`"
   ]
  },
  {
   "cell_type": "code",
   "execution_count": 1,
   "id": "0bbfef62",
   "metadata": {},
   "outputs": [],
   "source": [
    "import numpy as np\n",
    "import matplotlib.pyplot as plt\n",
    "from tqdm.notebook import tqdm\n",
    "import os\n",
    "import sympy\n",
    "import pickle\n",
    "from sklearn.metrics import r2_score\n",
    "\n",
    "\n",
    "from DAG_search import utils\n",
    "from DAG_search import dag_search\n",
    "from DAG_search import comp_graph\n",
    "\n",
    "from regressors import regressors"
   ]
  },
  {
   "cell_type": "markdown",
   "id": "88535371",
   "metadata": {},
   "source": [
    "## Tables: Runtime"
   ]
  },
  {
   "cell_type": "code",
   "execution_count": 8,
   "id": "78d64d58",
   "metadata": {},
   "outputs": [],
   "source": [
    "load_path = f'results/runtime.p'\n",
    "with open(load_path, 'rb') as handle:\n",
    "    res_dict = pickle.load(handle)"
   ]
  },
  {
   "cell_type": "code",
   "execution_count": 9,
   "id": "0073ada6",
   "metadata": {},
   "outputs": [],
   "source": [
    "default_setting = (50000, 3, 10, 1) # frames, intermediary, cores, params"
   ]
  },
  {
   "cell_type": "code",
   "execution_count": 10,
   "id": "dbc881d8",
   "metadata": {},
   "outputs": [
    {
     "data": {
      "image/png": "[encoded data removed]",
      "text/plain": [
       "<Figure size 864x216 with 4 Axes>"
      ]
     },
     "metadata": {
      "needs_background": "light"
     },
     "output_type": "display_data"
    }
   ],
   "source": [
    "crits = [('df', '#DAG skeletons'), ('inter', r'$i$'), ('proc', '#Processes'), ('params', r'$p$')]\n",
    "ranges = {crit : sorted(list(set([x[i] for x in res_dict.keys()]))) for i, (crit, _) in enumerate(crits)}\n",
    "\n",
    "\n",
    "#configs = [(0, True)] + [(i+1, False) for i in range(len(crits)-1)]\n",
    "fs = 3.0\n",
    "fig, axs = plt.subplots(nrows = 1, ncols = len(crits), figsize = (fs*len(crits), fs))\n",
    "\n",
    "configs = [(0, True, axs[0])] + [(i+1, False, axs[i+1]) for i in range(len(crits)-1)]\n",
    "for idx, addy, ax in configs:\n",
    "    crit, crit_name = crits[idx]\n",
    "    \n",
    "    x_values = []\n",
    "    y_values = []\n",
    "    for x in ranges[crit]:\n",
    "        tmp = list(default_setting)\n",
    "        tmp[idx] = x\n",
    "        tmp = tuple(tmp)\n",
    "        \n",
    "        if tmp in res_dict:\n",
    "            x_values.append(x)\n",
    "            y_values.append(np.mean(res_dict[tmp]))\n",
    "\n",
    "    ax.bar(range(len(x_values)), y_values, color = 'tab:blue', edgecolor = 'black')\n",
    "    ax.set_xticks(range(len(x_values)), x_values)\n",
    "    ax.set_xlabel(crit_name)\n",
    "    \n",
    "    if default_setting[idx] in x_values:\n",
    "        k = x_values.index(default_setting[idx])\n",
    "        ax.bar([k], y_values[k], color = 'tab:blue', edgecolor = 'black', hatch = '/')\n",
    "    \n",
    "    \n",
    "    #for lab in ax.get_xticklabels():\n",
    "    #    print(default_setting[idx], int(lab.get_text()))\n",
    "    #    if int(lab.get_text()) == default_setting[idx]:\n",
    "    #        lab.set_fontweight('bold')\n",
    "    #ax.set_yscale('log')\n",
    "\n",
    "    if addy:\n",
    "        ax.set_ylabel('Time (s.)')\n",
    "plt.tight_layout()\n",
    "plt.savefig(f'results/figures/runtimes.pdf', bbox_inches = 'tight')\n"
   ]
  },
  {
   "cell_type": "markdown",
   "id": "0ec8d504",
   "metadata": {},
   "source": [
    "## Table: Influence of parameter $p$\n",
    "\n",
    "Example:\n",
    "\\begin{align}\n",
    "\\frac{1}{3}x^2\n",
    "\\end{align}"
   ]
  },
  {
   "cell_type": "code",
   "execution_count": 18,
   "id": "a97bd310",
   "metadata": {
    "scrolled": true
   },
   "outputs": [
    {
     "name": "stdout",
     "output_type": "stream",
     "text": [
      "n_params: 0, intermediary: 0\n",
      "n_params: 0, intermediary: 1\n",
      "n_params: 0, intermediary: 2\n",
      "n_params: 0, intermediary: 3\n",
      "n_params: 1, intermediary: 0\n",
      "n_params: 1, intermediary: 1\n",
      "n_params: 1, intermediary: 2\n",
      "n_params: 1, intermediary: 3\n",
      "n_params: 2, intermediary: 0\n",
      "n_params: 2, intermediary: 1\n",
      "n_params: 2, intermediary: 2\n",
      "n_params: 2, intermediary: 3\n"
     ]
    }
   ],
   "source": [
    "# define regression problem\n",
    "np.random.seed(0)\n",
    "true_model = sympy.sympify('(x_0^2)/3')\n",
    "X = np.random.rand(100, 1)\n",
    "y = (X[:, 0]**2)/3\n",
    "\n",
    "n_params = [0, 1, 2]\n",
    "n_intermediary = [0, 1, 2, 3]\n",
    "\n",
    "res_dict = {} # access via [p][i]\n",
    "\n",
    "\n",
    "scores = []\n",
    "models = []\n",
    "\n",
    "for k in n_params:\n",
    "    res_dict[k] = {}\n",
    "    for c in n_intermediary:\n",
    "        print(f'n_params: {k}, intermediary: {c}')\n",
    "        est = dag_search.DAGRegressor(n_calc_nodes = c, k = k, max_orders = int(1e4), random_state = 0)\n",
    "        est.fit(X, y, verbose = 0)\n",
    "        mse = np.mean((est.predict(X) - y)**2)\n",
    "        model = str(est.model())\n",
    "        rec = utils.symb_eq(est.model(), true_model)\n",
    "        \n",
    "        res_dict[k][c] = {\n",
    "            'MSE' : mse,\n",
    "            'model' : model,\n",
    "            'recovery' : rec\n",
    "        }\n",
    "        "
   ]
  },
  {
   "cell_type": "code",
   "execution_count": 19,
   "id": "583980ef",
   "metadata": {},
   "outputs": [
    {
     "name": "stdout",
     "output_type": "stream",
     "text": [
      "\\begin{tabular}{lcccc}\n",
      "$p$/$i$&0&1&2&3\\\\\n",
      "\\toprule\n",
      "0&0.0197&0.0073&0.0002&0.0\\\\\n",
      "1&0.0013&0.0&0.0&0.0\\\\\n",
      "2&0.0013&0.0&0.0&0.0\\\\\n",
      "\\end{tabular}\n"
     ]
    }
   ],
   "source": [
    "# print a table\n",
    "#crit = 'recovery'\n",
    "crit = 'MSE'\n",
    "\n",
    "# header\n",
    "s = '\\\\begin{tabular}{l' + 'c'*len(n_intermediary) + '}'\n",
    "print(s)\n",
    "s = '$p$/$i$'\n",
    "for i in n_intermediary:\n",
    "    s += f'&{i}'\n",
    "s += '\\\\\\\\'\n",
    "print(s)\n",
    "print('\\\\toprule')\n",
    "\n",
    "# rows\n",
    "for k in n_params:\n",
    "    s = str(k)\n",
    "    for c in n_intermediary:\n",
    "        if crit in res_dict[k][c]:\n",
    "            v = res_dict[k][c][crit]\n",
    "            if 'MSE' in crit:\n",
    "                v = np.round(v, 4)\n",
    "            s += f'&{v}'\n",
    "        else:\n",
    "            s += '&-'\n",
    "    s += '\\\\\\\\'\n",
    "    print(s)\n",
    "s = '\\\\end{tabular}'\n",
    "print(s)"
   ]
  },
  {
   "cell_type": "markdown",
   "id": "ea757bcf",
   "metadata": {},
   "source": [
    "## Figure: Size of Sample Space"
   ]
  },
  {
   "cell_type": "code",
   "execution_count": 55,
   "id": "ad01dea2",
   "metadata": {},
   "outputs": [],
   "source": [
    "# new: with different number of output nodes\n",
    "def get_n_frames(inp_nodes, inter_nodes, outp_nodes):\n",
    "    n = inp_nodes\n",
    "    i = inter_nodes\n",
    "    r = outp_nodes\n",
    "    \n",
    "    if inter_nodes == 0:\n",
    "        return (n*(n+1))**r\n",
    "    else:\n",
    "        S_prev = get_n_frames(inp_nodes, inter_nodes-1, outp_nodes)\n",
    "        return (S_prev*(n+i)*(n+i+1)**r)//((n+i-1)**(r-1))\n",
    "    "
   ]
  },
  {
   "cell_type": "code",
   "execution_count": 57,
   "id": "e5edb70c",
   "metadata": {},
   "outputs": [
    {
     "name": "stdout",
     "output_type": "stream",
     "text": [
      "0 3111696\n",
      "1 413048832\n",
      "2 63207309312\n",
      "3 11110659840000\n",
      "4 2231428953600000\n",
      "5 508980018600345600\n",
      "6 131062163587478323200\n",
      "7 37878178815332971315200\n",
      "8 12219462555925008384000000\n",
      "9 4377631366973950525440000000\n"
     ]
    },
    {
     "data": {
      "text/plain": [
       "[<matplotlib.lines.Line2D at 0x1c6330239a0>]"
      ]
     },
     "execution_count": 57,
     "metadata": {},
     "output_type": "execute_result"
    },
    {
     "data": {
      "image/png": "[encoded data removed]",
      "text/plain": [
       "<Figure size 432x288 with 1 Axes>"
      ]
     },
     "metadata": {
      "needs_background": "light"
     },
     "output_type": "display_data"
    }
   ],
   "source": [
    "# 1. fix input nodes + outp_nodes, vary intermediate nodes\n",
    "inp_nodes = 6\n",
    "outp_nodes = 4 # can be varied now\n",
    "\n",
    "\n",
    "xs = []\n",
    "n_frames = []\n",
    "\n",
    "for i in range(0, 10):\n",
    "    frames = get_n_frames(inp_nodes, i, outp_nodes)\n",
    "    print(i, frames)\n",
    "    xs.append(i)\n",
    "    n_frames.append(frames)\n",
    "    \n",
    "    \n",
    "plt.yscale('log')\n",
    "plt.ylabel(r'$S_{6, 4}(i)$')\n",
    "plt.xlabel('Intermediary nodes')\n",
    "plt.xticks(xs)\n",
    "plt.plot(xs, n_frames)\n",
    "#plt.savefig(f'results/figures/dagframes_intermediate.pdf', bbox_inches = 'tight')"
   ]
  },
  {
   "cell_type": "code",
   "execution_count": 88,
   "id": "de88fc6c",
   "metadata": {
    "scrolled": true
   },
   "outputs": [
    {
     "name": "stdout",
     "output_type": "stream",
     "text": [
      "1 6401203200\n",
      "2 318637670400\n",
      "3 6320730931200\n",
      "4 74071065600000\n",
      "5 608571532800000\n",
      "6 3855909231820800\n",
      "7 20003382720921600\n",
      "8 88487186064076800\n",
      "9 343607786121600000\n"
     ]
    },
    {
     "data": {
      "text/plain": [
       "[<matplotlib.lines.Line2D at 0x28a33a2a220>]"
      ]
     },
     "execution_count": 88,
     "metadata": {},
     "output_type": "execute_result"
    },
    {
     "data": {
      "image/png": "[encoded data removed]",
      "text/plain": [
       "<Figure size 432x288 with 1 Axes>"
      ]
     },
     "metadata": {
      "needs_background": "light"
     },
     "output_type": "display_data"
    }
   ],
   "source": [
    "# 1. vary input nodes, fix intermediate nodes + output nodes\n",
    "\n",
    "inter_nodes = 5\n",
    "outp_nodes = 3 # can be varied now\n",
    "\n",
    "xs = []\n",
    "n_frames = []\n",
    "\n",
    "for i in range(1, 10):\n",
    "    frames = get_n_frames(i, inter_nodes, outp_nodes)\n",
    "    print(i, frames)\n",
    "    xs.append(i)\n",
    "    n_frames.append(frames)\n",
    "    \n",
    "    \n",
    "plt.yscale('log')\n",
    "plt.ylabel('$S_n(1)$')\n",
    "plt.xlabel('Input nodes')\n",
    "plt.xticks(xs)\n",
    "plt.plot(xs, n_frames)"
   ]
  },
  {
   "cell_type": "markdown",
   "id": "a96fa3a5",
   "metadata": {},
   "source": [
    "Old: only one output node"
   ]
  },
  {
   "cell_type": "code",
   "execution_count": 2,
   "id": "98d62334",
   "metadata": {},
   "outputs": [],
   "source": [
    "def get_n_frames(inp_nodes, inter_nodes):\n",
    "    I = inp_nodes\n",
    "    n = inter_nodes\n",
    "    ret = I*(I + n + 1)\n",
    "    for i in range(n):\n",
    "        ret = ret * (I + (i+1))**2\n",
    "    return ret"
   ]
  },
  {
   "cell_type": "code",
   "execution_count": 5,
   "id": "768af795",
   "metadata": {},
   "outputs": [
    {
     "name": "stdout",
     "output_type": "stream",
     "text": [
      "0 6\n",
      "1 72\n",
      "2 1440\n",
      "3 43200\n",
      "4 1814400\n",
      "5 101606400\n",
      "6 7315660800\n",
      "7 658409472000\n",
      "8 72425041920000\n",
      "9 9560105533440000\n"
     ]
    },
    {
     "data": {
      "image/png": "[encoded data removed]",
      "text/plain": [
       "<Figure size 432x288 with 1 Axes>"
      ]
     },
     "metadata": {
      "needs_background": "light"
     },
     "output_type": "display_data"
    }
   ],
   "source": [
    "# 1. fix input nodes, vary intermediate nodes\n",
    "inp_nodes = 2\n",
    "\n",
    "xs = []\n",
    "n_frames = []\n",
    "\n",
    "for i in range(0, 10):\n",
    "    frames = get_n_frames(inp_nodes, i)\n",
    "    print(i, frames)\n",
    "    xs.append(i)\n",
    "    n_frames.append(frames)\n",
    "    \n",
    "    \n",
    "plt.yscale('log')\n",
    "plt.ylabel(r'$S_2(i)$')\n",
    "plt.xlabel('Intermediary nodes')\n",
    "plt.xticks(xs)\n",
    "plt.plot(xs, n_frames)\n",
    "plt.savefig(f'results/figures/dagframes_intermediate.pdf', bbox_inches = 'tight')"
   ]
  },
  {
   "cell_type": "code",
   "execution_count": 7,
   "id": "16ea15b2",
   "metadata": {
    "scrolled": true
   },
   "outputs": [
    {
     "name": "stdout",
     "output_type": "stream",
     "text": [
      "1 12\n",
      "2 72\n",
      "3 240\n",
      "4 600\n",
      "5 1260\n",
      "6 2352\n",
      "7 4032\n",
      "8 6480\n",
      "9 9900\n"
     ]
    },
    {
     "data": {
      "image/png": "[encoded data removed]",
      "text/plain": [
       "<Figure size 432x288 with 1 Axes>"
      ]
     },
     "metadata": {
      "needs_background": "light"
     },
     "output_type": "display_data"
    }
   ],
   "source": [
    "# 1. vary input nodes, fix intermediate nodes\n",
    "\n",
    "inter_nodes = 1\n",
    "\n",
    "xs = []\n",
    "n_frames = []\n",
    "\n",
    "for i in range(1, 10):\n",
    "    frames = get_n_frames(i, inter_nodes)\n",
    "    print(i, frames)\n",
    "    xs.append(i)\n",
    "    n_frames.append(frames)\n",
    "    \n",
    "    \n",
    "plt.yscale('log')\n",
    "plt.ylabel('$S_n(1)$')\n",
    "plt.xlabel('Input nodes')\n",
    "plt.xticks(xs)\n",
    "plt.plot(xs, n_frames)\n",
    "plt.savefig(f'results/figures/dagframes_input.pdf', bbox_inches = 'tight')"
   ]
  },
  {
   "cell_type": "markdown",
   "id": "47570fb5",
   "metadata": {},
   "source": [
    "## Nguyen-6"
   ]
  },
  {
   "cell_type": "code",
   "execution_count": 18,
   "id": "2d3f3d7b",
   "metadata": {},
   "outputs": [],
   "source": [
    "ds_name = 'Nguyen'\n",
    "problem_name = 'Nguyen-6'\n",
    "\n",
    "load_path = f'results/{ds_name}/{problem_name}_single.p'\n",
    "with open(load_path, 'rb') as handle:\n",
    "    res_dict = pickle.load(handle)"
   ]
  },
  {
   "cell_type": "code",
   "execution_count": 20,
   "id": "5016df79",
   "metadata": {},
   "outputs": [
    {
     "data": {
      "image/png": "[encoded data removed]",
      "text/plain": [
       "<Figure size 432x108 with 2 Axes>"
      ]
     },
     "metadata": {
      "needs_background": "light"
     },
     "output_type": "display_data"
    }
   ],
   "source": [
    "orders = sorted(list(res_dict.keys()))\n",
    "avg_rec = [np.mean(res_dict[o]['recovery']) for o in orders]\n",
    "avg_time = [np.mean(res_dict[o]['times']) for o in orders] # log?\n",
    "k = len(avg_rec)\n",
    "spacing = 0.05 # change spacing here\n",
    "v = 1 - 2*spacing\n",
    "width = 0.5*v\n",
    "\n",
    "fs = 1.0\n",
    "\n",
    "fig, ax1 = plt.subplots(figsize = (k*fs, 1.5*fs))\n",
    "ax2 = ax1.twinx()\n",
    "\n",
    "# barplot\n",
    "#positions = range(k)\n",
    "positions = [i - 0.25*v for i in range(k)]\n",
    "ax1.bar(positions, avg_rec, width = width, color = 'tab:blue', edgecolor='black') \n",
    "ax1.set_ylabel('Recovery rate')\n",
    "\n",
    "\n",
    "#positions = range(k)\n",
    "positions = [i + 0.25*v for i in range(k)]\n",
    "ax2.bar(positions, avg_time, width = width, color = 'lightgray', edgecolor='black')\n",
    "ax2.set_ylabel('Time (s.)')\n",
    "\n",
    "\n",
    "\n",
    "round_orders = [o/int(10**5) for o in orders]\n",
    "plt.xticks(range(k), round_orders)\n",
    "\n",
    "plt.scatter([], [], edgecolor='black', color = 'tab:blue', label = 'Recovery')\n",
    "plt.scatter([], [], edgecolor='black', color = 'lightgray', label = 'Time')\n",
    "plt.legend()\n",
    "#plt.ylim(0.0, 1.1)\n",
    "\n",
    "# plot dotted line\n",
    "#tmp = [p.get_width() for p in plt.gca().patches]\n",
    "#plt.plot([0-tmp[0]/2, len(avgs)-1 + tmp[-1]/2], [1, 1], color = 'gray', linestyle = '--')\n",
    "ax1.set_xlabel('#Skeletons ' + r'$(\\times 10^5)$')\n",
    "plt.savefig(f'results/figures/dagframes_{problem_name}.pdf', bbox_inches = 'tight')"
   ]
  },
  {
   "cell_type": "markdown",
   "id": "1170d1e8",
   "metadata": {},
   "source": [
    "## Examples for partial recovery"
   ]
  },
  {
   "cell_type": "code",
   "execution_count": 17,
   "id": "df5b2069",
   "metadata": {},
   "outputs": [],
   "source": [
    "ds_name = 'Feynman_bonus'\n",
    "regressor_name = 'DAGSearch'\n",
    "\n",
    "load_path = f'datasets/{ds_name}/tasks.p'\n",
    "with open(load_path, 'rb') as handle:\n",
    "    task_dict = pickle.load(handle)\n",
    "    \n",
    "load_path = f'results/{ds_name}/{regressor_name}_results.p'\n",
    "with open(load_path, 'rb') as handle:\n",
    "    results_dict = pickle.load(handle)"
   ]
  },
  {
   "cell_type": "markdown",
   "id": "49404521",
   "metadata": {},
   "source": [
    "Soft measure of recovery:\n",
    "\n",
    "- $S_i$... set of simplified subexpressions for expression $e_i$\n",
    "\n",
    "Jaccard-Index\n",
    "\\begin{align}\n",
    "J(S_0, S_1) = \\cfrac{|S_0\\cap S_1|}{|S_0\\cup S_1|}\n",
    "\\end{align}\n",
    "\n",
    "- $J\\in [0, 1]$ \n",
    "- $J = 1$ if $S_0 = S_1$"
   ]
  },
  {
   "cell_type": "code",
   "execution_count": 18,
   "id": "316d94e2",
   "metadata": {
    "scrolled": true
   },
   "outputs": [
    {
     "name": "stdout",
     "output_type": "stream",
     "text": [
      "test_1 False 0.15151515151515152\n",
      "test_11 False 0.13043478260869565\n",
      "test_12 False 0.24\n",
      "test_13 False 0.25925925925925924\n",
      "test_14 False 0.18518518518518517\n",
      "test_15 False 0.19230769230769232\n",
      "test_16 False 0.16\n",
      "test_17 False 0.391304347826087\n",
      "test_18 False 0.2727272727272727\n",
      "test_19 False 0.3333333333333333\n",
      "test_2 False 0.25\n",
      "test_20 False 0.3333333333333333\n",
      "test_3 False 0.34782608695652173\n",
      "test_4 False 0.25925925925925924\n",
      "test_5 False 0.15\n",
      "test_6 False 0.16129032258064516\n",
      "test_7 False 0.23809523809523808\n",
      "test_8 False 0.22727272727272727\n",
      "test_9 False 0.3333333333333333\n"
     ]
    }
   ],
   "source": [
    "jaccard_idxs = []\n",
    "recs = []\n",
    "problems = []\n",
    "for problem_name in results_dict.keys():\n",
    "    expr_est = results_dict[problem_name]['exprs'][0]\n",
    "    expr_true = task_dict[problem_name]['expr'][0]\n",
    "    ji = utils.jaccard_idx(expr_est, expr_true)\n",
    "    rec = results_dict[problem_name]['recovery'][0]\n",
    "    print(problem_name, rec, ji)\n",
    "    jaccard_idxs.append(ji)\n",
    "    recs.append(int(rec))\n",
    "    problems.append(problem_name)\n",
    "jaccard_idxs = np.array(jaccard_idxs)\n",
    "recs = np.array(recs)"
   ]
  },
  {
   "cell_type": "code",
   "execution_count": 20,
   "id": "ad7517cf",
   "metadata": {},
   "outputs": [
    {
     "data": {
      "text/plain": [
       "0.2429724908207229"
      ]
     },
     "execution_count": 20,
     "metadata": {},
     "output_type": "execute_result"
    }
   ],
   "source": [
    "np.mean(jaccard_idxs)"
   ]
  },
  {
   "cell_type": "code",
   "execution_count": 12,
   "id": "6ea581c0",
   "metadata": {
    "scrolled": true
   },
   "outputs": [
    {
     "name": "stdout",
     "output_type": "stream",
     "text": [
      "test_11 0.13043478260869565\n",
      "test_5 0.15\n",
      "test_1 0.15151515151515152\n",
      "test_16 0.16\n",
      "test_6 0.16129032258064516\n",
      "test_14 0.18518518518518517\n",
      "test_15 0.19230769230769232\n",
      "test_8 0.22727272727272727\n",
      "test_7 0.23809523809523808\n",
      "test_12 0.24\n",
      "test_2 0.25\n",
      "test_13 0.25925925925925924\n",
      "test_4 0.25925925925925924\n",
      "test_18 0.2727272727272727\n",
      "test_19 0.3333333333333333\n",
      "test_20 0.3333333333333333\n",
      "test_9 0.3333333333333333\n",
      "test_3 0.34782608695652173\n",
      "test_17 0.391304347826087\n"
     ]
    }
   ],
   "source": [
    "values = np.maximum(recs, jaccard_idxs)\n",
    "sort_idx = np.argsort(jaccard_idxs)\n",
    "for i in sort_idx:\n",
    "    print(problems[i], jaccard_idxs[i])"
   ]
  },
  {
   "cell_type": "code",
   "execution_count": 9,
   "id": "60e00fdf",
   "metadata": {},
   "outputs": [
    {
     "data": {
      "text/plain": [
       "(0.09577*x_1*cos(x_2)/(x_0**(3/2)*x_3**2), x_1*cos(x_2)/(4*pi*x_0*x_3**2))"
      ]
     },
     "execution_count": 9,
     "metadata": {},
     "output_type": "execute_result"
    }
   ],
   "source": [
    "problem_name = 'II.6.11'\n",
    "expr_est = results_dict[problem_name]['exprs'][0]\n",
    "expr_true = task_dict[problem_name]['expr'][0]\n",
    "expr_est, expr_true"
   ]
  },
  {
   "cell_type": "code",
   "execution_count": 10,
   "id": "c52f2ed7",
   "metadata": {
    "scrolled": true
   },
   "outputs": [
    {
     "data": {
      "text/plain": [
       "0.4666666666666667"
      ]
     },
     "execution_count": 10,
     "metadata": {},
     "output_type": "execute_result"
    }
   ],
   "source": [
    "utils.jaccard_idx(expr_est, expr_true)"
   ]
  },
  {
   "cell_type": "markdown",
   "id": "47caca3f",
   "metadata": {},
   "source": [
    "## Table: Comparison to ESR\n",
    "\n",
    "Takeaway: Our Approach is better than ESR (in all Aspects)"
   ]
  },
  {
   "cell_type": "code",
   "execution_count": 113,
   "id": "87b014de",
   "metadata": {},
   "outputs": [],
   "source": [
    "import pickle\n",
    "regs = ['esr', 'DAGSearch', 'DAGSearchPoly']\n",
    "ds_name = 'Univ' # Strogatz, Feynman, Nguyen, Univ  \n",
    "\n",
    "load_path = f'datasets/{ds_name}/tasks.p'\n",
    "with open(load_path, 'rb') as handle:\n",
    "    task_dict = pickle.load(handle)\n",
    "    \n",
    "# collect results\n",
    "from sklearn.metrics import r2_score\n",
    "res = {}\n",
    "for regressor_name in regs:\n",
    "    load_path = f'results/{ds_name}/{regressor_name}_results.p'\n",
    "    if os.path.exists(load_path):\n",
    "        res[regressor_name] = {}\n",
    "        with open(load_path, 'rb') as handle:\n",
    "            results_dict = pickle.load(handle)\n",
    "\n",
    "        # avg. recovery\n",
    "        recoveries = []\n",
    "        for problem in results_dict.keys():\n",
    "            #for rec in results_dict[problem]['recovery']:\n",
    "            #    recoveries.append(rec)\n",
    "            for y, pred, rec in zip(results_dict[problem]['y_test'], results_dict[problem]['pred_test'], results_dict[problem]['recovery']):\n",
    "                r2 = r2_score(y, pred)\n",
    "                recoveries.append(rec or r2==1.0)\n",
    "        res[regressor_name]['recovery'] = np.mean(recoveries)\n",
    "\n",
    "\n",
    "        # avg. RMSE\n",
    "        rmses_train = []\n",
    "        rmses_test = []\n",
    "        for problem in results_dict.keys():\n",
    "            for y, pred in zip(results_dict[problem]['y_train'], results_dict[problem]['pred_train']):\n",
    "                rmse = np.sqrt(np.mean((y - pred)**2))\n",
    "                rmses_train.append(rmse)\n",
    "            for y, pred in zip(results_dict[problem]['y_test'], results_dict[problem]['pred_test']):\n",
    "                rmse = np.sqrt(np.mean((y - pred)**2))\n",
    "                rmses_test.append(rmse)\n",
    "        res[regressor_name]['rmse_train'] = np.mean(rmses_train)\n",
    "        res[regressor_name]['rmse_test'] = np.mean(rmses_test)\n",
    "\n",
    "        # median R2\n",
    "        r2s_train = []\n",
    "        r2s_test = []\n",
    "        for problem in results_dict.keys():\n",
    "            for y, pred in zip(results_dict[problem]['y_train'], results_dict[problem]['pred_train']):\n",
    "                r2 = r2_score(y, pred)\n",
    "                r2s_train.append(r2)\n",
    "            for y, pred in zip(results_dict[problem]['y_test'], results_dict[problem]['pred_test']):\n",
    "                r2 = r2_score(y, pred)\n",
    "                r2s_test.append(r2)\n",
    "        res[regressor_name]['r2_train'] = np.median(r2s_train)\n",
    "        res[regressor_name]['r2_test'] = np.median(r2s_test)\n",
    "            \n",
    "        # expression size\n",
    "        expr_sizes = []\n",
    "        for problem in results_dict.keys():\n",
    "            for expr in results_dict[problem]['exprs']:\n",
    "                expr_sizes.append(utils.tree_size(expr))\n",
    "        if len(expr_sizes) > 0:\n",
    "            res[regressor_name]['complexity'] = np.mean(expr_sizes)\n",
    "            \n",
    "        # processing times\n",
    "        time = 0.0\n",
    "        counter = 0\n",
    "        for problem in results_dict.keys():\n",
    "            for t in results_dict[problem]['times']:\n",
    "                time += t\n",
    "                counter += 1\n",
    "        time = time/counter\n",
    "        \n",
    "        res[regressor_name]['time'] = time"
   ]
  },
  {
   "cell_type": "code",
   "execution_count": 114,
   "id": "8cd3384f",
   "metadata": {},
   "outputs": [
    {
     "name": "stdout",
     "output_type": "stream",
     "text": [
      "\\begin{tabular}{lcccc}\n",
      "&Rec&$R^2$&Complexity&Time\\\\\n",
      "\\toprule\n",
      "USDF + Aug&1.0&1.0&9.3&26.12\\\\\n",
      "USDF&0.8&1.0&9.4&388.82\\\\\n",
      "ESR&0.5&1.0&9.7&1293.63\\\\\n",
      "\\end{tabular}\n"
     ]
    }
   ],
   "source": [
    "# Make Table\n",
    "reg_names = {\n",
    "    'esr' : 'ESR',\n",
    "    'DAGSearch' : 'USDF',\n",
    "    'DAGSearchPoly' : 'USDF + Aug'\n",
    "}\n",
    "\n",
    "crit_names = {\n",
    "    'recovery' : 'Rec',\n",
    "    #'rmse_train' : 'RMSE Train',\n",
    "    #'rmse_test' : 'RMSE Test',\n",
    "    #'r2_train' : '$R^2$ Train',\n",
    "    'r2_test' : '$R^2$',\n",
    "    'complexity' : 'Complexity',\n",
    "    'time' : 'Time'\n",
    "}\n",
    "\n",
    "# print a table\n",
    "regs = list(res.keys())\n",
    "crits = list(crit_names.keys())\n",
    "sort_idx = np.argsort([-res[reg]['recovery'] for reg in regs])\n",
    "regs = [regs[i] for i in sort_idx]\n",
    "\n",
    "# header\n",
    "s = '\\\\begin{tabular}{l' + 'c'*len(crits) + '}'\n",
    "print(s)\n",
    "s = ''\n",
    "for crit in crits:\n",
    "    s += f'&{crit_names[crit]}'\n",
    "s += '\\\\\\\\'\n",
    "print(s)\n",
    "print('\\\\toprule')\n",
    "\n",
    "# rows\n",
    "for reg in regs:\n",
    "    s = reg_names[reg]\n",
    "    for crit in crits:\n",
    "        if crit in res[reg]:\n",
    "            v = res[reg][crit]\n",
    "            if 'r2' in crit:\n",
    "                v = np.round(v, 2)\n",
    "            else:\n",
    "                v = np.round(v, 2)\n",
    "            s += f'&{v}'\n",
    "        else:\n",
    "            s += '&-'\n",
    "    s += '\\\\\\\\'\n",
    "    print(s)\n",
    "s = '\\\\end{tabular}'\n",
    "print(s)"
   ]
  },
  {
   "cell_type": "markdown",
   "id": "7a386d54",
   "metadata": {},
   "source": [
    "## Figure: Timing\n",
    "\n",
    "Takeaway: Our Approach is highly parallelizable"
   ]
  },
  {
   "cell_type": "code",
   "execution_count": 115,
   "id": "adef8b3c",
   "metadata": {
    "scrolled": true
   },
   "outputs": [],
   "source": [
    "ds_names = ['Univ', 'Nguyen', 'Feynman', 'Strogatz']\n",
    "\n",
    "results = {}\n",
    "\n",
    "for ds_name in ds_names:\n",
    "    load_path = f'datasets/{ds_name}/tasks.p'\n",
    "    with open(load_path, 'rb') as handle:\n",
    "        task_dict = pickle.load(handle)\n",
    "\n",
    "    load_path = f'results/{ds_name}/timings.p'\n",
    "    if os.path.exists(load_path):\n",
    "        with open(load_path, 'rb') as handle:\n",
    "            res_dict = pickle.load(handle)\n",
    "\n",
    "        problems = list(res_dict.keys())\n",
    "        n_processes = sorted(list(res_dict[problems[0]].keys()))\n",
    "        # res_dict[problem][n_processes] = all_times\n",
    "        # collect average times per number of processes\n",
    "\n",
    "        avg_times = []\n",
    "        for n_p in n_processes:\n",
    "            times = []\n",
    "            for problem in problems:\n",
    "                if n_p in res_dict[problem]:\n",
    "                    times.append(np.mean(res_dict[problem][n_p]))\n",
    "            avg_times.append(np.mean(times))\n",
    "\n",
    "        \n",
    "        results[ds_name] = {}\n",
    "        for n_p, t in zip(n_processes, avg_times):\n",
    "            results[ds_name][n_p] = t"
   ]
  },
  {
   "cell_type": "code",
   "execution_count": 116,
   "id": "ef727264",
   "metadata": {},
   "outputs": [
    {
     "data": {
      "image/png": "[encoded data removed]",
      "text/plain": [
       "<Figure size 432x216 with 1 Axes>"
      ]
     },
     "metadata": {
      "needs_background": "light"
     },
     "output_type": "display_data"
    }
   ],
   "source": [
    "ds_name = 'Feynman'\n",
    "fig = plt.figure(figsize = (6, 3))\n",
    "cores = sorted(list(results[ds_name].keys()))\n",
    "times = [results[ds_name][c] for c in cores]\n",
    "plt.bar(range(len(cores)), times)\n",
    "plt.xticks(range(len(cores)), cores)\n",
    "plt.xlabel('Number of processes')\n",
    "plt.ylabel('Time (in s.)')\n",
    "plt.savefig(f'results/figures/times_{ds_name}.pdf', bbox_inches = 'tight')"
   ]
  },
  {
   "cell_type": "code",
   "execution_count": 117,
   "id": "c3535932",
   "metadata": {},
   "outputs": [
    {
     "name": "stdout",
     "output_type": "stream",
     "text": [
      "\\begin{tabular}{lcccccc}\n",
      "Processes&1&2&4&8&16&32\\\\\n",
      "\\midrule\n",
      "Time (in s.)&28.61&19.68&12.63&8.92&7.46&7.58\\\\\n",
      "\\end{tabular}\n"
     ]
    }
   ],
   "source": [
    "# print table\n",
    "ds_name = 'Feynman'\n",
    "n_round = 2\n",
    "cores = sorted(list(results[ds_name].keys()))\n",
    "times = [results[ds_name][c] for c in cores]\n",
    "\n",
    "# header\n",
    "s = '\\\\begin{tabular}{l' + 'c'*len(cores) + '}'\n",
    "print(s)\n",
    "\n",
    "\n",
    "s = 'Processes'\n",
    "for c in cores:\n",
    "    v = c\n",
    "    s += f'&{v}'\n",
    "s += '\\\\\\\\'\n",
    "print(s)\n",
    "print('\\\\midrule')\n",
    "\n",
    "\n",
    "s = 'Time (in s.)'\n",
    "for t in times:\n",
    "    v = np.round(t, n_round)\n",
    "    s += f'&{v}'\n",
    "s += '\\\\\\\\'\n",
    "print(s)\n",
    "\n",
    "s = '\\\\end{tabular}'\n",
    "print(s)"
   ]
  },
  {
   "cell_type": "markdown",
   "id": "3c62876a",
   "metadata": {},
   "source": [
    "## Scalability\n",
    "\n",
    "Takeaway: Our Approach has potential to scale with\n",
    "\n",
    "- number of calculation nodes (= max size of expression)\n",
    "- number of orders (= coverage)"
   ]
  },
  {
   "cell_type": "code",
   "execution_count": 23,
   "id": "e1e60fe0",
   "metadata": {},
   "outputs": [],
   "source": [
    "ds_name = 'Feynman'\n",
    "\n",
    "load_path = f'datasets/{ds_name}/tasks.p'\n",
    "with open(load_path, 'rb') as handle:\n",
    "    task_dict = pickle.load(handle)\n",
    "    \n",
    "load_path = f'results/{ds_name}/scalings.p'\n",
    "with open(load_path, 'rb') as handle:\n",
    "    res_dict = pickle.load(handle)\n",
    "\n",
    "seeds = sorted(list(res_dict.keys()))\n",
    "nodes = sorted(list(res_dict[seeds[0]].keys()))\n",
    "orders = sorted(list(res_dict[seeds[0]][nodes[0]].keys()))\n",
    "problems = list(task_dict.keys())\n",
    "\n",
    "# average results for each seed \n",
    "# how to access: [rand_state][n_calc_nodes][max_orders][problem]\n",
    "\n",
    "recovery_results = {}\n",
    "time_results = {}\n",
    "for n_calc_nodes in nodes:\n",
    "    recovery_results[n_calc_nodes] = {}\n",
    "    time_results[n_calc_nodes] = {}\n",
    "    \n",
    "    for max_orders in orders:\n",
    "        all_recs = []\n",
    "        all_times = []\n",
    "        for seed in seeds:\n",
    "            recs = []\n",
    "            times = []\n",
    "            \n",
    "            if (n_calc_nodes in res_dict[seed]) and (max_orders in res_dict[seed][n_calc_nodes]):  \n",
    "                #for problem in res_dict[seed][n_calc_nodes][max_orders]:\n",
    "                for problem in res_dict[seed][n_calc_nodes][max_orders]:\n",
    "                    recs += res_dict[seed][n_calc_nodes][max_orders][problem]['recovery']\n",
    "                    times += res_dict[seed][n_calc_nodes][max_orders][problem]['times']\n",
    "                avg_rec = np.mean(recs)\n",
    "                avg_time = np.mean(times)\n",
    "\n",
    "                all_recs.append(avg_rec)\n",
    "                all_times.append(avg_time)\n",
    "        # here we have lists with avg results for each seed    \n",
    "        \n",
    "        if len(all_recs) > 0:\n",
    "        \n",
    "            recovery_results[n_calc_nodes][max_orders] = np.mean(all_recs)\n",
    "            time_results[n_calc_nodes][max_orders] = np.mean(all_times)"
   ]
  },
  {
   "cell_type": "code",
   "execution_count": 24,
   "id": "6df5129c",
   "metadata": {
    "scrolled": true
   },
   "outputs": [
    {
     "name": "stdout",
     "output_type": "stream",
     "text": [
      "\\begin{tabular}{cllll}\n",
      "$i$/$d$&10&20&40&80\\\\\n",
      "\\toprule\n",
      "1&5.4&5.5&5.8&5.9\\\\\n",
      "2&7.4&7.7&9.3&10.8\\\\\n",
      "3&8.9&12.4&17.4&27.6\\\\\n",
      "4&15.1&20.7&27.9&43.8\\\\\n",
      "\\end{tabular}\n"
     ]
    }
   ],
   "source": [
    "# print table\n",
    "#table_data, n_round = recovery_results, 2\n",
    "table_data, n_round = time_results, 1\n",
    "\n",
    "\n",
    "# header\n",
    "s = '\\\\begin{tabular}{c' + 'l'*len(orders) + '}'\n",
    "print(s)\n",
    "\n",
    "s = '$i$/$d$' # insert diag cell here\n",
    "for o in orders:\n",
    "    v = o//(10**3)\n",
    "    s += f'&{v}'\n",
    "s += '\\\\\\\\'\n",
    "print(s)\n",
    "print('\\\\toprule')\n",
    "\n",
    "# rows\n",
    "for n_calc_nodes in nodes:\n",
    "    s = str(n_calc_nodes)\n",
    "    for o in orders:\n",
    "        if n_calc_nodes in table_data:\n",
    "            if o in table_data[n_calc_nodes]:\n",
    "                v = np.round(table_data[n_calc_nodes][o], n_round)\n",
    "                if n_round == 0:\n",
    "                    v = int(v)\n",
    "                s += f'&{v}'\n",
    "                  \n",
    "            else:\n",
    "                s += '&-'\n",
    "        else:\n",
    "            s += '&-'\n",
    "    s += '\\\\\\\\'\n",
    "    print(s)\n",
    "s = '\\\\end{tabular}'\n",
    "print(s)"
   ]
  },
  {
   "cell_type": "markdown",
   "id": "d14cc7f5",
   "metadata": {},
   "source": [
    "The computational cost however grows exponentially"
   ]
  },
  {
   "cell_type": "code",
   "execution_count": 26,
   "id": "59718711",
   "metadata": {
    "scrolled": true
   },
   "outputs": [
    {
     "data": {
      "text/plain": [
       "([1, 2, 3, 4], [10000, 20000, 40000, 80000])"
      ]
     },
     "execution_count": 26,
     "metadata": {},
     "output_type": "execute_result"
    }
   ],
   "source": [
    "nodes, orders"
   ]
  },
  {
   "cell_type": "code",
   "execution_count": 36,
   "id": "097b9232",
   "metadata": {},
   "outputs": [
    {
     "data": {
      "text/plain": [
       "<matplotlib.colorbar.Colorbar at 0x208bf084400>"
      ]
     },
     "execution_count": 36,
     "metadata": {},
     "output_type": "execute_result"
    },
    {
     "data": {
      "image/png": "[encoded data removed]",
      "text/plain": [
       "<Figure size 432x288 with 2 Axes>"
      ]
     },
     "metadata": {
      "needs_background": "light"
     },
     "output_type": "display_data"
    }
   ],
   "source": [
    "heatmap = np.zeros((len(nodes), len(orders)))\n",
    "for i, n in enumerate(nodes):\n",
    "    for j, o in enumerate(orders):\n",
    "        heatmap[i, j] = time_results[n][o]\n",
    "        \n",
    "plt.imshow(heatmap)\n",
    "\n",
    "plt.xticks(range(len(orders)), orders)\n",
    "plt.yticks(range(len(nodes)), nodes)\n",
    "plt.xlabel('#DAG frames')\n",
    "plt.ylabel('#Intermediary nodes')\n",
    "plt.colorbar()"
   ]
  },
  {
   "cell_type": "markdown",
   "id": "525c3efb",
   "metadata": {},
   "source": [
    "## Figure: We solve all small Problems"
   ]
  },
  {
   "cell_type": "code",
   "execution_count": 47,
   "id": "d261f5a3",
   "metadata": {},
   "outputs": [],
   "source": [
    "ds_name = 'Strogatz'\n",
    "regressor = 'DAGSearch'\n",
    "#regressor = 'DAGSearchPoly'\n",
    "\n",
    "load_path = f'datasets/{ds_name}/tasks.p'\n",
    "with open(load_path, 'rb') as handle:\n",
    "    task_dict = pickle.load(handle)\n",
    "    \n",
    "load_path = f'results/{ds_name}/{regressor}_results.p'\n",
    "with open(load_path, 'rb') as handle:\n",
    "    res_dict = pickle.load(handle)\n"
   ]
  },
  {
   "cell_type": "code",
   "execution_count": 48,
   "id": "a213d5e5",
   "metadata": {},
   "outputs": [],
   "source": [
    "problems = res_dict.keys()\n",
    "\n",
    "problem_sizes = []\n",
    "recs = []\n",
    "problem_names = []\n",
    "for problem in problems:\n",
    "    r = res_dict[problem]['recovery']\n",
    "    for i in range(len(r)):\n",
    "        recs.append(r[i])\n",
    "        expr = task_dict[problem]['expr'][i]\n",
    "        problem_sizes.append(utils.tree_size(expr))\n",
    "        if len(r) > 1:\n",
    "            problem_names.append(f'{problem}_{i}')\n",
    "        else:\n",
    "            problem_names.append(f'{problem}')"
   ]
  },
  {
   "cell_type": "code",
   "execution_count": 49,
   "id": "b9a37654",
   "metadata": {},
   "outputs": [],
   "source": [
    "sort_idx = np.argsort(problem_sizes)\n",
    "problem_sizes = [problem_sizes[i] for i in sort_idx]\n",
    "problem_names = [problem_names[i] for i in sort_idx]\n",
    "recs = [recs[i] for i in sort_idx]\n",
    "\n",
    "rec_idxs = [i for i in range(len(recs)) if recs[i]]\n",
    "not_rec_idxs = [i for i in range(len(recs)) if not recs[i]]"
   ]
  },
  {
   "cell_type": "code",
   "execution_count": 50,
   "id": "36969dab",
   "metadata": {},
   "outputs": [
    {
     "data": {
      "image/png": "[encoded data removed]",
      "text/plain": [
       "<Figure size 360x144 with 1 Axes>"
      ]
     },
     "metadata": {
      "needs_background": "light"
     },
     "output_type": "display_data"
    }
   ],
   "source": [
    "#fig = plt.figure(figsize = (15, 2)) # for feynman\n",
    "fig = plt.figure(figsize = (5, 2))\n",
    "# 1. plot recovered problems\n",
    "plt.bar(rec_idxs, [problem_sizes[i] for i in rec_idxs], color = 'tab:blue', edgecolor = 'black')\n",
    "\n",
    "# 2. plot not recovered problems\n",
    "plt.bar(not_rec_idxs, [problem_sizes[i] for i in not_rec_idxs], color = 'lightgray', edgecolor = 'black')\n",
    "\n",
    "# 3. add legend\n",
    "plt.scatter([], [], color = 'tab:blue', label = 'recovered')\n",
    "plt.scatter([], [], color = 'lightgray', label = 'not recovered')\n",
    "#plt.legend()\n",
    "\n",
    "\n",
    "# 4. add writing\n",
    "plt.xticks(range(len(recs)), problem_names, rotation = 90)\n",
    "plt.gca().tick_params(axis='x', which='major', labelsize=9)\n",
    "plt.ylabel('Nodes')\n",
    "plt.xlabel('Expression')\n",
    "#plt.title(f'{regressor} - {ds_name}')\n",
    "plt.savefig(f'results/figures/problem_sizes_{ds_name}_{regressor}.pdf', bbox_inches = 'tight')\n",
    "plt.show()"
   ]
  },
  {
   "cell_type": "code",
   "execution_count": 2,
   "id": "d8b713b5",
   "metadata": {},
   "outputs": [],
   "source": [
    "# for paper: two plots next to each other \n",
    "\n",
    "ds_name = 'Nguyen'\n",
    "regressor1 = 'DAGSearch'\n",
    "regressor2 = 'DAGSearchPoly'\n",
    "\n",
    "load_path = f'datasets/{ds_name}/tasks.p'\n",
    "with open(load_path, 'rb') as handle:\n",
    "    task_dict = pickle.load(handle)\n",
    "    \n",
    "load_path1 = f'results/{ds_name}/{regressor1}_results.p'\n",
    "with open(load_path1, 'rb') as handle:\n",
    "    res_dict1 = pickle.load(handle)\n",
    "    \n",
    "load_path2 = f'results/{ds_name}/{regressor2}_results.p'\n",
    "with open(load_path2, 'rb') as handle:\n",
    "    res_dict2 = pickle.load(handle)"
   ]
  },
  {
   "cell_type": "code",
   "execution_count": 3,
   "id": "2829bf1e",
   "metadata": {},
   "outputs": [
    {
     "data": {
      "image/png": "[encoded data removed]",
      "text/plain": [
       "<Figure size 432x216 with 2 Axes>"
      ]
     },
     "metadata": {
      "needs_background": "light"
     },
     "output_type": "display_data"
    }
   ],
   "source": [
    "problems = res_dict1.keys()\n",
    "\n",
    "problem_sizes = []\n",
    "recs1 = []\n",
    "recs2 = []\n",
    "problem_names = []\n",
    "for problem in problems:\n",
    "    r1 = res_dict1[problem]['recovery']\n",
    "    r2 = res_dict2[problem]['recovery']\n",
    "    for i in range(len(r1)):\n",
    "        recs1.append(r1[i])\n",
    "        recs2.append(r2[i])\n",
    "        expr = task_dict[problem]['expr'][i]\n",
    "        problem_sizes.append(utils.tree_size(expr))\n",
    "        if len(r1) > 1:\n",
    "            problem_names.append(f'{problem}_{i}')\n",
    "        else:\n",
    "            problem_names.append(f'{problem}')\n",
    "            \n",
    "sort_idx = np.argsort(problem_sizes)\n",
    "problem_sizes = [problem_sizes[i] for i in sort_idx]\n",
    "problem_names = [problem_names[i] for i in sort_idx]\n",
    "recs1 = [recs1[i] for i in sort_idx]\n",
    "recs2 = [recs2[i] for i in sort_idx]\n",
    "\n",
    "rec_idxs1 = [i for i in range(len(recs1)) if recs1[i]]\n",
    "not_rec_idxs1 = [i for i in range(len(recs1)) if not recs1[i]]\n",
    "rec_idxs2 = [i for i in range(len(recs2)) if recs2[i]]\n",
    "not_rec_idxs2 = [i for i in range(len(recs2)) if not recs2[i]]\n",
    "\n",
    "\n",
    "fs = 3.0\n",
    "fig, axs = plt.subplots(ncols = 2, figsize = (2*fs, fs))\n",
    "\n",
    "\n",
    "for i, (rec_idxs, not_rec_idxs, title) in enumerate([(rec_idxs1, not_rec_idxs1, 'UDFS'), (rec_idxs2, not_rec_idxs2, 'UDFS + Aug')]):\n",
    "    # 1. plot recovered problems\n",
    "    axs[i].bar(rec_idxs, [problem_sizes[i] for i in rec_idxs], color = 'tab:blue', edgecolor = 'black')\n",
    "\n",
    "    # 2. plot not recovered problems\n",
    "    axs[i].bar(not_rec_idxs, [problem_sizes[i] for i in not_rec_idxs], color = 'lightgray', edgecolor = 'black')\n",
    "\n",
    "    # 4. add writing\n",
    "    axs[i].set_xticks(range(len(recs1)), problem_names, rotation = 90, ha='right')\n",
    "    #axs[i].tick_params(axis='x', which='major', labelsize=9)\n",
    "    if i == 0:\n",
    "        axs[i].set_ylabel('Expression Size')\n",
    "        \n",
    "    axs[i].set_title(title)\n",
    "    #axs[i].set_xlabel('Expression')\n",
    "\n",
    "# 3. add legend\n",
    "axs[0].scatter([], [], color = 'tab:blue', label = 'recovered', edgecolor = 'black')\n",
    "axs[0].scatter([], [], color = 'lightgray', label = 'not recovered', edgecolor = 'black')\n",
    "axs[0].legend()\n",
    "\n",
    "plt.tight_layout()\n",
    "\n",
    "#plt.title(f'{regressor} - {ds_name}')\n",
    "plt.savefig(f'results/figures/problem_sizes_{ds_name}.pdf', bbox_inches = 'tight')\n",
    "plt.show()"
   ]
  },
  {
   "cell_type": "markdown",
   "id": "fbbf30fc",
   "metadata": {},
   "source": [
    "## Figure: Flowchart"
   ]
  },
  {
   "cell_type": "code",
   "execution_count": 63,
   "id": "06a06f44",
   "metadata": {
    "scrolled": true
   },
   "outputs": [
    {
     "data": {
      "image/png": "[encoded data removed]",
      "text/plain": [
       "<Figure size 432x288 with 2 Axes>"
      ]
     },
     "metadata": {
      "needs_background": "light"
     },
     "output_type": "display_data"
    }
   ],
   "source": [
    "def func(x0, x1):\n",
    "    return np.sqrt((x0*x1)**2 + 1) - x0\n",
    "\n",
    "X = np.random.rand(100, 2)*10-5\n",
    "y = func(X[:, 0], X[:, 1])\n",
    "\n",
    "# Set up a regular grid of interpolation points\n",
    "x0, x1 = np.linspace(X[:, 0].min(), X[:, 0].max(), 100), np.linspace(X[:, 1].min(), X[:, 1].max(), 100)\n",
    "x0, x1 = np.meshgrid(x0, x1)\n",
    "ys = func(x0, x1)\n",
    "\n",
    "\n",
    "plt.imshow(ys, vmin=ys.min(), vmax=ys.max(), origin='lower',extent=[X[:, 0].min(), X[:, 0].max(), X[:, 1].min(), X[:, 1].max()])\n",
    "#plt.scatter(x, y, c=z)\n",
    "\n",
    "plt.scatter(X[:, 0], X[:, 1], color = 'black', marker = 'x')\n",
    "plt.xlabel(r'$x_1$')\n",
    "plt.ylabel(r'$x_2$')\n",
    "plt.colorbar()\n",
    "plt.savefig(f'results/figures/workflow1.pdf', bbox_inches = 'tight')"
   ]
  },
  {
   "cell_type": "markdown",
   "id": "75765634",
   "metadata": {},
   "source": [
    "## Figure: Hierarchical Grid Search"
   ]
  },
  {
   "cell_type": "code",
   "execution_count": 149,
   "id": "83e61c20",
   "metadata": {
    "scrolled": true
   },
   "outputs": [
    {
     "data": {
      "text/plain": [
       "[(-c_0 + x_0)**2]"
      ]
     },
     "execution_count": 149,
     "metadata": {},
     "output_type": "execute_result"
    }
   ],
   "source": [
    "# true expression: (x + c)**2\n",
    "node_dict = {\n",
    "    0 : ([], 'inp'), # x\n",
    "    1 : ([], 'const'), # c\n",
    "    2 : ([3], 'sq'), # (x+c)**2\n",
    "    3 : ([0, 1], 'sub_l'), # x+c\n",
    "}\n",
    "graph = comp_graph.CompGraph(m = 1, n = 1, k = 1, node_dict = node_dict)\n",
    "graph.evaluate_symbolic()"
   ]
  },
  {
   "cell_type": "code",
   "execution_count": 243,
   "id": "bb44dfdd",
   "metadata": {},
   "outputs": [],
   "source": [
    "X = np.random.rand(100, 1)*5-2.5\n",
    "y = (X[:, 0] - np.sqrt(2))**2\n",
    "\n",
    "loss_fkt = dag_search.MSE_loss_fkt(y)"
   ]
  },
  {
   "cell_type": "code",
   "execution_count": 244,
   "id": "aeb72df3",
   "metadata": {
    "scrolled": true
   },
   "outputs": [
    {
     "name": "stdout",
     "output_type": "stream",
     "text": [
      "1.4285714285714286 0.003376192800870981\n",
      "1.4081632653061225 0.0005951642993750463\n",
      "1.41399416909621 7.84213261392799e-07\n"
     ]
    }
   ],
   "source": [
    "interval_upper, interval_lower = 2, 1\n",
    "n_steps = 8\n",
    "n_zooms = 3\n",
    "\n",
    "all_losses = []\n",
    "all_c = []\n",
    "all_loss = []\n",
    "all_values = []\n",
    "\n",
    "\n",
    "k = graph.n_consts\n",
    "interval_size = interval_upper - interval_lower\n",
    "c = (interval_upper + interval_lower)/2*np.ones(k)\n",
    "stepsize = interval_size/(n_steps - 1)\n",
    "for zoom in range(n_zooms):\n",
    "    c_init = c\n",
    "\n",
    "    c_init = c_init*np.ones(k)\n",
    "\n",
    "    l = interval_size/2\n",
    "    values = np.linspace(-l, l, n_steps)\n",
    "    tmp = np.meshgrid(*[values]*k)\n",
    "    consts = np.column_stack([x.flatten() for x in tmp])\n",
    "    consts = consts + np.stack([c_init]*len(consts))\n",
    "\n",
    "    losses = loss_fkt(X, graph, consts)\n",
    "    \n",
    "    \n",
    "\n",
    "    best_idx = np.argmin(losses)\n",
    "    c = consts[best_idx]\n",
    "    loss = losses[best_idx]\n",
    "    \n",
    "    print(c[0], loss)\n",
    "    \n",
    "    all_losses.append(losses)\n",
    "    all_c.append(c[0])\n",
    "    all_loss.append(loss)\n",
    "    all_values.append(consts[:, 0])\n",
    "    \n",
    "    interval_size = 2*stepsize\n",
    "    stepsize = interval_size/(n_steps - 1)\n",
    "\n"
   ]
  },
  {
   "cell_type": "code",
   "execution_count": 256,
   "id": "c811c575",
   "metadata": {},
   "outputs": [
    {
     "data": {
      "image/png": "[encoded data removed]",
      "text/plain": [
       "<Figure size 480x240 with 1 Axes>"
      ]
     },
     "metadata": {
      "needs_background": "light"
     },
     "output_type": "display_data"
    }
   ],
   "source": [
    "colors = ['tab:blue', 'tab:orange', 'tab:green']\n",
    "min_v = 0.0\n",
    "max_v = 6\n",
    "fig = plt.figure(figsize=(6, 3), dpi=80)\n",
    "\n",
    "for i, (values, losses) in enumerate(zip(all_values, all_losses)):\n",
    "    c = colors[i%len(all_values)]\n",
    "    plt.plot(values, losses, color = c, alpha = 0.5)\n",
    "    plt.scatter(values, losses, color = c, linewidth = 0.2, zorder = 2, edgecolor='black', label = f'step {i}')\n",
    "    min_c = values[np.argmin(losses)]\n",
    "    \n",
    "    \n",
    "    plt.plot([min_c, min_c], [max_v, min_v], color = c, linestyle = '--', alpha = 0.5)\n",
    "    \n",
    "#plt.plot([np.pi, np.pi], [max_v, min_v], color = 'black', linestyle = '--', alpha = 0.5)\n",
    "plt.ylim((min_v - 0.1, max_v))\n",
    "plt.legend()\n",
    "plt.xlabel(r'$c_0$')\n",
    "plt.ylabel('Loss')\n",
    "plt.savefig(f'results/figures/grid_search_example.pdf', bbox_inches = 'tight')"
   ]
  },
  {
   "cell_type": "markdown",
   "id": "9b6b93be",
   "metadata": {},
   "source": [
    "## Damped Pendulum\n",
    "\n",
    "$y(t)=e^{-t}\\cos(2\\pi t)$"
   ]
  },
  {
   "cell_type": "code",
   "execution_count": 73,
   "id": "6444e663",
   "metadata": {},
   "outputs": [
    {
     "name": "stdout",
     "output_type": "stream",
     "text": [
      "$0.06\\cos(4x)+0.13\\cos(5x)+0.30\\cos(6x)+0.23\\cos(7x)+0.08\\cos(8x)$\n"
     ]
    },
    {
     "data": {
      "image/png": "[encoded data removed]",
      "text/plain": [
       "<Figure size 648x324 with 1 Axes>"
      ]
     },
     "metadata": {
      "needs_background": "light"
     },
     "output_type": "display_data"
    }
   ],
   "source": [
    "import numpy as np\n",
    "import matplotlib.pyplot as plt\n",
    "\n",
    "osci = lambda x : np.cos(6 * x)\n",
    "decay = lambda x : np.exp(-x)\n",
    "\n",
    "x = np.linspace(0.0, 2 * np.pi, 20) / 2\n",
    "#data = x, osci(x) * decay(x)\n",
    "data = x, np.exp(-x)*np.cos(2*np.pi*x)\n",
    "data_train = data[0][3:-3], data[1][3:-3]\n",
    "data_train = data\n",
    "\n",
    "d = 10\n",
    "X = np.cos(np.multiply.outer(data_train[0], np.arange(d)))\n",
    "p = np.linalg.pinv(X) @ data_train[1]\n",
    "#p = p*100\n",
    "p = np.round(p, 2) * 100\n",
    "p[p <= 5] = 0\n",
    "model = lambda x : np.cos(np.multiply.outer(x, np.arange(d))) @ p / 100\n",
    "#model = lambda x : (7 * np.cos(4 * x) + 17 * np.cos(5 * x) + 31 * np.cos(6 * x) + 17 * np.cos(7 * x) + 7 * np.cos(8 * x)) / 100\n",
    "model_label = \"+\".join([f\"{pp:.2f}\\cos({n}x)\" for n, pp in enumerate(p/100)\n",
    "                        if pp > 0])\n",
    "model_label = rf\"${model_label}$\"                         \n",
    "#model_label = \"+\".join([f\"{pp:.0f}\\cos({n}x)\" for n, pp in enumerate(p) if pp > 0])\n",
    "print(model_label)\n",
    "model_label = rf\"$({model_label})/100$\"\n",
    "model_label = \"Cosine expansion\"\n",
    "\n",
    "x = np.linspace(data[0].min(), data[0].max(), 10 * len(data[0]))\n",
    "\n",
    "\n",
    "plt.close(\"all\")\n",
    "#plt.rc(\"font\", size=16)\n",
    "\n",
    "fig, ax = plt.subplots(figsize=(9, 4.5))\n",
    "\n",
    "ax.plot(x, model(x), color=\"tab:blue\", label=model_label, lw=3)\n",
    "ax.plot(x, osci(x) * decay(x), color=\"tab:orange\", label=\"Symbolic\", lw=3)\n",
    "ax.plot(x, osci(x), color=\"tab:orange\", lw=3, alpha=0.25)#, ls='--')#, label=r\"$\\cos(6x)$\")\n",
    "ax.plot(x, decay(x), color=\"tab:orange\", lw=3, alpha=0.25)#, ls='-.')#, label=r\"$\\exp(-x)$\")\n",
    "\n",
    "ax.scatter(*data, s=100, facecolor=\"gray\", edgecolor=\"k\", zorder=9, alpha=0.9,\n",
    "           label=\"Test data\")\n",
    "ax.scatter(data[0][3:-3], data[1][3:-3], s=100, facecolor=\"w\", edgecolor=\"k\",\n",
    "           zorder=10, label=\"Train data\")\n",
    "\n",
    "ax.set_xlim(x.min() - 0.01, x.max() + 0.01)\n",
    "ax.set_ylim(-1.1, 1.1)\n",
    "\n",
    "xx = 0.5 * (data[0][2] + data[0][3])\n",
    "ax.axvline(xx, ls='--', color=\"k\")\n",
    "ax.fill_betweenx([-2, 2], 0., xx, color=\"k\", alpha=0.1)\n",
    "\n",
    "xx = 0.5 * (data[0][-4] + data[0][-3])\n",
    "ax.axvline(xx, ls='--', color=\"k\")\n",
    "ax.fill_betweenx([-2, 2], xx, x.max() + 0.1, color=\"k\", alpha=0.1)\n",
    "\n",
    "ax.set_xlabel(r\"$x$\")\n",
    "ax.set_ylabel(r\"$f(x)$\")\n",
    "\n",
    "#ax.legend()\n",
    "ax.legend(bbox_to_anchor=(0.88,1.03), loc=\"upper right\",)\n",
    "#fig.savefig(\"/tmp/fig1.pdf\")\n",
    "\n",
    "plt.savefig(f'results/figures/intro_example.pdf', bbox_inches = 'tight')"
   ]
  },
  {
   "cell_type": "code",
   "execution_count": 2,
   "id": "a16519f0",
   "metadata": {},
   "outputs": [],
   "source": [
    "np.random.seed(0)\n",
    "x_values = np.linspace(0, 0.75, 1000).reshape(-1, 1)\n",
    "X = np.linspace(0, 0.75, 20).reshape(-1, 1)\n",
    "y = np.exp(-X[:, 0])*np.cos(2*np.pi*X[:, 0])"
   ]
  },
  {
   "cell_type": "code",
   "execution_count": 3,
   "id": "e4dd6c9d",
   "metadata": {},
   "outputs": [],
   "source": [
    "split_idx = 3, 17\n",
    "X_train = X[split_idx[0]:split_idx[1], :]\n",
    "y_train = y[split_idx[0]:split_idx[1]]\n",
    "X_test = np.concatenate([X[:split_idx[0], :], X[split_idx[1]:, :]])\n",
    "y_test = np.concatenate([y[:split_idx[0]], y[split_idx[1]:]])"
   ]
  },
  {
   "cell_type": "code",
   "execution_count": 4,
   "id": "9fbffe43",
   "metadata": {},
   "outputs": [
    {
     "data": {
      "text/plain": [
       "<module 'sklearn' from 'C:\\\\Users\\\\Paul Kahlmeyer\\\\anaconda3\\\\envs\\\\SymbReg\\\\lib\\\\site-packages\\\\sklearn\\\\__init__.py'>"
      ]
     },
     "execution_count": 4,
     "metadata": {},
     "output_type": "execute_result"
    }
   ],
   "source": [
    "import importlib\n",
    "import sklearn\n",
    "from sklearn.linear_model import LinearRegression, Lasso, Ridge\n",
    "importlib.reload(sklearn)"
   ]
  },
  {
   "cell_type": "code",
   "execution_count": 11,
   "id": "363b5e20",
   "metadata": {},
   "outputs": [],
   "source": [
    "from regressors import regressors\n",
    "from sklearn.linear_model import LinearRegression, Lasso, Ridge\n",
    "\n",
    "np.random.seed(0)\n",
    "regr = regressors.PolyReg(4)\n",
    "regr.regr = Ridge(alpha = 1e-8, max_iter=100000)\n",
    "\n",
    "regr.fit(X_train, y_train)\n",
    "pred_poly = regr.predict(x_values)\n",
    "\n",
    "pred_symb = np.exp(-x_values[:, 0])*np.cos(6*x_values[:, 0])\n",
    "pred_decay = np.exp(-x_values[:, 0])\n",
    "pred_oscillation = np.cos(6*x_values[:, 0])"
   ]
  },
  {
   "cell_type": "code",
   "execution_count": 18,
   "id": "86510426",
   "metadata": {},
   "outputs": [
    {
     "data": {
      "text/latex": [
       "$\\displaystyle - 39.7961470534699 x_{0}^{4} + 68.6613757490109 x_{0}^{3} - 31.445608444367 x_{0}^{2} + 0.446671568434552 x_{0} + 0.935517581468656$"
      ],
      "text/plain": [
       "-39.7961470534699*x_0**4 + 68.6613757490109*x_0**3 - 31.445608444367*x_0**2 + 0.446671568434552*x_0 + 0.935517581468656"
      ]
     },
     "execution_count": 18,
     "metadata": {},
     "output_type": "execute_result"
    }
   ],
   "source": [
    "regr.model()"
   ]
  },
  {
   "cell_type": "code",
   "execution_count": 7,
   "id": "d4ea0b6f",
   "metadata": {},
   "outputs": [
    {
     "data": {
      "text/plain": [
       "(-0.695278112275183, 1.080727529155961)"
      ]
     },
     "execution_count": 7,
     "metadata": {},
     "output_type": "execute_result"
    },
    {
     "data": {
      "image/png": "[encoded data removed]",
      "text/plain": [
       "<Figure size 432x216 with 1 Axes>"
      ]
     },
     "metadata": {
      "needs_background": "light"
     },
     "output_type": "display_data"
    }
   ],
   "source": [
    "fig = plt.figure(figsize = (6, 3))\n",
    "offset = 0.005\n",
    "xlim = (np.min(X)-offset, np.max(X)+offset)\n",
    "plt.xlim(xlim)\n",
    "\n",
    "plt.plot(x_values, pred_poly, color ='tab:blue', label = 'Polynomial')\n",
    "plt.plot(x_values, pred_symb, color ='tab:orange', label = 'Symbolic')\n",
    "#plt.plot(x_values, pred_decay, color ='tab:orange', label = 'Decay', linestyle = '--')\n",
    "#plt.plot(x_values, pred_oscillation, color ='tab:cyan', label = 'Oscillation', linestyle = '--')\n",
    "plt.scatter(X_train, y_train, color = 'white', zorder = 2, edgecolors='black', label = 'Train data')\n",
    "plt.scatter(X_test, y_test, color = 'tab:gray', zorder = 2, edgecolors='black', label = 'Test data')\n",
    "\n",
    "plt.xlabel('x')\n",
    "plt.ylabel('f(x)')\n",
    "plt.legend(bbox_to_anchor=(0.87,1.0), loc=\"upper right\",)\n",
    "\n",
    "# gray out test area\n",
    "lower = 0.5*(X[split_idx[0]-1, 0]+X[split_idx[0], 0])\n",
    "upper = 0.5*(X[split_idx[1]-1, 0]+X[split_idx[1], 0])\n",
    "ax = plt.gca()\n",
    "xlim = ax.get_xlim()\n",
    "ylim = ax.get_ylim()\n",
    "ax.axvspan(upper, xlim[-1], facecolor='tab:gray', alpha=0.2)\n",
    "ax.axvspan(xlim[0], lower, facecolor='tab:gray', alpha=0.2)\n",
    "plt.plot([lower, lower], ylim, color = 'tab:gray', linestyle = '-')\n",
    "plt.plot([upper, upper], ylim, color = 'tab:gray', linestyle = '-')\n",
    "plt.xlim(xlim)\n",
    "plt.ylim(ylim)\n",
    "\n",
    "#plt.savefig(f'results/figures/intro_example.pdf', bbox_inches = 'tight')"
   ]
  },
  {
   "cell_type": "markdown",
   "id": "5370efc8",
   "metadata": {},
   "source": [
    "# !!Not used!!"
   ]
  },
  {
   "cell_type": "markdown",
   "id": "541beac8",
   "metadata": {},
   "source": [
    "## Price Theorem does not hold here\n",
    "\n",
    "If occurence of a Trait in population correlates positively with fitness of population, it will occur more often.\n",
    "\n",
    "Here: Track fitness of population and occurences of traits of target expression\n",
    "\n",
    "Trait = Subexpression"
   ]
  },
  {
   "cell_type": "code",
   "execution_count": 141,
   "id": "668e6241",
   "metadata": {},
   "outputs": [],
   "source": [
    "ds_name = 'Feynman'\n",
    "\n",
    "load_path = f'results/{ds_name}/covariances.p'\n",
    "with open(load_path, 'rb') as handle:\n",
    "    results_dict = pickle.load(handle)"
   ]
  },
  {
   "cell_type": "code",
   "execution_count": 142,
   "id": "ba30f322",
   "metadata": {},
   "outputs": [],
   "source": [
    "problems = list(results_dict.keys())\n",
    "nmb_traits = np.array([len(results_dict[problem_name]['covariances']) for problem_name in results_dict])\n",
    "max_traits = max(nmb_traits)\n",
    "\n",
    "\n",
    "sort_idx = np.argsort(-nmb_traits)\n",
    "problems = [problems[i] for i in sort_idx]\n",
    "\n",
    "disp_matrix = -np.ones((max_traits, len(results_dict)))\n",
    "\n",
    "for i, problem in enumerate(problems):\n",
    "    covs = results_dict[problem]['covariances']\n",
    "    disp_matrix[:len(covs), i] = covs"
   ]
  },
  {
   "cell_type": "code",
   "execution_count": 143,
   "id": "f0da93b2",
   "metadata": {},
   "outputs": [
    {
     "data": {
      "text/plain": [
       "Text(0.5, 1.0, 'Feynman')"
      ]
     },
     "execution_count": 143,
     "metadata": {},
     "output_type": "execute_result"
    },
    {
     "data": {
      "image/png": "[encoded data removed]",
      "text/plain": [
       "<Figure size 1922.4x475.2 with 2 Axes>"
      ]
     },
     "metadata": {
      "needs_background": "light"
     },
     "output_type": "display_data"
    }
   ],
   "source": [
    "fs = 0.3\n",
    "plt.figure(figsize = (len(problems)*fs, max_traits*fs))\n",
    "plt.imshow(disp_matrix, cmap = 'bwr', vmin = -1, vmax = 1)\n",
    "plt.colorbar()\n",
    "\n",
    "# add gray hatched area\n",
    "tmp_img = (disp_matrix == -1).astype(float)\n",
    "tmp_img[tmp_img == 0] = np.nan\n",
    "mask = ~np.isnan(tmp_img)\n",
    "tmp_img[mask] = 0.5\n",
    "plt.imshow(tmp_img, cmap = 'gray', vmin = 0.0, vmax = 1.0)\n",
    "zm = np.ma.masked_where(~mask, tmp_img)\n",
    "plt.pcolor(np.arange(len(problems)), np.arange(max_traits), zm, hatch='//', alpha=0.0)\n",
    "\n",
    "plt.xticks(range(len(problems)), problems, rotation = 90)\n",
    "plt.yticks(range(max_traits), [])\n",
    "plt.ylabel('Subexpression')\n",
    "plt.title(ds_name)"
   ]
  },
  {
   "cell_type": "markdown",
   "id": "d356f5f5",
   "metadata": {},
   "source": [
    "## Local Minima\n",
    "\n",
    "For a problem:\n",
    "- sample population\n",
    "- connect expressions with edit distance 1\n",
    "- identify local minima in this population (= all neighbours are worse) "
   ]
  },
  {
   "cell_type": "code",
   "execution_count": 145,
   "id": "75354b52",
   "metadata": {
    "scrolled": true
   },
   "outputs": [
    {
     "data": {
      "image/png": "[encoded data removed]",
      "text/plain": [
       "<Figure size 432x288 with 1 Axes>"
      ]
     },
     "metadata": {
      "needs_background": "light"
     },
     "output_type": "display_data"
    }
   ],
   "source": [
    "# estimate density\n",
    "from sklearn.neighbors import KernelDensity\n",
    "ds_names = ['Feynman', 'Strogatz', 'Univ', 'Nguyen']\n",
    "ds_colors = ['tab:blue', 'tab:orange', 'tab:green', 'tab:brown']\n",
    "\n",
    "x_values = np.linspace(0, 0.5, 1000).reshape(-1, 1)\n",
    "\n",
    "for ds_name, ds_color in zip(ds_names, ds_colors):\n",
    "\n",
    "    load_path = f'results/{ds_name}/local_minima.p'\n",
    "    if os.path.exists(load_path):\n",
    "        with open(load_path, 'rb') as handle:\n",
    "            results_dict = pickle.load(handle)\n",
    "            \n",
    "        ratios = np.array([results_dict[p] for p in results_dict])\n",
    "        kde = KernelDensity(kernel='gaussian', bandwidth = 0.1).fit(ratios.reshape(-1, 1))\n",
    "        log_densities = kde.score_samples(x_values)\n",
    "\n",
    "        plt.plot(x_values, np.exp(log_densities), color = ds_color, label = ds_name)\n",
    "\n",
    "\n",
    "plt.xlabel('Local minimum ratio')\n",
    "plt.ylabel('Density')\n",
    "plt.legend()\n",
    "\n",
    "if not os.path.exists('results/figures'):\n",
    "    os.mkdirs('results/figures')\n",
    "plt.savefig(f'results/figures/local_minima.pdf', bbox_inches = 'tight')"
   ]
  },
  {
   "cell_type": "markdown",
   "id": "9e5bfffd",
   "metadata": {},
   "source": [
    "## Fitness Distance Correlation"
   ]
  },
  {
   "cell_type": "code",
   "execution_count": 368,
   "id": "2bd0b2e6",
   "metadata": {},
   "outputs": [
    {
     "data": {
      "text/plain": [
       "<matplotlib.legend.Legend at 0x1e163e04850>"
      ]
     },
     "execution_count": 368,
     "metadata": {},
     "output_type": "execute_result"
    },
    {
     "data": {
      "image/png": "[encoded data removed]",
      "text/plain": [
       "<Figure size 432x288 with 1 Axes>"
      ]
     },
     "metadata": {
      "needs_background": "light"
     },
     "output_type": "display_data"
    }
   ],
   "source": [
    "# estimate density\n",
    "from sklearn.neighbors import KernelDensity\n",
    "ds_names = ['Feynman', 'Strogatz', 'Univ', 'Nguyen']\n",
    "ds_colors = ['tab:blue', 'tab:orange', 'tab:green', 'tab:brown']\n",
    "\n",
    "x_values = np.linspace(-1, 1, 1000).reshape(-1, 1)\n",
    "\n",
    "for ds_name, ds_color in zip(ds_names, ds_colors):\n",
    "\n",
    "    load_path = f'results/{ds_name}/fdc.p'\n",
    "    with open(load_path, 'rb') as handle:\n",
    "        results_dict = pickle.load(handle)\n",
    "    fdcs = np.array([results_dict[p] for p in results_dict])\n",
    "    kde = KernelDensity(kernel='gaussian', bandwidth = 0.1).fit(fdcs.reshape(-1, 1))\n",
    "    log_densities = kde.score_samples(x_values)\n",
    "    \n",
    "    plt.plot(x_values, np.exp(log_densities), color = ds_color, label = ds_name)\n",
    "\n",
    "\n",
    "plt.xlabel('Fitness-Distance correlation')\n",
    "plt.ylabel('Density')\n",
    "plt.legend()"
   ]
  },
  {
   "cell_type": "markdown",
   "id": "eead39a4",
   "metadata": {},
   "source": [
    "## Experiment: local minima\n",
    "\n",
    "Takeaway: Local Search does not work, because we have lots of local minima."
   ]
  },
  {
   "cell_type": "code",
   "execution_count": 71,
   "id": "c7c2b5fc",
   "metadata": {},
   "outputs": [],
   "source": [
    "load_path = 'results/local_minima_exp.p'\n",
    "with open(load_path, 'rb') as handle:\n",
    "    results = pickle.load(handle)"
   ]
  },
  {
   "cell_type": "code",
   "execution_count": 72,
   "id": "4986e0a3",
   "metadata": {},
   "outputs": [
    {
     "data": {
      "image/png": "[encoded data removed]",
      "text/plain": [
       "<Figure size 432x288 with 1 Axes>"
      ]
     },
     "metadata": {
      "needs_background": "light"
     },
     "output_type": "display_data"
    }
   ],
   "source": [
    "names = list(results.keys())\n",
    "values = [results[n]['groups'] for n in names]\n",
    "plt.bar(range(len(names)), values)\n",
    "plt.xticks(range(len(names)), names, rotation = 90)\n",
    "plt.ylabel(f'#Components among top {results[names[0]][\"topk\"]}')\n",
    "\n",
    "if not os.path.exists('results/figures'):\n",
    "    os.mkdirs('results/figures')\n",
    "plt.savefig(f'results/figures/local_minima.pdf', bbox_inches = 'tight')"
   ]
  },
  {
   "cell_type": "markdown",
   "id": "95da1ca6",
   "metadata": {},
   "source": [
    "## Experiment: Black Box vs. Symbolic\n",
    "\n",
    "Takeaway: If you care about model fit, use Black Box. "
   ]
  },
  {
   "cell_type": "code",
   "execution_count": 221,
   "id": "c298956a",
   "metadata": {},
   "outputs": [],
   "source": [
    "import pickle\n",
    "regs = ['linreg', 'polyreg2', 'polyreg3', 'operon', 'gplearn', 'DAGSearch', 'MLP', 'dsr', 'esr', 'DAGSearch', 'DAGSearchPoly']\n",
    "ds_name = 'Feynman' # Strogatz, Feynman, Nguyen, Univ  \n",
    "\n",
    "load_path = f'datasets/{ds_name}/tasks.p'\n",
    "with open(load_path, 'rb') as handle:\n",
    "    task_dict = pickle.load(handle)"
   ]
  },
  {
   "cell_type": "code",
   "execution_count": 222,
   "id": "4629171b",
   "metadata": {},
   "outputs": [
    {
     "data": {
      "text/plain": [
       "95"
      ]
     },
     "execution_count": 222,
     "metadata": {},
     "output_type": "execute_result"
    }
   ],
   "source": [
    "len(task_dict.keys())"
   ]
  },
  {
   "cell_type": "markdown",
   "id": "b6d7ef69",
   "metadata": {},
   "source": [
    "Read Results"
   ]
  },
  {
   "cell_type": "code",
   "execution_count": 348,
   "id": "0ea9d9fe",
   "metadata": {},
   "outputs": [],
   "source": [
    "regressor_name = 'DAGSearchPoly'\n",
    "load_path = f'results/{ds_name}/{regressor_name}_results.p'\n",
    "if os.path.exists(load_path):\n",
    "    with open(load_path, 'rb') as handle:\n",
    "        results_dict1 = pickle.load(handle)\n",
    "\n",
    "regressor_name = 'DAGSearch'\n",
    "load_path = f'results/{ds_name}/{regressor_name}_results.p'\n",
    "if os.path.exists(load_path):\n",
    "    with open(load_path, 'rb') as handle:\n",
    "        results_dict2 = pickle.load(handle)"
   ]
  },
  {
   "cell_type": "code",
   "execution_count": 349,
   "id": "ff14cad8",
   "metadata": {
    "scrolled": true
   },
   "outputs": [
    {
     "name": "stdout",
     "output_type": "stream",
     "text": [
      "I.11.19 True False\n",
      "I.12.11 True False\n",
      "I.12.2 True False\n",
      "I.13.12 True False\n",
      "I.16.6 True False\n",
      "I.18.4 True False\n",
      "I.32.5 True False\n",
      "I.37.4 True False\n",
      "I.38.12 True False\n",
      "II.11.20 True False\n",
      "II.11.3 True False\n",
      "II.13.17 True False\n",
      "II.21.32 True False\n",
      "II.34.29b True False\n",
      "II.6.15b True False\n",
      "III.13.18 True False\n",
      "III.15.12 True False\n",
      "III.19.51 True False\n"
     ]
    }
   ],
   "source": [
    "for problem_name in results_dict1:\n",
    "    if problem_name in results_dict2:\n",
    "        rec1 = results_dict1[problem_name]['recovery'][0]\n",
    "        rec2 = results_dict2[problem_name]['recovery'][0]\n",
    "        if rec1 != rec2:\n",
    "            print(problem_name, rec1, rec2)"
   ]
  },
  {
   "cell_type": "code",
   "execution_count": 350,
   "id": "97c1ba1d",
   "metadata": {
    "scrolled": true
   },
   "outputs": [
    {
     "name": "stdout",
     "output_type": "stream",
     "text": [
      "100% finished\n",
      "I.10.7 [False] 3\n",
      "I.11.19 [True] 6\n",
      "I.12.1 [True] 2\n",
      "I.12.11 [True] 5\n",
      "I.12.2 [True] 4\n",
      "I.12.4 [True] 3\n",
      "I.12.5 [True] 2\n",
      "I.13.12 [True] 5\n",
      "I.13.4 [False] 4\n",
      "I.14.3 [True] 3\n",
      "I.14.4 [True] 2\n",
      "I.15.3t [False] 4\n",
      "I.15.3x [False] 4\n",
      "I.16.6 [True] 3\n",
      "I.18.12 [True] 3\n",
      "I.18.14 [True] 4\n",
      "I.18.4 [True] 4\n",
      "I.24.6 [False] 4\n",
      "I.25.13 [True] 2\n",
      "I.27.6 [True] 3\n",
      "I.29.16 [False] 4\n",
      "I.29.4 [True] 2\n",
      "I.30.3 [False] 3\n",
      "I.32.17 [False] 6\n",
      "I.32.5 [True] 4\n",
      "I.34.1 [True] 3\n",
      "I.34.14 [False] 3\n",
      "I.34.27 [True] 2\n",
      "I.34.8 [True] 4\n",
      "I.37.4 [True] 3\n",
      "I.38.12 [True] 4\n",
      "I.39.1 [True] 2\n",
      "I.39.11 [True] 3\n",
      "I.39.22 [True] 4\n",
      "I.40.1 [False] 6\n",
      "I.41.16 [False] 5\n",
      "I.43.16 [True] 4\n",
      "I.43.31 [True] 3\n",
      "I.43.43 [True] 4\n",
      "I.44.4 [False] 5\n",
      "I.47.23 [True] 3\n",
      "I.50.26 [False] 4\n",
      "I.6.2 [False] 2\n",
      "I.6.2a [True] 1\n",
      "I.6.2b [False] 3\n",
      "I.8.14 [False] 4\n",
      "I.9.18 [False] 9\n",
      "II.10.9 [True] 3\n",
      "II.11.20 [True] 5\n",
      "II.11.27 [False] 4\n",
      "II.11.28 [False] 2\n",
      "II.11.3 [True] 5\n",
      "II.13.17 [True] 4\n",
      "II.13.23 [False] 3\n",
      "II.13.34 [False] 3\n",
      "II.15.4 [True] 3\n",
      "II.15.5 [True] 3\n",
      "II.2.42 [True] 5\n",
      "II.21.32 [True] 5\n",
      "II.24.17 [False] 3\n",
      "II.27.16 [True] 3\n",
      "II.27.18 [True] 2\n",
      "II.3.24 [True] 2\n",
      "II.34.11 [True] 4\n",
      "II.34.2 [True] 3\n",
      "II.34.29a [True] 3\n",
      "II.34.29b [True] 5\n",
      "II.34.2a [True] 3\n",
      "II.35.18 [False] 5\n",
      "II.35.21 [False] 5\n",
      "II.36.38 [False] 8\n",
      "II.37.1 [True] 3\n",
      "II.38.14 [True] 2\n",
      "II.38.3 [True] 4\n",
      "II.4.23 [True] 3\n",
      "II.6.11 [False] 4\n",
      "II.6.15a [False] 6\n",
      "II.6.15b [True] 4\n",
      "II.8.31 [True] 2\n",
      "II.8.7 [True] 3\n",
      "III.10.19 [False] 4\n",
      "III.12.43 [True] 2\n",
      "III.13.18 [True] 4\n",
      "III.14.14 [False] 5\n",
      "III.15.12 [True] 3\n",
      "III.15.14 [True] 3\n",
      "III.15.27 [True] 3\n",
      "III.17.37 [True] 3\n",
      "III.19.51 [True] 5\n",
      "III.21.20 [True] 4\n",
      "III.4.32 [False] 4\n",
      "III.4.33 [False] 4\n",
      "III.7.38 [True] 3\n",
      "III.8.54 [False] 3\n",
      "III.9.52 [False] 6\n"
     ]
    }
   ],
   "source": [
    "p = len(results_dict1)/len(task_dict)\n",
    "print(f'{round(100*p)}% finished')\n",
    "for problem in results_dict1:\n",
    "    print(problem, results_dict1[problem]['recovery'], task_dict[problem]['X'].shape[1])"
   ]
  },
  {
   "cell_type": "code",
   "execution_count": 351,
   "id": "b05fd642",
   "metadata": {},
   "outputs": [
    {
     "name": "stdout",
     "output_type": "stream",
     "text": [
      "I.10.7\n"
     ]
    }
   ],
   "source": [
    "from sklearn.metrics import r2_score\n",
    "# falsely not recovered expressions\n",
    "for problem in results_dict1.keys():\n",
    "    for y, pred, rec in zip(results_dict1[problem]['y_train'], results_dict1[problem]['pred_train'], results_dict1[problem]['recovery']):\n",
    "        try:\n",
    "            r2 = r2_score(y, pred)\n",
    "            \n",
    "            if r2 == 1.0 and not rec:\n",
    "                print(problem)\n",
    "        except:\n",
    "            print(f'Exception at {problem}')\n",
    "            pass\n",
    "    "
   ]
  },
  {
   "cell_type": "code",
   "execution_count": 352,
   "id": "9eed8ae1",
   "metadata": {
    "scrolled": true
   },
   "outputs": [],
   "source": [
    "from sklearn.metrics import r2_score\n",
    "# read results\n",
    "res = {}\n",
    "for regressor_name in regs:\n",
    "    load_path = f'results/{ds_name}/{regressor_name}_results.p'\n",
    "    if os.path.exists(load_path):\n",
    "        res[regressor_name] = {}\n",
    "        with open(load_path, 'rb') as handle:\n",
    "            results_dict = pickle.load(handle)\n",
    "\n",
    "        # avg. recovery\n",
    "        recoveries = []\n",
    "        for problem in results_dict.keys():\n",
    "            #for rec in results_dict[problem]['recovery']:\n",
    "            #    recoveries.append(rec)\n",
    "            for y, pred, rec in zip(results_dict[problem]['y_test'], results_dict[problem]['pred_test'], results_dict[problem]['recovery']):\n",
    "                r2 = r2_score(y, pred)\n",
    "                recoveries.append(rec or r2==1.0)\n",
    "        res[regressor_name]['recovery'] = np.mean(recoveries)\n",
    "\n",
    "\n",
    "        # avg. RMSE\n",
    "        rmses_train = []\n",
    "        rmses_test = []\n",
    "        for problem in results_dict.keys():\n",
    "            for y, pred in zip(results_dict[problem]['y_train'], results_dict[problem]['pred_train']):\n",
    "                rmse = np.sqrt(np.mean((y - pred)**2))\n",
    "                rmses_train.append(rmse)\n",
    "            for y, pred in zip(results_dict[problem]['y_test'], results_dict[problem]['pred_test']):\n",
    "                rmse = np.sqrt(np.mean((y - pred)**2))\n",
    "                rmses_test.append(rmse)\n",
    "        res[regressor_name]['rmse_train'] = np.mean(rmses_train)\n",
    "        res[regressor_name]['rmse_test'] = np.mean(rmses_test)\n",
    "\n",
    "        # median R2\n",
    "        r2s_train = []\n",
    "        r2s_test = []\n",
    "        for problem in results_dict.keys():\n",
    "            for y, pred in zip(results_dict[problem]['y_train'], results_dict[problem]['pred_train']):\n",
    "                r2 = r2_score(y, pred)\n",
    "                r2s_train.append(r2)\n",
    "            for y, pred in zip(results_dict[problem]['y_test'], results_dict[problem]['pred_test']):\n",
    "                r2 = r2_score(y, pred)\n",
    "                r2s_test.append(r2)\n",
    "        res[regressor_name]['r2_train'] = np.median(r2s_train)\n",
    "        res[regressor_name]['r2_test'] = np.median(r2s_test)\n",
    "            \n",
    "        # expression size\n",
    "        expr_sizes = []\n",
    "        for problem in results_dict.keys():\n",
    "            for expr in results_dict[problem]['exprs']:\n",
    "                expr_sizes.append(utils.tree_size(expr))\n",
    "        if len(expr_sizes) > 0:\n",
    "            res[regressor_name]['complexity'] = np.mean(expr_sizes)\n",
    "            \n",
    "        # processing times\n",
    "        time = 0.0\n",
    "        counter = 0\n",
    "        for problem in results_dict.keys():\n",
    "            for t in results_dict[problem]['times']:\n",
    "                time += t\n",
    "                counter += 1\n",
    "        time = time/counter\n",
    "        \n",
    "        res[regressor_name]['time'] = time"
   ]
  },
  {
   "cell_type": "code",
   "execution_count": 353,
   "id": "bf523771",
   "metadata": {
    "scrolled": true
   },
   "outputs": [
    {
     "data": {
      "text/plain": [
       "dict_keys(['linreg', 'polyreg2', 'polyreg3', 'operon', 'gplearn', 'DAGSearch', 'MLP', 'dsr', 'DAGSearchPoly'])"
      ]
     },
     "execution_count": 353,
     "metadata": {},
     "output_type": "execute_result"
    }
   ],
   "source": [
    "res.keys()"
   ]
  },
  {
   "cell_type": "code",
   "execution_count": 354,
   "id": "c1387f75",
   "metadata": {},
   "outputs": [
    {
     "data": {
      "text/plain": [
       "{'recovery': 0.4631578947368421,\n",
       " 'rmse_train': 3.389036289824608,\n",
       " 'rmse_test': 3.1634449589587543,\n",
       " 'r2_train': 0.9993248062119484,\n",
       " 'r2_test': 0.999393171011008,\n",
       " 'complexity': 10.726315789473684,\n",
       " 'time': 278.25504843044143}"
      ]
     },
     "execution_count": 354,
     "metadata": {},
     "output_type": "execute_result"
    }
   ],
   "source": [
    "res['DAGSearch']"
   ]
  },
  {
   "cell_type": "code",
   "execution_count": 355,
   "id": "55cf77fc",
   "metadata": {
    "scrolled": true
   },
   "outputs": [
    {
     "data": {
      "text/plain": [
       "{'recovery': 0.6631578947368421,\n",
       " 'rmse_train': 0.22866087729835882,\n",
       " 'rmse_test': 0.24541883464540767,\n",
       " 'r2_train': 0.9999999998846663,\n",
       " 'r2_test': 0.999999999882524,\n",
       " 'complexity': 12.157894736842104,\n",
       " 'time': 503.0303410742579}"
      ]
     },
     "execution_count": 355,
     "metadata": {},
     "output_type": "execute_result"
    }
   ],
   "source": [
    "res['DAGSearchPoly']"
   ]
  },
  {
   "cell_type": "markdown",
   "id": "ab432261",
   "metadata": {},
   "source": [
    "### Plots"
   ]
  },
  {
   "cell_type": "code",
   "execution_count": 279,
   "id": "bb92ffd7",
   "metadata": {},
   "outputs": [],
   "source": [
    "reg_names = {\n",
    "    'esr' : 'ESR',\n",
    "    'DAGSearch' : 'DAGSearch',\n",
    "    'DAGSearchPoly' : 'DAGSearchPoly',\n",
    "    'linreg' : 'LinReg',\n",
    "    'polyreg2' : 'PolyReg2',\n",
    "    'polyreg3' : 'PolyReg3',\n",
    "    'gplearn' : 'GPlearn',\n",
    "    'dsr' : 'DSR',\n",
    "    'operon' : 'Operon',\n",
    "    'MLP' : 'MLP'\n",
    "}\n",
    "\n",
    "crit_names = {\n",
    "    'recovery' : 'Recovery',\n",
    "    'rmse_train' : 'RMSE Train',\n",
    "    'rmse_test' : 'RMSE Test',\n",
    "    'r2_train' : '$R^2$ Train',\n",
    "    'r2_test' : '$R^2$ Test',\n",
    "    'complexity' : 'Complexity',\n",
    "    'time' : 'Processing Time'\n",
    "}"
   ]
  },
  {
   "cell_type": "code",
   "execution_count": 280,
   "id": "bc6062f6",
   "metadata": {},
   "outputs": [],
   "source": [
    "def get_pareto_idxs(obj1, obj2):\n",
    "    M = np.column_stack([obj1, obj2])\n",
    "    ret = []\n",
    "    for i, p in enumerate(M):\n",
    "        is_dominated = np.any(np.all(M < p, axis = 1))\n",
    "        if not is_dominated:\n",
    "            ret.append(i)\n",
    "    return np.array(ret)"
   ]
  },
  {
   "cell_type": "code",
   "execution_count": 281,
   "id": "64c81fa1",
   "metadata": {},
   "outputs": [
    {
     "data": {
      "image/png": "[encoded data removed]",
      "text/plain": [
       "<Figure size 432x288 with 1 Axes>"
      ]
     },
     "metadata": {
      "needs_background": "light"
     },
     "output_type": "display_data"
    }
   ],
   "source": [
    "cat_x = 'r2_test'\n",
    "cat_x = 'recovery'\n",
    "def_value_x = 0.0\n",
    "cat_y = 'complexity'\n",
    "def_value_y = np.inf\n",
    "\n",
    "# assume lower is better (negate R2, recovery)\n",
    "\n",
    "regs_present = list(res.keys())\n",
    "v1 = -np.array([res[regressor_name][cat_x] if cat_x in res[regressor_name] else def_value_x for regressor_name in regs_present])\n",
    "v2 = np.array([res[regressor_name][cat_y] if cat_y in res[regressor_name] else def_value_y for regressor_name in regs_present])\n",
    "\n",
    "ranks_x = np.argsort(np.argsort(v1))\n",
    "ranks_y = np.argsort(np.argsort(v2))\n",
    "\n",
    "\n",
    "pareto_idxs = get_pareto_idxs(ranks_x, ranks_y)\n",
    "pareto_idxs = pareto_idxs[np.argsort([ranks_x[i] for i in pareto_idxs])] # sort by x rank (for plotting)\n",
    "\n",
    "plt.scatter(ranks_x, ranks_y, zorder = 1)\n",
    "plt.plot([ranks_x[i] for i in pareto_idxs], [ranks_y[i] for i in pareto_idxs], color = 'gray', linestyle = '--', zorder = 0)\n",
    "\n",
    "\n",
    "# add labels\n",
    "offset_x = 0.9\n",
    "offset_y = 0.9\n",
    "for i in range(len(regs_present)):\n",
    "    s = reg_names[regs_present[i]]\n",
    "    x = ranks_x[i]\n",
    "    y = ranks_y[i] + .3\n",
    "    ha = 'center'\n",
    "    va = 'bottom'\n",
    "    plt.text(s = s, x = x, y = y, ha = ha, va = va, bbox=dict(facecolor='w', edgecolor='black', boxstyle='round', alpha=0.3))\n",
    "plt.xlim(0-offset_x, len(regs_present)-1+offset_x)\n",
    "plt.ylim(0-offset_y, len(regs_present)-1+offset_y)\n",
    "plt.xticks(range(len(regs_present)))\n",
    "plt.yticks(range(len(regs_present)))\n",
    "\n",
    "plt.xlabel(f'Rank {crit_names[cat_x]}')\n",
    "plt.ylabel(f'Rank {crit_names[cat_y]}')\n",
    "plt.title(f'{ds_name} Problems')\n",
    "\n",
    "\n",
    "if not os.path.exists('results/figures'):\n",
    "    os.mkdirs('results/figures')\n",
    "plt.savefig(f'results/figures/scatterplot_{ds_name}.pdf', bbox_inches = 'tight')"
   ]
  },
  {
   "cell_type": "code",
   "execution_count": 283,
   "id": "8bec4d97",
   "metadata": {},
   "outputs": [
    {
     "name": "stdout",
     "output_type": "stream",
     "text": [
      "\\begin{tabular}{llllllll}\n",
      "&Recovery&RMSE Train&RMSE Test&$R^2$ Train&$R^2$ Test&Complexity&Processing Time\\\\\n",
      "\\toprule\n",
      "DSR&0.6&0.0&0.01&1.0&1.0&15.9&12.48\\\\\n",
      "ESR&0.5&0.0&0.01&1.0&1.0&9.7&1293.63\\\\\n",
      "PolyReg3&0.2&0.04&0.06&1.0&0.99&15.0&0.0\\\\\n",
      "Operon&0.2&0.0&0.01&1.0&1.0&40.0&3.67\\\\\n",
      "GPlearn&0.2&0.1&0.11&1.0&1.0&19.6&9.03\\\\\n",
      "LinReg&0.1&0.35&0.3&0.7&0.51&5.0&0.0\\\\\n",
      "PolyReg2&0.1&0.14&0.13&0.98&0.96&10.0&0.0\\\\\n",
      "MLP&0.0&0.92&0.93&1.0&1.0&-&4.24\\\\\n",
      "\\end{tabular}\n"
     ]
    }
   ],
   "source": [
    "# print a table\n",
    "\n",
    "regs = list(res.keys())\n",
    "crits = list(res[regs[0]].keys())\n",
    "\n",
    "\n",
    "sort_idx = np.argsort([-res[reg]['recovery'] for reg in regs])\n",
    "regs = [regs[i] for i in sort_idx]\n",
    "\n",
    "# header\n",
    "s = '\\\\begin{tabular}{l' + 'l'*len(crits) + '}'\n",
    "print(s)\n",
    "s = ''\n",
    "for crit in crits:\n",
    "    s += f'&{crit_names[crit]}'\n",
    "s += '\\\\\\\\'\n",
    "print(s)\n",
    "print('\\\\toprule')\n",
    "\n",
    "# rows\n",
    "for reg in regs:\n",
    "    s = reg_names[reg]\n",
    "    for crit in crits:\n",
    "        if crit in res[reg]:\n",
    "            v = res[reg][crit]\n",
    "            v = np.round(v, 2)\n",
    "            s += f'&{v}'\n",
    "        else:\n",
    "            s += '&-'\n",
    "    s += '\\\\\\\\'\n",
    "    print(s)\n",
    "s = '\\\\end{tabular}'\n",
    "print(s)"
   ]
  },
  {
   "cell_type": "markdown",
   "id": "1fbe710b",
   "metadata": {},
   "source": [
    "## Experiment: Symbolic vs. Numeric Proximity\n",
    "\n",
    "Fitness Distance Correlation\n",
    "\n",
    "Takeaway: Symbolic Measures do not correlate with Numeric Measures"
   ]
  },
  {
   "cell_type": "code",
   "execution_count": 83,
   "id": "42008969",
   "metadata": {
    "scrolled": true
   },
   "outputs": [
    {
     "data": {
      "image/png": "[encoded data removed]",
      "text/plain": [
       "<Figure size 432x288 with 2 Axes>"
      ]
     },
     "metadata": {
      "needs_background": "light"
     },
     "output_type": "display_data"
    }
   ],
   "source": [
    "corr_matrix = np.load('results/corr_matrix.npy')\n",
    "with open(f'results/distance_dict.p', 'rb') as handle:\n",
    "    dist_dict = pickle.load(handle)\n",
    "methods = list(dist_dict.keys())\n",
    "\n",
    "\n",
    "plt.imshow(corr_matrix, vmin = -1, vmax = 1, cmap = 'bwr')\n",
    "plt.colorbar()\n",
    "plt.xticks(range(corr_matrix.shape[0]), methods, rotation = 90)\n",
    "plt.yticks(range(corr_matrix.shape[0]), methods)\n",
    "plt.title('Correlation')\n",
    "\n",
    "if not os.path.exists('results/figures'):\n",
    "    os.mkdirs('results/figures')\n",
    "plt.savefig('results/figures/corr_plot.pdf', bbox_inches = 'tight')"
   ]
  }
 ],
 "metadata": {
  "kernelspec": {
   "display_name": "Python 3 (ipykernel)",
   "language": "python",
   "name": "python3"
  },
  "language_info": {
   "codemirror_mode": {
    "name": "ipython",
    "version": 3
   },
   "file_extension": ".py",
   "mimetype": "text/x-python",
   "name": "python",
   "nbconvert_exporter": "python",
   "pygments_lexer": "ipython3",
   "version": "3.12.4"
  }
 },
 "nbformat": 4,
 "nbformat_minor": 5
}
