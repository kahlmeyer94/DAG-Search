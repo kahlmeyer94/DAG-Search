{
 "cells": [
  {
   "cell_type": "markdown",
   "id": "97b91456",
   "metadata": {},
   "source": [
    "# Visualization of Results\n",
    "\n",
    "Here we have the code to create all of the plots and tables used in the paper.\n",
    "\n",
    "For the plots of the SRBench Testsuite, please refer to https://github.com/cavalab/srbench with the dataframe stored in `results/ground-truth_results_new.feather`"
   ]
  },
  {
   "cell_type": "code",
   "execution_count": 1,
   "id": "0bbfef62",
   "metadata": {},
   "outputs": [],
   "source": [
    "import numpy as np\n",
    "import matplotlib.pyplot as plt\n",
    "from tqdm.notebook import tqdm\n",
    "import os\n",
    "import sympy\n",
    "import pickle\n",
    "from sklearn.metrics import r2_score\n",
    "\n",
    "\n",
    "from DAG_search import utils\n",
    "from DAG_search import dag_search\n",
    "from DAG_search import comp_graph\n",
    "\n",
    "from regressors import regressors"
   ]
  },
  {
   "cell_type": "markdown",
   "id": "0ec8d504",
   "metadata": {},
   "source": [
    "## Table: Influence of parameter $p$\n",
    "\n",
    "Example:\n",
    "\\begin{align}\n",
    "\\frac{1}{3}x^2\n",
    "\\end{align}"
   ]
  },
  {
   "cell_type": "code",
   "execution_count": 16,
   "id": "a97bd310",
   "metadata": {
    "scrolled": true
   },
   "outputs": [
    {
     "name": "stdout",
     "output_type": "stream",
     "text": [
      "n_params: 0, intermediary: 0\n",
      "n_params: 0, intermediary: 1\n",
      "n_params: 0, intermediary: 2\n",
      "n_params: 0, intermediary: 3\n",
      "n_params: 1, intermediary: 0\n",
      "n_params: 1, intermediary: 1\n",
      "n_params: 1, intermediary: 2\n",
      "n_params: 1, intermediary: 3\n",
      "n_params: 2, intermediary: 0\n",
      "n_params: 2, intermediary: 1\n",
      "n_params: 2, intermediary: 2\n",
      "n_params: 2, intermediary: 3\n"
     ]
    }
   ],
   "source": [
    "# define regression problem\n",
    "np.random.seed(0)\n",
    "true_model = sympy.sympify('(x_0^2)/3')\n",
    "X = np.random.rand(100, 1)\n",
    "y = (X[:, 0]**2)/3\n",
    "\n",
    "n_params = [0, 1, 2]\n",
    "n_intermediary = [0, 1, 2, 3]\n",
    "\n",
    "res_dict = {} # access via [p][i]\n",
    "\n",
    "\n",
    "scores = []\n",
    "models = []\n",
    "\n",
    "for k in n_params:\n",
    "    res_dict[k] = {}\n",
    "    for c in n_intermediary:\n",
    "        print(f'n_params: {k}, intermediary: {c}')\n",
    "        est = dag_search.DAGRegressor(n_calc_nodes = c, k = k, max_orders = int(1e4), random_state = 0)\n",
    "        est.fit(X, y, verbose = 0)\n",
    "        mse = np.mean((est.predict(X) - y)**2)\n",
    "        model = str(est.model())\n",
    "        rec = utils.symb_eq(est.model(), true_model)\n",
    "        \n",
    "        res_dict[k][c] = {\n",
    "            'MSE' : mse,\n",
    "            'model' : model,\n",
    "            'recovery' : rec\n",
    "        }\n",
    "        "
   ]
  },
  {
   "cell_type": "code",
   "execution_count": 17,
   "id": "583980ef",
   "metadata": {},
   "outputs": [
    {
     "name": "stdout",
     "output_type": "stream",
     "text": [
      "\\begin{tabular}{lcccc}\n",
      "$p$/$i$&0&1&2&3\\\\\n",
      "\\toprule\n",
      "0&0.0197&0.0073&0.0002&0.0\\\\\n",
      "1&0.0013&0.0&0.0&0.0\\\\\n",
      "2&0.0013&0.0&0.0&0.0\\\\\n",
      "\\end{tabular}\n"
     ]
    }
   ],
   "source": [
    "# print a table\n",
    "#crit = 'recovery'\n",
    "crit = 'MSE'\n",
    "\n",
    "# header\n",
    "s = '\\\\begin{tabular}{l' + 'c'*len(n_intermediary) + '}'\n",
    "print(s)\n",
    "s = '$p$/$i$'\n",
    "for i in n_intermediary:\n",
    "    s += f'&{i}'\n",
    "s += '\\\\\\\\'\n",
    "print(s)\n",
    "print('\\\\toprule')\n",
    "\n",
    "# rows\n",
    "for k in n_params:\n",
    "    s = str(k)\n",
    "    for c in n_intermediary:\n",
    "        if crit in res_dict[k][c]:\n",
    "            v = res_dict[k][c][crit]\n",
    "            if 'MSE' in crit:\n",
    "                v = np.round(v, 4)\n",
    "            s += f'&{v}'\n",
    "        else:\n",
    "            s += '&-'\n",
    "    s += '\\\\\\\\'\n",
    "    print(s)\n",
    "s = '\\\\end{tabular}'\n",
    "print(s)"
   ]
  },
  {
   "cell_type": "markdown",
   "id": "ea757bcf",
   "metadata": {},
   "source": [
    "## Figure: Size of Sample Space"
   ]
  },
  {
   "cell_type": "code",
   "execution_count": 107,
   "id": "98d62334",
   "metadata": {},
   "outputs": [],
   "source": [
    "def get_n_frames(inp_nodes, inter_nodes):\n",
    "    I = inp_nodes\n",
    "    n = inter_nodes\n",
    "    ret = I*(I + n + 1)\n",
    "    for i in range(n):\n",
    "        ret = ret * (I + (i+1))**2\n",
    "    return ret"
   ]
  },
  {
   "cell_type": "code",
   "execution_count": 108,
   "id": "768af795",
   "metadata": {
    "scrolled": false
   },
   "outputs": [
    {
     "name": "stdout",
     "output_type": "stream",
     "text": [
      "0 6\n",
      "1 72\n",
      "2 1440\n",
      "3 43200\n",
      "4 1814400\n",
      "5 101606400\n",
      "6 7315660800\n",
      "7 658409472000\n",
      "8 72425041920000\n",
      "9 9560105533440000\n"
     ]
    },
    {
     "data": {
      "image/png": "[encoded data removed]",
      "text/plain": [
       "<Figure size 432x288 with 1 Axes>"
      ]
     },
     "metadata": {
      "needs_background": "light"
     },
     "output_type": "display_data"
    }
   ],
   "source": [
    "# 1. fix input nodes, vary intermediate nodes\n",
    "inp_nodes = 2\n",
    "\n",
    "xs = []\n",
    "n_frames = []\n",
    "\n",
    "for i in range(0, 10):\n",
    "    frames = get_n_frames(inp_nodes, i)\n",
    "    print(i, frames)\n",
    "    xs.append(i)\n",
    "    n_frames.append(frames)\n",
    "    \n",
    "    \n",
    "plt.yscale('log')\n",
    "plt.ylabel('#DAG frames')\n",
    "plt.xlabel('Intermediary nodes')\n",
    "plt.xticks(xs)\n",
    "plt.plot(xs, n_frames)\n",
    "plt.savefig(f'results/figures/dagframes_intermediate.pdf', bbox_inches = 'tight')"
   ]
  },
  {
   "cell_type": "code",
   "execution_count": 109,
   "id": "16ea15b2",
   "metadata": {},
   "outputs": [
    {
     "name": "stdout",
     "output_type": "stream",
     "text": [
      "1 12\n",
      "2 72\n",
      "3 240\n",
      "4 600\n",
      "5 1260\n",
      "6 2352\n",
      "7 4032\n",
      "8 6480\n",
      "9 9900\n"
     ]
    },
    {
     "data": {
      "image/png": "[encoded data removed]",
      "text/plain": [
       "<Figure size 432x288 with 1 Axes>"
      ]
     },
     "metadata": {
      "needs_background": "light"
     },
     "output_type": "display_data"
    }
   ],
   "source": [
    "# 1. vary input nodes, fix intermediate nodes\n",
    "\n",
    "inter_nodes = 1\n",
    "\n",
    "xs = []\n",
    "n_frames = []\n",
    "\n",
    "for i in range(1, 10):\n",
    "    frames = get_n_frames(i, inter_nodes)\n",
    "    print(i, frames)\n",
    "    xs.append(i)\n",
    "    n_frames.append(frames)\n",
    "    \n",
    "    \n",
    "plt.yscale('log')\n",
    "plt.ylabel('#DAG frames')\n",
    "plt.xlabel('Input nodes')\n",
    "plt.xticks(xs)\n",
    "plt.plot(xs, n_frames)\n",
    "plt.savefig(f'results/figures/dagframes_input.pdf', bbox_inches = 'tight')"
   ]
  },
  {
   "cell_type": "markdown",
   "id": "47570fb5",
   "metadata": {},
   "source": [
    "## Nguyen-6"
   ]
  },
  {
   "cell_type": "code",
   "execution_count": 2,
   "id": "2d3f3d7b",
   "metadata": {},
   "outputs": [],
   "source": [
    "ds_name = 'Nguyen'\n",
    "problem_name = 'Nguyen-6'\n",
    "\n",
    "load_path = f'results/{ds_name}/{problem_name}_dagframes.p'\n",
    "with open(load_path, 'rb') as handle:\n",
    "    res_dict = pickle.load(handle)"
   ]
  },
  {
   "cell_type": "code",
   "execution_count": 3,
   "id": "9cc22c76",
   "metadata": {},
   "outputs": [
    {
     "data": {
      "text/plain": [
       "[100, 100, 100, 100, 100, 97]"
      ]
     },
     "execution_count": 3,
     "metadata": {},
     "output_type": "execute_result"
    }
   ],
   "source": [
    "[len(res_dict[x]) for x in res_dict]"
   ]
  },
  {
   "cell_type": "code",
   "execution_count": 4,
   "id": "5016df79",
   "metadata": {
    "scrolled": true
   },
   "outputs": [
    {
     "data": {
      "image/png": "[encoded data removed]",
      "text/plain": [
       "<Figure size 518.4x129.6 with 1 Axes>"
      ]
     },
     "metadata": {
      "needs_background": "light"
     },
     "output_type": "display_data"
    }
   ],
   "source": [
    "orders = sorted(list(res_dict.keys()))\n",
    "avgs = []\n",
    "lowers = []\n",
    "uppers = []\n",
    "for o in orders:\n",
    "    avg, lower, upper = dag_search.utils.mean_confidence_interval(res_dict[o])\n",
    "    avgs.append(avg)\n",
    "    lowers.append(lower)\n",
    "    uppers.append(upper)\n",
    "#plt.fill_between(range(len(avgs)), lowers, uppers, color = 'tab:blue', alpha = 0.5)\n",
    "fs = 1.2\n",
    "fig = plt.figure(figsize = (len(avgs)*fs, 1.5*fs))\n",
    "plt.bar(range(len(avgs)), avgs, edgecolor='black') # barplot\n",
    "plt.xlabel('#DAG frames ' + r'$(\\times 10^5)$')\n",
    "plt.ylabel('Recovery rate')\n",
    "\n",
    "round_orders = [o/int(10**5) for o in orders]\n",
    "plt.xticks(range(len(avgs)), round_orders)\n",
    "plt.ylim(0.0, 1.1)\n",
    "\n",
    "# plot dotted line\n",
    "tmp = [p.get_width() for p in plt.gca().patches]\n",
    "plt.plot([0-tmp[0]/2, len(avgs)-1 + tmp[-1]/2], [1, 1], color = 'gray', linestyle = '--')\n",
    "\n",
    "plt.savefig(f'results/figures/dagframes_{problem_name}.pdf', bbox_inches = 'tight')"
   ]
  },
  {
   "cell_type": "code",
   "execution_count": 5,
   "id": "742162be",
   "metadata": {},
   "outputs": [
    {
     "data": {
      "image/png": "[encoded data removed]",
      "text/plain": [
       "<Figure size 518.4x129.6 with 1 Axes>"
      ]
     },
     "metadata": {
      "needs_background": "light"
     },
     "output_type": "display_data"
    }
   ],
   "source": [
    "# transform to list of averages\n",
    "import math\n",
    "k = 10 # population size\n",
    "avg_dict = {}\n",
    "for n_orders in res_dict:\n",
    "    avgs = []\n",
    "    recs = res_dict[n_orders]\n",
    "    n_its = math.ceil(len(recs)/k)\n",
    "    for i in range(n_its):\n",
    "        sl = recs[i*k:(i+1)*k]\n",
    "        avgs.append(np.mean(sl))\n",
    "    avg_dict[n_orders] = avgs\n",
    "    \n",
    "# plot bars\n",
    "orders = sorted(list(avg_dict.keys()))\n",
    "avgs = []\n",
    "lowers = []\n",
    "uppers = []\n",
    "for o in orders:\n",
    "    avg, lower, upper = dag_search.utils.mean_confidence_interval(avg_dict[o])\n",
    "    avgs.append(avg)\n",
    "    lowers.append(max(0.0, lower))\n",
    "    uppers.append(min(1.0, upper))\n",
    "fs = 1.2\n",
    "fig = plt.figure(figsize = (len(avgs)*fs, 1.5*fs))\n",
    "plt.bar(range(len(avgs)), avgs, edgecolor='black') # barplot\n",
    "plt.xlabel('#DAG frames ' + r'$(\\times 10^5)$')\n",
    "plt.ylabel('Recovery rate')\n",
    "\n",
    "round_orders = [o/int(10**5) for o in orders]\n",
    "plt.xticks(range(len(avgs)), round_orders)\n",
    "plt.ylim(0.0, 1.1)\n",
    "\n",
    "# plot dotted line\n",
    "tmp = [p.get_width() for p in plt.gca().patches]\n",
    "plt.plot([0-tmp[0]/2, len(avgs)-1 + tmp[-1]/2], [1, 1], color = 'gray', linestyle = '--')\n",
    "\n",
    "# plot confidence intervals\n",
    "k = tmp[0]/8\n",
    "c = 'black'\n",
    "for i in range(len(avgs)):\n",
    "    plt.plot([i, i], [lowers[i], uppers[i]], color = c, linestyle = '-')\n",
    "    plt.plot([i-k, i+k], [lowers[i], lowers[i]], color = c, linestyle = '-')\n",
    "    plt.plot([i-k, i+k], [uppers[i], uppers[i]], color = c, linestyle = '-')\n",
    "    \n",
    "\n",
    "plt.savefig(f'results/figures/dagframes_{problem_name}_ci.pdf', bbox_inches = 'tight')"
   ]
  },
  {
   "cell_type": "markdown",
   "id": "1170d1e8",
   "metadata": {},
   "source": [
    "## Examples for partial recovery"
   ]
  },
  {
   "cell_type": "code",
   "execution_count": 6,
   "id": "df5b2069",
   "metadata": {},
   "outputs": [],
   "source": [
    "ds_name = 'Feynman'\n",
    "regressor_name = 'DAGSearchPoly'\n",
    "\n",
    "load_path = f'datasets/{ds_name}/tasks.p'\n",
    "with open(load_path, 'rb') as handle:\n",
    "    task_dict = pickle.load(handle)\n",
    "    \n",
    "load_path = f'results/{ds_name}/{regressor_name}_results.p'\n",
    "with open(load_path, 'rb') as handle:\n",
    "    results_dict = pickle.load(handle)"
   ]
  },
  {
   "cell_type": "markdown",
   "id": "49404521",
   "metadata": {},
   "source": [
    "Soft measure of recovery:\n",
    "\n",
    "- $S_i$... set of simplified subexpressions for expression $e_i$\n",
    "\n",
    "Jaccard-Index\n",
    "\\begin{align}\n",
    "J(S_0, S_1) = \\cfrac{|S_0\\cap S_1|}{|S_0\\cup S_1|}\n",
    "\\end{align}\n",
    "\n",
    "- $J\\in [0, 1]$ \n",
    "- $J = 1$ if $S_0 = S_1$"
   ]
  },
  {
   "cell_type": "code",
   "execution_count": 7,
   "id": "316d94e2",
   "metadata": {
    "scrolled": true
   },
   "outputs": [
    {
     "name": "stdout",
     "output_type": "stream",
     "text": [
      "I.10.7 False 0.2727272727272727\n",
      "I.11.19 True 1.0\n",
      "I.12.1 True 1.0\n",
      "I.12.11 True 1.0\n",
      "I.12.2 True 1.0\n",
      "I.12.4 True 1.0\n",
      "I.12.5 True 1.0\n",
      "I.13.12 True 1.0\n",
      "I.13.4 False 0.23529411764705882\n",
      "I.14.3 True 1.0\n",
      "I.14.4 True 1.0\n",
      "I.15.3t False 0.14814814814814814\n",
      "I.15.3x False 0.5238095238095238\n",
      "I.16.6 True 1.0\n",
      "I.18.12 True 1.0\n",
      "I.18.14 True 1.0\n",
      "I.18.4 True 1.0\n",
      "I.24.6 False 0.22727272727272727\n",
      "I.25.13 True 1.0\n",
      "I.27.6 True 1.0\n",
      "I.29.16 False 0.37037037037037035\n",
      "I.29.4 True 1.0\n",
      "I.30.3 False 0.12\n",
      "I.32.17 False 0.26666666666666666\n",
      "I.32.5 True 1.0\n",
      "I.34.1 True 1.0\n",
      "I.34.14 False 0.18518518518518517\n",
      "I.34.27 True 1.0\n",
      "I.34.8 True 1.0\n",
      "I.37.4 True 0.42857142857142855\n",
      "I.38.12 True 1.0\n",
      "I.39.1 True 1.0\n",
      "I.39.11 True 1.0\n",
      "I.39.22 True 1.0\n",
      "I.40.1 False 0.4117647058823529\n",
      "I.41.16 False 0.26666666666666666\n",
      "I.43.16 True 1.0\n",
      "I.43.31 True 1.0\n",
      "I.43.43 True 1.0\n",
      "I.44.4 False 0.3888888888888889\n",
      "I.47.23 True 0.3076923076923077\n",
      "I.50.26 False 0.46153846153846156\n",
      "I.6.2 False 0.19047619047619047\n",
      "I.6.2a True 1.0\n",
      "I.6.2b False 0.3181818181818182\n",
      "I.8.14 False 0.4166666666666667\n",
      "I.9.18 False 0.23333333333333334\n",
      "II.10.9 True 1.0\n",
      "II.11.20 True 1.0\n",
      "II.11.27 False 0.29411764705882354\n",
      "II.11.28 False 0.13636363636363635\n",
      "II.11.3 True 0.35\n",
      "II.13.17 True 1.0\n",
      "II.13.23 False 0.20833333333333334\n",
      "II.13.34 False 0.16666666666666666\n",
      "II.15.4 True 1.0\n",
      "II.15.5 True 1.0\n",
      "II.2.42 True 1.0\n",
      "II.21.32 True 1.0\n",
      "II.24.17 False 0.2222222222222222\n",
      "II.27.16 True 1.0\n",
      "II.27.18 True 1.0\n",
      "II.3.24 True 1.0\n",
      "II.34.11 True 1.0\n",
      "II.34.2 True 1.0\n",
      "II.34.29a True 1.0\n",
      "II.34.29b True 1.0\n",
      "II.34.2a True 1.0\n",
      "II.35.18 False 0.5\n",
      "II.35.21 False 0.3157894736842105\n",
      "II.36.38 False 0.3181818181818182\n",
      "II.37.1 True 1.0\n",
      "II.38.14 True 0.6\n",
      "II.38.3 True 1.0\n",
      "II.4.23 True 1.0\n",
      "II.6.11 False 0.4666666666666667\n",
      "II.6.15a False 0.2916666666666667\n",
      "II.6.15b True 0.7333333333333333\n",
      "II.8.31 True 1.0\n",
      "II.8.7 True 1.0\n",
      "III.10.19 False 0.26666666666666666\n",
      "III.12.43 True 1.0\n",
      "III.13.18 True 1.0\n",
      "III.14.14 False 0.2608695652173913\n",
      "III.15.12 True 1.0\n",
      "III.15.14 True 1.0\n",
      "III.15.27 True 1.0\n",
      "III.17.37 True 1.0\n",
      "III.19.51 True 1.0\n",
      "III.21.20 True 1.0\n",
      "III.4.32 False 0.25\n",
      "III.4.33 False 0.16\n",
      "III.7.38 True 1.0\n",
      "III.8.54 False 0.3\n",
      "III.9.52 False 0.35714285714285715\n"
     ]
    }
   ],
   "source": [
    "jaccard_idxs = []\n",
    "recs = []\n",
    "problems = []\n",
    "for problem_name in results_dict.keys():\n",
    "    expr_est = results_dict[problem_name]['exprs'][0]\n",
    "    expr_true = task_dict[problem_name]['expr'][0]\n",
    "    ji = utils.jaccard_idx(expr_est, expr_true)\n",
    "    rec = results_dict[problem_name]['recovery'][0]\n",
    "    print(problem_name, rec, ji)\n",
    "    jaccard_idxs.append(ji)\n",
    "    recs.append(int(rec))\n",
    "    problems.append(problem_name)\n",
    "jaccard_idxs = np.array(jaccard_idxs)\n",
    "recs = np.array(recs)"
   ]
  },
  {
   "cell_type": "code",
   "execution_count": 8,
   "id": "6ea581c0",
   "metadata": {
    "scrolled": true
   },
   "outputs": [
    {
     "name": "stdout",
     "output_type": "stream",
     "text": [
      "I.30.3 0.12\n",
      "II.11.28 0.13636363636363635\n",
      "I.15.3t 0.14814814814814814\n",
      "III.4.33 0.16\n",
      "II.13.34 0.16666666666666666\n",
      "I.34.14 0.18518518518518517\n",
      "I.6.2 0.19047619047619047\n",
      "II.13.23 0.20833333333333334\n",
      "II.24.17 0.2222222222222222\n",
      "I.24.6 0.22727272727272727\n",
      "I.9.18 0.23333333333333334\n",
      "I.13.4 0.23529411764705882\n",
      "III.4.32 0.25\n",
      "III.14.14 0.2608695652173913\n",
      "I.32.17 0.26666666666666666\n",
      "I.41.16 0.26666666666666666\n",
      "III.10.19 0.26666666666666666\n",
      "I.10.7 0.2727272727272727\n",
      "II.6.15a 0.2916666666666667\n",
      "II.11.27 0.29411764705882354\n",
      "III.8.54 0.3\n",
      "I.47.23 0.3076923076923077\n",
      "II.35.21 0.3157894736842105\n",
      "I.6.2b 0.3181818181818182\n",
      "II.36.38 0.3181818181818182\n",
      "II.11.3 0.35\n",
      "III.9.52 0.35714285714285715\n",
      "I.29.16 0.37037037037037035\n",
      "I.44.4 0.3888888888888889\n",
      "I.40.1 0.4117647058823529\n",
      "I.8.14 0.4166666666666667\n",
      "I.37.4 0.42857142857142855\n",
      "I.50.26 0.46153846153846156\n",
      "II.6.11 0.4666666666666667\n",
      "II.35.18 0.5\n",
      "I.15.3x 0.5238095238095238\n",
      "II.38.14 0.6\n",
      "II.6.15b 0.7333333333333333\n",
      "II.38.3 1.0\n",
      "II.37.1 1.0\n",
      "I.12.5 1.0\n",
      "II.4.23 1.0\n",
      "I.13.12 1.0\n",
      "II.34.2a 1.0\n",
      "II.34.29b 1.0\n",
      "I.12.4 1.0\n",
      "II.8.31 1.0\n",
      "I.34.27 1.0\n",
      "I.12.2 1.0\n",
      "II.34.29a 1.0\n",
      "III.12.43 1.0\n",
      "III.13.18 1.0\n",
      "I.12.11 1.0\n",
      "III.15.12 1.0\n",
      "III.15.14 1.0\n",
      "III.15.27 1.0\n",
      "III.17.37 1.0\n",
      "III.19.51 1.0\n",
      "III.21.20 1.0\n",
      "I.12.1 1.0\n",
      "I.11.19 1.0\n",
      "III.7.38 1.0\n",
      "II.8.7 1.0\n",
      "II.34.2 1.0\n",
      "II.27.16 1.0\n",
      "II.3.24 1.0\n",
      "I.34.8 1.0\n",
      "I.38.12 1.0\n",
      "I.39.1 1.0\n",
      "I.39.11 1.0\n",
      "I.39.22 1.0\n",
      "I.32.5 1.0\n",
      "I.43.16 1.0\n",
      "I.43.31 1.0\n",
      "I.43.43 1.0\n",
      "I.29.4 1.0\n",
      "I.6.2a 1.0\n",
      "I.27.6 1.0\n",
      "I.25.13 1.0\n",
      "I.18.4 1.0\n",
      "II.11.20 1.0\n",
      "I.18.14 1.0\n",
      "I.18.12 1.0\n",
      "I.16.6 1.0\n",
      "II.13.17 1.0\n",
      "I.14.4 1.0\n",
      "II.15.4 1.0\n",
      "II.15.5 1.0\n",
      "II.2.42 1.0\n",
      "II.21.32 1.0\n",
      "I.14.3 1.0\n",
      "I.34.1 1.0\n",
      "II.27.18 1.0\n",
      "II.34.11 1.0\n",
      "II.10.9 1.0\n"
     ]
    }
   ],
   "source": [
    "values = np.maximum(recs, jaccard_idxs)\n",
    "sort_idx = np.argsort(jaccard_idxs)\n",
    "for i in sort_idx:\n",
    "    print(problems[i], jaccard_idxs[i])"
   ]
  },
  {
   "cell_type": "code",
   "execution_count": 9,
   "id": "60e00fdf",
   "metadata": {},
   "outputs": [
    {
     "data": {
      "text/plain": [
       "(0.09577*x_1*cos(x_2)/(x_0**(3/2)*x_3**2), x_1*cos(x_2)/(4*pi*x_0*x_3**2))"
      ]
     },
     "execution_count": 9,
     "metadata": {},
     "output_type": "execute_result"
    }
   ],
   "source": [
    "problem_name = 'II.6.11'\n",
    "expr_est = results_dict[problem_name]['exprs'][0]\n",
    "expr_true = task_dict[problem_name]['expr'][0]\n",
    "expr_est, expr_true"
   ]
  },
  {
   "cell_type": "code",
   "execution_count": 10,
   "id": "c52f2ed7",
   "metadata": {
    "scrolled": true
   },
   "outputs": [
    {
     "data": {
      "text/plain": [
       "0.4666666666666667"
      ]
     },
     "execution_count": 10,
     "metadata": {},
     "output_type": "execute_result"
    }
   ],
   "source": [
    "utils.jaccard_idx(expr_est, expr_true)"
   ]
  },
  {
   "cell_type": "markdown",
   "id": "47caca3f",
   "metadata": {},
   "source": [
    "## Comparison to ESR\n",
    "\n",
    "Takeaway: Our Approach is better than ESR (in all Aspects)"
   ]
  },
  {
   "cell_type": "code",
   "execution_count": 113,
   "id": "87b014de",
   "metadata": {},
   "outputs": [],
   "source": [
    "import pickle\n",
    "regs = ['esr', 'DAGSearch', 'DAGSearchPoly']\n",
    "ds_name = 'Univ' # Strogatz, Feynman, Nguyen, Univ  \n",
    "\n",
    "load_path = f'datasets/{ds_name}/tasks.p'\n",
    "with open(load_path, 'rb') as handle:\n",
    "    task_dict = pickle.load(handle)\n",
    "    \n",
    "# collect results\n",
    "from sklearn.metrics import r2_score\n",
    "res = {}\n",
    "for regressor_name in regs:\n",
    "    load_path = f'results/{ds_name}/{regressor_name}_results.p'\n",
    "    if os.path.exists(load_path):\n",
    "        res[regressor_name] = {}\n",
    "        with open(load_path, 'rb') as handle:\n",
    "            results_dict = pickle.load(handle)\n",
    "\n",
    "        # avg. recovery\n",
    "        recoveries = []\n",
    "        for problem in results_dict.keys():\n",
    "            #for rec in results_dict[problem]['recovery']:\n",
    "            #    recoveries.append(rec)\n",
    "            for y, pred, rec in zip(results_dict[problem]['y_test'], results_dict[problem]['pred_test'], results_dict[problem]['recovery']):\n",
    "                r2 = r2_score(y, pred)\n",
    "                recoveries.append(rec or r2==1.0)\n",
    "        res[regressor_name]['recovery'] = np.mean(recoveries)\n",
    "\n",
    "\n",
    "        # avg. RMSE\n",
    "        rmses_train = []\n",
    "        rmses_test = []\n",
    "        for problem in results_dict.keys():\n",
    "            for y, pred in zip(results_dict[problem]['y_train'], results_dict[problem]['pred_train']):\n",
    "                rmse = np.sqrt(np.mean((y - pred)**2))\n",
    "                rmses_train.append(rmse)\n",
    "            for y, pred in zip(results_dict[problem]['y_test'], results_dict[problem]['pred_test']):\n",
    "                rmse = np.sqrt(np.mean((y - pred)**2))\n",
    "                rmses_test.append(rmse)\n",
    "        res[regressor_name]['rmse_train'] = np.mean(rmses_train)\n",
    "        res[regressor_name]['rmse_test'] = np.mean(rmses_test)\n",
    "\n",
    "        # median R2\n",
    "        r2s_train = []\n",
    "        r2s_test = []\n",
    "        for problem in results_dict.keys():\n",
    "            for y, pred in zip(results_dict[problem]['y_train'], results_dict[problem]['pred_train']):\n",
    "                r2 = r2_score(y, pred)\n",
    "                r2s_train.append(r2)\n",
    "            for y, pred in zip(results_dict[problem]['y_test'], results_dict[problem]['pred_test']):\n",
    "                r2 = r2_score(y, pred)\n",
    "                r2s_test.append(r2)\n",
    "        res[regressor_name]['r2_train'] = np.median(r2s_train)\n",
    "        res[regressor_name]['r2_test'] = np.median(r2s_test)\n",
    "            \n",
    "        # expression size\n",
    "        expr_sizes = []\n",
    "        for problem in results_dict.keys():\n",
    "            for expr in results_dict[problem]['exprs']:\n",
    "                expr_sizes.append(utils.tree_size(expr))\n",
    "        if len(expr_sizes) > 0:\n",
    "            res[regressor_name]['complexity'] = np.mean(expr_sizes)\n",
    "            \n",
    "        # processing times\n",
    "        time = 0.0\n",
    "        counter = 0\n",
    "        for problem in results_dict.keys():\n",
    "            for t in results_dict[problem]['times']:\n",
    "                time += t\n",
    "                counter += 1\n",
    "        time = time/counter\n",
    "        \n",
    "        res[regressor_name]['time'] = time"
   ]
  },
  {
   "cell_type": "code",
   "execution_count": 114,
   "id": "8cd3384f",
   "metadata": {},
   "outputs": [
    {
     "name": "stdout",
     "output_type": "stream",
     "text": [
      "\\begin{tabular}{lcccc}\n",
      "&Rec&$R^2$&Complexity&Time\\\\\n",
      "\\toprule\n",
      "USDF + Aug&1.0&1.0&9.3&26.12\\\\\n",
      "USDF&0.8&1.0&9.4&388.82\\\\\n",
      "ESR&0.5&1.0&9.7&1293.63\\\\\n",
      "\\end{tabular}\n"
     ]
    }
   ],
   "source": [
    "# Make Table\n",
    "reg_names = {\n",
    "    'esr' : 'ESR',\n",
    "    'DAGSearch' : 'USDF',\n",
    "    'DAGSearchPoly' : 'USDF + Aug'\n",
    "}\n",
    "\n",
    "crit_names = {\n",
    "    'recovery' : 'Rec',\n",
    "    #'rmse_train' : 'RMSE Train',\n",
    "    #'rmse_test' : 'RMSE Test',\n",
    "    #'r2_train' : '$R^2$ Train',\n",
    "    'r2_test' : '$R^2$',\n",
    "    'complexity' : 'Complexity',\n",
    "    'time' : 'Time'\n",
    "}\n",
    "\n",
    "# print a table\n",
    "regs = list(res.keys())\n",
    "crits = list(crit_names.keys())\n",
    "sort_idx = np.argsort([-res[reg]['recovery'] for reg in regs])\n",
    "regs = [regs[i] for i in sort_idx]\n",
    "\n",
    "# header\n",
    "s = '\\\\begin{tabular}{l' + 'c'*len(crits) + '}'\n",
    "print(s)\n",
    "s = ''\n",
    "for crit in crits:\n",
    "    s += f'&{crit_names[crit]}'\n",
    "s += '\\\\\\\\'\n",
    "print(s)\n",
    "print('\\\\toprule')\n",
    "\n",
    "# rows\n",
    "for reg in regs:\n",
    "    s = reg_names[reg]\n",
    "    for crit in crits:\n",
    "        if crit in res[reg]:\n",
    "            v = res[reg][crit]\n",
    "            if 'r2' in crit:\n",
    "                v = np.round(v, 2)\n",
    "            else:\n",
    "                v = np.round(v, 2)\n",
    "            s += f'&{v}'\n",
    "        else:\n",
    "            s += '&-'\n",
    "    s += '\\\\\\\\'\n",
    "    print(s)\n",
    "s = '\\\\end{tabular}'\n",
    "print(s)"
   ]
  },
  {
   "cell_type": "markdown",
   "id": "7a386d54",
   "metadata": {},
   "source": [
    "## Timing\n",
    "\n",
    "Takeaway: Our Approach is highly parallelizable"
   ]
  },
  {
   "cell_type": "code",
   "execution_count": 115,
   "id": "adef8b3c",
   "metadata": {
    "scrolled": true
   },
   "outputs": [],
   "source": [
    "ds_names = ['Univ', 'Nguyen', 'Feynman', 'Strogatz']\n",
    "\n",
    "results = {}\n",
    "\n",
    "for ds_name in ds_names:\n",
    "    load_path = f'datasets/{ds_name}/tasks.p'\n",
    "    with open(load_path, 'rb') as handle:\n",
    "        task_dict = pickle.load(handle)\n",
    "\n",
    "    load_path = f'results/{ds_name}/timings.p'\n",
    "    if os.path.exists(load_path):\n",
    "        with open(load_path, 'rb') as handle:\n",
    "            res_dict = pickle.load(handle)\n",
    "\n",
    "        problems = list(res_dict.keys())\n",
    "        n_processes = sorted(list(res_dict[problems[0]].keys()))\n",
    "        # res_dict[problem][n_processes] = all_times\n",
    "        # collect average times per number of processes\n",
    "\n",
    "        avg_times = []\n",
    "        for n_p in n_processes:\n",
    "            times = []\n",
    "            for problem in problems:\n",
    "                if n_p in res_dict[problem]:\n",
    "                    times.append(np.mean(res_dict[problem][n_p]))\n",
    "            avg_times.append(np.mean(times))\n",
    "\n",
    "        \n",
    "        results[ds_name] = {}\n",
    "        for n_p, t in zip(n_processes, avg_times):\n",
    "            results[ds_name][n_p] = t"
   ]
  },
  {
   "cell_type": "code",
   "execution_count": 116,
   "id": "ef727264",
   "metadata": {},
   "outputs": [
    {
     "data": {
      "image/png": "[encoded data removed]",
      "text/plain": [
       "<Figure size 432x216 with 1 Axes>"
      ]
     },
     "metadata": {
      "needs_background": "light"
     },
     "output_type": "display_data"
    }
   ],
   "source": [
    "ds_name = 'Feynman'\n",
    "fig = plt.figure(figsize = (6, 3))\n",
    "cores = sorted(list(results[ds_name].keys()))\n",
    "times = [results[ds_name][c] for c in cores]\n",
    "plt.bar(range(len(cores)), times)\n",
    "plt.xticks(range(len(cores)), cores)\n",
    "plt.xlabel('Number of processes')\n",
    "plt.ylabel('Time (in s.)')\n",
    "plt.savefig(f'results/figures/times_{ds_name}.pdf', bbox_inches = 'tight')"
   ]
  },
  {
   "cell_type": "code",
   "execution_count": 117,
   "id": "c3535932",
   "metadata": {},
   "outputs": [
    {
     "name": "stdout",
     "output_type": "stream",
     "text": [
      "\\begin{tabular}{lcccccc}\n",
      "Processes&1&2&4&8&16&32\\\\\n",
      "\\midrule\n",
      "Time (in s.)&28.61&19.68&12.63&8.92&7.46&7.58\\\\\n",
      "\\end{tabular}\n"
     ]
    }
   ],
   "source": [
    "# print table\n",
    "ds_name = 'Feynman'\n",
    "n_round = 2\n",
    "cores = sorted(list(results[ds_name].keys()))\n",
    "times = [results[ds_name][c] for c in cores]\n",
    "\n",
    "# header\n",
    "s = '\\\\begin{tabular}{l' + 'c'*len(cores) + '}'\n",
    "print(s)\n",
    "\n",
    "\n",
    "s = 'Processes'\n",
    "for c in cores:\n",
    "    v = c\n",
    "    s += f'&{v}'\n",
    "s += '\\\\\\\\'\n",
    "print(s)\n",
    "print('\\\\midrule')\n",
    "\n",
    "\n",
    "s = 'Time (in s.)'\n",
    "for t in times:\n",
    "    v = np.round(t, n_round)\n",
    "    s += f'&{v}'\n",
    "s += '\\\\\\\\'\n",
    "print(s)\n",
    "\n",
    "s = '\\\\end{tabular}'\n",
    "print(s)"
   ]
  },
  {
   "cell_type": "markdown",
   "id": "3c62876a",
   "metadata": {},
   "source": [
    "## Scalability\n",
    "\n",
    "Takeaway: Our Approach has potential to scale with\n",
    "\n",
    "- number of calculation nodes (= max size of expression)\n",
    "- number of orders (= coverage)"
   ]
  },
  {
   "cell_type": "code",
   "execution_count": 21,
   "id": "e1e60fe0",
   "metadata": {},
   "outputs": [],
   "source": [
    "ds_name = 'Feynman'\n",
    "\n",
    "load_path = f'datasets/{ds_name}/tasks.p'\n",
    "with open(load_path, 'rb') as handle:\n",
    "    task_dict = pickle.load(handle)\n",
    "    \n",
    "load_path = f'results/{ds_name}/scalings.p'\n",
    "with open(load_path, 'rb') as handle:\n",
    "    res_dict = pickle.load(handle)\n",
    "\n",
    "seeds = sorted(list(res_dict.keys()))\n",
    "nodes = sorted(list(res_dict[seeds[0]].keys()))\n",
    "orders = sorted(list(res_dict[seeds[0]][nodes[0]].keys()))\n",
    "problems = list(task_dict.keys())\n",
    "\n",
    "# average results for each seed \n",
    "# how to access: [rand_state][n_calc_nodes][max_orders][problem]\n",
    "\n",
    "recovery_results = {}\n",
    "time_results = {}\n",
    "for n_calc_nodes in nodes:\n",
    "    recovery_results[n_calc_nodes] = {}\n",
    "    time_results[n_calc_nodes] = {}\n",
    "    \n",
    "    for max_orders in orders:\n",
    "        all_recs = []\n",
    "        all_times = []\n",
    "        for seed in seeds:\n",
    "            recs = []\n",
    "            times = []\n",
    "            \n",
    "            if (n_calc_nodes in res_dict[seed]) and (max_orders in res_dict[seed][n_calc_nodes]):  \n",
    "                #for problem in res_dict[seed][n_calc_nodes][max_orders]:\n",
    "                for problem in res_dict[seed][n_calc_nodes][max_orders]:\n",
    "                    recs += res_dict[seed][n_calc_nodes][max_orders][problem]['recovery']\n",
    "                    times += res_dict[seed][n_calc_nodes][max_orders][problem]['times']\n",
    "                avg_rec = np.mean(recs)\n",
    "                avg_time = np.mean(times)\n",
    "\n",
    "                all_recs.append(avg_rec)\n",
    "                all_times.append(avg_time)\n",
    "        # here we have lists with avg results for each seed    \n",
    "        \n",
    "        if len(all_recs) > 0:\n",
    "        \n",
    "            recovery_results[n_calc_nodes][max_orders] = np.mean(all_recs)\n",
    "            time_results[n_calc_nodes][max_orders] = np.mean(all_times)"
   ]
  },
  {
   "cell_type": "code",
   "execution_count": 22,
   "id": "6df5129c",
   "metadata": {
    "scrolled": true
   },
   "outputs": [
    {
     "name": "stdout",
     "output_type": "stream",
     "text": [
      "\\begin{tabular}{cllll}\n",
      "N/F&10&20&40&80\\\\\n",
      "\\toprule\n",
      "1&5.4&5.5&5.8&5.9\\\\\n",
      "2&7.4&7.7&9.3&10.8\\\\\n",
      "3&8.9&12.4&17.4&27.6\\\\\n",
      "4&15.1&20.7&27.9&43.8\\\\\n",
      "\\end{tabular}\n"
     ]
    }
   ],
   "source": [
    "# print table\n",
    "#table_data, n_round = recovery_results, 2\n",
    "table_data, n_round = time_results, 1\n",
    "\n",
    "\n",
    "# header\n",
    "s = '\\\\begin{tabular}{c' + 'l'*len(orders) + '}'\n",
    "print(s)\n",
    "\n",
    "s = '$i$/$d$' # insert diag cell here\n",
    "for o in orders:\n",
    "    v = o//(10**3)\n",
    "    s += f'&{v}'\n",
    "s += '\\\\\\\\'\n",
    "print(s)\n",
    "print('\\\\toprule')\n",
    "\n",
    "# rows\n",
    "for n_calc_nodes in nodes:\n",
    "    s = str(n_calc_nodes)\n",
    "    for o in orders:\n",
    "        if n_calc_nodes in table_data:\n",
    "            if o in table_data[n_calc_nodes]:\n",
    "                v = np.round(table_data[n_calc_nodes][o], n_round)\n",
    "                if n_round == 0:\n",
    "                    v = int(v)\n",
    "                s += f'&{v}'\n",
    "                  \n",
    "            else:\n",
    "                s += '&-'\n",
    "        else:\n",
    "            s += '&-'\n",
    "    s += '\\\\\\\\'\n",
    "    print(s)\n",
    "s = '\\\\end{tabular}'\n",
    "print(s)"
   ]
  },
  {
   "cell_type": "markdown",
   "id": "525c3efb",
   "metadata": {},
   "source": [
    "## Figure: We solve all small Problems"
   ]
  },
  {
   "cell_type": "code",
   "execution_count": 99,
   "id": "d261f5a3",
   "metadata": {},
   "outputs": [],
   "source": [
    "ds_name = 'Nguyen'\n",
    "#regressor = 'DAGSearch'\n",
    "regressor = 'DAGSearchPoly'\n",
    "\n",
    "load_path = f'datasets/{ds_name}/tasks.p'\n",
    "with open(load_path, 'rb') as handle:\n",
    "    task_dict = pickle.load(handle)\n",
    "    \n",
    "load_path = f'results/{ds_name}/{regressor}_results.p'\n",
    "with open(load_path, 'rb') as handle:\n",
    "    res_dict = pickle.load(handle)\n"
   ]
  },
  {
   "cell_type": "code",
   "execution_count": 100,
   "id": "a213d5e5",
   "metadata": {},
   "outputs": [],
   "source": [
    "problems = res_dict.keys()\n",
    "\n",
    "problem_sizes = []\n",
    "recs = []\n",
    "problem_names = []\n",
    "for problem in problems:\n",
    "    r = res_dict[problem]['recovery']\n",
    "    for i in range(len(r)):\n",
    "        recs.append(r[i])\n",
    "        expr = task_dict[problem]['expr'][i]\n",
    "        problem_sizes.append(utils.tree_size(expr))\n",
    "        if len(r) > 1:\n",
    "            problem_names.append(f'{problem}_{i}')\n",
    "        else:\n",
    "            problem_names.append(f'{problem}')"
   ]
  },
  {
   "cell_type": "code",
   "execution_count": 101,
   "id": "b9a37654",
   "metadata": {},
   "outputs": [],
   "source": [
    "sort_idx = np.argsort(problem_sizes)\n",
    "problem_sizes = [problem_sizes[i] for i in sort_idx]\n",
    "problem_names = [problem_names[i] for i in sort_idx]\n",
    "recs = [recs[i] for i in sort_idx]\n",
    "\n",
    "rec_idxs = [i for i in range(len(recs)) if recs[i]]\n",
    "not_rec_idxs = [i for i in range(len(recs)) if not recs[i]]"
   ]
  },
  {
   "cell_type": "code",
   "execution_count": 102,
   "id": "36969dab",
   "metadata": {},
   "outputs": [
    {
     "data": {
      "image/png": "[encoded data removed]",
      "text/plain": [
       "<Figure size 360x144 with 1 Axes>"
      ]
     },
     "metadata": {
      "needs_background": "light"
     },
     "output_type": "display_data"
    }
   ],
   "source": [
    "#fig = plt.figure(figsize = (15, 2)) # for feynman\n",
    "fig = plt.figure(figsize = (5, 2))\n",
    "# 1. plot recovered problems\n",
    "plt.bar(rec_idxs, [problem_sizes[i] for i in rec_idxs], color = 'tab:blue', edgecolor = 'black')\n",
    "\n",
    "# 2. plot not recovered problems\n",
    "plt.bar(not_rec_idxs, [problem_sizes[i] for i in not_rec_idxs], color = 'tab:gray', edgecolor = 'black')\n",
    "\n",
    "# 3. add legend\n",
    "plt.scatter([], [], color = 'tab:blue', label = 'recovered')\n",
    "plt.scatter([], [], color = 'tab:gray', label = 'not recovered')\n",
    "#plt.legend()\n",
    "\n",
    "\n",
    "# 4. add writing\n",
    "plt.xticks(range(len(recs)), problem_names, rotation = 90)\n",
    "plt.gca().tick_params(axis='x', which='major', labelsize=9)\n",
    "plt.ylabel('Nodes')\n",
    "plt.xlabel('Expression')\n",
    "#plt.title(f'{regressor} - {ds_name}')\n",
    "plt.savefig(f'results/figures/problem_sizes_{ds_name}_{regressor}.pdf', bbox_inches = 'tight')\n",
    "plt.show()"
   ]
  },
  {
   "cell_type": "code",
   "execution_count": 103,
   "id": "d8b713b5",
   "metadata": {},
   "outputs": [],
   "source": [
    "# for paper: two plots next to each other \n",
    "\n",
    "ds_name = 'Nguyen'\n",
    "regressor1 = 'DAGSearch'\n",
    "regressor2 = 'DAGSearchPoly'\n",
    "\n",
    "load_path = f'datasets/{ds_name}/tasks.p'\n",
    "with open(load_path, 'rb') as handle:\n",
    "    task_dict = pickle.load(handle)\n",
    "    \n",
    "load_path1 = f'results/{ds_name}/{regressor1}_results.p'\n",
    "with open(load_path1, 'rb') as handle:\n",
    "    res_dict1 = pickle.load(handle)\n",
    "    \n",
    "load_path2 = f'results/{ds_name}/{regressor2}_results.p'\n",
    "with open(load_path2, 'rb') as handle:\n",
    "    res_dict2 = pickle.load(handle)"
   ]
  },
  {
   "cell_type": "code",
   "execution_count": 105,
   "id": "2829bf1e",
   "metadata": {},
   "outputs": [
    {
     "data": {
      "image/png": "[encoded data removed]",
      "text/plain": [
       "<Figure size 432x216 with 2 Axes>"
      ]
     },
     "metadata": {
      "needs_background": "light"
     },
     "output_type": "display_data"
    }
   ],
   "source": [
    "problems = res_dict1.keys()\n",
    "\n",
    "problem_sizes = []\n",
    "recs1 = []\n",
    "recs2 = []\n",
    "problem_names = []\n",
    "for problem in problems:\n",
    "    r1 = res_dict1[problem]['recovery']\n",
    "    r2 = res_dict2[problem]['recovery']\n",
    "    for i in range(len(r1)):\n",
    "        recs1.append(r1[i])\n",
    "        recs2.append(r2[i])\n",
    "        expr = task_dict[problem]['expr'][i]\n",
    "        problem_sizes.append(utils.tree_size(expr))\n",
    "        if len(r1) > 1:\n",
    "            problem_names.append(f'{problem}_{i}')\n",
    "        else:\n",
    "            problem_names.append(f'{problem}')\n",
    "            \n",
    "sort_idx = np.argsort(problem_sizes)\n",
    "problem_sizes = [problem_sizes[i] for i in sort_idx]\n",
    "problem_names = [problem_names[i] for i in sort_idx]\n",
    "recs1 = [recs1[i] for i in sort_idx]\n",
    "recs2 = [recs2[i] for i in sort_idx]\n",
    "\n",
    "rec_idxs1 = [i for i in range(len(recs1)) if recs1[i]]\n",
    "not_rec_idxs1 = [i for i in range(len(recs1)) if not recs1[i]]\n",
    "rec_idxs2 = [i for i in range(len(recs2)) if recs2[i]]\n",
    "not_rec_idxs2 = [i for i in range(len(recs2)) if not recs2[i]]\n",
    "\n",
    "\n",
    "fs = 3.0\n",
    "fig, axs = plt.subplots(ncols = 2, figsize = (2*fs, fs))\n",
    "\n",
    "\n",
    "for i, (rec_idxs, not_rec_idxs, title) in enumerate([(rec_idxs1, not_rec_idxs1, 'UDFS'), (rec_idxs2, not_rec_idxs2, 'UDFS + Aug')]):\n",
    "    # 1. plot recovered problems\n",
    "    axs[i].bar(rec_idxs, [problem_sizes[i] for i in rec_idxs], color = 'tab:blue', edgecolor = 'black')\n",
    "\n",
    "    # 2. plot not recovered problems\n",
    "    axs[i].bar(not_rec_idxs, [problem_sizes[i] for i in not_rec_idxs], color = 'tab:gray', edgecolor = 'black')\n",
    "\n",
    "    # 4. add writing\n",
    "    axs[i].set_xticks(range(len(recs1)), problem_names, rotation = 90)\n",
    "    #axs[i].tick_params(axis='x', which='major', labelsize=9)\n",
    "    if i == 0:\n",
    "        axs[i].set_ylabel('Expression Size')\n",
    "        \n",
    "    axs[i].set_title(title)\n",
    "    #axs[i].set_xlabel('Expression')\n",
    "\n",
    "# 3. add legend\n",
    "axs[0].scatter([], [], color = 'tab:blue', label = 'recovered')\n",
    "axs[0].scatter([], [], color = 'tab:gray', label = 'not recovered')\n",
    "axs[0].legend()\n",
    "\n",
    "plt.tight_layout()\n",
    "\n",
    "#plt.title(f'{regressor} - {ds_name}')\n",
    "plt.savefig(f'results/figures/problem_sizes_{ds_name}.pdf', bbox_inches = 'tight')\n",
    "plt.show()"
   ]
  },
  {
   "cell_type": "markdown",
   "id": "fbbf30fc",
   "metadata": {},
   "source": [
    "## Figure: Flowchart"
   ]
  },
  {
   "cell_type": "code",
   "execution_count": 63,
   "id": "06a06f44",
   "metadata": {
    "scrolled": true
   },
   "outputs": [
    {
     "data": {
      "image/png": "[encoded data removed]",
      "text/plain": [
       "<Figure size 432x288 with 2 Axes>"
      ]
     },
     "metadata": {
      "needs_background": "light"
     },
     "output_type": "display_data"
    }
   ],
   "source": [
    "def func(x0, x1):\n",
    "    return np.sqrt((x0*x1)**2 + 1) - x0\n",
    "\n",
    "X = np.random.rand(100, 2)*10-5\n",
    "y = func(X[:, 0], X[:, 1])\n",
    "\n",
    "# Set up a regular grid of interpolation points\n",
    "x0, x1 = np.linspace(X[:, 0].min(), X[:, 0].max(), 100), np.linspace(X[:, 1].min(), X[:, 1].max(), 100)\n",
    "x0, x1 = np.meshgrid(x0, x1)\n",
    "ys = func(x0, x1)\n",
    "\n",
    "\n",
    "plt.imshow(ys, vmin=ys.min(), vmax=ys.max(), origin='lower',extent=[X[:, 0].min(), X[:, 0].max(), X[:, 1].min(), X[:, 1].max()])\n",
    "#plt.scatter(x, y, c=z)\n",
    "\n",
    "plt.scatter(X[:, 0], X[:, 1], color = 'black', marker = 'x')\n",
    "plt.xlabel(r'$x_1$')\n",
    "plt.ylabel(r'$x_2$')\n",
    "plt.colorbar()\n",
    "plt.savefig(f'results/figures/workflow1.pdf', bbox_inches = 'tight')"
   ]
  },
  {
   "cell_type": "markdown",
   "id": "75765634",
   "metadata": {},
   "source": [
    "## Figure: Hierarchical Grid Search"
   ]
  },
  {
   "cell_type": "code",
   "execution_count": 149,
   "id": "83e61c20",
   "metadata": {
    "scrolled": true
   },
   "outputs": [
    {
     "data": {
      "text/plain": [
       "[(-c_0 + x_0)**2]"
      ]
     },
     "execution_count": 149,
     "metadata": {},
     "output_type": "execute_result"
    }
   ],
   "source": [
    "# true expression: (x + c)**2\n",
    "node_dict = {\n",
    "    0 : ([], 'inp'), # x\n",
    "    1 : ([], 'const'), # c\n",
    "    2 : ([3], 'sq'), # (x+c)**2\n",
    "    3 : ([0, 1], 'sub_l'), # x+c\n",
    "}\n",
    "graph = comp_graph.CompGraph(m = 1, n = 1, k = 1, node_dict = node_dict)\n",
    "graph.evaluate_symbolic()"
   ]
  },
  {
   "cell_type": "code",
   "execution_count": 243,
   "id": "bb44dfdd",
   "metadata": {},
   "outputs": [],
   "source": [
    "X = np.random.rand(100, 1)*5-2.5\n",
    "y = (X[:, 0] - np.sqrt(2))**2\n",
    "\n",
    "loss_fkt = dag_search.MSE_loss_fkt(y)"
   ]
  },
  {
   "cell_type": "code",
   "execution_count": 244,
   "id": "aeb72df3",
   "metadata": {
    "scrolled": true
   },
   "outputs": [
    {
     "name": "stdout",
     "output_type": "stream",
     "text": [
      "1.4285714285714286 0.003376192800870981\n",
      "1.4081632653061225 0.0005951642993750463\n",
      "1.41399416909621 7.84213261392799e-07\n"
     ]
    }
   ],
   "source": [
    "interval_upper, interval_lower = 2, 1\n",
    "n_steps = 8\n",
    "n_zooms = 3\n",
    "\n",
    "all_losses = []\n",
    "all_c = []\n",
    "all_loss = []\n",
    "all_values = []\n",
    "\n",
    "\n",
    "k = graph.n_consts\n",
    "interval_size = interval_upper - interval_lower\n",
    "c = (interval_upper + interval_lower)/2*np.ones(k)\n",
    "stepsize = interval_size/(n_steps - 1)\n",
    "for zoom in range(n_zooms):\n",
    "    c_init = c\n",
    "\n",
    "    c_init = c_init*np.ones(k)\n",
    "\n",
    "    l = interval_size/2\n",
    "    values = np.linspace(-l, l, n_steps)\n",
    "    tmp = np.meshgrid(*[values]*k)\n",
    "    consts = np.column_stack([x.flatten() for x in tmp])\n",
    "    consts = consts + np.stack([c_init]*len(consts))\n",
    "\n",
    "    losses = loss_fkt(X, graph, consts)\n",
    "    \n",
    "    \n",
    "\n",
    "    best_idx = np.argmin(losses)\n",
    "    c = consts[best_idx]\n",
    "    loss = losses[best_idx]\n",
    "    \n",
    "    print(c[0], loss)\n",
    "    \n",
    "    all_losses.append(losses)\n",
    "    all_c.append(c[0])\n",
    "    all_loss.append(loss)\n",
    "    all_values.append(consts[:, 0])\n",
    "    \n",
    "    interval_size = 2*stepsize\n",
    "    stepsize = interval_size/(n_steps - 1)\n",
    "\n"
   ]
  },
  {
   "cell_type": "code",
   "execution_count": 256,
   "id": "c811c575",
   "metadata": {},
   "outputs": [
    {
     "data": {
      "image/png": "[encoded data removed]",
      "text/plain": [
       "<Figure size 480x240 with 1 Axes>"
      ]
     },
     "metadata": {
      "needs_background": "light"
     },
     "output_type": "display_data"
    }
   ],
   "source": [
    "colors = ['tab:blue', 'tab:orange', 'tab:green']\n",
    "min_v = 0.0\n",
    "max_v = 6\n",
    "fig = plt.figure(figsize=(6, 3), dpi=80)\n",
    "\n",
    "for i, (values, losses) in enumerate(zip(all_values, all_losses)):\n",
    "    c = colors[i%len(all_values)]\n",
    "    plt.plot(values, losses, color = c, alpha = 0.5)\n",
    "    plt.scatter(values, losses, color = c, linewidth = 0.2, zorder = 2, edgecolor='black', label = f'step {i}')\n",
    "    min_c = values[np.argmin(losses)]\n",
    "    \n",
    "    \n",
    "    plt.plot([min_c, min_c], [max_v, min_v], color = c, linestyle = '--', alpha = 0.5)\n",
    "    \n",
    "#plt.plot([np.pi, np.pi], [max_v, min_v], color = 'black', linestyle = '--', alpha = 0.5)\n",
    "plt.ylim((min_v - 0.1, max_v))\n",
    "plt.legend()\n",
    "plt.xlabel(r'$c_0$')\n",
    "plt.ylabel('Loss')\n",
    "plt.savefig(f'results/figures/grid_search_example.pdf', bbox_inches = 'tight')"
   ]
  },
  {
   "cell_type": "markdown",
   "id": "9b6b93be",
   "metadata": {},
   "source": [
    "## Damped Pendulum\n",
    "\n",
    "$y(t)=e^{-t}\\cos(2\\pi t)$"
   ]
  },
  {
   "cell_type": "code",
   "execution_count": 118,
   "id": "a16519f0",
   "metadata": {},
   "outputs": [],
   "source": [
    "np.random.seed(0)\n",
    "x_values = np.linspace(0, 0.75, 1000).reshape(-1, 1)\n",
    "X = np.linspace(0, 0.75, 10).reshape(-1, 1)\n",
    "y = np.exp(-X[:, 0])*np.cos(2*np.pi*X[:, 0])"
   ]
  },
  {
   "cell_type": "code",
   "execution_count": 119,
   "id": "363b5e20",
   "metadata": {},
   "outputs": [],
   "source": [
    "from regressors import regressors\n",
    "regr = regressors.PolyReg(4)\n",
    "regr.fit(X, y)\n",
    "pred_poly = regr.predict(x_values)\n",
    "\n",
    "pred_symb = np.exp(-x_values[:, 0])*np.cos(6*x_values[:, 0])\n",
    "pred_decay = np.exp(-x_values[:, 0])\n",
    "pred_oscillation = np.cos(6*x_values[:, 0])"
   ]
  },
  {
   "cell_type": "code",
   "execution_count": 123,
   "id": "d4ea0b6f",
   "metadata": {},
   "outputs": [
    {
     "data": {
      "image/png": "[encoded data removed]",
      "text/plain": [
       "<Figure size 432x288 with 1 Axes>"
      ]
     },
     "metadata": {
      "needs_background": "light"
     },
     "output_type": "display_data"
    }
   ],
   "source": [
    "plt.plot(x_values, pred_poly, color ='tab:red', label = 'Polynomial')\n",
    "plt.plot(x_values, pred_symb, color ='tab:green', label = 'Symbolic')\n",
    "plt.plot(x_values, pred_decay, color ='tab:orange', label = 'Decay', linestyle = '--')\n",
    "plt.plot(x_values, pred_oscillation, color ='tab:cyan', label = 'Oscillation', linestyle = '--')\n",
    "plt.scatter(X, y, color = 'tab:blue', label = 'observed data', zorder = 2)\n",
    "plt.xlabel('x')\n",
    "plt.ylabel('f(x)')\n",
    "plt.legend()\n",
    "\n",
    "plt.savefig(f'results/figures/intro_example.pdf', bbox_inches = 'tight')"
   ]
  },
  {
   "cell_type": "code",
   "execution_count": 124,
   "id": "81d8f2c1",
   "metadata": {},
   "outputs": [
    {
     "data": {
      "text/latex": [
       "$\\displaystyle - 34.4572579935495 x_{0}^{4} + 60.3564758586689 x_{0}^{3} - 27.0078906836237 x_{0}^{2} - 0.489063145387913 x_{0} + 0.998021329322976$"
      ],
      "text/plain": [
       "-34.4572579935495*x_0**4 + 60.3564758586689*x_0**3 - 27.0078906836237*x_0**2 - 0.489063145387913*x_0 + 0.998021329322976"
      ]
     },
     "execution_count": 124,
     "metadata": {},
     "output_type": "execute_result"
    }
   ],
   "source": [
    "regr.model()"
   ]
  },
  {
   "cell_type": "markdown",
   "id": "5370efc8",
   "metadata": {},
   "source": [
    "# !!Not used!!"
   ]
  },
  {
   "cell_type": "markdown",
   "id": "541beac8",
   "metadata": {},
   "source": [
    "## Price Theorem does not hold here\n",
    "\n",
    "If occurence of a Trait in population correlates positively with fitness of population, it will occur more often.\n",
    "\n",
    "Here: Track fitness of population and occurences of traits of target expression\n",
    "\n",
    "Trait = Subexpression"
   ]
  },
  {
   "cell_type": "code",
   "execution_count": 141,
   "id": "668e6241",
   "metadata": {},
   "outputs": [],
   "source": [
    "ds_name = 'Feynman'\n",
    "\n",
    "load_path = f'results/{ds_name}/covariances.p'\n",
    "with open(load_path, 'rb') as handle:\n",
    "    results_dict = pickle.load(handle)"
   ]
  },
  {
   "cell_type": "code",
   "execution_count": 142,
   "id": "ba30f322",
   "metadata": {},
   "outputs": [],
   "source": [
    "problems = list(results_dict.keys())\n",
    "nmb_traits = np.array([len(results_dict[problem_name]['covariances']) for problem_name in results_dict])\n",
    "max_traits = max(nmb_traits)\n",
    "\n",
    "\n",
    "sort_idx = np.argsort(-nmb_traits)\n",
    "problems = [problems[i] for i in sort_idx]\n",
    "\n",
    "disp_matrix = -np.ones((max_traits, len(results_dict)))\n",
    "\n",
    "for i, problem in enumerate(problems):\n",
    "    covs = results_dict[problem]['covariances']\n",
    "    disp_matrix[:len(covs), i] = covs"
   ]
  },
  {
   "cell_type": "code",
   "execution_count": 143,
   "id": "f0da93b2",
   "metadata": {},
   "outputs": [
    {
     "data": {
      "text/plain": [
       "Text(0.5, 1.0, 'Feynman')"
      ]
     },
     "execution_count": 143,
     "metadata": {},
     "output_type": "execute_result"
    },
    {
     "data": {
      "image/png": "[encoded data removed]",
      "text/plain": [
       "<Figure size 1922.4x475.2 with 2 Axes>"
      ]
     },
     "metadata": {
      "needs_background": "light"
     },
     "output_type": "display_data"
    }
   ],
   "source": [
    "fs = 0.3\n",
    "plt.figure(figsize = (len(problems)*fs, max_traits*fs))\n",
    "plt.imshow(disp_matrix, cmap = 'bwr', vmin = -1, vmax = 1)\n",
    "plt.colorbar()\n",
    "\n",
    "# add gray hatched area\n",
    "tmp_img = (disp_matrix == -1).astype(float)\n",
    "tmp_img[tmp_img == 0] = np.nan\n",
    "mask = ~np.isnan(tmp_img)\n",
    "tmp_img[mask] = 0.5\n",
    "plt.imshow(tmp_img, cmap = 'gray', vmin = 0.0, vmax = 1.0)\n",
    "zm = np.ma.masked_where(~mask, tmp_img)\n",
    "plt.pcolor(np.arange(len(problems)), np.arange(max_traits), zm, hatch='//', alpha=0.0)\n",
    "\n",
    "plt.xticks(range(len(problems)), problems, rotation = 90)\n",
    "plt.yticks(range(max_traits), [])\n",
    "plt.ylabel('Subexpression')\n",
    "plt.title(ds_name)"
   ]
  },
  {
   "cell_type": "markdown",
   "id": "d356f5f5",
   "metadata": {},
   "source": [
    "## Local Minima\n",
    "\n",
    "For a problem:\n",
    "- sample population\n",
    "- connect expressions with edit distance 1\n",
    "- identify local minima in this population (= all neighbours are worse) "
   ]
  },
  {
   "cell_type": "code",
   "execution_count": 145,
   "id": "75354b52",
   "metadata": {
    "scrolled": true
   },
   "outputs": [
    {
     "data": {
      "image/png": "[encoded data removed]",
      "text/plain": [
       "<Figure size 432x288 with 1 Axes>"
      ]
     },
     "metadata": {
      "needs_background": "light"
     },
     "output_type": "display_data"
    }
   ],
   "source": [
    "# estimate density\n",
    "from sklearn.neighbors import KernelDensity\n",
    "ds_names = ['Feynman', 'Strogatz', 'Univ', 'Nguyen']\n",
    "ds_colors = ['tab:blue', 'tab:orange', 'tab:green', 'tab:brown']\n",
    "\n",
    "x_values = np.linspace(0, 0.5, 1000).reshape(-1, 1)\n",
    "\n",
    "for ds_name, ds_color in zip(ds_names, ds_colors):\n",
    "\n",
    "    load_path = f'results/{ds_name}/local_minima.p'\n",
    "    if os.path.exists(load_path):\n",
    "        with open(load_path, 'rb') as handle:\n",
    "            results_dict = pickle.load(handle)\n",
    "            \n",
    "        ratios = np.array([results_dict[p] for p in results_dict])\n",
    "        kde = KernelDensity(kernel='gaussian', bandwidth = 0.1).fit(ratios.reshape(-1, 1))\n",
    "        log_densities = kde.score_samples(x_values)\n",
    "\n",
    "        plt.plot(x_values, np.exp(log_densities), color = ds_color, label = ds_name)\n",
    "\n",
    "\n",
    "plt.xlabel('Local minimum ratio')\n",
    "plt.ylabel('Density')\n",
    "plt.legend()\n",
    "\n",
    "if not os.path.exists('results/figures'):\n",
    "    os.mkdirs('results/figures')\n",
    "plt.savefig(f'results/figures/local_minima.pdf', bbox_inches = 'tight')"
   ]
  },
  {
   "cell_type": "markdown",
   "id": "9e5bfffd",
   "metadata": {},
   "source": [
    "## Fitness Distance Correlation"
   ]
  },
  {
   "cell_type": "code",
   "execution_count": 368,
   "id": "2bd0b2e6",
   "metadata": {},
   "outputs": [
    {
     "data": {
      "text/plain": [
       "<matplotlib.legend.Legend at 0x1e163e04850>"
      ]
     },
     "execution_count": 368,
     "metadata": {},
     "output_type": "execute_result"
    },
    {
     "data": {
      "image/png": "[encoded data removed]",
      "text/plain": [
       "<Figure size 432x288 with 1 Axes>"
      ]
     },
     "metadata": {
      "needs_background": "light"
     },
     "output_type": "display_data"
    }
   ],
   "source": [
    "# estimate density\n",
    "from sklearn.neighbors import KernelDensity\n",
    "ds_names = ['Feynman', 'Strogatz', 'Univ', 'Nguyen']\n",
    "ds_colors = ['tab:blue', 'tab:orange', 'tab:green', 'tab:brown']\n",
    "\n",
    "x_values = np.linspace(-1, 1, 1000).reshape(-1, 1)\n",
    "\n",
    "for ds_name, ds_color in zip(ds_names, ds_colors):\n",
    "\n",
    "    load_path = f'results/{ds_name}/fdc.p'\n",
    "    with open(load_path, 'rb') as handle:\n",
    "        results_dict = pickle.load(handle)\n",
    "    fdcs = np.array([results_dict[p] for p in results_dict])\n",
    "    kde = KernelDensity(kernel='gaussian', bandwidth = 0.1).fit(fdcs.reshape(-1, 1))\n",
    "    log_densities = kde.score_samples(x_values)\n",
    "    \n",
    "    plt.plot(x_values, np.exp(log_densities), color = ds_color, label = ds_name)\n",
    "\n",
    "\n",
    "plt.xlabel('Fitness-Distance correlation')\n",
    "plt.ylabel('Density')\n",
    "plt.legend()"
   ]
  },
  {
   "cell_type": "markdown",
   "id": "eead39a4",
   "metadata": {},
   "source": [
    "## Experiment: local minima\n",
    "\n",
    "Takeaway: Local Search does not work, because we have lots of local minima."
   ]
  },
  {
   "cell_type": "code",
   "execution_count": 71,
   "id": "c7c2b5fc",
   "metadata": {},
   "outputs": [],
   "source": [
    "load_path = 'results/local_minima_exp.p'\n",
    "with open(load_path, 'rb') as handle:\n",
    "    results = pickle.load(handle)"
   ]
  },
  {
   "cell_type": "code",
   "execution_count": 72,
   "id": "4986e0a3",
   "metadata": {},
   "outputs": [
    {
     "data": {
      "image/png": "[encoded data removed]",
      "text/plain": [
       "<Figure size 432x288 with 1 Axes>"
      ]
     },
     "metadata": {
      "needs_background": "light"
     },
     "output_type": "display_data"
    }
   ],
   "source": [
    "names = list(results.keys())\n",
    "values = [results[n]['groups'] for n in names]\n",
    "plt.bar(range(len(names)), values)\n",
    "plt.xticks(range(len(names)), names, rotation = 90)\n",
    "plt.ylabel(f'#Components among top {results[names[0]][\"topk\"]}')\n",
    "\n",
    "if not os.path.exists('results/figures'):\n",
    "    os.mkdirs('results/figures')\n",
    "plt.savefig(f'results/figures/local_minima.pdf', bbox_inches = 'tight')"
   ]
  },
  {
   "cell_type": "markdown",
   "id": "95da1ca6",
   "metadata": {},
   "source": [
    "## Experiment: Black Box vs. Symbolic\n",
    "\n",
    "Takeaway: If you care about model fit, use Black Box. "
   ]
  },
  {
   "cell_type": "code",
   "execution_count": 221,
   "id": "c298956a",
   "metadata": {},
   "outputs": [],
   "source": [
    "import pickle\n",
    "regs = ['linreg', 'polyreg2', 'polyreg3', 'operon', 'gplearn', 'DAGSearch', 'MLP', 'dsr', 'esr', 'DAGSearch', 'DAGSearchPoly']\n",
    "ds_name = 'Feynman' # Strogatz, Feynman, Nguyen, Univ  \n",
    "\n",
    "load_path = f'datasets/{ds_name}/tasks.p'\n",
    "with open(load_path, 'rb') as handle:\n",
    "    task_dict = pickle.load(handle)"
   ]
  },
  {
   "cell_type": "code",
   "execution_count": 222,
   "id": "4629171b",
   "metadata": {},
   "outputs": [
    {
     "data": {
      "text/plain": [
       "95"
      ]
     },
     "execution_count": 222,
     "metadata": {},
     "output_type": "execute_result"
    }
   ],
   "source": [
    "len(task_dict.keys())"
   ]
  },
  {
   "cell_type": "markdown",
   "id": "b6d7ef69",
   "metadata": {},
   "source": [
    "Read Results"
   ]
  },
  {
   "cell_type": "code",
   "execution_count": 348,
   "id": "0ea9d9fe",
   "metadata": {},
   "outputs": [],
   "source": [
    "regressor_name = 'DAGSearchPoly'\n",
    "load_path = f'results/{ds_name}/{regressor_name}_results.p'\n",
    "if os.path.exists(load_path):\n",
    "    with open(load_path, 'rb') as handle:\n",
    "        results_dict1 = pickle.load(handle)\n",
    "\n",
    "regressor_name = 'DAGSearch'\n",
    "load_path = f'results/{ds_name}/{regressor_name}_results.p'\n",
    "if os.path.exists(load_path):\n",
    "    with open(load_path, 'rb') as handle:\n",
    "        results_dict2 = pickle.load(handle)"
   ]
  },
  {
   "cell_type": "code",
   "execution_count": 349,
   "id": "ff14cad8",
   "metadata": {
    "scrolled": true
   },
   "outputs": [
    {
     "name": "stdout",
     "output_type": "stream",
     "text": [
      "I.11.19 True False\n",
      "I.12.11 True False\n",
      "I.12.2 True False\n",
      "I.13.12 True False\n",
      "I.16.6 True False\n",
      "I.18.4 True False\n",
      "I.32.5 True False\n",
      "I.37.4 True False\n",
      "I.38.12 True False\n",
      "II.11.20 True False\n",
      "II.11.3 True False\n",
      "II.13.17 True False\n",
      "II.21.32 True False\n",
      "II.34.29b True False\n",
      "II.6.15b True False\n",
      "III.13.18 True False\n",
      "III.15.12 True False\n",
      "III.19.51 True False\n"
     ]
    }
   ],
   "source": [
    "for problem_name in results_dict1:\n",
    "    if problem_name in results_dict2:\n",
    "        rec1 = results_dict1[problem_name]['recovery'][0]\n",
    "        rec2 = results_dict2[problem_name]['recovery'][0]\n",
    "        if rec1 != rec2:\n",
    "            print(problem_name, rec1, rec2)"
   ]
  },
  {
   "cell_type": "code",
   "execution_count": 350,
   "id": "97c1ba1d",
   "metadata": {
    "scrolled": true
   },
   "outputs": [
    {
     "name": "stdout",
     "output_type": "stream",
     "text": [
      "100% finished\n",
      "I.10.7 [False] 3\n",
      "I.11.19 [True] 6\n",
      "I.12.1 [True] 2\n",
      "I.12.11 [True] 5\n",
      "I.12.2 [True] 4\n",
      "I.12.4 [True] 3\n",
      "I.12.5 [True] 2\n",
      "I.13.12 [True] 5\n",
      "I.13.4 [False] 4\n",
      "I.14.3 [True] 3\n",
      "I.14.4 [True] 2\n",
      "I.15.3t [False] 4\n",
      "I.15.3x [False] 4\n",
      "I.16.6 [True] 3\n",
      "I.18.12 [True] 3\n",
      "I.18.14 [True] 4\n",
      "I.18.4 [True] 4\n",
      "I.24.6 [False] 4\n",
      "I.25.13 [True] 2\n",
      "I.27.6 [True] 3\n",
      "I.29.16 [False] 4\n",
      "I.29.4 [True] 2\n",
      "I.30.3 [False] 3\n",
      "I.32.17 [False] 6\n",
      "I.32.5 [True] 4\n",
      "I.34.1 [True] 3\n",
      "I.34.14 [False] 3\n",
      "I.34.27 [True] 2\n",
      "I.34.8 [True] 4\n",
      "I.37.4 [True] 3\n",
      "I.38.12 [True] 4\n",
      "I.39.1 [True] 2\n",
      "I.39.11 [True] 3\n",
      "I.39.22 [True] 4\n",
      "I.40.1 [False] 6\n",
      "I.41.16 [False] 5\n",
      "I.43.16 [True] 4\n",
      "I.43.31 [True] 3\n",
      "I.43.43 [True] 4\n",
      "I.44.4 [False] 5\n",
      "I.47.23 [True] 3\n",
      "I.50.26 [False] 4\n",
      "I.6.2 [False] 2\n",
      "I.6.2a [True] 1\n",
      "I.6.2b [False] 3\n",
      "I.8.14 [False] 4\n",
      "I.9.18 [False] 9\n",
      "II.10.9 [True] 3\n",
      "II.11.20 [True] 5\n",
      "II.11.27 [False] 4\n",
      "II.11.28 [False] 2\n",
      "II.11.3 [True] 5\n",
      "II.13.17 [True] 4\n",
      "II.13.23 [False] 3\n",
      "II.13.34 [False] 3\n",
      "II.15.4 [True] 3\n",
      "II.15.5 [True] 3\n",
      "II.2.42 [True] 5\n",
      "II.21.32 [True] 5\n",
      "II.24.17 [False] 3\n",
      "II.27.16 [True] 3\n",
      "II.27.18 [True] 2\n",
      "II.3.24 [True] 2\n",
      "II.34.11 [True] 4\n",
      "II.34.2 [True] 3\n",
      "II.34.29a [True] 3\n",
      "II.34.29b [True] 5\n",
      "II.34.2a [True] 3\n",
      "II.35.18 [False] 5\n",
      "II.35.21 [False] 5\n",
      "II.36.38 [False] 8\n",
      "II.37.1 [True] 3\n",
      "II.38.14 [True] 2\n",
      "II.38.3 [True] 4\n",
      "II.4.23 [True] 3\n",
      "II.6.11 [False] 4\n",
      "II.6.15a [False] 6\n",
      "II.6.15b [True] 4\n",
      "II.8.31 [True] 2\n",
      "II.8.7 [True] 3\n",
      "III.10.19 [False] 4\n",
      "III.12.43 [True] 2\n",
      "III.13.18 [True] 4\n",
      "III.14.14 [False] 5\n",
      "III.15.12 [True] 3\n",
      "III.15.14 [True] 3\n",
      "III.15.27 [True] 3\n",
      "III.17.37 [True] 3\n",
      "III.19.51 [True] 5\n",
      "III.21.20 [True] 4\n",
      "III.4.32 [False] 4\n",
      "III.4.33 [False] 4\n",
      "III.7.38 [True] 3\n",
      "III.8.54 [False] 3\n",
      "III.9.52 [False] 6\n"
     ]
    }
   ],
   "source": [
    "p = len(results_dict1)/len(task_dict)\n",
    "print(f'{round(100*p)}% finished')\n",
    "for problem in results_dict1:\n",
    "    print(problem, results_dict1[problem]['recovery'], task_dict[problem]['X'].shape[1])"
   ]
  },
  {
   "cell_type": "code",
   "execution_count": 351,
   "id": "b05fd642",
   "metadata": {},
   "outputs": [
    {
     "name": "stdout",
     "output_type": "stream",
     "text": [
      "I.10.7\n"
     ]
    }
   ],
   "source": [
    "from sklearn.metrics import r2_score\n",
    "# falsely not recovered expressions\n",
    "for problem in results_dict1.keys():\n",
    "    for y, pred, rec in zip(results_dict1[problem]['y_train'], results_dict1[problem]['pred_train'], results_dict1[problem]['recovery']):\n",
    "        try:\n",
    "            r2 = r2_score(y, pred)\n",
    "            \n",
    "            if r2 == 1.0 and not rec:\n",
    "                print(problem)\n",
    "        except:\n",
    "            print(f'Exception at {problem}')\n",
    "            pass\n",
    "    "
   ]
  },
  {
   "cell_type": "code",
   "execution_count": 352,
   "id": "9eed8ae1",
   "metadata": {
    "scrolled": true
   },
   "outputs": [],
   "source": [
    "from sklearn.metrics import r2_score\n",
    "# read results\n",
    "res = {}\n",
    "for regressor_name in regs:\n",
    "    load_path = f'results/{ds_name}/{regressor_name}_results.p'\n",
    "    if os.path.exists(load_path):\n",
    "        res[regressor_name] = {}\n",
    "        with open(load_path, 'rb') as handle:\n",
    "            results_dict = pickle.load(handle)\n",
    "\n",
    "        # avg. recovery\n",
    "        recoveries = []\n",
    "        for problem in results_dict.keys():\n",
    "            #for rec in results_dict[problem]['recovery']:\n",
    "            #    recoveries.append(rec)\n",
    "            for y, pred, rec in zip(results_dict[problem]['y_test'], results_dict[problem]['pred_test'], results_dict[problem]['recovery']):\n",
    "                r2 = r2_score(y, pred)\n",
    "                recoveries.append(rec or r2==1.0)\n",
    "        res[regressor_name]['recovery'] = np.mean(recoveries)\n",
    "\n",
    "\n",
    "        # avg. RMSE\n",
    "        rmses_train = []\n",
    "        rmses_test = []\n",
    "        for problem in results_dict.keys():\n",
    "            for y, pred in zip(results_dict[problem]['y_train'], results_dict[problem]['pred_train']):\n",
    "                rmse = np.sqrt(np.mean((y - pred)**2))\n",
    "                rmses_train.append(rmse)\n",
    "            for y, pred in zip(results_dict[problem]['y_test'], results_dict[problem]['pred_test']):\n",
    "                rmse = np.sqrt(np.mean((y - pred)**2))\n",
    "                rmses_test.append(rmse)\n",
    "        res[regressor_name]['rmse_train'] = np.mean(rmses_train)\n",
    "        res[regressor_name]['rmse_test'] = np.mean(rmses_test)\n",
    "\n",
    "        # median R2\n",
    "        r2s_train = []\n",
    "        r2s_test = []\n",
    "        for problem in results_dict.keys():\n",
    "            for y, pred in zip(results_dict[problem]['y_train'], results_dict[problem]['pred_train']):\n",
    "                r2 = r2_score(y, pred)\n",
    "                r2s_train.append(r2)\n",
    "            for y, pred in zip(results_dict[problem]['y_test'], results_dict[problem]['pred_test']):\n",
    "                r2 = r2_score(y, pred)\n",
    "                r2s_test.append(r2)\n",
    "        res[regressor_name]['r2_train'] = np.median(r2s_train)\n",
    "        res[regressor_name]['r2_test'] = np.median(r2s_test)\n",
    "            \n",
    "        # expression size\n",
    "        expr_sizes = []\n",
    "        for problem in results_dict.keys():\n",
    "            for expr in results_dict[problem]['exprs']:\n",
    "                expr_sizes.append(utils.tree_size(expr))\n",
    "        if len(expr_sizes) > 0:\n",
    "            res[regressor_name]['complexity'] = np.mean(expr_sizes)\n",
    "            \n",
    "        # processing times\n",
    "        time = 0.0\n",
    "        counter = 0\n",
    "        for problem in results_dict.keys():\n",
    "            for t in results_dict[problem]['times']:\n",
    "                time += t\n",
    "                counter += 1\n",
    "        time = time/counter\n",
    "        \n",
    "        res[regressor_name]['time'] = time"
   ]
  },
  {
   "cell_type": "code",
   "execution_count": 353,
   "id": "bf523771",
   "metadata": {
    "scrolled": true
   },
   "outputs": [
    {
     "data": {
      "text/plain": [
       "dict_keys(['linreg', 'polyreg2', 'polyreg3', 'operon', 'gplearn', 'DAGSearch', 'MLP', 'dsr', 'DAGSearchPoly'])"
      ]
     },
     "execution_count": 353,
     "metadata": {},
     "output_type": "execute_result"
    }
   ],
   "source": [
    "res.keys()"
   ]
  },
  {
   "cell_type": "code",
   "execution_count": 354,
   "id": "c1387f75",
   "metadata": {},
   "outputs": [
    {
     "data": {
      "text/plain": [
       "{'recovery': 0.4631578947368421,\n",
       " 'rmse_train': 3.389036289824608,\n",
       " 'rmse_test': 3.1634449589587543,\n",
       " 'r2_train': 0.9993248062119484,\n",
       " 'r2_test': 0.999393171011008,\n",
       " 'complexity': 10.726315789473684,\n",
       " 'time': 278.25504843044143}"
      ]
     },
     "execution_count": 354,
     "metadata": {},
     "output_type": "execute_result"
    }
   ],
   "source": [
    "res['DAGSearch']"
   ]
  },
  {
   "cell_type": "code",
   "execution_count": 355,
   "id": "55cf77fc",
   "metadata": {
    "scrolled": true
   },
   "outputs": [
    {
     "data": {
      "text/plain": [
       "{'recovery': 0.6631578947368421,\n",
       " 'rmse_train': 0.22866087729835882,\n",
       " 'rmse_test': 0.24541883464540767,\n",
       " 'r2_train': 0.9999999998846663,\n",
       " 'r2_test': 0.999999999882524,\n",
       " 'complexity': 12.157894736842104,\n",
       " 'time': 503.0303410742579}"
      ]
     },
     "execution_count": 355,
     "metadata": {},
     "output_type": "execute_result"
    }
   ],
   "source": [
    "res['DAGSearchPoly']"
   ]
  },
  {
   "cell_type": "markdown",
   "id": "ab432261",
   "metadata": {},
   "source": [
    "### Plots"
   ]
  },
  {
   "cell_type": "code",
   "execution_count": 279,
   "id": "bb92ffd7",
   "metadata": {},
   "outputs": [],
   "source": [
    "reg_names = {\n",
    "    'esr' : 'ESR',\n",
    "    'DAGSearch' : 'DAGSearch',\n",
    "    'DAGSearchPoly' : 'DAGSearchPoly',\n",
    "    'linreg' : 'LinReg',\n",
    "    'polyreg2' : 'PolyReg2',\n",
    "    'polyreg3' : 'PolyReg3',\n",
    "    'gplearn' : 'GPlearn',\n",
    "    'dsr' : 'DSR',\n",
    "    'operon' : 'Operon',\n",
    "    'MLP' : 'MLP'\n",
    "}\n",
    "\n",
    "crit_names = {\n",
    "    'recovery' : 'Recovery',\n",
    "    'rmse_train' : 'RMSE Train',\n",
    "    'rmse_test' : 'RMSE Test',\n",
    "    'r2_train' : '$R^2$ Train',\n",
    "    'r2_test' : '$R^2$ Test',\n",
    "    'complexity' : 'Complexity',\n",
    "    'time' : 'Processing Time'\n",
    "}"
   ]
  },
  {
   "cell_type": "code",
   "execution_count": 280,
   "id": "bc6062f6",
   "metadata": {},
   "outputs": [],
   "source": [
    "def get_pareto_idxs(obj1, obj2):\n",
    "    M = np.column_stack([obj1, obj2])\n",
    "    ret = []\n",
    "    for i, p in enumerate(M):\n",
    "        is_dominated = np.any(np.all(M < p, axis = 1))\n",
    "        if not is_dominated:\n",
    "            ret.append(i)\n",
    "    return np.array(ret)"
   ]
  },
  {
   "cell_type": "code",
   "execution_count": 281,
   "id": "64c81fa1",
   "metadata": {},
   "outputs": [
    {
     "data": {
      "image/png": "[encoded data removed]",
      "text/plain": [
       "<Figure size 432x288 with 1 Axes>"
      ]
     },
     "metadata": {
      "needs_background": "light"
     },
     "output_type": "display_data"
    }
   ],
   "source": [
    "cat_x = 'r2_test'\n",
    "cat_x = 'recovery'\n",
    "def_value_x = 0.0\n",
    "cat_y = 'complexity'\n",
    "def_value_y = np.inf\n",
    "\n",
    "# assume lower is better (negate R2, recovery)\n",
    "\n",
    "regs_present = list(res.keys())\n",
    "v1 = -np.array([res[regressor_name][cat_x] if cat_x in res[regressor_name] else def_value_x for regressor_name in regs_present])\n",
    "v2 = np.array([res[regressor_name][cat_y] if cat_y in res[regressor_name] else def_value_y for regressor_name in regs_present])\n",
    "\n",
    "ranks_x = np.argsort(np.argsort(v1))\n",
    "ranks_y = np.argsort(np.argsort(v2))\n",
    "\n",
    "\n",
    "pareto_idxs = get_pareto_idxs(ranks_x, ranks_y)\n",
    "pareto_idxs = pareto_idxs[np.argsort([ranks_x[i] for i in pareto_idxs])] # sort by x rank (for plotting)\n",
    "\n",
    "plt.scatter(ranks_x, ranks_y, zorder = 1)\n",
    "plt.plot([ranks_x[i] for i in pareto_idxs], [ranks_y[i] for i in pareto_idxs], color = 'gray', linestyle = '--', zorder = 0)\n",
    "\n",
    "\n",
    "# add labels\n",
    "offset_x = 0.9\n",
    "offset_y = 0.9\n",
    "for i in range(len(regs_present)):\n",
    "    s = reg_names[regs_present[i]]\n",
    "    x = ranks_x[i]\n",
    "    y = ranks_y[i] + .3\n",
    "    ha = 'center'\n",
    "    va = 'bottom'\n",
    "    plt.text(s = s, x = x, y = y, ha = ha, va = va, bbox=dict(facecolor='w', edgecolor='black', boxstyle='round', alpha=0.3))\n",
    "plt.xlim(0-offset_x, len(regs_present)-1+offset_x)\n",
    "plt.ylim(0-offset_y, len(regs_present)-1+offset_y)\n",
    "plt.xticks(range(len(regs_present)))\n",
    "plt.yticks(range(len(regs_present)))\n",
    "\n",
    "plt.xlabel(f'Rank {crit_names[cat_x]}')\n",
    "plt.ylabel(f'Rank {crit_names[cat_y]}')\n",
    "plt.title(f'{ds_name} Problems')\n",
    "\n",
    "\n",
    "if not os.path.exists('results/figures'):\n",
    "    os.mkdirs('results/figures')\n",
    "plt.savefig(f'results/figures/scatterplot_{ds_name}.pdf', bbox_inches = 'tight')"
   ]
  },
  {
   "cell_type": "code",
   "execution_count": 283,
   "id": "8bec4d97",
   "metadata": {},
   "outputs": [
    {
     "name": "stdout",
     "output_type": "stream",
     "text": [
      "\\begin{tabular}{llllllll}\n",
      "&Recovery&RMSE Train&RMSE Test&$R^2$ Train&$R^2$ Test&Complexity&Processing Time\\\\\n",
      "\\toprule\n",
      "DSR&0.6&0.0&0.01&1.0&1.0&15.9&12.48\\\\\n",
      "ESR&0.5&0.0&0.01&1.0&1.0&9.7&1293.63\\\\\n",
      "PolyReg3&0.2&0.04&0.06&1.0&0.99&15.0&0.0\\\\\n",
      "Operon&0.2&0.0&0.01&1.0&1.0&40.0&3.67\\\\\n",
      "GPlearn&0.2&0.1&0.11&1.0&1.0&19.6&9.03\\\\\n",
      "LinReg&0.1&0.35&0.3&0.7&0.51&5.0&0.0\\\\\n",
      "PolyReg2&0.1&0.14&0.13&0.98&0.96&10.0&0.0\\\\\n",
      "MLP&0.0&0.92&0.93&1.0&1.0&-&4.24\\\\\n",
      "\\end{tabular}\n"
     ]
    }
   ],
   "source": [
    "# print a table\n",
    "\n",
    "regs = list(res.keys())\n",
    "crits = list(res[regs[0]].keys())\n",
    "\n",
    "\n",
    "sort_idx = np.argsort([-res[reg]['recovery'] for reg in regs])\n",
    "regs = [regs[i] for i in sort_idx]\n",
    "\n",
    "# header\n",
    "s = '\\\\begin{tabular}{l' + 'l'*len(crits) + '}'\n",
    "print(s)\n",
    "s = ''\n",
    "for crit in crits:\n",
    "    s += f'&{crit_names[crit]}'\n",
    "s += '\\\\\\\\'\n",
    "print(s)\n",
    "print('\\\\toprule')\n",
    "\n",
    "# rows\n",
    "for reg in regs:\n",
    "    s = reg_names[reg]\n",
    "    for crit in crits:\n",
    "        if crit in res[reg]:\n",
    "            v = res[reg][crit]\n",
    "            v = np.round(v, 2)\n",
    "            s += f'&{v}'\n",
    "        else:\n",
    "            s += '&-'\n",
    "    s += '\\\\\\\\'\n",
    "    print(s)\n",
    "s = '\\\\end{tabular}'\n",
    "print(s)"
   ]
  },
  {
   "cell_type": "markdown",
   "id": "1fbe710b",
   "metadata": {},
   "source": [
    "## Experiment: Symbolic vs. Numeric Proximity\n",
    "\n",
    "Fitness Distance Correlation\n",
    "\n",
    "Takeaway: Symbolic Measures do not correlate with Numeric Measures"
   ]
  },
  {
   "cell_type": "code",
   "execution_count": 83,
   "id": "42008969",
   "metadata": {
    "scrolled": true
   },
   "outputs": [
    {
     "data": {
      "image/png": "[encoded data removed]",
      "text/plain": [
       "<Figure size 432x288 with 2 Axes>"
      ]
     },
     "metadata": {
      "needs_background": "light"
     },
     "output_type": "display_data"
    }
   ],
   "source": [
    "corr_matrix = np.load('results/corr_matrix.npy')\n",
    "with open(f'results/distance_dict.p', 'rb') as handle:\n",
    "    dist_dict = pickle.load(handle)\n",
    "methods = list(dist_dict.keys())\n",
    "\n",
    "\n",
    "plt.imshow(corr_matrix, vmin = -1, vmax = 1, cmap = 'bwr')\n",
    "plt.colorbar()\n",
    "plt.xticks(range(corr_matrix.shape[0]), methods, rotation = 90)\n",
    "plt.yticks(range(corr_matrix.shape[0]), methods)\n",
    "plt.title('Correlation')\n",
    "\n",
    "if not os.path.exists('results/figures'):\n",
    "    os.mkdirs('results/figures')\n",
    "plt.savefig('results/figures/corr_plot.pdf', bbox_inches = 'tight')"
   ]
  }
 ],
 "metadata": {
  "kernelspec": {
   "display_name": "Python 3 (ipykernel)",
   "language": "python",
   "name": "python3"
  },
  "language_info": {
   "codemirror_mode": {
    "name": "ipython",
    "version": 3
   },
   "file_extension": ".py",
   "mimetype": "text/x-python",
   "name": "python",
   "nbconvert_exporter": "python",
   "pygments_lexer": "ipython3",
   "version": "3.9.12"
  }
 },
 "nbformat": 4,
 "nbformat_minor": 5
}
