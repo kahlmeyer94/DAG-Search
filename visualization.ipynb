{
 "cells": [
  {
   "cell_type": "markdown",
   "id": "97b91456",
   "metadata": {},
   "source": [
    "# Visualization of Results"
   ]
  },
  {
   "cell_type": "code",
   "execution_count": 1,
   "id": "0bbfef62",
   "metadata": {},
   "outputs": [],
   "source": [
    "import numpy as np\n",
    "import matplotlib.pyplot as plt\n",
    "from tqdm.notebook import tqdm\n",
    "import os\n",
    "import sympy\n",
    "import pickle\n",
    "\n",
    "\n",
    "from DAG_search import utils\n",
    "from DAG_search import config\n",
    "from DAG_search import dag_search\n",
    "from DAG_search import comp_graph\n",
    "from DAG_search import simplifications\n",
    "\n",
    "from regressors import regressors"
   ]
  },
  {
   "cell_type": "code",
   "execution_count": 2,
   "id": "68f44dcd",
   "metadata": {
    "scrolled": true
   },
   "outputs": [
    {
     "data": {
      "text/plain": [
       "<module 'sympy' from 'C:\\\\Users\\\\Paul Kahlmeyer\\\\anaconda3\\\\envs\\\\SymbReg\\\\lib\\\\site-packages\\\\sympy\\\\__init__.py'>"
      ]
     },
     "execution_count": 2,
     "metadata": {},
     "output_type": "execute_result"
    }
   ],
   "source": [
    "import importlib\n",
    "importlib.reload(config)\n",
    "importlib.reload(dag_search)\n",
    "importlib.reload(comp_graph)\n",
    "importlib.reload(utils)\n",
    "importlib.reload(sympy)"
   ]
  },
  {
   "cell_type": "markdown",
   "id": "2a614c7a",
   "metadata": {},
   "source": [
    "## AIFeynman Simplification\n",
    "\n",
    "TODO:\n",
    "- Keep only symmetry\n"
   ]
  },
  {
   "cell_type": "code",
   "execution_count": 559,
   "id": "dae3848e",
   "metadata": {
    "scrolled": true
   },
   "outputs": [
    {
     "data": {
      "text/plain": [
       "0.0032522606324158028"
      ]
     },
     "execution_count": 559,
     "metadata": {},
     "output_type": "execute_result"
    }
   ],
   "source": [
    "# Problem\n",
    "import pickle\n",
    "ds_name = 'Feynman' # Strogatz, Feynman, Nguyen, Univ  \n",
    "load_path = f'datasets/{ds_name}/tasks.p'\n",
    "with open(load_path, 'rb') as handle:\n",
    "    task_dict = pickle.load(handle)\n",
    "\n",
    "\n",
    "problem = 'I.10.7'\n",
    "X = task_dict[problem]['X']\n",
    "y = task_dict[problem]['y']\n",
    "\n",
    "\n",
    "i = 0\n",
    "y = y[:, i]\n",
    "expr_true = task_dict[problem]['expr'][i]\n",
    "X.shape, y.shape\n",
    "\n",
    "# Approximation\n",
    "from sklearn.metrics import r2_score\n",
    "f_app = dag_search.BaseReg(degree = 5)\n",
    "f_app.fit(X, y)\n",
    "f_rms = np.sqrt(np.mean((y - f_app.predict(X))**2))\n",
    "f_rms"
   ]
  },
  {
   "cell_type": "code",
   "execution_count": 560,
   "id": "a97c7e5b",
   "metadata": {},
   "outputs": [
    {
     "data": {
      "text/latex": [
       "$\\displaystyle \\frac{x_{0}}{\\sqrt{- \\frac{x_{1}^{2}}{x_{2}^{2}} + 1}}$"
      ],
      "text/plain": [
       "x_0/sqrt(-x_1**2/x_2**2 + 1)"
      ]
     },
     "execution_count": 560,
     "metadata": {},
     "output_type": "execute_result"
    }
   ],
   "source": [
    "expr_true"
   ]
  },
  {
   "cell_type": "code",
   "execution_count": 541,
   "id": "c190d4f3",
   "metadata": {
    "scrolled": true
   },
   "outputs": [
    {
     "data": {
      "text/plain": [
       "dict_keys(['I.10.7', 'I.11.19', 'I.12.1', 'I.12.11', 'I.12.2', 'I.12.4', 'I.12.5', 'I.13.12', 'I.13.4', 'I.14.3', 'I.14.4', 'I.15.3t', 'I.15.3x', 'I.16.6', 'I.18.12', 'I.18.14', 'I.18.4', 'I.24.6', 'I.25.13', 'I.27.6', 'I.29.16', 'I.29.4', 'I.30.3', 'I.32.17', 'I.32.5', 'I.34.1', 'I.34.14', 'I.34.27', 'I.34.8', 'I.37.4', 'I.38.12', 'I.39.1', 'I.39.11', 'I.39.22', 'I.40.1', 'I.41.16', 'I.43.16', 'I.43.31', 'I.43.43', 'I.44.4', 'I.47.23', 'I.50.26', 'I.6.2', 'I.6.2a', 'I.6.2b', 'I.8.14', 'I.9.18', 'II.10.9', 'II.11.20', 'II.11.27', 'II.11.28', 'II.11.3', 'II.13.17', 'II.13.23', 'II.13.34', 'II.15.4', 'II.15.5', 'II.2.42', 'II.21.32', 'II.24.17', 'II.27.16', 'II.27.18', 'II.3.24', 'II.34.11', 'II.34.2', 'II.34.29a', 'II.34.29b', 'II.34.2a', 'II.35.18', 'II.35.21', 'II.36.38', 'II.37.1', 'II.38.14', 'II.38.3', 'II.4.23', 'II.6.11', 'II.6.15a', 'II.6.15b', 'II.8.31', 'II.8.7', 'III.10.19', 'III.12.43', 'III.13.18', 'III.14.14', 'III.15.12', 'III.15.14', 'III.15.27', 'III.17.37', 'III.19.51', 'III.21.20', 'III.4.32', 'III.4.33', 'III.7.38', 'III.8.54', 'III.9.52'])"
      ]
     },
     "execution_count": 541,
     "metadata": {},
     "output_type": "execute_result"
    }
   ],
   "source": [
    "task_dict.keys()"
   ]
  },
  {
   "cell_type": "code",
   "execution_count": 561,
   "id": "2cab5239",
   "metadata": {
    "scrolled": true
   },
   "outputs": [
    {
     "name": "stdout",
     "output_type": "stream",
     "text": [
      "I.10.7 3\n",
      "I.11.19 6\n",
      "I.12.1 2\n",
      "I.12.11 5\n",
      "I.12.2 4\n",
      "I.12.4 3\n",
      "I.12.5 2\n",
      "I.13.12 5\n",
      "I.13.4 4\n",
      "I.14.3 3\n",
      "I.14.4 2\n",
      "I.15.3t 4\n",
      "I.15.3x 4\n",
      "I.16.6 3\n",
      "I.18.12 3\n",
      "I.18.14 4\n",
      "I.18.4 4\n",
      "I.24.6 4\n",
      "I.25.13 2\n",
      "I.27.6 3\n",
      "I.29.16 4\n",
      "I.29.4 2\n",
      "I.30.3 3\n",
      "I.32.17 6\n",
      "I.32.5 4\n",
      "I.34.1 3\n",
      "I.34.14 3\n",
      "I.34.27 2\n",
      "I.34.8 4\n",
      "I.37.4 3\n",
      "I.38.12 4\n",
      "I.39.1 2\n",
      "I.39.11 3\n",
      "I.39.22 4\n",
      "I.40.1 6\n",
      "I.41.16 5\n",
      "I.43.16 4\n",
      "I.43.31 3\n",
      "I.43.43 4\n",
      "I.44.4 5\n",
      "I.47.23 3\n",
      "I.50.26 4\n",
      "I.6.2 2\n",
      "I.6.2a 1\n",
      "I.6.2b 3\n",
      "I.8.14 4\n",
      "I.9.18 9\n",
      "II.10.9 3\n",
      "II.11.20 5\n",
      "II.11.27 4\n",
      "II.11.28 2\n",
      "II.11.3 5\n",
      "II.13.17 4\n",
      "II.13.23 3\n",
      "II.13.34 3\n",
      "II.15.4 3\n",
      "II.15.5 3\n",
      "II.2.42 5\n",
      "II.21.32 5\n",
      "II.24.17 3\n",
      "II.27.16 3\n",
      "II.27.18 2\n",
      "II.3.24 2\n",
      "II.34.11 4\n",
      "II.34.2 3\n",
      "II.34.29a 3\n",
      "II.34.29b 5\n",
      "II.34.2a 3\n",
      "II.35.18 5\n",
      "II.35.21 5\n",
      "II.36.38 8\n",
      "II.37.1 3\n",
      "II.38.14 2\n",
      "II.38.3 4\n",
      "II.4.23 3\n",
      "II.6.11 4\n",
      "II.6.15a 6\n",
      "II.6.15b 4\n",
      "II.8.31 2\n",
      "II.8.7 3\n",
      "III.10.19 4\n",
      "III.12.43 2\n",
      "III.13.18 4\n",
      "III.14.14 5\n",
      "III.15.12 3\n",
      "III.15.14 3\n",
      "III.15.27 3\n",
      "III.17.37 3\n",
      "III.19.51 5\n",
      "III.21.20 4\n",
      "III.4.32 4\n",
      "III.4.33 4\n",
      "III.7.38 3\n",
      "III.8.54 3\n",
      "III.9.52 6\n"
     ]
    }
   ],
   "source": [
    "for problem in task_dict:\n",
    "    print(problem, task_dict[problem]['X'].shape[1])"
   ]
  },
  {
   "cell_type": "code",
   "execution_count": 582,
   "id": "763a7cc5",
   "metadata": {},
   "outputs": [
    {
     "data": {
      "text/plain": [
       "<module 'DAG_search.dag_search' from 'C:\\\\Users\\\\Paul Kahlmeyer\\\\OneDrive\\\\PhD\\\\DAG_search\\\\DAG_search\\\\dag_search.py'>"
      ]
     },
     "execution_count": 582,
     "metadata": {},
     "output_type": "execute_result"
    }
   ],
   "source": [
    "importlib.reload(dag_search)"
   ]
  },
  {
   "cell_type": "code",
   "execution_count": 583,
   "id": "f0cb07f1",
   "metadata": {},
   "outputs": [
    {
     "data": {
      "text/latex": [
       "$\\displaystyle \\frac{x_{0}}{\\sqrt{- \\frac{x_{1}^{2}}{x_{2}^{2}} + 1}}$"
      ],
      "text/plain": [
       "x_0/sqrt(-x_1**2/x_2**2 + 1)"
      ]
     },
     "execution_count": 583,
     "metadata": {},
     "output_type": "execute_result"
    }
   ],
   "source": [
    "expr_true"
   ]
  },
  {
   "cell_type": "code",
   "execution_count": 584,
   "id": "a6e8e9cf",
   "metadata": {
    "scrolled": false
   },
   "outputs": [
    {
     "data": {
      "text/plain": [
       "<module 'DAG_search.simplifications' from 'C:\\\\Users\\\\Paul Kahlmeyer\\\\OneDrive\\\\PhD\\\\DAG_search\\\\DAG_search\\\\simplifications.py'>"
      ]
     },
     "execution_count": 584,
     "metadata": {},
     "output_type": "execute_result"
    }
   ],
   "source": [
    "importlib.reload(simplifications)"
   ]
  },
  {
   "cell_type": "code",
   "execution_count": 585,
   "id": "5d529032",
   "metadata": {},
   "outputs": [
    {
     "name": "stdout",
     "output_type": "stream",
     "text": [
      "Sym: 4.960205768005767e-06, log(z_0) + z_2**(-2)\n",
      "Sym: 2.8809233442637645e-05, z_1/(z_0*(z_0 + z_1)**2)\n"
     ]
    }
   ],
   "source": [
    "tree = simplifications.SimplTree()\n",
    "tree.fit(X, y)"
   ]
  },
  {
   "cell_type": "code",
   "execution_count": 586,
   "id": "407980cc",
   "metadata": {},
   "outputs": [
    {
     "name": "stdout",
     "output_type": "stream",
     "text": [
      "Leaf\n",
      "Sym\n",
      "Sym\n"
     ]
    }
   ],
   "source": [
    "def func(node):\n",
    "    print(node.simpl_str)\n",
    "tree.traverse(tree.root, func)"
   ]
  },
  {
   "cell_type": "code",
   "execution_count": 587,
   "id": "c5c39b91",
   "metadata": {},
   "outputs": [],
   "source": [
    "sym_regr = dag_search.DAGRegressor(max_orders = int(1e4))\n",
    "regr = simplifications.SimplificationRegressor(sym_regr)"
   ]
  },
  {
   "cell_type": "code",
   "execution_count": 588,
   "id": "06da562f",
   "metadata": {},
   "outputs": [
    {
     "name": "stdout",
     "output_type": "stream",
     "text": [
      "Recursively searching for simplifications\n",
      "Sym: 7.4216683086890616e-06, z_0 + log(z_0)/z_2\n",
      "Sym: 0.00048533184185226886, 1/(z_0*(z_0 + sqrt(z_1)))\n",
      "Trying to solve subproblems\n",
      "Creating evaluation orders\n",
      "Total orders: 417\n",
      "Evaluating orders\n"
     ]
    },
    {
     "ename": "KeyboardInterrupt",
     "evalue": "",
     "output_type": "error",
     "traceback": [
      "\u001b[1;31m---------------------------------------------------------------------------\u001b[0m",
      "\u001b[1;31mKeyboardInterrupt\u001b[0m                         Traceback (most recent call last)",
      "Input \u001b[1;32mIn [588]\u001b[0m, in \u001b[0;36m<cell line: 1>\u001b[1;34m()\u001b[0m\n\u001b[1;32m----> 1\u001b[0m \u001b[43mregr\u001b[49m\u001b[38;5;241;43m.\u001b[39;49m\u001b[43mfit\u001b[49m\u001b[43m(\u001b[49m\u001b[43mX\u001b[49m\u001b[43m,\u001b[49m\u001b[43m \u001b[49m\u001b[43my\u001b[49m\u001b[43m)\u001b[49m\n",
      "File \u001b[1;32m~\\OneDrive\\PhD\\DAG_search\\DAG_search\\simplifications.py:467\u001b[0m, in \u001b[0;36mSimplificationRegressor.fit\u001b[1;34m(self, X, y, verbose)\u001b[0m\n\u001b[0;32m    464\u001b[0m sub_exprs \u001b[38;5;241m=\u001b[39m []\n\u001b[0;32m    465\u001b[0m \u001b[38;5;28;01mfor\u001b[39;00m X_sub, y_sub \u001b[38;5;129;01min\u001b[39;00m subproblems:\n\u001b[0;32m    466\u001b[0m     \u001b[38;5;66;03m# solve\u001b[39;00m\n\u001b[1;32m--> 467\u001b[0m     \u001b[38;5;28;43mself\u001b[39;49m\u001b[38;5;241;43m.\u001b[39;49m\u001b[43msymb_regr\u001b[49m\u001b[38;5;241;43m.\u001b[39;49m\u001b[43mfit\u001b[49m\u001b[43m(\u001b[49m\u001b[43mX_sub\u001b[49m\u001b[43m,\u001b[49m\u001b[43m \u001b[49m\u001b[43my_sub\u001b[49m\u001b[43m)\u001b[49m\n\u001b[0;32m    468\u001b[0m     expr \u001b[38;5;241m=\u001b[39m \u001b[38;5;28mself\u001b[39m\u001b[38;5;241m.\u001b[39msymb_regr\u001b[38;5;241m.\u001b[39mmodel()\n\u001b[0;32m    469\u001b[0m     sub_exprs\u001b[38;5;241m.\u001b[39mappend(expr)\n",
      "File \u001b[1;32m~\\OneDrive\\PhD\\DAG_search\\DAG_search\\dag_search.py:1616\u001b[0m, in \u001b[0;36mDAGRegressor.fit\u001b[1;34m(self, X, y, verbose)\u001b[0m\n\u001b[0;32m   1614\u001b[0m     res \u001b[38;5;241m=\u001b[39m hierarchical_search(\u001b[38;5;241m*\u001b[39m\u001b[38;5;241m*\u001b[39mparams)\n\u001b[0;32m   1615\u001b[0m \u001b[38;5;28;01melse\u001b[39;00m:\n\u001b[1;32m-> 1616\u001b[0m     res \u001b[38;5;241m=\u001b[39m exhaustive_search(\u001b[38;5;241m*\u001b[39m\u001b[38;5;241m*\u001b[39mparams)\n\u001b[0;32m   1618\u001b[0m \u001b[38;5;28;01mif\u001b[39;00m \u001b[38;5;28mlen\u001b[39m(res[\u001b[38;5;124m'\u001b[39m\u001b[38;5;124mgraphs\u001b[39m\u001b[38;5;124m'\u001b[39m]) \u001b[38;5;241m>\u001b[39m \u001b[38;5;241m0\u001b[39m:\n\u001b[0;32m   1619\u001b[0m     \u001b[38;5;66;03m# optimizing constants of top DAGs\u001b[39;00m\n\u001b[0;32m   1620\u001b[0m     \u001b[38;5;28;01mif\u001b[39;00m verbose \u001b[38;5;241m>\u001b[39m \u001b[38;5;241m0\u001b[39m:\n",
      "File \u001b[1;32m~\\OneDrive\\PhD\\DAG_search\\DAG_search\\dag_search.py:1064\u001b[0m, in \u001b[0;36mexhaustive_search\u001b[1;34m(X, n_outps, loss_fkt, k, n_calc_nodes, n_processes, topk, verbose, opt_mode, max_orders, max_time, stop_thresh, unique_loss, **params)\u001b[0m\n\u001b[0;32m   1062\u001b[0m     pbar \u001b[38;5;241m=\u001b[39m orders\n\u001b[0;32m   1063\u001b[0m \u001b[38;5;28;01mfor\u001b[39;00m order \u001b[38;5;129;01min\u001b[39;00m pbar:\n\u001b[1;32m-> 1064\u001b[0m     consts, losses, ops \u001b[38;5;241m=\u001b[39m \u001b[43mevaluate_build_order\u001b[49m\u001b[43m(\u001b[49m\u001b[43morder\u001b[49m\u001b[43m,\u001b[49m\u001b[43m \u001b[49m\u001b[43mm\u001b[49m\u001b[43m,\u001b[49m\u001b[43m \u001b[49m\u001b[43mn\u001b[49m\u001b[43m,\u001b[49m\u001b[43m \u001b[49m\u001b[43mk\u001b[49m\u001b[43m,\u001b[49m\u001b[43m \u001b[49m\u001b[43mX\u001b[49m\u001b[43m,\u001b[49m\u001b[43m \u001b[49m\u001b[43mloss_fkt\u001b[49m\u001b[43m,\u001b[49m\u001b[43m \u001b[49m\u001b[43mtopk\u001b[49m\u001b[43m,\u001b[49m\u001b[43m \u001b[49m\u001b[43mopt_mode\u001b[49m\u001b[43m \u001b[49m\u001b[38;5;241;43m=\u001b[39;49m\u001b[43m \u001b[49m\u001b[43mopt_mode\u001b[49m\u001b[43m,\u001b[49m\u001b[43m \u001b[49m\u001b[43mstart_time\u001b[49m\u001b[38;5;241;43m=\u001b[39;49m\u001b[43mprocess_start_time\u001b[49m\u001b[43m,\u001b[49m\u001b[43m \u001b[49m\u001b[43mmax_time\u001b[49m\u001b[38;5;241;43m=\u001b[39;49m\u001b[43mmax_time\u001b[49m\u001b[43m)\u001b[49m\n\u001b[0;32m   1065\u001b[0m     \u001b[38;5;28;01mfor\u001b[39;00m c, loss, op \u001b[38;5;129;01min\u001b[39;00m \u001b[38;5;28mzip\u001b[39m(consts, losses, ops):\n\u001b[0;32m   1067\u001b[0m         \u001b[38;5;28;01mif\u001b[39;00m loss \u001b[38;5;241m<\u001b[39m\u001b[38;5;241m=\u001b[39m loss_thresh:\n",
      "File \u001b[1;32m~\\OneDrive\\PhD\\DAG_search\\DAG_search\\dag_search.py:835\u001b[0m, in \u001b[0;36mevaluate_build_order\u001b[1;34m(order, m, n, k, X, loss_fkt, topk, opt_mode, loss_thresh, start_time, max_time)\u001b[0m\n\u001b[0;32m    832\u001b[0m \u001b[38;5;28;01melse\u001b[39;00m:\n\u001b[0;32m    833\u001b[0m     cgraph \u001b[38;5;241m=\u001b[39m adapt_ops(cgraph, order, ops)\n\u001b[1;32m--> 835\u001b[0m consts, loss \u001b[38;5;241m=\u001b[39m \u001b[43mevaluate_cgraph\u001b[49m\u001b[43m(\u001b[49m\u001b[43mcgraph\u001b[49m\u001b[43m,\u001b[49m\u001b[43m \u001b[49m\u001b[43mX\u001b[49m\u001b[43m,\u001b[49m\u001b[43m \u001b[49m\u001b[43mloss_fkt\u001b[49m\u001b[43m,\u001b[49m\u001b[43m \u001b[49m\u001b[43mopt_mode\u001b[49m\u001b[43m,\u001b[49m\u001b[43m \u001b[49m\u001b[43mloss_thresh\u001b[49m\u001b[43m)\u001b[49m\n\u001b[0;32m    837\u001b[0m \u001b[38;5;28;01mif\u001b[39;00m loss \u001b[38;5;241m>\u001b[39m\u001b[38;5;241m=\u001b[39m \u001b[38;5;241m1000\u001b[39m \u001b[38;5;129;01mor\u001b[39;00m (\u001b[38;5;129;01mnot\u001b[39;00m np\u001b[38;5;241m.\u001b[39misfinite(loss)):\n\u001b[0;32m    838\u001b[0m     evaluate \u001b[38;5;241m=\u001b[39m \u001b[38;5;28;01mTrue\u001b[39;00m\n",
      "File \u001b[1;32m~\\OneDrive\\PhD\\DAG_search\\DAG_search\\dag_search.py:743\u001b[0m, in \u001b[0;36mevaluate_cgraph\u001b[1;34m(cgraph, X, loss_fkt, opt_mode, loss_thresh)\u001b[0m\n\u001b[0;32m    741\u001b[0m     consts, loss \u001b[38;5;241m=\u001b[39m get_consts_grid(cgraph, X, loss_fkt)\n\u001b[0;32m    742\u001b[0m \u001b[38;5;28;01melif\u001b[39;00m opt_mode \u001b[38;5;241m==\u001b[39m \u001b[38;5;124m'\u001b[39m\u001b[38;5;124mgrid_zoom\u001b[39m\u001b[38;5;124m'\u001b[39m:\n\u001b[1;32m--> 743\u001b[0m     consts, loss \u001b[38;5;241m=\u001b[39m \u001b[43mget_consts_grid_zoom\u001b[49m\u001b[43m(\u001b[49m\u001b[43mcgraph\u001b[49m\u001b[43m,\u001b[49m\u001b[43m \u001b[49m\u001b[43mX\u001b[49m\u001b[43m,\u001b[49m\u001b[43m \u001b[49m\u001b[43mloss_fkt\u001b[49m\u001b[43m)\u001b[49m\n\u001b[0;32m    744\u001b[0m \u001b[38;5;28;01melif\u001b[39;00m opt_mode \u001b[38;5;241m==\u001b[39m \u001b[38;5;124m'\u001b[39m\u001b[38;5;124mgrid_opt\u001b[39m\u001b[38;5;124m'\u001b[39m:\n\u001b[0;32m    745\u001b[0m     consts, loss \u001b[38;5;241m=\u001b[39m get_consts_grid(cgraph, X, loss_fkt)\n",
      "File \u001b[1;32m~\\OneDrive\\PhD\\DAG_search\\DAG_search\\dag_search.py:402\u001b[0m, in \u001b[0;36mget_consts_grid_zoom\u001b[1;34m(cgraph, X, loss_fkt, interval_lower, interval_upper, n_steps, n_zooms)\u001b[0m\n\u001b[0;32m    400\u001b[0m stepsize \u001b[38;5;241m=\u001b[39m interval_size\u001b[38;5;241m/\u001b[39m(n_steps \u001b[38;5;241m-\u001b[39m \u001b[38;5;241m1\u001b[39m)\n\u001b[0;32m    401\u001b[0m \u001b[38;5;28;01mfor\u001b[39;00m zoom \u001b[38;5;129;01min\u001b[39;00m \u001b[38;5;28mrange\u001b[39m(n_zooms):\n\u001b[1;32m--> 402\u001b[0m     c, loss \u001b[38;5;241m=\u001b[39m \u001b[43mget_consts_grid\u001b[49m\u001b[43m(\u001b[49m\u001b[43mcgraph\u001b[49m\u001b[43m,\u001b[49m\u001b[43m \u001b[49m\u001b[43mX\u001b[49m\u001b[43m,\u001b[49m\u001b[43m \u001b[49m\u001b[43mloss_fkt\u001b[49m\u001b[43m,\u001b[49m\u001b[43m \u001b[49m\u001b[43mc_init\u001b[49m\u001b[38;5;241;43m=\u001b[39;49m\u001b[43mc\u001b[49m\u001b[43m,\u001b[49m\u001b[43m \u001b[49m\u001b[43minterval_size\u001b[49m\u001b[43m \u001b[49m\u001b[38;5;241;43m=\u001b[39;49m\u001b[43m \u001b[49m\u001b[43minterval_size\u001b[49m\u001b[43m,\u001b[49m\u001b[43m \u001b[49m\u001b[43mn_steps\u001b[49m\u001b[38;5;241;43m=\u001b[39;49m\u001b[43mn_steps\u001b[49m\u001b[43m)\u001b[49m\n\u001b[0;32m    403\u001b[0m     interval_size \u001b[38;5;241m=\u001b[39m \u001b[38;5;241m2\u001b[39m\u001b[38;5;241m*\u001b[39mstepsize\n\u001b[0;32m    404\u001b[0m     stepsize \u001b[38;5;241m=\u001b[39m interval_size\u001b[38;5;241m/\u001b[39m(n_steps \u001b[38;5;241m-\u001b[39m \u001b[38;5;241m1\u001b[39m)\n",
      "File \u001b[1;32m~\\OneDrive\\PhD\\DAG_search\\DAG_search\\dag_search.py:372\u001b[0m, in \u001b[0;36mget_consts_grid\u001b[1;34m(cgraph, X, loss_fkt, c_init, interval_size, n_steps, return_arg)\u001b[0m\n\u001b[0;32m    370\u001b[0m values \u001b[38;5;241m=\u001b[39m np\u001b[38;5;241m.\u001b[39mlinspace(\u001b[38;5;241m-\u001b[39ml, l, n_steps)\n\u001b[0;32m    371\u001b[0m tmp \u001b[38;5;241m=\u001b[39m np\u001b[38;5;241m.\u001b[39mmeshgrid(\u001b[38;5;241m*\u001b[39m[values]\u001b[38;5;241m*\u001b[39mk)\n\u001b[1;32m--> 372\u001b[0m consts \u001b[38;5;241m=\u001b[39m np\u001b[38;5;241m.\u001b[39mcolumn_stack([x\u001b[38;5;241m.\u001b[39mflatten() \u001b[38;5;28;01mfor\u001b[39;00m x \u001b[38;5;129;01min\u001b[39;00m tmp])\n\u001b[0;32m    373\u001b[0m consts \u001b[38;5;241m=\u001b[39m consts \u001b[38;5;241m+\u001b[39m np\u001b[38;5;241m.\u001b[39mstack([c_init]\u001b[38;5;241m*\u001b[39m\u001b[38;5;28mlen\u001b[39m(consts))\n\u001b[0;32m    375\u001b[0m losses \u001b[38;5;241m=\u001b[39m loss_fkt(X, cgraph, consts)\n",
      "File \u001b[1;32m~\\OneDrive\\PhD\\DAG_search\\DAG_search\\dag_search.py:372\u001b[0m, in \u001b[0;36m<listcomp>\u001b[1;34m(.0)\u001b[0m\n\u001b[0;32m    370\u001b[0m values \u001b[38;5;241m=\u001b[39m np\u001b[38;5;241m.\u001b[39mlinspace(\u001b[38;5;241m-\u001b[39ml, l, n_steps)\n\u001b[0;32m    371\u001b[0m tmp \u001b[38;5;241m=\u001b[39m np\u001b[38;5;241m.\u001b[39mmeshgrid(\u001b[38;5;241m*\u001b[39m[values]\u001b[38;5;241m*\u001b[39mk)\n\u001b[1;32m--> 372\u001b[0m consts \u001b[38;5;241m=\u001b[39m np\u001b[38;5;241m.\u001b[39mcolumn_stack([\u001b[43mx\u001b[49m\u001b[38;5;241;43m.\u001b[39;49m\u001b[43mflatten\u001b[49m\u001b[43m(\u001b[49m\u001b[43m)\u001b[49m \u001b[38;5;28;01mfor\u001b[39;00m x \u001b[38;5;129;01min\u001b[39;00m tmp])\n\u001b[0;32m    373\u001b[0m consts \u001b[38;5;241m=\u001b[39m consts \u001b[38;5;241m+\u001b[39m np\u001b[38;5;241m.\u001b[39mstack([c_init]\u001b[38;5;241m*\u001b[39m\u001b[38;5;28mlen\u001b[39m(consts))\n\u001b[0;32m    375\u001b[0m losses \u001b[38;5;241m=\u001b[39m loss_fkt(X, cgraph, consts)\n",
      "\u001b[1;31mKeyboardInterrupt\u001b[0m: "
     ]
    }
   ],
   "source": [
    "regr.fit(X, y)"
   ]
  },
  {
   "cell_type": "code",
   "execution_count": 576,
   "id": "cf5942e7",
   "metadata": {},
   "outputs": [
    {
     "data": {
      "text/latex": [
       "$\\displaystyle \\sqrt{\\left(x_{0} + \\frac{x_{0}}{x_{2}^{2}}\\right) \\left(x_{0} + \\frac{x_{0}}{x_{2}^{2}} + \\sqrt{x_{1}}\\right)} - 0.522140359213017$"
      ],
      "text/plain": [
       "sqrt((x_0 + x_0/x_2**2)*(x_0 + x_0/x_2**2 + sqrt(x_1))) - 0.522140359213017"
      ]
     },
     "execution_count": 576,
     "metadata": {},
     "output_type": "execute_result"
    }
   ],
   "source": [
    "regr.model()"
   ]
  },
  {
   "cell_type": "code",
   "execution_count": 579,
   "id": "04d2b2f4",
   "metadata": {},
   "outputs": [
    {
     "data": {
      "text/plain": [
       "0.004101713402175216"
      ]
     },
     "execution_count": 579,
     "metadata": {},
     "output_type": "execute_result"
    }
   ],
   "source": [
    "pred = regr.predict(X)\n",
    "np.mean((pred - y)**2)"
   ]
  },
  {
   "cell_type": "markdown",
   "id": "9b6b93be",
   "metadata": {},
   "source": [
    "## Damped Pendulum\n",
    "\n",
    "$y(t)=e^{-t}\\cos(2\\pi t)$"
   ]
  },
  {
   "cell_type": "code",
   "execution_count": 1375,
   "id": "14b48639",
   "metadata": {},
   "outputs": [],
   "source": [
    "# Load others\n",
    "load_path = 'results/oscillation.p'\n",
    "with open(load_path, 'rb') as handle:\n",
    "    results_dict = pickle.load(handle)"
   ]
  },
  {
   "cell_type": "code",
   "execution_count": 1394,
   "id": "eaf03ab0",
   "metadata": {
    "scrolled": true
   },
   "outputs": [
    {
     "name": "stdout",
     "output_type": "stream",
     "text": [
      "operon:\n",
      "############\n",
      "1.24 - 0.698*(1.04*x_0 + 0.127 - 0.753/(0.684 - 0.384*x_0))/(-2.72*x_0 + (0.216 - 0.975*x_0)/(-0.347*x_0 - 0.0909))\n",
      "\n",
      "gplearn:\n",
      "############\n",
      "-(x_0 + (x_0 - 0.355)*(x_0 + (x_0 - 1.63)*(x_0 - 0.355)*log(x_0 - 0.355) - 1.28)*log(x_0 - 0.355))*(2*x_0 - 1.28)*log(x_0 - 0.355)\n",
      "\n",
      "dsr:\n",
      "############\n",
      "-x_0**0.5*(1.67*x_0 + cos(2*x_0) - 1.32)*exp(exp(cos(x_0)))\n",
      "\n",
      "DAGSearch:\n",
      "############\n",
      "exp(-x_0)*cos(6.28*x_0)\n",
      "\n"
     ]
    },
    {
     "data": {
      "text/plain": [
       "<matplotlib.legend.Legend at 0x1e117196bb0>"
      ]
     },
     "execution_count": 1394,
     "metadata": {},
     "output_type": "execute_result"
    },
    {
     "data": {
      "image/png": "[encoded data removed]",
      "text/plain": [
       "<Figure size 432x288 with 1 Axes>"
      ]
     },
     "metadata": {
      "needs_background": "light"
     },
     "output_type": "display_data"
    }
   ],
   "source": [
    "import warnings\n",
    "x_values = np.linspace(0, 0.75, 1000).reshape(-1, 1)\n",
    "X = np.linspace(0, 0.75, 10).reshape(-1, 1)\n",
    "y = np.exp(-X[:, 0])*np.cos(2*np.pi*X[:, 0])\n",
    "plt.scatter(X, y, color = 'tab:blue', label = 'observed data', zorder = 2)\n",
    "\n",
    "with warnings.catch_warnings():\n",
    "    warnings.simplefilter(\"ignore\")\n",
    "    for regr_name in results_dict:\n",
    "\n",
    "        if regr_name not in ['linreg', 'polyreg2', 'polyreg3']:\n",
    "\n",
    "            model = results_dict[regr_name]['model']\n",
    "            model = utils.round_floats(model)\n",
    "            func = sympy.lambdify(sympy.Symbol('x_0'), model)\n",
    "            pred = func(x_values)\n",
    "            plt.plot(x_values, pred, label = regr_name)\n",
    "\n",
    "            print(f'{regr_name}:')\n",
    "            print('############')\n",
    "            print(f'{model}\\n')\n",
    "\n",
    "        \n",
    "        \n",
    "plt.legend()"
   ]
  },
  {
   "cell_type": "code",
   "execution_count": 1333,
   "id": "a16519f0",
   "metadata": {},
   "outputs": [],
   "source": [
    "np.random.seed(0)\n",
    "x_values = np.linspace(0, 0.75, 1000).reshape(-1, 1)\n",
    "X = np.linspace(0, 0.75, 10).reshape(-1, 1)\n",
    "y = np.exp(-X[:, 0])*np.cos(2*np.pi*X[:, 0])"
   ]
  },
  {
   "cell_type": "code",
   "execution_count": 1334,
   "id": "9bd94056",
   "metadata": {},
   "outputs": [
    {
     "data": {
      "text/plain": [
       "<module 'regressors.regressors' from 'C:\\\\Users\\\\Paul Kahlmeyer\\\\OneDrive\\\\PhD\\\\DAG_search\\\\regressors\\\\regressors.py'>"
      ]
     },
     "execution_count": 1334,
     "metadata": {},
     "output_type": "execute_result"
    }
   ],
   "source": [
    "importlib.reload(regressors)"
   ]
  },
  {
   "cell_type": "code",
   "execution_count": 1335,
   "id": "e5c0c0f9",
   "metadata": {},
   "outputs": [],
   "source": [
    "from sklearn import linear_model"
   ]
  },
  {
   "cell_type": "code",
   "execution_count": 1338,
   "id": "363b5e20",
   "metadata": {},
   "outputs": [],
   "source": [
    "from regressors import regressors\n",
    "regr = regressors.PolyReg(4)\n",
    "regr.fit(X, y)\n",
    "pred_poly = regr.predict(x_values)"
   ]
  },
  {
   "cell_type": "code",
   "execution_count": 1337,
   "id": "81d8f2c1",
   "metadata": {},
   "outputs": [
    {
     "data": {
      "text/latex": [
       "$\\displaystyle - 34.4572579935495 x_{0}^{4} + 60.3564758586689 x_{0}^{3} - 27.0078906836237 x_{0}^{2} - 0.489063145387913 x_{0} + 0.998021329322976$"
      ],
      "text/plain": [
       "-34.4572579935495*x_0**4 + 60.3564758586689*x_0**3 - 27.0078906836237*x_0**2 - 0.489063145387913*x_0 + 0.998021329322976"
      ]
     },
     "execution_count": 1337,
     "metadata": {},
     "output_type": "execute_result"
    }
   ],
   "source": [
    "regr.model()"
   ]
  },
  {
   "cell_type": "code",
   "execution_count": 1339,
   "id": "b345151f",
   "metadata": {},
   "outputs": [],
   "source": [
    "pred_symb = np.exp(-x_values[:, 0])*np.cos(6*x_values[:, 0])\n",
    "pred_decay = np.exp(-x_values[:, 0])\n",
    "pred_oscillation = np.cos(6*x_values[:, 0])"
   ]
  },
  {
   "cell_type": "code",
   "execution_count": 1400,
   "id": "d4ea0b6f",
   "metadata": {},
   "outputs": [
    {
     "data": {
      "image/png": "[encoded data removed]",
      "text/plain": [
       "<Figure size 432x288 with 1 Axes>"
      ]
     },
     "metadata": {
      "needs_background": "light"
     },
     "output_type": "display_data"
    }
   ],
   "source": [
    "\n",
    "plt.plot(x_values, pred_poly, color ='tab:red', label = 'Polynomial')\n",
    "plt.plot(x_values, pred_symb, color ='tab:green', label = 'Symbolic')\n",
    "plt.plot(x_values, pred_decay, color ='tab:orange', label = 'Decay', linestyle = '--')\n",
    "plt.plot(x_values, pred_oscillation, color ='tab:cyan', label = 'Oscillation', linestyle = '--')\n",
    "plt.scatter(X, y, color = 'tab:blue', label = 'observed data', zorder = 2)\n",
    "plt.xlabel('x')\n",
    "plt.ylabel('f(x)')\n",
    "plt.legend()\n",
    "\n",
    "plt.savefig(f'results/figures/intro_example.pdf', bbox_inches = 'tight')"
   ]
  },
  {
   "cell_type": "markdown",
   "id": "541beac8",
   "metadata": {},
   "source": [
    "## Price Theorem does not hold here\n",
    "\n",
    "If occurence of a Trait in population correlates positively with fitness of population, it will occur more often.\n",
    "\n",
    "Here: Track fitness of population and occurences of traits of target expression\n",
    "\n",
    "Trait = Subexpression"
   ]
  },
  {
   "cell_type": "code",
   "execution_count": 141,
   "id": "668e6241",
   "metadata": {},
   "outputs": [],
   "source": [
    "ds_name = 'Feynman'\n",
    "\n",
    "load_path = f'results/{ds_name}/covariances.p'\n",
    "with open(load_path, 'rb') as handle:\n",
    "    results_dict = pickle.load(handle)"
   ]
  },
  {
   "cell_type": "code",
   "execution_count": 142,
   "id": "ba30f322",
   "metadata": {},
   "outputs": [],
   "source": [
    "problems = list(results_dict.keys())\n",
    "nmb_traits = np.array([len(results_dict[problem_name]['covariances']) for problem_name in results_dict])\n",
    "max_traits = max(nmb_traits)\n",
    "\n",
    "\n",
    "sort_idx = np.argsort(-nmb_traits)\n",
    "problems = [problems[i] for i in sort_idx]\n",
    "\n",
    "disp_matrix = -np.ones((max_traits, len(results_dict)))\n",
    "\n",
    "for i, problem in enumerate(problems):\n",
    "    covs = results_dict[problem]['covariances']\n",
    "    disp_matrix[:len(covs), i] = covs"
   ]
  },
  {
   "cell_type": "code",
   "execution_count": 143,
   "id": "f0da93b2",
   "metadata": {},
   "outputs": [
    {
     "data": {
      "text/plain": [
       "Text(0.5, 1.0, 'Feynman')"
      ]
     },
     "execution_count": 143,
     "metadata": {},
     "output_type": "execute_result"
    },
    {
     "data": {
      "image/png": "[encoded data removed]",
      "text/plain": [
       "<Figure size 1922.4x475.2 with 2 Axes>"
      ]
     },
     "metadata": {
      "needs_background": "light"
     },
     "output_type": "display_data"
    }
   ],
   "source": [
    "fs = 0.3\n",
    "plt.figure(figsize = (len(problems)*fs, max_traits*fs))\n",
    "plt.imshow(disp_matrix, cmap = 'bwr', vmin = -1, vmax = 1)\n",
    "plt.colorbar()\n",
    "\n",
    "# add gray hatched area\n",
    "tmp_img = (disp_matrix == -1).astype(float)\n",
    "tmp_img[tmp_img == 0] = np.nan\n",
    "mask = ~np.isnan(tmp_img)\n",
    "tmp_img[mask] = 0.5\n",
    "plt.imshow(tmp_img, cmap = 'gray', vmin = 0.0, vmax = 1.0)\n",
    "zm = np.ma.masked_where(~mask, tmp_img)\n",
    "plt.pcolor(np.arange(len(problems)), np.arange(max_traits), zm, hatch='//', alpha=0.0)\n",
    "\n",
    "plt.xticks(range(len(problems)), problems, rotation = 90)\n",
    "plt.yticks(range(max_traits), [])\n",
    "plt.ylabel('Subexpression')\n",
    "plt.title(ds_name)"
   ]
  },
  {
   "cell_type": "markdown",
   "id": "d356f5f5",
   "metadata": {},
   "source": [
    "## Local Minima\n",
    "\n",
    "For a problem:\n",
    "- sample population\n",
    "- connect expressions with edit distance 1\n",
    "- identify local minima in this population (= all neighbours are worse) "
   ]
  },
  {
   "cell_type": "code",
   "execution_count": 145,
   "id": "75354b52",
   "metadata": {
    "scrolled": true
   },
   "outputs": [
    {
     "data": {
      "image/png": "[encoded data removed]",
      "text/plain": [
       "<Figure size 432x288 with 1 Axes>"
      ]
     },
     "metadata": {
      "needs_background": "light"
     },
     "output_type": "display_data"
    }
   ],
   "source": [
    "# estimate density\n",
    "from sklearn.neighbors import KernelDensity\n",
    "ds_names = ['Feynman', 'Strogatz', 'Univ', 'Nguyen']\n",
    "ds_colors = ['tab:blue', 'tab:orange', 'tab:green', 'tab:brown']\n",
    "\n",
    "x_values = np.linspace(0, 0.5, 1000).reshape(-1, 1)\n",
    "\n",
    "for ds_name, ds_color in zip(ds_names, ds_colors):\n",
    "\n",
    "    load_path = f'results/{ds_name}/local_minima.p'\n",
    "    if os.path.exists(load_path):\n",
    "        with open(load_path, 'rb') as handle:\n",
    "            results_dict = pickle.load(handle)\n",
    "            \n",
    "        ratios = np.array([results_dict[p] for p in results_dict])\n",
    "        kde = KernelDensity(kernel='gaussian', bandwidth = 0.1).fit(ratios.reshape(-1, 1))\n",
    "        log_densities = kde.score_samples(x_values)\n",
    "\n",
    "        plt.plot(x_values, np.exp(log_densities), color = ds_color, label = ds_name)\n",
    "\n",
    "\n",
    "plt.xlabel('Local minimum ratio')\n",
    "plt.ylabel('Density')\n",
    "plt.legend()\n",
    "\n",
    "if not os.path.exists('results/figures'):\n",
    "    os.mkdirs('results/figures')\n",
    "plt.savefig(f'results/figures/local_minima.pdf', bbox_inches = 'tight')"
   ]
  },
  {
   "cell_type": "markdown",
   "id": "9e5bfffd",
   "metadata": {},
   "source": [
    "## Fitness Distance Correlation"
   ]
  },
  {
   "cell_type": "code",
   "execution_count": 368,
   "id": "2bd0b2e6",
   "metadata": {},
   "outputs": [
    {
     "data": {
      "text/plain": [
       "<matplotlib.legend.Legend at 0x1e163e04850>"
      ]
     },
     "execution_count": 368,
     "metadata": {},
     "output_type": "execute_result"
    },
    {
     "data": {
      "image/png": "[encoded data removed]",
      "text/plain": [
       "<Figure size 432x288 with 1 Axes>"
      ]
     },
     "metadata": {
      "needs_background": "light"
     },
     "output_type": "display_data"
    }
   ],
   "source": [
    "# estimate density\n",
    "from sklearn.neighbors import KernelDensity\n",
    "ds_names = ['Feynman', 'Strogatz', 'Univ', 'Nguyen']\n",
    "ds_colors = ['tab:blue', 'tab:orange', 'tab:green', 'tab:brown']\n",
    "\n",
    "x_values = np.linspace(-1, 1, 1000).reshape(-1, 1)\n",
    "\n",
    "for ds_name, ds_color in zip(ds_names, ds_colors):\n",
    "\n",
    "    load_path = f'results/{ds_name}/fdc.p'\n",
    "    with open(load_path, 'rb') as handle:\n",
    "        results_dict = pickle.load(handle)\n",
    "    fdcs = np.array([results_dict[p] for p in results_dict])\n",
    "    kde = KernelDensity(kernel='gaussian', bandwidth = 0.1).fit(fdcs.reshape(-1, 1))\n",
    "    log_densities = kde.score_samples(x_values)\n",
    "    \n",
    "    plt.plot(x_values, np.exp(log_densities), color = ds_color, label = ds_name)\n",
    "\n",
    "\n",
    "plt.xlabel('Fitness-Distance correlation')\n",
    "plt.ylabel('Density')\n",
    "plt.legend()"
   ]
  },
  {
   "cell_type": "markdown",
   "id": "3c62876a",
   "metadata": {},
   "source": [
    "## Scalability\n",
    "\n",
    "Takeaway: Our Approach has potential to scale with\n",
    "\n",
    "- number of calculation nodes (= max size of expression)\n",
    "- number of orders (= coverage)"
   ]
  },
  {
   "cell_type": "code",
   "execution_count": 1500,
   "id": "e1e60fe0",
   "metadata": {},
   "outputs": [],
   "source": [
    "ds_name = 'Feynman'\n",
    "\n",
    "load_path = f'datasets/{ds_name}/tasks.p'\n",
    "with open(load_path, 'rb') as handle:\n",
    "    task_dict = pickle.load(handle)\n",
    "    \n",
    "load_path = f'results/{ds_name}/scalings.p'\n",
    "with open(load_path, 'rb') as handle:\n",
    "    res_dict = pickle.load(handle)\n",
    "\n",
    "seeds = sorted(list(res_dict.keys()))\n",
    "nodes = sorted(list(res_dict[seeds[0]].keys()))\n",
    "orders = sorted(list(res_dict[seeds[0]][nodes[0]].keys()))\n",
    "problems = list(task_dict.keys())\n",
    "\n",
    "# average results for each seed \n",
    "# how to access: [rand_state][n_calc_nodes][max_orders][problem]\n",
    "\n",
    "recovery_results = {}\n",
    "time_results = {}\n",
    "for n_calc_nodes in nodes:\n",
    "    recovery_results[n_calc_nodes] = {}\n",
    "    time_results[n_calc_nodes] = {}\n",
    "    \n",
    "    for max_orders in orders:\n",
    "        all_recs = []\n",
    "        all_times = []\n",
    "        for seed in seeds:\n",
    "            recs = []\n",
    "            times = []\n",
    "            \n",
    "            if (n_calc_nodes in res_dict[seed]) and (max_orders in res_dict[seed][n_calc_nodes]):  \n",
    "                #for problem in res_dict[seed][n_calc_nodes][max_orders]:\n",
    "                for problem in problems:\n",
    "                    recs += res_dict[seed][n_calc_nodes][max_orders][problem]['recovery']\n",
    "                    times += res_dict[seed][n_calc_nodes][max_orders][problem]['times']\n",
    "                avg_rec = np.mean(recs)\n",
    "                avg_time = np.mean(times)\n",
    "\n",
    "                all_recs.append(avg_rec)\n",
    "                all_times.append(avg_time)\n",
    "        # here we have lists with avg results for each seed    \n",
    "        \n",
    "        if len(all_recs) > 0:\n",
    "        \n",
    "            recovery_results[n_calc_nodes][max_orders] = np.mean(all_recs)\n",
    "            time_results[n_calc_nodes][max_orders] = np.mean(all_times)"
   ]
  },
  {
   "cell_type": "code",
   "execution_count": 1504,
   "id": "6df5129c",
   "metadata": {
    "scrolled": true
   },
   "outputs": [
    {
     "name": "stdout",
     "output_type": "stream",
     "text": [
      "\\begin{tabular}{cllll}\n",
      "\\diagbox{$n$}{$o$}&10000&50000&100000&200000\\\\\n",
      "\\toprule\n",
      "1&0.105&0.105&0.105&0.105\\\\\n",
      "2&0.318&0.337&0.337&0.337\\\\\n",
      "3&0.349&0.421&0.44&0.444\\\\\n",
      "4&0.387&0.444&0.459&0.478\\\\\n",
      "\\end{tabular}\n"
     ]
    }
   ],
   "source": [
    "# print table\n",
    "table_data, n_round = recovery_results, 3\n",
    "#table_data, n_round = time_results, 1\n",
    "\n",
    "\n",
    "# header\n",
    "s = '\\\\begin{tabular}{c' + 'l'*len(orders) + '}'\n",
    "print(s)\n",
    "\n",
    "s = '\\\\diagbox{$n$}{$o$}' # insert diag cell here\n",
    "for o in orders:\n",
    "    s += f'&{o}'\n",
    "s += '\\\\\\\\'\n",
    "print(s)\n",
    "print('\\\\toprule')\n",
    "\n",
    "# rows\n",
    "for n_calc_nodes in nodes:\n",
    "    s = str(n_calc_nodes)\n",
    "    for o in orders:\n",
    "        if n_calc_nodes in table_data:\n",
    "            if o in table_data[n_calc_nodes]:\n",
    "                v = np.round(table_data[n_calc_nodes][o], n_round)\n",
    "                s += f'&{v}'\n",
    "                  \n",
    "            else:\n",
    "                s += '&-'\n",
    "        else:\n",
    "            s += '&-'\n",
    "    s += '\\\\\\\\'\n",
    "    print(s)\n",
    "s = '\\\\end{tabular}'\n",
    "print(s)"
   ]
  },
  {
   "cell_type": "markdown",
   "id": "eead39a4",
   "metadata": {},
   "source": [
    "## Experiment: local minima\n",
    "\n",
    "Takeaway: Local Search does not work, because we have lots of local minima."
   ]
  },
  {
   "cell_type": "code",
   "execution_count": 71,
   "id": "c7c2b5fc",
   "metadata": {},
   "outputs": [],
   "source": [
    "load_path = 'results/local_minima_exp.p'\n",
    "with open(load_path, 'rb') as handle:\n",
    "    results = pickle.load(handle)"
   ]
  },
  {
   "cell_type": "code",
   "execution_count": 72,
   "id": "4986e0a3",
   "metadata": {},
   "outputs": [
    {
     "data": {
      "image/png": "[encoded data removed]",
      "text/plain": [
       "<Figure size 432x288 with 1 Axes>"
      ]
     },
     "metadata": {
      "needs_background": "light"
     },
     "output_type": "display_data"
    }
   ],
   "source": [
    "names = list(results.keys())\n",
    "values = [results[n]['groups'] for n in names]\n",
    "plt.bar(range(len(names)), values)\n",
    "plt.xticks(range(len(names)), names, rotation = 90)\n",
    "plt.ylabel(f'#Components among top {results[names[0]][\"topk\"]}')\n",
    "\n",
    "if not os.path.exists('results/figures'):\n",
    "    os.mkdirs('results/figures')\n",
    "plt.savefig(f'results/figures/local_minima.pdf', bbox_inches = 'tight')"
   ]
  },
  {
   "cell_type": "markdown",
   "id": "95da1ca6",
   "metadata": {},
   "source": [
    "## Experiment: Black Box vs. Symbolic\n",
    "\n",
    "Takeaway: If you care about model fit, use Black Box. "
   ]
  },
  {
   "cell_type": "code",
   "execution_count": 703,
   "id": "c298956a",
   "metadata": {},
   "outputs": [],
   "source": [
    "import pickle\n",
    "regs = ['linreg', 'polyreg2', 'polyreg3', 'operon', 'gplearn', 'DAGSearch', 'MLP', 'dsr', 'esr', 'DAGSearch_grad', 'DAGSearch_poly']\n",
    "ds_name = 'Feynman' # Strogatz, Feynman, Nguyen, Univ  \n",
    "\n",
    "load_path = f'datasets/{ds_name}/tasks.p'\n",
    "with open(load_path, 'rb') as handle:\n",
    "    task_dict = pickle.load(handle)"
   ]
  },
  {
   "cell_type": "markdown",
   "id": "b6d7ef69",
   "metadata": {},
   "source": [
    "Read Results"
   ]
  },
  {
   "cell_type": "code",
   "execution_count": 704,
   "id": "0ea9d9fe",
   "metadata": {},
   "outputs": [],
   "source": [
    "regressor_name = 'DAGSearch_poly'\n",
    "load_path = f'results/{ds_name}/{regressor_name}_results.p'\n",
    "if os.path.exists(load_path):\n",
    "    with open(load_path, 'rb') as handle:\n",
    "        results_dict1 = pickle.load(handle)\n",
    "\n",
    "regressor_name = 'DAGSearch'\n",
    "load_path = f'results/{ds_name}/{regressor_name}_results.p'\n",
    "if os.path.exists(load_path):\n",
    "    with open(load_path, 'rb') as handle:\n",
    "        results_dict2 = pickle.load(handle)"
   ]
  },
  {
   "cell_type": "code",
   "execution_count": 705,
   "id": "ff14cad8",
   "metadata": {
    "scrolled": true
   },
   "outputs": [
    {
     "name": "stdout",
     "output_type": "stream",
     "text": [
      "I.11.19 True False\n",
      "I.12.11 True False\n",
      "I.12.2 True False\n",
      "I.13.12 True False\n",
      "I.13.4 True False\n",
      "I.16.6 True False\n",
      "I.18.4 True False\n",
      "I.24.6 True False\n",
      "I.32.5 True False\n",
      "I.37.4 True False\n",
      "I.44.4 True False\n",
      "II.11.20 True False\n",
      "II.11.3 True False\n",
      "II.21.32 True False\n",
      "II.34.29b True False\n",
      "II.6.11 True False\n",
      "III.13.18 True False\n",
      "III.15.12 True False\n",
      "III.19.51 True False\n"
     ]
    }
   ],
   "source": [
    "for problem_name in results_dict1:\n",
    "    if problem_name in results_dict2:\n",
    "        rec1 = results_dict1[problem_name]['recovery'][0]\n",
    "        rec2 = results_dict2[problem_name]['recovery'][0]\n",
    "        if rec1 != rec2:\n",
    "            print(problem_name, rec1, rec2)"
   ]
  },
  {
   "cell_type": "code",
   "execution_count": 706,
   "id": "97c1ba1d",
   "metadata": {
    "scrolled": true
   },
   "outputs": [
    {
     "name": "stdout",
     "output_type": "stream",
     "text": [
      "100% finished\n",
      "I.10.7 [False] 3\n",
      "I.11.19 [True] 6\n",
      "I.12.1 [True] 2\n",
      "I.12.11 [True] 5\n",
      "I.12.2 [True] 4\n",
      "I.12.4 [True] 3\n",
      "I.12.5 [True] 2\n",
      "I.13.12 [True] 5\n",
      "I.13.4 [True] 4\n",
      "I.14.3 [True] 3\n",
      "I.14.4 [True] 2\n",
      "I.15.3t [False] 4\n",
      "I.15.3x [False] 4\n",
      "I.16.6 [True] 3\n",
      "I.18.12 [True] 3\n",
      "I.18.14 [True] 4\n",
      "I.18.4 [True] 4\n",
      "I.24.6 [True] 4\n",
      "I.25.13 [True] 2\n",
      "I.27.6 [True] 3\n",
      "I.29.16 [False] 4\n",
      "I.29.4 [True] 2\n",
      "I.30.3 [False] 3\n",
      "I.32.17 [False] 6\n",
      "I.32.5 [True] 4\n",
      "I.34.1 [True] 3\n",
      "I.34.14 [False] 3\n",
      "I.34.27 [True] 2\n",
      "I.34.8 [True] 4\n",
      "I.37.4 [True] 3\n",
      "I.38.12 [True] 4\n",
      "I.39.1 [True] 2\n",
      "I.39.11 [True] 3\n",
      "I.39.22 [True] 4\n",
      "I.40.1 [False] 6\n",
      "I.41.16 [False] 5\n",
      "I.43.16 [True] 4\n",
      "I.43.31 [True] 3\n",
      "I.43.43 [True] 4\n",
      "I.44.4 [True] 5\n",
      "I.47.23 [True] 3\n",
      "I.50.26 [False] 4\n",
      "I.6.2 [False] 2\n",
      "I.6.2a [True] 1\n",
      "I.6.2b [False] 3\n",
      "I.8.14 [False] 4\n",
      "I.9.18 [False] 9\n",
      "II.10.9 [True] 3\n",
      "II.11.20 [True] 5\n",
      "II.11.27 [False] 4\n",
      "II.11.28 [False] 2\n",
      "II.11.3 [True] 5\n",
      "II.13.17 [True] 4\n",
      "II.13.23 [False] 3\n",
      "II.13.34 [False] 3\n",
      "II.15.4 [True] 3\n",
      "II.15.5 [True] 3\n",
      "II.2.42 [True] 5\n",
      "II.21.32 [True] 5\n",
      "II.24.17 [False] 3\n",
      "II.27.16 [True] 3\n",
      "II.27.18 [True] 2\n",
      "II.3.24 [True] 2\n",
      "II.34.11 [True] 4\n",
      "II.34.2 [True] 3\n",
      "II.34.29a [True] 3\n",
      "II.34.29b [True] 5\n",
      "II.34.2a [True] 3\n",
      "II.35.18 [False] 5\n",
      "II.35.21 [False] 5\n",
      "II.36.38 [False] 8\n",
      "II.37.1 [True] 3\n",
      "II.38.14 [True] 2\n",
      "II.38.3 [True] 4\n",
      "II.4.23 [True] 3\n",
      "II.6.11 [True] 4\n",
      "II.6.15a [False] 6\n",
      "II.6.15b [False] 4\n",
      "II.8.31 [True] 2\n",
      "II.8.7 [True] 3\n",
      "III.10.19 [False] 4\n",
      "III.12.43 [True] 2\n",
      "III.13.18 [True] 4\n",
      "III.14.14 [False] 5\n",
      "III.15.12 [True] 3\n",
      "III.15.14 [True] 3\n",
      "III.15.27 [True] 3\n",
      "III.17.37 [True] 3\n",
      "III.19.51 [True] 5\n",
      "III.21.20 [True] 4\n",
      "III.4.32 [False] 4\n",
      "III.4.33 [False] 4\n",
      "III.7.38 [True] 3\n",
      "III.8.54 [False] 3\n",
      "III.9.52 [False] 6\n"
     ]
    }
   ],
   "source": [
    "p = len(results_dict1)/len(task_dict)\n",
    "print(f'{round(100*p)}% finished')\n",
    "for problem in results_dict1:\n",
    "    print(problem, results_dict1[problem]['recovery'], task_dict[problem]['X'].shape[1])"
   ]
  },
  {
   "cell_type": "code",
   "execution_count": 684,
   "id": "b05fd642",
   "metadata": {},
   "outputs": [],
   "source": [
    "from sklearn.metrics import r2_score\n",
    "# falsely not recovered expressions\n",
    "for problem in results_dict1.keys():\n",
    "    for y, pred, rec in zip(results_dict1[problem]['y_train'], results_dict1[problem]['pred_train'], results_dict1[problem]['recovery']):\n",
    "        try:\n",
    "            r2 = r2_score(y, pred)\n",
    "            \n",
    "            if r2 == 1.0 and not rec:\n",
    "                print(problem)\n",
    "        except:\n",
    "            print(f'Exception at {problem}')\n",
    "            pass\n",
    "    "
   ]
  },
  {
   "cell_type": "code",
   "execution_count": 685,
   "id": "9eed8ae1",
   "metadata": {
    "scrolled": true
   },
   "outputs": [],
   "source": [
    "from sklearn.metrics import r2_score\n",
    "# read results\n",
    "res = {}\n",
    "for regressor_name in regs:\n",
    "    load_path = f'results/{ds_name}/{regressor_name}_results.p'\n",
    "    if os.path.exists(load_path):\n",
    "        res[regressor_name] = {}\n",
    "        with open(load_path, 'rb') as handle:\n",
    "            results_dict = pickle.load(handle)\n",
    "\n",
    "        # avg. recovery\n",
    "        recoveries = []\n",
    "        for problem in results_dict.keys():\n",
    "            #for rec in results_dict[problem]['recovery']:\n",
    "            #    recoveries.append(rec)\n",
    "            for y, pred, rec in zip(results_dict[problem]['y_test'], results_dict[problem]['pred_test'], results_dict[problem]['recovery']):\n",
    "                r2 = r2_score(y, pred)\n",
    "                recoveries.append(rec or r2==1.0)\n",
    "        res[regressor_name]['recovery'] = np.mean(recoveries)\n",
    "\n",
    "\n",
    "        # avg. RMSE\n",
    "        rmses_train = []\n",
    "        rmses_test = []\n",
    "        for problem in results_dict.keys():\n",
    "            for y, pred in zip(results_dict[problem]['y_train'], results_dict[problem]['pred_train']):\n",
    "                rmse = np.sqrt(np.mean((y - pred)**2))\n",
    "                rmses_train.append(rmse)\n",
    "            for y, pred in zip(results_dict[problem]['y_test'], results_dict[problem]['pred_test']):\n",
    "                rmse = np.sqrt(np.mean((y - pred)**2))\n",
    "                rmses_test.append(rmse)\n",
    "        res[regressor_name]['rmse_train'] = np.mean(rmses_train)\n",
    "        res[regressor_name]['rmse_test'] = np.mean(rmses_test)\n",
    "\n",
    "        # median R2\n",
    "        r2s_train = []\n",
    "        r2s_test = []\n",
    "        for problem in results_dict.keys():\n",
    "            for y, pred in zip(results_dict[problem]['y_train'], results_dict[problem]['pred_train']):\n",
    "                r2 = r2_score(y, pred)\n",
    "                r2s_train.append(r2)\n",
    "            for y, pred in zip(results_dict[problem]['y_test'], results_dict[problem]['pred_test']):\n",
    "                r2 = r2_score(y, pred)\n",
    "                r2s_test.append(r2)\n",
    "        res[regressor_name]['r2_train'] = np.median(r2s_train)\n",
    "        res[regressor_name]['r2_test'] = np.median(r2s_test)\n",
    "            \n",
    "        # expression size\n",
    "        expr_sizes = []\n",
    "        for problem in results_dict.keys():\n",
    "            for expr in results_dict[problem]['exprs']:\n",
    "                expr_sizes.append(utils.tree_size(expr))\n",
    "        if len(expr_sizes) > 0:\n",
    "            res[regressor_name]['complexity'] = np.mean(expr_sizes)\n",
    "            \n",
    "        # processing times\n",
    "        time = 0.0\n",
    "        counter = 0\n",
    "        for problem in results_dict.keys():\n",
    "            for t in results_dict[problem]['times']:\n",
    "                time += t\n",
    "                counter += 1\n",
    "        time = time/counter\n",
    "        \n",
    "        res[regressor_name]['time'] = time"
   ]
  },
  {
   "cell_type": "code",
   "execution_count": 686,
   "id": "bf523771",
   "metadata": {
    "scrolled": true
   },
   "outputs": [
    {
     "data": {
      "text/plain": [
       "dict_keys(['DAGSearch_poly'])"
      ]
     },
     "execution_count": 686,
     "metadata": {},
     "output_type": "execute_result"
    }
   ],
   "source": [
    "res.keys()"
   ]
  },
  {
   "cell_type": "code",
   "execution_count": 674,
   "id": "c1387f75",
   "metadata": {},
   "outputs": [
    {
     "data": {
      "text/plain": [
       "{'recovery': 0.5894736842105263,\n",
       " 'rmse_train': 3.8690239903821055,\n",
       " 'rmse_test': 3.748260739387594,\n",
       " 'r2_train': 0.9999999999999977,\n",
       " 'r2_test': 0.9999999999999976,\n",
       " 'complexity': 11.91578947368421,\n",
       " 'time': 1745.6934323051235}"
      ]
     },
     "execution_count": 674,
     "metadata": {},
     "output_type": "execute_result"
    }
   ],
   "source": [
    "res['DAGSearch_grad']"
   ]
  },
  {
   "cell_type": "code",
   "execution_count": 687,
   "id": "55cf77fc",
   "metadata": {
    "scrolled": true
   },
   "outputs": [
    {
     "data": {
      "text/plain": [
       "{'recovery': 1.0,\n",
       " 'rmse_train': 0.0040364617985090894,\n",
       " 'rmse_test': 0.004028257532182031,\n",
       " 'r2_train': 1.0,\n",
       " 'r2_test': 1.0,\n",
       " 'complexity': 7.666666666666667,\n",
       " 'time': 58.43127061496489}"
      ]
     },
     "execution_count": 687,
     "metadata": {},
     "output_type": "execute_result"
    }
   ],
   "source": [
    "res['DAGSearch_poly']"
   ]
  },
  {
   "cell_type": "markdown",
   "id": "ab432261",
   "metadata": {},
   "source": [
    "### Plots"
   ]
  },
  {
   "cell_type": "code",
   "execution_count": 676,
   "id": "bb92ffd7",
   "metadata": {},
   "outputs": [],
   "source": [
    "reg_names = {\n",
    "    'esr' : 'ESR',\n",
    "    'DAGSearch' : 'DAGSearch',\n",
    "    'DAGSearch_grad' : 'DAGSearch_grad',\n",
    "    'DAGSearch_poly' : 'DAGSearch_poly',\n",
    "    'linreg' : 'LinReg',\n",
    "    'polyreg2' : 'PolyReg2',\n",
    "    'polyreg3' : 'PolyReg3',\n",
    "    'gplearn' : 'GPlearn',\n",
    "    'dsr' : 'DSR',\n",
    "    'operon' : 'Operon',\n",
    "    'MLP' : 'MLP'\n",
    "}\n",
    "\n",
    "crit_names = {\n",
    "    'recovery' : 'Recovery',\n",
    "    'rmse_train' : 'RMSE Train',\n",
    "    'rmse_test' : 'RMSE Test',\n",
    "    'r2_train' : '$R^2$ Train',\n",
    "    'r2_test' : '$R^2$ Test',\n",
    "    'complexity' : 'Complexity',\n",
    "    'time' : 'Processing Time'\n",
    "}"
   ]
  },
  {
   "cell_type": "code",
   "execution_count": 677,
   "id": "bc6062f6",
   "metadata": {},
   "outputs": [],
   "source": [
    "def get_pareto_idxs(obj1, obj2):\n",
    "    M = np.column_stack([obj1, obj2])\n",
    "    ret = []\n",
    "    for i, p in enumerate(M):\n",
    "        is_dominated = np.any(np.all(M < p, axis = 1))\n",
    "        if not is_dominated:\n",
    "            ret.append(i)\n",
    "    return np.array(ret)"
   ]
  },
  {
   "cell_type": "code",
   "execution_count": 678,
   "id": "64c81fa1",
   "metadata": {},
   "outputs": [
    {
     "data": {
      "image/png": "[encoded data removed]",
      "text/plain": [
       "<Figure size 432x288 with 1 Axes>"
      ]
     },
     "metadata": {
      "needs_background": "light"
     },
     "output_type": "display_data"
    }
   ],
   "source": [
    "cat_x = 'r2_test'\n",
    "cat_x = 'recovery'\n",
    "def_value_x = 0.0\n",
    "cat_y = 'complexity'\n",
    "def_value_y = np.inf\n",
    "\n",
    "# assume lower is better (negate R2, recovery)\n",
    "\n",
    "regs_present = list(res.keys())\n",
    "v1 = -np.array([res[regressor_name][cat_x] if cat_x in res[regressor_name] else def_value_x for regressor_name in regs_present])\n",
    "v2 = np.array([res[regressor_name][cat_y] if cat_y in res[regressor_name] else def_value_y for regressor_name in regs_present])\n",
    "\n",
    "ranks_x = np.argsort(np.argsort(v1))\n",
    "ranks_y = np.argsort(np.argsort(v2))\n",
    "\n",
    "\n",
    "pareto_idxs = get_pareto_idxs(ranks_x, ranks_y)\n",
    "pareto_idxs = pareto_idxs[np.argsort([ranks_x[i] for i in pareto_idxs])] # sort by x rank (for plotting)\n",
    "\n",
    "plt.scatter(ranks_x, ranks_y, zorder = 1)\n",
    "plt.plot([ranks_x[i] for i in pareto_idxs], [ranks_y[i] for i in pareto_idxs], color = 'gray', linestyle = '--', zorder = 0)\n",
    "\n",
    "\n",
    "# add labels\n",
    "offset_x = 0.9\n",
    "offset_y = 0.9\n",
    "for i in range(len(regs_present)):\n",
    "    s = reg_names[regs_present[i]]\n",
    "    x = ranks_x[i]\n",
    "    y = ranks_y[i] + .3\n",
    "    ha = 'center'\n",
    "    va = 'bottom'\n",
    "    plt.text(s = s, x = x, y = y, ha = ha, va = va, bbox=dict(facecolor='w', edgecolor='black', boxstyle='round', alpha=0.3))\n",
    "plt.xlim(0-offset_x, len(regs_present)-1+offset_x)\n",
    "plt.ylim(0-offset_y, len(regs_present)-1+offset_y)\n",
    "plt.xticks(range(len(regs_present)))\n",
    "plt.yticks(range(len(regs_present)))\n",
    "\n",
    "plt.xlabel(f'Rank {crit_names[cat_x]}')\n",
    "plt.ylabel(f'Rank {crit_names[cat_y]}')\n",
    "plt.title(f'{ds_name} Problems')\n",
    "\n",
    "\n",
    "if not os.path.exists('results/figures'):\n",
    "    os.mkdirs('results/figures')\n",
    "plt.savefig(f'results/figures/scatterplot_{ds_name}.pdf', bbox_inches = 'tight')"
   ]
  },
  {
   "cell_type": "code",
   "execution_count": 688,
   "id": "8bec4d97",
   "metadata": {},
   "outputs": [
    {
     "name": "stdout",
     "output_type": "stream",
     "text": [
      "\\begin{tabular}{llllllll}\n",
      "&Recovery&RMSE Train&RMSE Test&$R^2$ Train&$R^2$ Test&Complexity&Processing Time\\\\\n",
      "\\toprule\n",
      "DAGSearch_poly&1.0&0.0&0.0&1.0&1.0&7.67&58.43\\\\\n",
      "\\end{tabular}\n"
     ]
    }
   ],
   "source": [
    "# print a table\n",
    "\n",
    "regs = list(res.keys())\n",
    "crits = list(res[regs[0]].keys())\n",
    "\n",
    "\n",
    "sort_idx = np.argsort([-res[reg]['recovery'] for reg in regs])\n",
    "regs = [regs[i] for i in sort_idx]\n",
    "\n",
    "# header\n",
    "s = '\\\\begin{tabular}{l' + 'l'*len(crits) + '}'\n",
    "print(s)\n",
    "s = ''\n",
    "for crit in crits:\n",
    "    s += f'&{crit_names[crit]}'\n",
    "s += '\\\\\\\\'\n",
    "print(s)\n",
    "print('\\\\toprule')\n",
    "\n",
    "# rows\n",
    "for reg in regs:\n",
    "    s = reg_names[reg]\n",
    "    for crit in crits:\n",
    "        if crit in res[reg]:\n",
    "            v = res[reg][crit]\n",
    "            v = np.round(v, 2)\n",
    "            s += f'&{v}'\n",
    "        else:\n",
    "            s += '&-'\n",
    "    s += '\\\\\\\\'\n",
    "    print(s)\n",
    "s = '\\\\end{tabular}'\n",
    "print(s)"
   ]
  },
  {
   "cell_type": "markdown",
   "id": "1fbe710b",
   "metadata": {},
   "source": [
    "## Experiment: Symbolic vs. Numeric Proximity\n",
    "\n",
    "Fitness Distance Correlation\n",
    "\n",
    "Takeaway: Symbolic Measures do not correlate with Numeric Measures"
   ]
  },
  {
   "cell_type": "code",
   "execution_count": 83,
   "id": "42008969",
   "metadata": {
    "scrolled": true
   },
   "outputs": [
    {
     "data": {
      "image/png": "[encoded data removed]",
      "text/plain": [
       "<Figure size 432x288 with 2 Axes>"
      ]
     },
     "metadata": {
      "needs_background": "light"
     },
     "output_type": "display_data"
    }
   ],
   "source": [
    "corr_matrix = np.load('results/corr_matrix.npy')\n",
    "with open(f'results/distance_dict.p', 'rb') as handle:\n",
    "    dist_dict = pickle.load(handle)\n",
    "methods = list(dist_dict.keys())\n",
    "\n",
    "\n",
    "plt.imshow(corr_matrix, vmin = -1, vmax = 1, cmap = 'bwr')\n",
    "plt.colorbar()\n",
    "plt.xticks(range(corr_matrix.shape[0]), methods, rotation = 90)\n",
    "plt.yticks(range(corr_matrix.shape[0]), methods)\n",
    "plt.title('Correlation')\n",
    "\n",
    "if not os.path.exists('results/figures'):\n",
    "    os.mkdirs('results/figures')\n",
    "plt.savefig('results/figures/corr_plot.pdf', bbox_inches = 'tight')"
   ]
  }
 ],
 "metadata": {
  "kernelspec": {
   "display_name": "Python 3 (ipykernel)",
   "language": "python",
   "name": "python3"
  },
  "language_info": {
   "codemirror_mode": {
    "name": "ipython",
    "version": 3
   },
   "file_extension": ".py",
   "mimetype": "text/x-python",
   "name": "python",
   "nbconvert_exporter": "python",
   "pygments_lexer": "ipython3",
   "version": "3.9.12"
  }
 },
 "nbformat": 4,
 "nbformat_minor": 5
}
