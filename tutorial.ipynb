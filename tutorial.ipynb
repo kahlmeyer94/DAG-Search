{
 "cells": [
  {
   "cell_type": "markdown",
   "id": "28d18c4a",
   "metadata": {},
   "source": [
    "# Symbolic DAG Search - Tutorial\n",
    "\n",
    "This tutorial is meant to get you familiar with the usage of this module.\n",
    "\n",
    "Basically, we are looking for computational DAG that has the lowest loss for a given input.\n",
    "\n",
    "Let $X\\in \\mathbb{R}^{N\\times m}$ be an input matrix of $N$ samples with dimension $m$.\\\n",
    "Let further $U = \\{f : \\mathbb{R}^m\\rightarrow \\mathbb{R}^n\\}$ be the set of all functions that map $m$-dimensional input to $n$-dimensional output.\n",
    "Then we are looking for \n",
    "\n",
    "\\begin{align*}\n",
    "\\text{argmin}_{f\\in U}L(f_X)\\,,\n",
    "\\end{align*}\n",
    "\n",
    "that is the function that minimizes a loss function $L$ on the function $f$ at the samples $X$.\n",
    "\n",
    "As we shall see later, this is not restricted to regression tasks and can involve any loss that depends on function values or gradients of the function at the input samples."
   ]
  },
  {
   "cell_type": "code",
   "execution_count": 1,
   "id": "fe6b19b7",
   "metadata": {},
   "outputs": [],
   "source": [
    "import numpy as np\n",
    "import matplotlib.pyplot as plt\n",
    "from DAG_search import dag_search\n",
    "from DAG_search import comp_graph"
   ]
  },
  {
   "cell_type": "markdown",
   "id": "fc3c8e5e",
   "metadata": {},
   "source": [
    "## Simple Regression\n",
    "\n",
    "The most basic use case is Regression, where we want the function values to fit to some given values. That is we are looking for \n",
    "\n",
    "\\begin{align}\n",
    "\\text{argmin}_{f}\\cfrac{1}{N}\\sum_{i=1}^N\\left(f(X_i) - y_i\\right)^2\n",
    "\\end{align}\n",
    "\n",
    "For simple 1D Problems, we can use the scikit-learn Interface.\n",
    "\n",
    "Note: Following the convention of sklearn regressors, $y$ has to be a 1D vector here.\n",
    "\n",
    "**Example**:\n",
    "\n",
    "Symbolic Regression for the function\n",
    "\n",
    "\\begin{align}\n",
    "f(x) = \\sin(x_0^2) + x_1\n",
    "\\end{align}"
   ]
  },
  {
   "cell_type": "code",
   "execution_count": 2,
   "id": "c277b515",
   "metadata": {
    "scrolled": false
   },
   "outputs": [
    {
     "name": "stdout",
     "output_type": "stream",
     "text": [
      "Creating evaluation orders\n"
     ]
    },
    {
     "name": "stderr",
     "output_type": "stream",
     "text": [
      "100%|██████████████████████████████████████████████████████████████████████████| 7200/7200 [00:00<00:00, 185132.44it/s]\n"
     ]
    },
    {
     "name": "stdout",
     "output_type": "stream",
     "text": [
      "Total orders: 405\n",
      "Evaluating orders\n"
     ]
    },
    {
     "name": "stderr",
     "output_type": "stream",
     "text": [
      " 22%|██████████████▊                                                     | 88/405 [00:03<00:13, 23.98it/s, best_loss=0]"
     ]
    },
    {
     "name": "stdout",
     "output_type": "stream",
     "text": [
      "Optimizing best constants\n",
      "Found graph with loss 0.0\n"
     ]
    },
    {
     "name": "stderr",
     "output_type": "stream",
     "text": [
      "\n"
     ]
    },
    {
     "data": {
      "text/html": [
       "<style>#sk-container-id-1 {color: black;}#sk-container-id-1 pre{padding: 0;}#sk-container-id-1 div.sk-toggleable {background-color: white;}#sk-container-id-1 label.sk-toggleable__label {cursor: pointer;display: block;width: 100%;margin-bottom: 0;padding: 0.3em;box-sizing: border-box;text-align: center;}#sk-container-id-1 label.sk-toggleable__label-arrow:before {content: \"▸\";float: left;margin-right: 0.25em;color: #696969;}#sk-container-id-1 label.sk-toggleable__label-arrow:hover:before {color: black;}#sk-container-id-1 div.sk-estimator:hover label.sk-toggleable__label-arrow:before {color: black;}#sk-container-id-1 div.sk-toggleable__content {max-height: 0;max-width: 0;overflow: hidden;text-align: left;background-color: #f0f8ff;}#sk-container-id-1 div.sk-toggleable__content pre {margin: 0.2em;color: black;border-radius: 0.25em;background-color: #f0f8ff;}#sk-container-id-1 input.sk-toggleable__control:checked~div.sk-toggleable__content {max-height: 200px;max-width: 100%;overflow: auto;}#sk-container-id-1 input.sk-toggleable__control:checked~label.sk-toggleable__label-arrow:before {content: \"▾\";}#sk-container-id-1 div.sk-estimator input.sk-toggleable__control:checked~label.sk-toggleable__label {background-color: #d4ebff;}#sk-container-id-1 div.sk-label input.sk-toggleable__control:checked~label.sk-toggleable__label {background-color: #d4ebff;}#sk-container-id-1 input.sk-hidden--visually {border: 0;clip: rect(1px 1px 1px 1px);clip: rect(1px, 1px, 1px, 1px);height: 1px;margin: -1px;overflow: hidden;padding: 0;position: absolute;width: 1px;}#sk-container-id-1 div.sk-estimator {font-family: monospace;background-color: #f0f8ff;border: 1px dotted black;border-radius: 0.25em;box-sizing: border-box;margin-bottom: 0.5em;}#sk-container-id-1 div.sk-estimator:hover {background-color: #d4ebff;}#sk-container-id-1 div.sk-parallel-item::after {content: \"\";width: 100%;border-bottom: 1px solid gray;flex-grow: 1;}#sk-container-id-1 div.sk-label:hover label.sk-toggleable__label {background-color: #d4ebff;}#sk-container-id-1 div.sk-serial::before {content: \"\";position: absolute;border-left: 1px solid gray;box-sizing: border-box;top: 0;bottom: 0;left: 50%;z-index: 0;}#sk-container-id-1 div.sk-serial {display: flex;flex-direction: column;align-items: center;background-color: white;padding-right: 0.2em;padding-left: 0.2em;position: relative;}#sk-container-id-1 div.sk-item {position: relative;z-index: 1;}#sk-container-id-1 div.sk-parallel {display: flex;align-items: stretch;justify-content: center;background-color: white;position: relative;}#sk-container-id-1 div.sk-item::before, #sk-container-id-1 div.sk-parallel-item::before {content: \"\";position: absolute;border-left: 1px solid gray;box-sizing: border-box;top: 0;bottom: 0;left: 50%;z-index: -1;}#sk-container-id-1 div.sk-parallel-item {display: flex;flex-direction: column;z-index: 1;position: relative;background-color: white;}#sk-container-id-1 div.sk-parallel-item:first-child::after {align-self: flex-end;width: 50%;}#sk-container-id-1 div.sk-parallel-item:last-child::after {align-self: flex-start;width: 50%;}#sk-container-id-1 div.sk-parallel-item:only-child::after {width: 0;}#sk-container-id-1 div.sk-dashed-wrapped {border: 1px dashed gray;margin: 0 0.4em 0.5em 0.4em;box-sizing: border-box;padding-bottom: 0.4em;background-color: white;}#sk-container-id-1 div.sk-label label {font-family: monospace;font-weight: bold;display: inline-block;line-height: 1.2em;}#sk-container-id-1 div.sk-label-container {text-align: center;}#sk-container-id-1 div.sk-container {/* jupyter's `normalize.less` sets `[hidden] { display: none; }` but bootstrap.min.css set `[hidden] { display: none !important; }` so we also need the `!important` here to be able to override the default hidden behavior on the sphinx rendered scikit-learn.org. See: https://github.com/scikit-learn/scikit-learn/issues/21755 */display: inline-block !important;position: relative;}#sk-container-id-1 div.sk-text-repr-fallback {display: none;}</style><div id=\"sk-container-id-1\" class=\"sk-top-container\"><div class=\"sk-text-repr-fallback\"><pre>DAGRegressor(max_orders=10000, n_calc_nodes=2, positives=array([ True,  True]))</pre><b>In a Jupyter environment, please rerun this cell to show the HTML representation or trust the notebook. <br />On GitHub, the HTML representation is unable to render, please try loading this page with nbviewer.org.</b></div><div class=\"sk-container\" hidden><div class=\"sk-item\"><div class=\"sk-estimator sk-toggleable\"><input class=\"sk-toggleable__control sk-hidden--visually\" id=\"sk-estimator-id-1\" type=\"checkbox\" checked><label for=\"sk-estimator-id-1\" class=\"sk-toggleable__label sk-toggleable__label-arrow\">DAGRegressor</label><div class=\"sk-toggleable__content\"><pre>DAGRegressor(max_orders=10000, n_calc_nodes=2, positives=array([ True,  True]))</pre></div></div></div></div></div>"
      ],
      "text/plain": [
       "DAGRegressor(max_orders=10000, n_calc_nodes=2, positives=array([ True,  True]))"
      ]
     },
     "execution_count": 2,
     "metadata": {},
     "output_type": "execute_result"
    }
   ],
   "source": [
    "# define regression problem\n",
    "X = np.random.rand(100, 2)\n",
    "y = np.sin(X[:, 0]**2) + X[:, 1]\n",
    "\n",
    "# use regressor\n",
    "est = dag_search.DAGRegressor(n_calc_nodes = 2, max_orders = int(1e4))\n",
    "est.fit(X, y, verbose = 2)"
   ]
  },
  {
   "cell_type": "markdown",
   "id": "6da15768",
   "metadata": {},
   "source": [
    "The model can be evaluated symbolically"
   ]
  },
  {
   "cell_type": "code",
   "execution_count": 3,
   "id": "b85c91bc",
   "metadata": {},
   "outputs": [
    {
     "data": {
      "text/latex": [
       "$\\displaystyle x_{1} + \\sin{\\left(x_{0}^{2} \\right)}$"
      ],
      "text/plain": [
       "x_1 + sin(x_0**2)"
      ]
     },
     "execution_count": 3,
     "metadata": {},
     "output_type": "execute_result"
    }
   ],
   "source": [
    "# get symbolic expression\n",
    "est.model()"
   ]
  },
  {
   "cell_type": "markdown",
   "id": "45d98fff",
   "metadata": {},
   "source": [
    "or numerically"
   ]
  },
  {
   "cell_type": "code",
   "execution_count": 4,
   "id": "15d096f6",
   "metadata": {},
   "outputs": [
    {
     "data": {
      "image/png": "[encoded data removed]",
      "text/plain": [
       "<Figure size 432x288 with 1 Axes>"
      ]
     },
     "metadata": {
      "needs_background": "light"
     },
     "output_type": "display_data"
    }
   ],
   "source": [
    "# predict\n",
    "pred = est.predict(X)\n",
    "\n",
    "\n",
    "# plotting\n",
    "plt.scatter(X[:, 0], y, label = 'truth')\n",
    "plt.scatter(X[:, 0], pred, marker = 'x', color = 'red', label = 'predicted')\n",
    "plt.legend()\n",
    "plt.ylabel(f'$f(x)$')\n",
    "plt.show()"
   ]
  },
  {
   "cell_type": "markdown",
   "id": "64c48460",
   "metadata": {},
   "source": [
    "## Multidimensional Regression\n",
    "\n",
    "In the case of $y\\in\\mathbb{R}^n$ being multidimensional one can either\n",
    "\n",
    "1. treat it as $n$ seperate regression problems. This has the advantage of the search space staying small.\n",
    "2. use a multidimensional loss function. This formulation can make use of shared subexpressions between the outputs.\n",
    "\\begin{align}\n",
    "\\text{argmin}_{f}\\cfrac{1}{Nn}\\sum_{j=1}^n\\sum_{i=1}^N\\left(f(X_i)_j - y_{ij}\\right)^2\n",
    "\\end{align}\n",
    "\n",
    "In case of 1. refer to the example above or use the following example with $n=1$. In case of 2. we support two different methods:\n",
    "\n",
    "1. **Exhaustive search**: Builds up function skeletons and then tests each assignment of operators to each skeleton.\n",
    "2. **Sample search**: Randomly samples functions and evaluates them.\n",
    "\n",
    "Both methods return their solutions in the form of computational DAGs"
   ]
  },
  {
   "cell_type": "markdown",
   "id": "b0418e06",
   "metadata": {},
   "source": [
    "**Example**: \n",
    "\n",
    "Symbolic Regression for the function\n",
    "\n",
    "\\begin{align}\n",
    "f(x) = \\begin{bmatrix}\n",
    "0.5x\\\\\n",
    "-x\n",
    "\\end{bmatrix}\n",
    "\\end{align}"
   ]
  },
  {
   "cell_type": "code",
   "execution_count": 5,
   "id": "8f497c94",
   "metadata": {},
   "outputs": [],
   "source": [
    "# Problem definition\n",
    "X = np.random.rand(100, 1)\n",
    "c = 0.5\n",
    "y = np.column_stack([c*X[:,0], -X[:,0]])"
   ]
  },
  {
   "cell_type": "markdown",
   "id": "b1067473",
   "metadata": {},
   "source": [
    "### Exhaustive Search"
   ]
  },
  {
   "cell_type": "code",
   "execution_count": 6,
   "id": "689eea4b",
   "metadata": {
    "scrolled": true
   },
   "outputs": [
    {
     "name": "stdout",
     "output_type": "stream",
     "text": [
      "Creating evaluation orders\n"
     ]
    },
    {
     "name": "stderr",
     "output_type": "stream",
     "text": [
      "100%|████████████████████████████████████████████████████████████████████████████| 864/864 [00:00<00:00, 141856.99it/s]\n"
     ]
    },
    {
     "name": "stdout",
     "output_type": "stream",
     "text": [
      "Total orders: 305\n",
      "Evaluating orders\n"
     ]
    },
    {
     "name": "stderr",
     "output_type": "stream",
     "text": [
      "  6%|████▏                                                               | 19/305 [00:01<00:16, 17.41it/s, best_loss=0]\n"
     ]
    }
   ],
   "source": [
    "# define loss function\n",
    "loss_fkt = dag_search.MSE_loss_fkt(y)\n",
    "\n",
    "# search\n",
    "params = {\n",
    "    'X' : X,\n",
    "    'n_outps' : y.shape[1],\n",
    "    'loss_fkt' : loss_fkt,\n",
    "    'k' : 1,\n",
    "    'n_calc_nodes' : 1,\n",
    "    'n_processes' : 1,\n",
    "    'topk' : 5,\n",
    "    'opt_mode' : 'grid_zoom',\n",
    "    'verbose' : 2,\n",
    "    'max_orders' : 10000, \n",
    "    'stop_thresh' : 1e-4,\n",
    "    'max_time' : 3600.0\n",
    "}\n",
    "\n",
    "res = dag_search.exhaustive_search(**params)"
   ]
  },
  {
   "cell_type": "markdown",
   "id": "d0025858",
   "metadata": {},
   "source": [
    "Lets view the solutions found.\n",
    "\n",
    "The result is a dictionary containing the top-k solutions that were encountered.\n",
    "\n",
    "Each solution consists of a `graph` and its `constants`."
   ]
  },
  {
   "cell_type": "code",
   "execution_count": 7,
   "id": "7b9ff3a4",
   "metadata": {
    "scrolled": true
   },
   "outputs": [
    {
     "name": "stdout",
     "output_type": "stream",
     "text": [
      "Loss: 0.0\n"
     ]
    },
    {
     "data": {
      "text/plain": [
       "<networkx.classes.multidigraph.MultiDiGraph at 0x27f98babeb0>"
      ]
     },
     "execution_count": 7,
     "metadata": {},
     "output_type": "execute_result"
    },
    {
     "data": {
      "image/png": "[encoded data removed]",
      "text/plain": [
       "<Figure size 432x288 with 1 Axes>"
      ]
     },
     "metadata": {},
     "output_type": "display_data"
    }
   ],
   "source": [
    "idx = 0 # solution number\n",
    "graph = res['graphs'][idx]\n",
    "consts = res['consts'][idx]\n",
    "loss = res['losses'][idx]\n",
    "print(f'Loss: {loss}')\n",
    "\n",
    "comp_graph.plot_cgraph(graph, ax = plt.gca())"
   ]
  },
  {
   "cell_type": "markdown",
   "id": "6132702d",
   "metadata": {},
   "source": [
    "The graph can be evaluated symbolically and will return a list of symbolic expressions (one for each output dimension):"
   ]
  },
  {
   "cell_type": "code",
   "execution_count": 8,
   "id": "a548eec9",
   "metadata": {},
   "outputs": [
    {
     "name": "stdout",
     "output_type": "stream",
     "text": [
      "0.5*x_0\n",
      "-x_0\n"
     ]
    }
   ],
   "source": [
    "exprs = graph.evaluate_symbolic(c = consts)\n",
    "for expr in exprs:\n",
    "    print(expr)"
   ]
  },
  {
   "cell_type": "markdown",
   "id": "5ce77d21",
   "metadata": {},
   "source": [
    "Or it can be evaluated numerically for prediction:"
   ]
  },
  {
   "cell_type": "code",
   "execution_count": 9,
   "id": "e62690bc",
   "metadata": {},
   "outputs": [
    {
     "data": {
      "image/png": "[encoded data removed]",
      "text/plain": [
       "<Figure size 432x288 with 2 Axes>"
      ]
     },
     "metadata": {
      "needs_background": "light"
     },
     "output_type": "display_data"
    }
   ],
   "source": [
    "# predict\n",
    "pred = graph.evaluate(X, c = consts)\n",
    "\n",
    "\n",
    "# plotting\n",
    "fig, axs = plt.subplots(ncols = y.shape[1])\n",
    "for i in range(y.shape[1]):\n",
    "    axs[i].scatter(X[:, 0], y[:, i], label = 'truth')\n",
    "    axs[i].scatter(X[:, 0], pred[:, i], marker = 'x', color = 'red', label = 'predicted')\n",
    "    axs[i].legend()\n",
    "    axs[i].set_ylabel(f'$f(x)_{i}$')\n",
    "plt.tight_layout()\n",
    "plt.show()"
   ]
  },
  {
   "cell_type": "markdown",
   "id": "0267f586",
   "metadata": {},
   "source": [
    "### Sample Search\n",
    "\n",
    "Lets go trough the same pipeline for the sampling search:"
   ]
  },
  {
   "cell_type": "code",
   "execution_count": 10,
   "id": "6a02257e",
   "metadata": {},
   "outputs": [
    {
     "name": "stdout",
     "output_type": "stream",
     "text": [
      "Generating graphs\n"
     ]
    },
    {
     "name": "stderr",
     "output_type": "stream",
     "text": [
      "100%|███████████████████████████████████████████████████████████████████████████| 10000/10000 [00:12<00:00, 770.23it/s]\n"
     ]
    },
    {
     "name": "stdout",
     "output_type": "stream",
     "text": [
      "Evaluating graphs\n"
     ]
    },
    {
     "name": "stderr",
     "output_type": "stream",
     "text": [
      "  9%|█████▋                                                          | 898/10000 [00:01<00:10, 877.31it/s, best_loss=0]\n"
     ]
    }
   ],
   "source": [
    "# define loss function\n",
    "loss_fkt = dag_search.MSE_loss_fkt(y)\n",
    "\n",
    "params = {\n",
    "    'X' : X,\n",
    "    'n_outps' : y.shape[1],\n",
    "    'loss_fkt' : loss_fkt,\n",
    "    'k' : 1,\n",
    "    'n_calc_nodes' : 5,\n",
    "    'n_processes' : 1,\n",
    "    'topk' : 5,\n",
    "    'opt_mode' : 'grid_zoom',\n",
    "    'verbose' : 2,\n",
    "    'n_samples' : 10000,\n",
    "    'stop_thresh' : 1e-4\n",
    "    \n",
    "}\n",
    "res = dag_search.sample_search(**params)"
   ]
  },
  {
   "cell_type": "markdown",
   "id": "462729ef",
   "metadata": {},
   "source": [
    "Select a solution:"
   ]
  },
  {
   "cell_type": "code",
   "execution_count": 11,
   "id": "22756570",
   "metadata": {},
   "outputs": [
    {
     "name": "stdout",
     "output_type": "stream",
     "text": [
      "Loss: 0.0\n"
     ]
    },
    {
     "data": {
      "text/plain": [
       "<networkx.classes.multidigraph.MultiDiGraph at 0x27f98ccc940>"
      ]
     },
     "execution_count": 11,
     "metadata": {},
     "output_type": "execute_result"
    },
    {
     "data": {
      "image/png": "[encoded data removed]",
      "text/plain": [
       "<Figure size 432x288 with 1 Axes>"
      ]
     },
     "metadata": {},
     "output_type": "display_data"
    }
   ],
   "source": [
    "idx = 0 # solution number\n",
    "graph = res['graphs'][idx]\n",
    "consts = res['consts'][idx]\n",
    "loss = res['losses'][idx]\n",
    "print(f'Loss: {loss}')\n",
    "\n",
    "comp_graph.plot_cgraph(graph, ax = plt.gca())"
   ]
  },
  {
   "cell_type": "markdown",
   "id": "056a06a6",
   "metadata": {},
   "source": [
    "And evaluate it symbolically"
   ]
  },
  {
   "cell_type": "code",
   "execution_count": 12,
   "id": "80e50934",
   "metadata": {},
   "outputs": [
    {
     "name": "stdout",
     "output_type": "stream",
     "text": [
      "0.5*x_0\n",
      "-x_0\n"
     ]
    }
   ],
   "source": [
    "exprs = graph.evaluate_symbolic(c = consts)\n",
    "for expr in exprs:\n",
    "    print(expr)"
   ]
  },
  {
   "cell_type": "markdown",
   "id": "0b9e8d18",
   "metadata": {},
   "source": [
    "Or numerically"
   ]
  },
  {
   "cell_type": "code",
   "execution_count": 13,
   "id": "b08011b4",
   "metadata": {},
   "outputs": [
    {
     "data": {
      "image/png": "[encoded data removed]",
      "text/plain": [
       "<Figure size 432x288 with 2 Axes>"
      ]
     },
     "metadata": {
      "needs_background": "light"
     },
     "output_type": "display_data"
    }
   ],
   "source": [
    "# predict\n",
    "pred = graph.evaluate(X, c = consts)\n",
    "\n",
    "\n",
    "# plotting\n",
    "fig, axs = plt.subplots(ncols = y.shape[1])\n",
    "for i in range(y.shape[1]):\n",
    "    axs[i].scatter(X[:, 0], y[:, i], label = 'truth')\n",
    "    axs[i].scatter(X[:, 0], pred[:, i], marker = 'x', color = 'red', label = 'predicted')\n",
    "    axs[i].legend()\n",
    "    axs[i].set_ylabel(f'$f(x)_{i}$')\n",
    "plt.tight_layout()\n",
    "plt.show()"
   ]
  },
  {
   "cell_type": "markdown",
   "id": "a787887c",
   "metadata": {},
   "source": [
    "## Custom Loss Function - Classification\n",
    "\n",
    "The DAG search is not restricted to Regression tasks. In fact we can define **any loss function that depends on the function- or the gradient values**.\\\n",
    "The only restriction is that the target minimum has to be 0.\n",
    "\n",
    "Lets consider the problem of finding a classification function."
   ]
  },
  {
   "cell_type": "code",
   "execution_count": 14,
   "id": "39a93772",
   "metadata": {
    "scrolled": true
   },
   "outputs": [
    {
     "data": {
      "text/plain": [
       "<matplotlib.collections.PathCollection at 0x27f9c4a9160>"
      ]
     },
     "execution_count": 14,
     "metadata": {},
     "output_type": "execute_result"
    },
    {
     "data": {
      "image/png": "[encoded data removed]",
      "text/plain": [
       "<Figure size 432x288 with 1 Axes>"
      ]
     },
     "metadata": {
      "needs_background": "light"
     },
     "output_type": "display_data"
    }
   ],
   "source": [
    "from sklearn.datasets import make_circles\n",
    "X, y = make_circles(n_samples=500, noise=0.1, factor=0.2, random_state=1)\n",
    "plt.scatter(X[:, 0], X[:, 1], c = y)"
   ]
  },
  {
   "cell_type": "markdown",
   "id": "8f702d21",
   "metadata": {},
   "source": [
    "Our goal is to find a function $f$, such that we can classify using\n",
    "\\begin{align}\n",
    "\\kappa(x_0, x_1) = \\begin{cases}\n",
    "1&\\text{, if }f(x_1, x_0) < 0\\\\\n",
    "0&\\text{, if }f(x_1, x_0) \\geq 0\\\\\n",
    "\\end{cases}\n",
    "\\end{align}\n",
    "\n",
    "We can formulate this as an optimization problem with a loss function\n",
    "\\begin{align}\n",
    "L(f) &= 1 - \\cfrac{1}{N}\\mathbb{1}[\\kappa(X_i) = y_i]\\,,\n",
    "\\end{align}\n",
    "where we simply calculate 1 minus the accuracy if we take $f$ for classification.\n",
    "\n",
    "To define our custom loss function, we should inherit from `dag_search.DAG_Loss_fkt`.\n",
    "See the example below.\n",
    "\n",
    "Note that we evaluate for multiple constants simultaneously (parameter `r`)."
   ]
  },
  {
   "cell_type": "code",
   "execution_count": 15,
   "id": "ed074d83",
   "metadata": {},
   "outputs": [],
   "source": [
    "from DAG_search import comp_graph\n",
    "import warnings\n",
    "\n",
    "class Class_loss_fkt(dag_search.DAG_Loss_fkt):\n",
    "    def __init__(self, y):\n",
    "        '''\n",
    "        Loss function for finding DAG for regression task.\n",
    "\n",
    "        @Params:\n",
    "            Here you can add any parameters that Loss function depends on.\n",
    "        '''\n",
    "        \n",
    "        # in our case, the loss function depends on the true class labels\n",
    "        super().__init__()\n",
    "        self.y = y\n",
    "        \n",
    "        \n",
    "    def __call__(self, X:np.ndarray, cgraph:comp_graph.CompGraph, c:np.ndarray) -> np.ndarray:\n",
    "        '''\n",
    "        Lossfkt(X, graph, consts)\n",
    "\n",
    "        @Params:\n",
    "            X... input for DAG (N x m)\n",
    "            cgraph... computational Graph\n",
    "            c... array of constants (2D)\n",
    "\n",
    "        @Returns:\n",
    "            Loss for different constants\n",
    "        '''\n",
    "        if len(c.shape) == 2:\n",
    "            r = c.shape[0]\n",
    "            vec = True\n",
    "        else:\n",
    "            r = 1\n",
    "            c = c.reshape(1, -1)\n",
    "            vec = False\n",
    "\n",
    "        with warnings.catch_warnings():\n",
    "            warnings.simplefilter(\"ignore\")\n",
    "            \n",
    "            pred = cgraph.evaluate(X, c = c)\n",
    "            # pred : shape r x N x outp_dim\n",
    "            \n",
    "            preds = (pred[:, :, 0] < 0).astype(int) # shape r x N\n",
    "            accuracy = np.mean(preds == self.y, axis = -1) # shape r\n",
    "            losses = 1 - accuracy\n",
    "            \n",
    "            # must not be nan or inf\n",
    "            invalid = ~np.isfinite(losses)\n",
    "            \n",
    "        # consider not using inf, since optimizers struggle with this\n",
    "        losses[invalid] = 1000\n",
    "        losses[losses > 1000] = 1000\n",
    "\n",
    "        if not vec:\n",
    "            return losses[0]\n",
    "        else:\n",
    "            return losses"
   ]
  },
  {
   "cell_type": "markdown",
   "id": "64bae709",
   "metadata": {},
   "source": [
    "Next we can simply start the search process with our new loss function:"
   ]
  },
  {
   "cell_type": "code",
   "execution_count": 16,
   "id": "1fc40544",
   "metadata": {
    "scrolled": true
   },
   "outputs": [
    {
     "name": "stdout",
     "output_type": "stream",
     "text": [
      "Creating evaluation orders\n"
     ]
    },
    {
     "name": "stderr",
     "output_type": "stream",
     "text": [
      "  2%|█▏                                                                      | 5000/302400 [00:00<00:01, 176268.29it/s]\n"
     ]
    },
    {
     "name": "stdout",
     "output_type": "stream",
     "text": [
      "Total orders: 351\n",
      "Evaluating orders\n"
     ]
    },
    {
     "name": "stderr",
     "output_type": "stream",
     "text": [
      "  9%|██████▍                                                             | 33/351 [00:02<00:26, 11.92it/s, best_loss=0]\n"
     ]
    }
   ],
   "source": [
    "np.random.seed(0)\n",
    "\n",
    "# define loss function\n",
    "loss_fkt = Class_loss_fkt(y)\n",
    "\n",
    "# search\n",
    "params = {\n",
    "    'X' : X,\n",
    "    'n_outps' : 1,\n",
    "    'loss_fkt' : loss_fkt,\n",
    "    'k' : 1,\n",
    "    'n_calc_nodes' : 3,\n",
    "    'n_processes' : 1,\n",
    "    'topk' : 1,\n",
    "    'opt_mode' : 'grid_zoom',\n",
    "    'verbose' : 2,\n",
    "    'max_orders' : 5000, \n",
    "    'stop_thresh' : 1e-20\n",
    "}\n",
    "\n",
    "res = dag_search.exhaustive_search(**params)"
   ]
  },
  {
   "cell_type": "markdown",
   "id": "7ad5771d",
   "metadata": {},
   "source": [
    "And we get the following expression:"
   ]
  },
  {
   "cell_type": "code",
   "execution_count": 17,
   "id": "f0b719d4",
   "metadata": {},
   "outputs": [
    {
     "data": {
      "text/latex": [
       "$\\displaystyle x_{0}^{2} - \\cos{\\left(x_{1} \\right)} + 0.73$"
      ],
      "text/plain": [
       "x_0**2 - cos(x_1) + 0.73"
      ]
     },
     "execution_count": 17,
     "metadata": {},
     "output_type": "execute_result"
    }
   ],
   "source": [
    "idx = 0\n",
    "graph = res['graphs'][idx]\n",
    "consts = res['consts'][idx]\n",
    "graph.evaluate_symbolic(c = consts)[0]"
   ]
  },
  {
   "cell_type": "markdown",
   "id": "8494abec",
   "metadata": {},
   "source": [
    "Which classifies as follows:"
   ]
  },
  {
   "cell_type": "code",
   "execution_count": 18,
   "id": "26bb16bf",
   "metadata": {},
   "outputs": [
    {
     "data": {
      "text/plain": [
       "<matplotlib.collections.PathCollection at 0x27f9a9beaf0>"
      ]
     },
     "execution_count": 18,
     "metadata": {},
     "output_type": "execute_result"
    },
    {
     "data": {
      "image/png": "[encoded data removed]",
      "text/plain": [
       "<Figure size 432x288 with 1 Axes>"
      ]
     },
     "metadata": {
      "needs_background": "light"
     },
     "output_type": "display_data"
    }
   ],
   "source": [
    "pred = (graph.evaluate(X, c = consts)[:, 0] < 0).astype(int)\n",
    "expr = str(graph.evaluate_symbolic(c = consts)[0])\n",
    "plt.title(f'{expr}\\nAccuracy: {np.mean(pred == y)}')\n",
    "\n",
    "# plot decision boundary\n",
    "\n",
    "dx, dy = 0.01, 0.01\n",
    "# generate grids + labels\n",
    "x1, x2 = np.mgrid[\n",
    "    slice(np.min(X[:, -2]), np.max(X[:, -2]) + dy, dy),\n",
    "    slice(np.min(X[:, -1]), np.max(X[:, -1]) + dx, dx),\n",
    "]\n",
    "points = np.stack([x1.flatten(), x2.flatten()]).T\n",
    "labels = (graph.evaluate(points, c = consts)[:, 0] < 0).astype(int)\n",
    "labels = labels.reshape(x1.shape)\n",
    "\n",
    "# plot points + areas\n",
    "cmap = plt.get_cmap(\"bwr\")\n",
    "plt.gca().contourf(\n",
    "    x1,\n",
    "    x2,\n",
    "    labels,\n",
    "    cmap=cmap,\n",
    "    alpha=0.4,\n",
    "    vmin=0,\n",
    "    vmax=1\n",
    ")\n",
    "#plt.colorbar()\n",
    "plt.scatter(X[:, -2], X[:, -1], c=y, cmap=\"bwr\")"
   ]
  },
  {
   "cell_type": "markdown",
   "id": "37df799c",
   "metadata": {},
   "source": [
    "## Custom Loss Function - Solving ODEs\n",
    "\n",
    "The computational DAG class can also use the [PyTorch](https://pytorch.org/) autodiff engine.\n",
    "This allows the formulation of Loss functions that depend on the gradient of the expression.\n",
    "\n",
    "Lets go trough an example by solving an **O**rdinary **D**ifferential **E**quation (ODE):\n",
    "\n",
    "For a given function $f(t, y)$, we are looking for a function $y(t)$ with $y'(t) = f(t, y)$.\n",
    "\n",
    "Let for example \n",
    "\\begin{align}\n",
    "f(t, y) = 0.25y\n",
    "\\end{align}"
   ]
  },
  {
   "cell_type": "code",
   "execution_count": 19,
   "id": "8c12df7a",
   "metadata": {},
   "outputs": [],
   "source": [
    "def ode(t, y):\n",
    "    # t... shape N x 1\n",
    "    # y... shape r x N x d\n",
    "    # result... shape r x N x d\n",
    "    return 0.25*y"
   ]
  },
  {
   "cell_type": "markdown",
   "id": "860934cb",
   "metadata": {},
   "source": [
    "We can formulate the loss function as the MSE between $f(t, y)$ and $y'$.\n",
    "\n",
    "Note how we use the `return_grad` keyword to get $y'$."
   ]
  },
  {
   "cell_type": "code",
   "execution_count": 20,
   "id": "384d18c5",
   "metadata": {},
   "outputs": [],
   "source": [
    "from DAG_search import comp_graph\n",
    "import warnings\n",
    "\n",
    "class ODE_loss_fkt(dag_search.DAG_Loss_fkt):\n",
    "    def __init__(self, ode_func):\n",
    "        '''\n",
    "        Loss function for finding DAG for regression task.\n",
    "\n",
    "        @Params:\n",
    "            Here you can add any parameters that Loss function depends on.\n",
    "        '''\n",
    "        \n",
    "        # in our case, the loss function depends on the true class labels\n",
    "        super().__init__()\n",
    "        self.ode_func = ode_func\n",
    "        \n",
    "        \n",
    "    def __call__(self, X:np.ndarray, cgraph:comp_graph.CompGraph, c:np.ndarray) -> np.ndarray:\n",
    "        '''\n",
    "        Lossfkt(X, graph, consts)\n",
    "\n",
    "        @Params:\n",
    "            X... time series (N x 1)\n",
    "            cgraph... computational Graph\n",
    "            c... array of constants (2D)\n",
    "\n",
    "        @Returns:\n",
    "            Loss for different constants\n",
    "        '''\n",
    "        t = X\n",
    "        if len(c.shape) == 2:\n",
    "            r = c.shape[0]\n",
    "            vec = True\n",
    "        else:\n",
    "            r = 1\n",
    "            c = c.reshape(1, -1)\n",
    "            vec = False\n",
    "\n",
    "        with warnings.catch_warnings():\n",
    "            warnings.simplefilter(\"ignore\")\n",
    "            y, y_ = cgraph.evaluate(t, c = c, return_grad = True)\n",
    "            # y : shape r x N x d\n",
    "            # y' : shape r x d x N x 1\n",
    "            \n",
    "            \n",
    "            term1 = self.ode_func(t, y).reshape(r, -1)\n",
    "            term2 = np.transpose(y_[:, :, :, 0], (0, 2, 1)).reshape(r, -1)\n",
    "            losses = np.mean((term1 - term2)**2, axis = -1)\n",
    "            \n",
    "            # sort out constant functions\n",
    "            tmp = np.var(y_[:, :, :, 0], axis= -1) # r x d\n",
    "            mask = np.all(tmp  <= 1e-5, axis = -1) # r \n",
    "            losses[mask] = 1000\n",
    "            \n",
    "            mask = np.any(np.abs(y.reshape(r, -1)) > 1e10, axis = -1)\n",
    "            losses[mask] = 1000\n",
    "            \n",
    "              \n",
    "            # must not be nan or inf\n",
    "            invalid = ~np.isfinite(losses)\n",
    "            \n",
    "        # consider not using inf, since optimizers struggle with this\n",
    "        losses[invalid] = 1000\n",
    "        losses[losses > 1000] = 1000\n",
    "\n",
    "        if not vec:\n",
    "            return losses[0]\n",
    "        else:\n",
    "            return losses"
   ]
  },
  {
   "cell_type": "markdown",
   "id": "7aa5b30d",
   "metadata": {},
   "source": [
    "And now we have everything to start the search."
   ]
  },
  {
   "cell_type": "code",
   "execution_count": 21,
   "id": "56b68ed0",
   "metadata": {
    "scrolled": true
   },
   "outputs": [
    {
     "name": "stdout",
     "output_type": "stream",
     "text": [
      "Creating evaluation orders\n"
     ]
    },
    {
     "name": "stderr",
     "output_type": "stream",
     "text": [
      "100%|██████████████████████████████████████████████████████████████████████████| 1440/1440 [00:00<00:00, 152247.18it/s]\n"
     ]
    },
    {
     "name": "stdout",
     "output_type": "stream",
     "text": [
      "Total orders: 150\n",
      "Evaluating orders\n"
     ]
    },
    {
     "name": "stderr",
     "output_type": "stream",
     "text": [
      " 56%|██████████████████████████████████▏                          | 84/150 [00:29<00:22,  2.87it/s, best_loss=4.81e-32]\n"
     ]
    }
   ],
   "source": [
    "np.random.seed(0)\n",
    "\n",
    "# define loss function\n",
    "t = np.linspace(1, 10, 100).reshape(-1, 1)\n",
    "loss_fkt = ODE_loss_fkt(ode)\n",
    "\n",
    "# search\n",
    "params = {\n",
    "    'X' : t,\n",
    "    'n_outps' : 1,\n",
    "    'loss_fkt' : loss_fkt,\n",
    "    'k' : 1,\n",
    "    'n_calc_nodes' : 2,\n",
    "    'n_processes' : 1,\n",
    "    'topk' : 5,\n",
    "    'opt_mode' : 'grid_zoom',\n",
    "    'verbose' : 2,\n",
    "    'max_orders' : 10000, \n",
    "    'stop_thresh' : 1e-30\n",
    "}\n",
    "\n",
    "res = dag_search.exhaustive_search(**params)"
   ]
  },
  {
   "cell_type": "markdown",
   "id": "c0f7bd1b",
   "metadata": {},
   "source": [
    "Lets see what we got:"
   ]
  },
  {
   "cell_type": "code",
   "execution_count": 22,
   "id": "b2a2af4a",
   "metadata": {},
   "outputs": [
    {
     "data": {
      "text/latex": [
       "$\\displaystyle e^{0.25 x_{0}}$"
      ],
      "text/plain": [
       "exp(0.25*x_0)"
      ]
     },
     "execution_count": 22,
     "metadata": {},
     "output_type": "execute_result"
    }
   ],
   "source": [
    "graph, consts = res['graphs'][0], res['consts'][0]\n",
    "graph.evaluate_symbolic(c = consts)[0]"
   ]
  },
  {
   "cell_type": "markdown",
   "id": "3504f3a4",
   "metadata": {},
   "source": [
    "Indeed, if $y(t) = e^{0.25t}$, we have that\n",
    "\\begin{align}\n",
    "f(t, y) &= 0.25y\\\\\n",
    "&= 0.25e^{0.25t}\\\\\n",
    "&= y'(t)\n",
    "\\end{align}"
   ]
  }
 ],
 "metadata": {
  "kernelspec": {
   "display_name": "Python 3 (ipykernel)",
   "language": "python",
   "name": "python3"
  },
  "language_info": {
   "codemirror_mode": {
    "name": "ipython",
    "version": 3
   },
   "file_extension": ".py",
   "mimetype": "text/x-python",
   "name": "python",
   "nbconvert_exporter": "python",
   "pygments_lexer": "ipython3",
   "version": "3.9.12"
  }
 },
 "nbformat": 4,
 "nbformat_minor": 5
}
