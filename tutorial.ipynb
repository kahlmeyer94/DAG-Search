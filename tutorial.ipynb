{
 "cells": [
  {
   "cell_type": "markdown",
   "id": "28d18c4a",
   "metadata": {},
   "source": [
    "# Symbolic DAG Search - Tutorial\n",
    "\n",
    "This tutorial is meant to get you familiar with the usage of this module.\n",
    "\n",
    "Basically, we are looking for computational DAG that has the lowest loss for a given input.\n",
    "\n",
    "Let $X\\in \\mathbb{R}^{N\\times m}$ be an input matrix of $N$ samples with dimension $m$.\\\n",
    "Let further $U = \\{f : \\mathbb{R}^m\\rightarrow \\mathbb{R}^n\\}$ be the set of all functions that map $m$-dimensional input to $n$-dimensional output.\n",
    "Then we are looking for \n",
    "\n",
    "\\begin{align*}\n",
    "\\text{argmin}_{f\\in U}L(f_X)\\,,\n",
    "\\end{align*}\n",
    "\n",
    "that is the function that minimizes a loss function $L$ on the function $f$ at the samples $X$.\n",
    "\n",
    "As we shall see later, this is not restricted to regression tasks and can involve any loss that depends on function values or gradients of the function at the input samples."
   ]
  },
  {
   "cell_type": "code",
   "execution_count": 1,
   "id": "fe6b19b7",
   "metadata": {},
   "outputs": [],
   "source": [
    "import numpy as np\n",
    "import matplotlib.pyplot as plt\n",
    "from DAG_search import dag_search"
   ]
  },
  {
   "cell_type": "markdown",
   "id": "fc3c8e5e",
   "metadata": {},
   "source": [
    "## Simple Regression\n",
    "\n",
    "The most basic use case is Regression, where we want the function values to fit to some given values. That is we are looking for \n",
    "\n",
    "\\begin{align}\n",
    "\\text{argmin}_{L\\in U}\\cfrac{1}{N}\\sum_{i=1}^N\\left(f(X_i) - y_i\\right)^2\n",
    "\\end{align}\n",
    "\n",
    "For simple 1D Problems, we can use the scikit-learn Interface.\n",
    "\n",
    "Note: Following the convention of sklearn regressors, $y$ has to be a 1D vector here.\n",
    "\n",
    "**Example**:\n",
    "\n",
    "Symbolic Regression for the function\n",
    "\n",
    "\\begin{align}\n",
    "f(x) = \\sin(x_0^2) + x_1\n",
    "\\end{align}"
   ]
  },
  {
   "cell_type": "code",
   "execution_count": 2,
   "id": "c277b515",
   "metadata": {},
   "outputs": [
    {
     "name": "stdout",
     "output_type": "stream",
     "text": [
      "Creating evaluation orders\n"
     ]
    },
    {
     "name": "stderr",
     "output_type": "stream",
     "text": [
      "100%|██████████████████████████████████████████████████████████████████████████| 7200/7200 [00:00<00:00, 563203.82it/s]\n"
     ]
    },
    {
     "name": "stdout",
     "output_type": "stream",
     "text": [
      "Total orders: 405\n",
      "Evaluating orders\n"
     ]
    },
    {
     "name": "stderr",
     "output_type": "stream",
     "text": [
      " 22%|██████████████▊                                                     | 88/405 [00:04<00:17, 18.52it/s, best_loss=0]"
     ]
    },
    {
     "name": "stdout",
     "output_type": "stream",
     "text": [
      "Found graph with loss 0.0\n"
     ]
    },
    {
     "name": "stderr",
     "output_type": "stream",
     "text": [
      "\n"
     ]
    }
   ],
   "source": [
    "# define regression problem\n",
    "X = np.random.rand(100, 2)\n",
    "y = np.sin(X[:, 0]**2) + X[:, 1]\n",
    "\n",
    "# use regressor\n",
    "est = dag_search.DAGRegressor(n_calc_nodes = 2, max_orders = int(1e4))\n",
    "est.fit(X, y, verbose = 2)"
   ]
  },
  {
   "cell_type": "markdown",
   "id": "0e595f12",
   "metadata": {},
   "source": [
    "The model can be evaluated symbolically"
   ]
  },
  {
   "cell_type": "code",
   "execution_count": 3,
   "id": "f8e866f0",
   "metadata": {},
   "outputs": [
    {
     "data": {
      "text/latex": [
       "$\\displaystyle x_{1} + \\sin{\\left(x_{0}^{2} \\right)}$"
      ],
      "text/plain": [
       "x_1 + sin(x_0**2)"
      ]
     },
     "execution_count": 3,
     "metadata": {},
     "output_type": "execute_result"
    }
   ],
   "source": [
    "# get symbolic expression\n",
    "est.model()"
   ]
  },
  {
   "cell_type": "markdown",
   "id": "8b430baf",
   "metadata": {},
   "source": [
    "or numerically"
   ]
  },
  {
   "cell_type": "code",
   "execution_count": 7,
   "id": "e61278c4",
   "metadata": {},
   "outputs": [
    {
     "data": {
      "image/png": "[encoded data removed]",
      "text/plain": [
       "<Figure size 432x288 with 1 Axes>"
      ]
     },
     "metadata": {
      "needs_background": "light"
     },
     "output_type": "display_data"
    }
   ],
   "source": [
    "# predict\n",
    "pred = est.predict(X)\n",
    "\n",
    "\n",
    "# plotting\n",
    "plt.scatter(X[:, 0], y, label = 'truth')\n",
    "plt.scatter(X[:, 0], pred, marker = 'x', color = 'red', label = 'predicted')\n",
    "plt.legend()\n",
    "plt.ylabel(f'$f(x)$')\n",
    "plt.show()"
   ]
  },
  {
   "cell_type": "markdown",
   "id": "64c48460",
   "metadata": {},
   "source": [
    "## Multidimensional Regression\n",
    "\n",
    "In the case of $y\\in\\mathbb{R}^n$ being multidimensional one can either\n",
    "\n",
    "1. treat it as $n$ seperate regression problems. This has the advantage of the search space staying small.\n",
    "2. use a multidimensional loss function. This formulation can make use of shared subexpressions between the outputs.\n",
    "\\begin{align}\n",
    "\\text{argmin}_{L\\in U}\\cfrac{1}{Nn}\\sum_{j=1}^n\\sum_{i=1}^N\\left(f(X_i)_j - y_{ij}\\right)^2\n",
    "\\end{align}\n",
    "\n",
    "In case of 1. refer to the example above or use the following example with $n=1$. In case of 2. we support two different methods:\n",
    "\n",
    "1. **Exhaustive search**: Builds up function skeletons and then tests each assignment of operators to each skeleton.\n",
    "2. **Sample search**: Randomly samples functions and evaluates them.\n",
    "\n",
    "Both methods return their solutions in the form of computational DAGs"
   ]
  },
  {
   "cell_type": "markdown",
   "id": "b0418e06",
   "metadata": {},
   "source": [
    "**Example**: \n",
    "\n",
    "Symbolic Regression for the function\n",
    "\n",
    "\\begin{align}\n",
    "f(x) = \\begin{bmatrix}\n",
    "0.5x\\\\\n",
    "-x\n",
    "\\end{bmatrix}\n",
    "\\end{align}"
   ]
  },
  {
   "cell_type": "code",
   "execution_count": 8,
   "id": "8f497c94",
   "metadata": {},
   "outputs": [],
   "source": [
    "# Problem definition\n",
    "X = np.random.rand(100, 1)\n",
    "c = 0.5\n",
    "y = np.column_stack([c*X[:,0], -X[:,0]])"
   ]
  },
  {
   "cell_type": "markdown",
   "id": "b1067473",
   "metadata": {},
   "source": [
    "### Exhaustive Search"
   ]
  },
  {
   "cell_type": "code",
   "execution_count": 9,
   "id": "689eea4b",
   "metadata": {
    "scrolled": true
   },
   "outputs": [
    {
     "name": "stdout",
     "output_type": "stream",
     "text": [
      "Creating evaluation orders\n"
     ]
    },
    {
     "name": "stderr",
     "output_type": "stream",
     "text": [
      "100%|████████████████████████████████████████████████████████████████████████████| 864/864 [00:00<00:00, 148879.61it/s]\n"
     ]
    },
    {
     "name": "stdout",
     "output_type": "stream",
     "text": [
      "Total orders: 305\n",
      "Evaluating orders\n"
     ]
    },
    {
     "name": "stderr",
     "output_type": "stream",
     "text": [
      "  6%|████▏                                                               | 19/305 [00:01<00:22, 12.62it/s, best_loss=0]\n"
     ]
    }
   ],
   "source": [
    "# define loss function\n",
    "loss_fkt = dag_search.MSE_loss_fkt(y)\n",
    "\n",
    "# search\n",
    "params = {\n",
    "    'X' : X,\n",
    "    'n_outps' : y.shape[1],\n",
    "    'loss_fkt' : loss_fkt,\n",
    "    'k' : 1,\n",
    "    'n_calc_nodes' : 1,\n",
    "    'n_processes' : 1,\n",
    "    'topk' : 5,\n",
    "    'opt_mode' : 'grid_zoom',\n",
    "    'verbose' : 2,\n",
    "    'max_orders' : 10000, \n",
    "    'stop_thresh' : 1e-4\n",
    "}\n",
    "\n",
    "res = dag_search.exhaustive_search(**params)"
   ]
  },
  {
   "cell_type": "markdown",
   "id": "dcbd7cc4",
   "metadata": {},
   "source": [
    "Lets view the solutions found.\n",
    "\n",
    "The result is a dictionary containing the top-k solutions that were encountered.\n",
    "\n",
    "Each solution consists of a `graph` and its `constants`."
   ]
  },
  {
   "cell_type": "code",
   "execution_count": 10,
   "id": "7b9ff3a4",
   "metadata": {
    "scrolled": true
   },
   "outputs": [
    {
     "name": "stdout",
     "output_type": "stream",
     "text": [
      "0.0\n"
     ]
    }
   ],
   "source": [
    "idx = 0 # solution number\n",
    "graph = res['graphs'][idx]\n",
    "consts = res['consts'][idx]\n",
    "loss = res['losses'][idx]\n",
    "print(loss)"
   ]
  },
  {
   "cell_type": "markdown",
   "id": "cb6ae190",
   "metadata": {},
   "source": [
    "The graph can be evaluated symbolically and will return a list of symbolic expressions (one for each output dimension):"
   ]
  },
  {
   "cell_type": "code",
   "execution_count": 11,
   "id": "a548eec9",
   "metadata": {},
   "outputs": [
    {
     "name": "stdout",
     "output_type": "stream",
     "text": [
      "0.5*x_0\n",
      "-x_0\n"
     ]
    }
   ],
   "source": [
    "exprs = graph.evaluate_symbolic(c = consts)\n",
    "for expr in exprs:\n",
    "    print(expr)"
   ]
  },
  {
   "cell_type": "markdown",
   "id": "f31598d8",
   "metadata": {},
   "source": [
    "Or it can be evaluated numerically for prediction:"
   ]
  },
  {
   "cell_type": "code",
   "execution_count": 12,
   "id": "2ca6a5e8",
   "metadata": {},
   "outputs": [
    {
     "data": {
      "image/png": "[encoded data removed]",
      "text/plain": [
       "<Figure size 432x288 with 2 Axes>"
      ]
     },
     "metadata": {
      "needs_background": "light"
     },
     "output_type": "display_data"
    }
   ],
   "source": [
    "# predict\n",
    "pred = graph.evaluate(X, c = consts)\n",
    "\n",
    "\n",
    "# plotting\n",
    "fig, axs = plt.subplots(ncols = y.shape[1])\n",
    "for i in range(y.shape[1]):\n",
    "    axs[i].scatter(X[:, 0], y[:, i], label = 'truth')\n",
    "    axs[i].scatter(X[:, 0], pred[:, i], marker = 'x', color = 'red', label = 'predicted')\n",
    "    axs[i].legend()\n",
    "    axs[i].set_ylabel(f'$f(x)_{i}$')\n",
    "plt.tight_layout()\n",
    "plt.show()"
   ]
  },
  {
   "cell_type": "markdown",
   "id": "0267f586",
   "metadata": {},
   "source": [
    "### Sample Search\n",
    "\n",
    "Lets fo trough the same pipeline for the sampling search:"
   ]
  },
  {
   "cell_type": "code",
   "execution_count": 13,
   "id": "6a02257e",
   "metadata": {},
   "outputs": [
    {
     "name": "stdout",
     "output_type": "stream",
     "text": [
      "Generating graphs\n"
     ]
    },
    {
     "name": "stderr",
     "output_type": "stream",
     "text": [
      "100%|██████████████████████████████████████████████████████████████████████████| 10000/10000 [00:05<00:00, 1994.77it/s]\n"
     ]
    },
    {
     "name": "stdout",
     "output_type": "stream",
     "text": [
      "Evaluating graphs\n"
     ]
    },
    {
     "name": "stderr",
     "output_type": "stream",
     "text": [
      " 27%|████████████████▋                                             | 2691/10000 [00:01<00:03, 2129.60it/s, best_loss=0]\n"
     ]
    }
   ],
   "source": [
    "# define loss function\n",
    "loss_fkt = dag_search.MSE_loss_fkt(y)\n",
    "\n",
    "params = {\n",
    "    'X' : X,\n",
    "    'n_outps' : y.shape[1],\n",
    "    'loss_fkt' : loss_fkt,\n",
    "    'k' : 1,\n",
    "    'n_calc_nodes' : 5,\n",
    "    'n_processes' : 1,\n",
    "    'topk' : 5,\n",
    "    'opt_mode' : 'grid_zoom',\n",
    "    'verbose' : 2,\n",
    "    'n_samples' : 10000,\n",
    "    'stop_thresh' : 1e-4\n",
    "    \n",
    "}\n",
    "res = dag_search.sample_search(**params)"
   ]
  },
  {
   "cell_type": "markdown",
   "id": "fda76050",
   "metadata": {},
   "source": [
    "Select a solution:"
   ]
  },
  {
   "cell_type": "code",
   "execution_count": 14,
   "id": "98a3c0fc",
   "metadata": {},
   "outputs": [
    {
     "name": "stdout",
     "output_type": "stream",
     "text": [
      "0.0\n"
     ]
    }
   ],
   "source": [
    "idx = 0 # solution number\n",
    "graph = res['graphs'][idx]\n",
    "consts = res['consts'][idx]\n",
    "loss = res['losses'][idx]\n",
    "print(loss)"
   ]
  },
  {
   "cell_type": "markdown",
   "id": "c570254b",
   "metadata": {},
   "source": [
    "And evaluate it symbolically"
   ]
  },
  {
   "cell_type": "code",
   "execution_count": 15,
   "id": "9e62eb6f",
   "metadata": {},
   "outputs": [
    {
     "name": "stdout",
     "output_type": "stream",
     "text": [
      "0.5*x_0\n",
      "-x_0\n"
     ]
    }
   ],
   "source": [
    "exprs = graph.evaluate_symbolic(c = consts)\n",
    "for expr in exprs:\n",
    "    print(expr)"
   ]
  },
  {
   "cell_type": "markdown",
   "id": "396d7e64",
   "metadata": {},
   "source": [
    "Or numerically"
   ]
  },
  {
   "cell_type": "code",
   "execution_count": 16,
   "id": "adb127cf",
   "metadata": {},
   "outputs": [
    {
     "data": {
      "image/png": "[encoded data removed]",
      "text/plain": [
       "<Figure size 432x288 with 2 Axes>"
      ]
     },
     "metadata": {
      "needs_background": "light"
     },
     "output_type": "display_data"
    }
   ],
   "source": [
    "# predict\n",
    "pred = graph.evaluate(X, c = consts)\n",
    "\n",
    "\n",
    "# plotting\n",
    "fig, axs = plt.subplots(ncols = y.shape[1])\n",
    "for i in range(y.shape[1]):\n",
    "    axs[i].scatter(X[:, 0], y[:, i], label = 'truth')\n",
    "    axs[i].scatter(X[:, 0], pred[:, i], marker = 'x', color = 'red', label = 'predicted')\n",
    "    axs[i].legend()\n",
    "    axs[i].set_ylabel(f'$f(x)_{i}$')\n",
    "plt.tight_layout()\n",
    "plt.show()"
   ]
  },
  {
   "cell_type": "markdown",
   "id": "a5c317f4",
   "metadata": {},
   "source": [
    "## Custom Loss Function\n",
    "\n",
    "The DAG search is not restricted to Regression tasks. In fact we can define **any loss function that depends on the function- or the gradient values**."
   ]
  },
  {
   "cell_type": "code",
   "execution_count": null,
   "id": "9e5f5a29",
   "metadata": {},
   "outputs": [],
   "source": [
    "# TODO: show how to define custom loss function"
   ]
  }
 ],
 "metadata": {
  "kernelspec": {
   "display_name": "Python 3 (ipykernel)",
   "language": "python",
   "name": "python3"
  },
  "language_info": {
   "codemirror_mode": {
    "name": "ipython",
    "version": 3
   },
   "file_extension": ".py",
   "mimetype": "text/x-python",
   "name": "python",
   "nbconvert_exporter": "python",
   "pygments_lexer": "ipython3",
   "version": "3.9.12"
  }
 },
 "nbformat": 4,
 "nbformat_minor": 5
}
