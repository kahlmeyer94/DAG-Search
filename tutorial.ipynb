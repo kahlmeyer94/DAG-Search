{
 "cells": [
  {
   "cell_type": "markdown",
   "id": "b0418e06",
   "metadata": {},
   "source": [
    "# DAG Search\n",
    "\n",
    "We are looking for computational DAG that has lowest loss for given input.\n",
    "\n",
    "**Example**: \n",
    "\n",
    "Symbolic Regression"
   ]
  },
  {
   "cell_type": "code",
   "execution_count": 1,
   "id": "ef2c2542",
   "metadata": {},
   "outputs": [],
   "source": [
    "import numpy as np\n",
    "import matplotlib.pyplot as plt\n",
    "import dag_search"
   ]
  },
  {
   "cell_type": "code",
   "execution_count": 2,
   "id": "8f497c94",
   "metadata": {},
   "outputs": [],
   "source": [
    "# Symbolic Regression: f(x) = 0.5x, -x\n",
    "X = np.random.rand(100, 1)\n",
    "c = 0.5\n",
    "y = np.column_stack([c*X[:,0], -X[:,0]])\n",
    "\n",
    "m = X.shape[1]\n",
    "n = y.shape[1]\n",
    "k = 1\n",
    "\n",
    "loss_fkt = dag_search.MSE_loss_fkt(y)"
   ]
  },
  {
   "cell_type": "markdown",
   "id": "b1067473",
   "metadata": {},
   "source": [
    "### Exhaustive Search\n",
    "\n",
    "\n",
    "Pro: \n",
    "- you catch every good solution\n",
    "\n",
    "Con:\n",
    "- only feasible for shallow computational graphs"
   ]
  },
  {
   "cell_type": "code",
   "execution_count": 12,
   "id": "689eea4b",
   "metadata": {
    "scrolled": true
   },
   "outputs": [
    {
     "name": "stderr",
     "output_type": "stream",
     "text": [
      "100%|████████████████████████████████████████████████████████████████████████████| 864/864 [00:00<00:00, 240119.18it/s]\n"
     ]
    },
    {
     "name": "stdout",
     "output_type": "stream",
     "text": [
      "Total orders: 305\n",
      "Evaluating orders\n"
     ]
    },
    {
     "name": "stderr",
     "output_type": "stream",
     "text": [
      "100%|████████████████████████████████████████████████████████████████████████████████| 305/305 [00:17<00:00, 17.66it/s]\n"
     ]
    },
    {
     "data": {
      "text/plain": [
       "[<matplotlib.lines.Line2D at 0x16d810a9160>]"
      ]
     },
     "execution_count": 12,
     "metadata": {},
     "output_type": "execute_result"
    },
    {
     "data": {
      "image/png": "[encoded data removed]",
      "text/plain": [
       "<Figure size 432x288 with 1 Axes>"
      ]
     },
     "metadata": {
      "needs_background": "light"
     },
     "output_type": "display_data"
    }
   ],
   "source": [
    "params = {\n",
    "    'X' : X,\n",
    "    'n_outps' : n,\n",
    "    'loss_fkt' : loss_fkt,\n",
    "    'k' : k,\n",
    "    'n_calc_nodes' : 1,\n",
    "    'n_processes' : 1,\n",
    "    'loss_thresh' : 1e-1,\n",
    "    'opt_mode' : 'grid',\n",
    "    'verbose' : 2,\n",
    "    'max_orders' : 10000, \n",
    "    'max_size' : 10\n",
    "    \n",
    "}\n",
    "\n",
    "res = dag_search.exhaustive_search(**params)\n",
    "\n",
    "plt.plot(res['losses'])"
   ]
  },
  {
   "cell_type": "code",
   "execution_count": 13,
   "id": "7b9ff3a4",
   "metadata": {
    "scrolled": true
   },
   "outputs": [
    {
     "data": {
      "text/plain": [
       "[0.52301810847301*x_0, -x_0]"
      ]
     },
     "execution_count": 13,
     "metadata": {},
     "output_type": "execute_result"
    }
   ],
   "source": [
    "res['graphs'][0].evaluate_symbolic(c = res['consts'][0])"
   ]
  },
  {
   "cell_type": "code",
   "execution_count": 14,
   "id": "a548eec9",
   "metadata": {},
   "outputs": [
    {
     "data": {
      "text/plain": [
       "8.314318099021446e-05"
      ]
     },
     "execution_count": 14,
     "metadata": {},
     "output_type": "execute_result"
    }
   ],
   "source": [
    "res['losses'][0]"
   ]
  },
  {
   "cell_type": "markdown",
   "id": "0267f586",
   "metadata": {},
   "source": [
    "### Sampling\n",
    "\n",
    "Pro: \n",
    "- you can go for much deeper graphs faster\n",
    "\n",
    "Con:\n",
    "- youre almost guaranteed to miss something"
   ]
  },
  {
   "cell_type": "code",
   "execution_count": 15,
   "id": "6a02257e",
   "metadata": {},
   "outputs": [
    {
     "name": "stdout",
     "output_type": "stream",
     "text": [
      "Generating graphs\n"
     ]
    },
    {
     "name": "stderr",
     "output_type": "stream",
     "text": [
      "100%|██████████████████████████████████████████████████████████████████████████| 10000/10000 [00:08<00:00, 1208.36it/s]\n"
     ]
    },
    {
     "name": "stdout",
     "output_type": "stream",
     "text": [
      "Evaluating graphs\n"
     ]
    },
    {
     "name": "stderr",
     "output_type": "stream",
     "text": [
      "100%|███████████████████████████████████████████████████████████████████████████| 10000/10000 [00:15<00:00, 665.81it/s]\n"
     ]
    },
    {
     "data": {
      "text/plain": [
       "[<matplotlib.lines.Line2D at 0x16d8106faf0>]"
      ]
     },
     "execution_count": 15,
     "metadata": {},
     "output_type": "execute_result"
    },
    {
     "data": {
      "image/png": "[encoded data removed]",
      "text/plain": [
       "<Figure size 432x288 with 1 Axes>"
      ]
     },
     "metadata": {
      "needs_background": "light"
     },
     "output_type": "display_data"
    }
   ],
   "source": [
    "np.random.seed(0)\n",
    "params = {\n",
    "    'X' : X,\n",
    "    'n_outps' : n,\n",
    "    'loss_fkt' : loss_fkt,\n",
    "    'k' : k,\n",
    "    'n_calc_nodes' : 5,\n",
    "    'n_processes' : 1,\n",
    "    'loss_thresh' : 1e-1,\n",
    "    'opt_mode' : 'grid',\n",
    "    'verbose' : 2,\n",
    "    'n_samples' : 10000\n",
    "    \n",
    "}\n",
    "res = dag_search.sample_search(**params)\n",
    "\n",
    "plt.plot(res['losses'])"
   ]
  },
  {
   "cell_type": "code",
   "execution_count": 16,
   "id": "3fe6f74e",
   "metadata": {
    "scrolled": true
   },
   "outputs": [
    {
     "data": {
      "text/plain": [
       "[0.509535634198189*x_0, -x_0]"
      ]
     },
     "execution_count": 16,
     "metadata": {},
     "output_type": "execute_result"
    }
   ],
   "source": [
    "res['graphs'][0].evaluate_symbolic(c = res['consts'][0])"
   ]
  },
  {
   "cell_type": "code",
   "execution_count": 17,
   "id": "3b0e0bfa",
   "metadata": {},
   "outputs": [
    {
     "data": {
      "text/plain": [
       "1.4268769966419193e-05"
      ]
     },
     "execution_count": 17,
     "metadata": {},
     "output_type": "execute_result"
    }
   ],
   "source": [
    "res['losses'][0]"
   ]
  }
 ],
 "metadata": {
  "kernelspec": {
   "display_name": "Python 3 (ipykernel)",
   "language": "python",
   "name": "python3"
  },
  "language_info": {
   "codemirror_mode": {
    "name": "ipython",
    "version": 3
   },
   "file_extension": ".py",
   "mimetype": "text/x-python",
   "name": "python",
   "nbconvert_exporter": "python",
   "pygments_lexer": "ipython3",
   "version": "3.9.12"
  }
 },
 "nbformat": 4,
 "nbformat_minor": 5
}
