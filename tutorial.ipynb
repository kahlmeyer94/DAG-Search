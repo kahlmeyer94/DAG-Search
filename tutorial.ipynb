{
 "cells": [
  {
   "cell_type": "markdown",
   "id": "b0418e06",
   "metadata": {},
   "source": [
    "# DAG Search\n",
    "\n",
    "We are looking for computational DAG that has lowest loss for given input.\n",
    "\n",
    "**Example**: \n",
    "\n",
    "Symbolic Regression for the function\n",
    "\n",
    "\\begin{align}\n",
    "f(x) = \\begin{bmatrix}\n",
    "0.5x\\\\\n",
    "-x\n",
    "\\end{bmatrix}\n",
    "\\end{align}"
   ]
  },
  {
   "cell_type": "code",
   "execution_count": 1,
   "id": "ef2c2542",
   "metadata": {},
   "outputs": [],
   "source": [
    "import numpy as np\n",
    "import matplotlib.pyplot as plt\n",
    "import dag_search"
   ]
  },
  {
   "cell_type": "code",
   "execution_count": 2,
   "id": "8f497c94",
   "metadata": {},
   "outputs": [],
   "source": [
    "# Symbolic Regression: f(x) = 0.5x, -x\n",
    "X = np.random.rand(100, 1)\n",
    "c = 0.5\n",
    "y = np.column_stack([c*X[:,0], -X[:,0]])\n",
    "\n",
    "m = X.shape[1]\n",
    "n = y.shape[1]\n",
    "k = 1\n",
    "\n",
    "loss_fkt = dag_search.MSE_loss_fkt(y)"
   ]
  },
  {
   "cell_type": "markdown",
   "id": "b1067473",
   "metadata": {},
   "source": [
    "### Exhaustive Search\n",
    "\n",
    "\n",
    "Pro: \n",
    "- you catch every good solution\n",
    "\n",
    "Con:\n",
    "- only feasible for shallow computational graphs"
   ]
  },
  {
   "cell_type": "code",
   "execution_count": 4,
   "id": "689eea4b",
   "metadata": {
    "scrolled": true
   },
   "outputs": [
    {
     "name": "stderr",
     "output_type": "stream",
     "text": [
      "100%|████████████████████████████████████████████████████████████████████████████| 864/864 [00:00<00:00, 151146.09it/s]\n"
     ]
    },
    {
     "name": "stdout",
     "output_type": "stream",
     "text": [
      "Total orders: 305\n",
      "Evaluating orders\n"
     ]
    },
    {
     "name": "stderr",
     "output_type": "stream",
     "text": [
      "  6%|████▏                                                               | 19/305 [00:02<00:32,  8.83it/s, best_loss=0]\n"
     ]
    }
   ],
   "source": [
    "params = {\n",
    "    'X' : X,\n",
    "    'n_outps' : n,\n",
    "    'loss_fkt' : loss_fkt,\n",
    "    'k' : k,\n",
    "    'n_calc_nodes' : 1,\n",
    "    'n_processes' : 1,\n",
    "    'topk' : 5,\n",
    "    'opt_mode' : 'grid_zoom',\n",
    "    'verbose' : 2,\n",
    "    'max_orders' : 10000, \n",
    "    'stop_thresh' : 1e-4\n",
    "}\n",
    "\n",
    "res = dag_search.exhaustive_search(**params)"
   ]
  },
  {
   "cell_type": "code",
   "execution_count": 5,
   "id": "7b9ff3a4",
   "metadata": {
    "scrolled": true
   },
   "outputs": [
    {
     "data": {
      "text/plain": [
       "[0.5*x_0, -x_0]"
      ]
     },
     "execution_count": 5,
     "metadata": {},
     "output_type": "execute_result"
    }
   ],
   "source": [
    "res['graphs'][0].evaluate_symbolic(c = res['consts'][0])"
   ]
  },
  {
   "cell_type": "code",
   "execution_count": 6,
   "id": "a548eec9",
   "metadata": {},
   "outputs": [
    {
     "data": {
      "text/plain": [
       "0.0"
      ]
     },
     "execution_count": 6,
     "metadata": {},
     "output_type": "execute_result"
    }
   ],
   "source": [
    "res['losses'][0]"
   ]
  },
  {
   "cell_type": "markdown",
   "id": "0267f586",
   "metadata": {},
   "source": [
    "### Sampling\n",
    "\n",
    "Pro: \n",
    "- you can go for much deeper graphs faster\n",
    "\n",
    "Con:\n",
    "- youre guaranteed to miss something"
   ]
  },
  {
   "cell_type": "code",
   "execution_count": 7,
   "id": "6a02257e",
   "metadata": {},
   "outputs": [
    {
     "name": "stdout",
     "output_type": "stream",
     "text": [
      "Generating graphs\n"
     ]
    },
    {
     "name": "stderr",
     "output_type": "stream",
     "text": [
      "100%|██████████████████████████████████████████████████████████████████████████| 10000/10000 [00:09<00:00, 1003.37it/s]\n"
     ]
    },
    {
     "name": "stdout",
     "output_type": "stream",
     "text": [
      "Evaluating graphs\n"
     ]
    },
    {
     "name": "stderr",
     "output_type": "stream",
     "text": [
      "  6%|███▎                                                     | 584/10000 [00:00<00:09, 1000.88it/s, best_loss=9.47e-7]\n"
     ]
    }
   ],
   "source": [
    "np.random.seed(0)\n",
    "params = {\n",
    "    'X' : X,\n",
    "    'n_outps' : n,\n",
    "    'loss_fkt' : loss_fkt,\n",
    "    'k' : k,\n",
    "    'n_calc_nodes' : 5,\n",
    "    'n_processes' : 1,\n",
    "    'topk' : 5,\n",
    "    'opt_mode' : 'grid_zoom',\n",
    "    'verbose' : 2,\n",
    "    'n_samples' : 10000,\n",
    "    'stop_thresh' : 1e-4\n",
    "    \n",
    "}\n",
    "res = dag_search.sample_search(**params)"
   ]
  },
  {
   "cell_type": "code",
   "execution_count": 8,
   "id": "3fe6f74e",
   "metadata": {
    "scrolled": true
   },
   "outputs": [
    {
     "data": {
      "text/plain": [
       "[0.497571047891727*x_0, -x_0]"
      ]
     },
     "execution_count": 8,
     "metadata": {},
     "output_type": "execute_result"
    }
   ],
   "source": [
    "res['graphs'][0].evaluate_symbolic(c = res['consts'][0])"
   ]
  },
  {
   "cell_type": "code",
   "execution_count": 9,
   "id": "3b0e0bfa",
   "metadata": {},
   "outputs": [
    {
     "data": {
      "text/plain": [
       "9.470318754244756e-07"
      ]
     },
     "execution_count": 9,
     "metadata": {},
     "output_type": "execute_result"
    }
   ],
   "source": [
    "res['losses'][0]"
   ]
  }
 ],
 "metadata": {
  "kernelspec": {
   "display_name": "Python 3 (ipykernel)",
   "language": "python",
   "name": "python3"
  },
  "language_info": {
   "codemirror_mode": {
    "name": "ipython",
    "version": 3
   },
   "file_extension": ".py",
   "mimetype": "text/x-python",
   "name": "python",
   "nbconvert_exporter": "python",
   "pygments_lexer": "ipython3",
   "version": "3.9.12"
  }
 },
 "nbformat": 4,
 "nbformat_minor": 5
}
