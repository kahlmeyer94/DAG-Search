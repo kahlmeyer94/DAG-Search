{
 "cells": [
  {
   "cell_type": "markdown",
   "id": "28d18c4a",
   "metadata": {},
   "source": [
    "# Symbolic DAG Search\n",
    "\n",
    "We are looking for computational DAG that has lowest loss for given input."
   ]
  },
  {
   "cell_type": "code",
   "execution_count": 1,
   "id": "fe6b19b7",
   "metadata": {},
   "outputs": [],
   "source": [
    "import numpy as np\n",
    "from DAG_search import dag_search"
   ]
  },
  {
   "cell_type": "markdown",
   "id": "fc3c8e5e",
   "metadata": {},
   "source": [
    "## Sklearn Interface for 1D Regression Problems\n",
    "\n",
    "Note: Here $y$ has to be a 1D vector\n",
    "\n",
    "**Example**:\n",
    "\n",
    "Symbolic Regression for the function\n",
    "\n",
    "\\begin{align}\n",
    "f(x) = \\sin(x_0^2) + x_1\n",
    "\\end{align}"
   ]
  },
  {
   "cell_type": "code",
   "execution_count": 2,
   "id": "c277b515",
   "metadata": {},
   "outputs": [],
   "source": [
    "X = np.random.rand(100, 2)\n",
    "y = np.sin(X[:, 0]**2) + X[:, 1]"
   ]
  },
  {
   "cell_type": "code",
   "execution_count": 3,
   "id": "d67d813a",
   "metadata": {
    "scrolled": true
   },
   "outputs": [
    {
     "name": "stdout",
     "output_type": "stream",
     "text": [
      "Creating evaluation orders\n"
     ]
    },
    {
     "name": "stderr",
     "output_type": "stream",
     "text": [
      "100%|██████████████████████████████████████████████████████████████████████████| 7200/7200 [00:00<00:00, 453111.70it/s]\n"
     ]
    },
    {
     "name": "stdout",
     "output_type": "stream",
     "text": [
      "Total orders: 405\n",
      "Evaluating orders\n"
     ]
    },
    {
     "name": "stderr",
     "output_type": "stream",
     "text": [
      " 22%|██████████████▊                                                     | 88/405 [00:05<00:21, 15.03it/s, best_loss=0]"
     ]
    },
    {
     "name": "stdout",
     "output_type": "stream",
     "text": [
      "Found graph with loss 0.0\n"
     ]
    },
    {
     "name": "stderr",
     "output_type": "stream",
     "text": [
      "\n"
     ]
    },
    {
     "data": {
      "text/latex": [
       "$\\displaystyle x_{1} + \\sin{\\left(x_{0}^{2} \\right)}$"
      ],
      "text/plain": [
       "x_1 + sin(x_0**2)"
      ]
     },
     "execution_count": 3,
     "metadata": {},
     "output_type": "execute_result"
    }
   ],
   "source": [
    "est = dag_search.SDS(n_calc_nodes = 2, max_orders = int(1e4))\n",
    "est.fit(X, y, verbose = 2)\n",
    "est.model()"
   ]
  },
  {
   "cell_type": "markdown",
   "id": "64c48460",
   "metadata": {},
   "source": [
    "## Advanced usage"
   ]
  },
  {
   "cell_type": "markdown",
   "id": "b0418e06",
   "metadata": {},
   "source": [
    "**Example**: \n",
    "\n",
    "Symbolic Regression for the function\n",
    "\n",
    "\\begin{align}\n",
    "f(x) = \\begin{bmatrix}\n",
    "0.5x\\\\\n",
    "-x\n",
    "\\end{bmatrix}\n",
    "\\end{align}"
   ]
  },
  {
   "cell_type": "code",
   "execution_count": 4,
   "id": "8f497c94",
   "metadata": {},
   "outputs": [],
   "source": [
    "# Symbolic Regression: f(x) = 0.5x, -x\n",
    "X = np.random.rand(100, 1)\n",
    "c = 0.5\n",
    "y = np.column_stack([c*X[:,0], -X[:,0]])\n",
    "\n",
    "\n",
    "m = X.shape[1]\n",
    "n = y.shape[1]\n",
    "k = 1\n",
    "\n",
    "loss_fkt = dag_search.MSE_loss_fkt(y)"
   ]
  },
  {
   "cell_type": "markdown",
   "id": "b1067473",
   "metadata": {},
   "source": [
    "### Exhaustive Search\n",
    "\n",
    "\n",
    "Pro: \n",
    "- you catch every good solution\n",
    "\n",
    "Con:\n",
    "- only feasible for shallow computational graphs"
   ]
  },
  {
   "cell_type": "code",
   "execution_count": 5,
   "id": "689eea4b",
   "metadata": {
    "scrolled": true
   },
   "outputs": [
    {
     "name": "stdout",
     "output_type": "stream",
     "text": [
      "Creating evaluation orders\n"
     ]
    },
    {
     "name": "stderr",
     "output_type": "stream",
     "text": [
      "100%|████████████████████████████████████████████████████████████████████████████| 864/864 [00:00<00:00, 214748.36it/s]\n"
     ]
    },
    {
     "name": "stdout",
     "output_type": "stream",
     "text": [
      "Total orders: 305\n",
      "Evaluating orders\n"
     ]
    },
    {
     "name": "stderr",
     "output_type": "stream",
     "text": [
      "  6%|████▏                                                               | 19/305 [00:02<00:30,  9.44it/s, best_loss=0]\n"
     ]
    }
   ],
   "source": [
    "params = {\n",
    "    'X' : X,\n",
    "    'n_outps' : n,\n",
    "    'loss_fkt' : loss_fkt,\n",
    "    'k' : k,\n",
    "    'n_calc_nodes' : 1,\n",
    "    'n_processes' : 1,\n",
    "    'topk' : 5,\n",
    "    'opt_mode' : 'grid_zoom',\n",
    "    'verbose' : 2,\n",
    "    'max_orders' : 10000, \n",
    "    'stop_thresh' : 1e-4\n",
    "}\n",
    "\n",
    "res = dag_search.exhaustive_search(**params)"
   ]
  },
  {
   "cell_type": "code",
   "execution_count": 6,
   "id": "7b9ff3a4",
   "metadata": {
    "scrolled": true
   },
   "outputs": [
    {
     "data": {
      "text/plain": [
       "[0.5*x_0, -x_0]"
      ]
     },
     "execution_count": 6,
     "metadata": {},
     "output_type": "execute_result"
    }
   ],
   "source": [
    "res['graphs'][0].evaluate_symbolic(c = res['consts'][0])"
   ]
  },
  {
   "cell_type": "code",
   "execution_count": 7,
   "id": "a548eec9",
   "metadata": {},
   "outputs": [
    {
     "data": {
      "text/plain": [
       "0.0"
      ]
     },
     "execution_count": 7,
     "metadata": {},
     "output_type": "execute_result"
    }
   ],
   "source": [
    "res['losses'][0]"
   ]
  },
  {
   "cell_type": "markdown",
   "id": "0267f586",
   "metadata": {},
   "source": [
    "### Sampling\n",
    "\n",
    "Pro: \n",
    "- you can go for much deeper graphs faster\n",
    "\n",
    "Con:\n",
    "- youre guaranteed to miss something"
   ]
  },
  {
   "cell_type": "code",
   "execution_count": 8,
   "id": "6a02257e",
   "metadata": {},
   "outputs": [
    {
     "name": "stdout",
     "output_type": "stream",
     "text": [
      "Generating graphs\n"
     ]
    },
    {
     "name": "stderr",
     "output_type": "stream",
     "text": [
      "100%|██████████████████████████████████████████████████████████████████████████| 10000/10000 [00:08<00:00, 1213.23it/s]\n"
     ]
    },
    {
     "name": "stdout",
     "output_type": "stream",
     "text": [
      "Evaluating graphs\n"
     ]
    },
    {
     "name": "stderr",
     "output_type": "stream",
     "text": [
      "  6%|███▎                                                     | 584/10000 [00:00<00:07, 1179.17it/s, best_loss=8.08e-7]\n"
     ]
    }
   ],
   "source": [
    "np.random.seed(0)\n",
    "params = {\n",
    "    'X' : X,\n",
    "    'n_outps' : n,\n",
    "    'loss_fkt' : loss_fkt,\n",
    "    'k' : k,\n",
    "    'n_calc_nodes' : 5,\n",
    "    'n_processes' : 1,\n",
    "    'topk' : 5,\n",
    "    'opt_mode' : 'grid_zoom',\n",
    "    'verbose' : 2,\n",
    "    'n_samples' : 10000,\n",
    "    'stop_thresh' : 1e-4\n",
    "    \n",
    "}\n",
    "res = dag_search.sample_search(**params)"
   ]
  },
  {
   "cell_type": "code",
   "execution_count": 9,
   "id": "3fe6f74e",
   "metadata": {
    "scrolled": true
   },
   "outputs": [
    {
     "data": {
      "text/plain": [
       "[0.497571047891727*x_0, -x_0]"
      ]
     },
     "execution_count": 9,
     "metadata": {},
     "output_type": "execute_result"
    }
   ],
   "source": [
    "res['graphs'][0].evaluate_symbolic(c = res['consts'][0])"
   ]
  },
  {
   "cell_type": "code",
   "execution_count": 10,
   "id": "3b0e0bfa",
   "metadata": {},
   "outputs": [
    {
     "data": {
      "text/plain": [
       "8.083938493395664e-07"
      ]
     },
     "execution_count": 10,
     "metadata": {},
     "output_type": "execute_result"
    }
   ],
   "source": [
    "res['losses'][0]"
   ]
  }
 ],
 "metadata": {
  "kernelspec": {
   "display_name": "Python 3 (ipykernel)",
   "language": "python",
   "name": "python3"
  },
  "language_info": {
   "codemirror_mode": {
    "name": "ipython",
    "version": 3
   },
   "file_extension": ".py",
   "mimetype": "text/x-python",
   "name": "python",
   "nbconvert_exporter": "python",
   "pygments_lexer": "ipython3",
   "version": "3.9.12"
  }
 },
 "nbformat": 4,
 "nbformat_minor": 5
}
